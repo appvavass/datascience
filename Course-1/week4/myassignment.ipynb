{
 "metadata": {
  "language_info": {
   "codemirror_mode": {
    "name": "ipython",
    "version": 3
   },
   "file_extension": ".py",
   "mimetype": "text/x-python",
   "name": "python",
   "nbconvert_exporter": "python",
   "pygments_lexer": "ipython3",
   "version": "3.8.6-candidate"
  },
  "orig_nbformat": 2,
  "kernelspec": {
   "name": "python3",
   "display_name": "Python 3",
   "language": "python"
  }
 },
 "nbformat": 4,
 "nbformat_minor": 2,
 "cells": [
  {
   "source": [
    "# Assignment 4\n",
    "## Description\n",
    "In this assignment you must read in a file of metropolitan regions and associated sports teams from [assets/wikipedia_data.html](assets/wikipedia_data.html) and answer some questions about each metropolitan region. Each of these regions may have one or more teams from the \"Big 4\": NFL (football, in [assets/nfl.csv](assets/nfl.csv)), MLB (baseball, in [assets/mlb.csv](assets/mlb.csv)), NBA (basketball, in [assets/nba.csv](assets/nba.csv) or NHL (hockey, in [assets/nhl.csv](assets/nhl.csv)). Please keep in mind that all questions are from the perspective of the metropolitan region, and that this file is the \"source of authority\" for the location of a given sports team. Thus teams which are commonly known by a different area (e.g. \"Oakland Raiders\") need to be mapped into the metropolitan region given (e.g. San Francisco Bay Area). This will require some human data understanding outside of the data you've been given (e.g. you will have to hand-code some names, and might need to google to find out where teams are)!\n",
    "\n",
    "For each sport I would like you to answer the question: **what is the win/loss ratio's correlation with the population of the city it is in?** Win/Loss ratio refers to the number of wins over the number of wins plus the number of losses. Remember that to calculate the correlation with [`pearsonr`](https://docs.scipy.org/doc/scipy/reference/generated/scipy.stats.pearsonr.html), so you are going to send in two ordered lists of values, the populations from the wikipedia_data.html file and the win/loss ratio for a given sport in the same order. Average the win/loss ratios for those cities which have multiple teams of a single sport. Each sport is worth an equal amount in this assignment (20%\\*4=80%) of the grade for this assignment. You should only use data **from year 2018** for your analysis -- this is important!\n",
    "\n",
    "## Notes\n",
    "\n",
    "1. Do not include data about the MLS or CFL in any of the work you are doing, we're only interested in the Big 4 in this assignment.\n",
    "2. I highly suggest that you first tackle the four correlation questions in order, as they are all similar and worth the majority of grades for this assignment. This is by design!\n",
    "3. It's fair game to talk with peers about high level strategy as well as the relationship between metropolitan areas and sports teams. However, do not post code solving aspects of the assignment (including such as dictionaries mapping areas to teams, or regexes which will clean up names).\n",
    "4. There may be more teams than the assert statements test, remember to collapse multiple teams in one city into a single value!\n",
    "## Question 1\n",
    "For this question, calculate the win/loss ratio's correlation with the population of the city it is in for the **NHL** using **2018** data."
   ],
   "cell_type": "markdown",
   "metadata": {}
  },
  {
   "cell_type": "code",
   "execution_count": 200,
   "metadata": {},
   "outputs": [],
   "source": [
    "import pandas as pd\n",
    "import numpy as np\n",
    "import scipy.stats as stats\n",
    "import re\n",
    "\n",
    "nhl_df=pd.read_csv(\"assets/nhl.csv\")\n",
    "cities=pd.read_html(\"assets/wikipedia_data.html\")[1]\n",
    "cities=cities.iloc[:-1,[0,3,5,6,7,8]]\n"
   ]
  },
  {
   "cell_type": "code",
   "execution_count": 201,
   "metadata": {},
   "outputs": [],
   "source": [
    "sports = ['Metropolitan area', 'Population', 'NFL','MLB','NBA','NHL']\n",
    "\n",
    "cities.columns = sports\n"
   ]
  },
  {
   "cell_type": "code",
   "execution_count": 202,
   "metadata": {},
   "outputs": [
    {
     "output_type": "error",
     "ename": "SyntaxError",
     "evalue": "invalid syntax (<ipython-input-202-af4d23a3fe8a>, line 4)",
     "traceback": [
      "\u001b[1;36m  File \u001b[1;32m\"<ipython-input-202-af4d23a3fe8a>\"\u001b[1;36m, line \u001b[1;32m4\u001b[0m\n\u001b[1;33m    elif:\u001b[0m\n\u001b[1;37m        ^\u001b[0m\n\u001b[1;31mSyntaxError\u001b[0m\u001b[1;31m:\u001b[0m invalid syntax\n"
     ]
    }
   ],
   "source": [
    "def cleaner(item):\n",
    "    if item == '':\n",
    "        string = 'None'\n",
    "    elif:\n",
    "        string  = re.sub('\\[(.*?)\\]', '', item)\n",
    "    elif:\n",
    "        string  = re.sub('—', 'None', item)\n",
    "    else:\n",
    "        string  = re.sub('\\*$', '', string)\n",
    "     \n",
    "    \n",
    "    return string\n"
   ]
  },
  {
   "cell_type": "code",
   "execution_count": 192,
   "metadata": {},
   "outputs": [
    {
     "output_type": "execute_result",
     "data": {
      "text/plain": [
       "         Metropolitan area Population           NFL              MLB  \\\n",
       "0            New York City   20153634    GiantsJets      YankeesMets   \n",
       "1              Los Angeles   13310447  RamsChargers    DodgersAngels   \n",
       "2   San Francisco Bay Area    6657982  49ersRaiders  GiantsAthletics   \n",
       "3                  Chicago    9512999         Bears    CubsWhite Sox   \n",
       "4        Dallas–Fort Worth    7233323       Cowboys          Rangers   \n",
       "5         Washington, D.C.    6131977      Redskins        Nationals   \n",
       "6             Philadelphia    6070500        Eagles         Phillies   \n",
       "7                   Boston    4794447      Patriots          Red Sox   \n",
       "8   Minneapolis–Saint Paul    3551036       Vikings            Twins   \n",
       "9                   Denver    2853077       Broncos          Rockies   \n",
       "10   Miami–Fort Lauderdale    6066387      Dolphins          Marlins   \n",
       "11                 Phoenix    4661537     Cardinals     Diamondbacks   \n",
       "12                 Detroit    4297617         Lions           Tigers   \n",
       "13                 Toronto    5928040            —         Blue Jays   \n",
       "14                 Houston    6772470        Texans           Astros   \n",
       "15                 Atlanta    5789700       Falcons           Braves   \n",
       "16          Tampa Bay Area    3032171    Buccaneers             Rays   \n",
       "17              Pittsburgh    2342299      Steelers          Pirates   \n",
       "18               Cleveland    2055612        Browns          Indians   \n",
       "19                 Seattle    3798902      Seahawks         Mariners   \n",
       "20              Cincinnati    2165139       Bengals             Reds   \n",
       "21             Kansas City    2104509        Chiefs           Royals   \n",
       "22               St. Louis    2807002                      Cardinals   \n",
       "23               Baltimore    2798886        Ravens          Orioles   \n",
       "24               Charlotte    2474314      Panthers                —   \n",
       "25            Indianapolis    2004230         Colts                    \n",
       "26               Nashville    1865298        Titans                —   \n",
       "27               Milwaukee    1572482                        Brewers   \n",
       "28             New Orleans    1268883        Saints                —   \n",
       "29                 Buffalo    1132804         Bills                    \n",
       "30                Montreal    4098927             —                    \n",
       "31               Vancouver    2463431             —                —   \n",
       "32                 Orlando    2441257             —                —   \n",
       "33                Portland    2424955             —                —   \n",
       "34                Columbus    2041520             —                —   \n",
       "35                 Calgary    1392609             —                —   \n",
       "36                  Ottawa    1323783             —                —   \n",
       "37                Edmonton    1321426             —                —   \n",
       "38          Salt Lake City    1186187             —                —   \n",
       "39                Winnipeg     778489             —                —   \n",
       "40               San Diego    3317749                         Padres   \n",
       "41             San Antonio    2429609                              —   \n",
       "42              Sacramento    2296418             —                —   \n",
       "43               Las Vegas    2155664                              —   \n",
       "44            Jacksonville    1478212       Jaguars                —   \n",
       "45           Oklahoma City    1373211             —                —   \n",
       "46                 Memphis    1342842                              —   \n",
       "47                 Raleigh    1302946             —                —   \n",
       "48               Green Bay     318236       Packers                —   \n",
       "49                Hamilton     747545             —                —   \n",
       "50                  Regina     236481             —                —   \n",
       "\n",
       "               NBA                     NHL  \n",
       "0       KnicksNets  RangersIslandersDevils  \n",
       "1   LakersClippers              KingsDucks  \n",
       "2         Warriors                  Sharks  \n",
       "3            Bulls              Blackhawks  \n",
       "4        Mavericks                   Stars  \n",
       "5          Wizards                Capitals  \n",
       "6            76ers                  Flyers  \n",
       "7          Celtics                  Bruins  \n",
       "8     Timberwolves                    Wild  \n",
       "9          Nuggets               Avalanche  \n",
       "10            Heat                Panthers  \n",
       "11            Suns                 Coyotes  \n",
       "12         Pistons               Red Wings  \n",
       "13         Raptors             Maple Leafs  \n",
       "14         Rockets                       —  \n",
       "15           Hawks                          \n",
       "16               —               Lightning  \n",
       "17                                Penguins  \n",
       "18       Cavaliers                          \n",
       "19                                          \n",
       "20                                       —  \n",
       "21                                          \n",
       "22                                   Blues  \n",
       "23                                       —  \n",
       "24         Hornets                       —  \n",
       "25          Pacers                       —  \n",
       "26               —               Predators  \n",
       "27           Bucks                       —  \n",
       "28        Pelicans                       —  \n",
       "29                                  Sabres  \n",
       "30               —               Canadiens  \n",
       "31                                 Canucks  \n",
       "32           Magic                       —  \n",
       "33   Trail Blazers                       —  \n",
       "34               —            Blue Jackets  \n",
       "35               —                  Flames  \n",
       "36               —                Senators  \n",
       "37               —                  Oilers  \n",
       "38            Jazz                       —  \n",
       "39               —                    Jets  \n",
       "40                                       —  \n",
       "41           Spurs                       —  \n",
       "42           Kings                       —  \n",
       "43               —          Golden Knights  \n",
       "44               —                       —  \n",
       "45         Thunder                       —  \n",
       "46       Grizzlies                       —  \n",
       "47               —              Hurricanes  \n",
       "48               —                       —  \n",
       "49               —                          \n",
       "50               —                       —  "
      ],
      "text/html": "<div>\n<style scoped>\n    .dataframe tbody tr th:only-of-type {\n        vertical-align: middle;\n    }\n\n    .dataframe tbody tr th {\n        vertical-align: top;\n    }\n\n    .dataframe thead th {\n        text-align: right;\n    }\n</style>\n<table border=\"1\" class=\"dataframe\">\n  <thead>\n    <tr style=\"text-align: right;\">\n      <th></th>\n      <th>Metropolitan area</th>\n      <th>Population</th>\n      <th>NFL</th>\n      <th>MLB</th>\n      <th>NBA</th>\n      <th>NHL</th>\n    </tr>\n  </thead>\n  <tbody>\n    <tr>\n      <th>0</th>\n      <td>New York City</td>\n      <td>20153634</td>\n      <td>GiantsJets</td>\n      <td>YankeesMets</td>\n      <td>KnicksNets</td>\n      <td>RangersIslandersDevils</td>\n    </tr>\n    <tr>\n      <th>1</th>\n      <td>Los Angeles</td>\n      <td>13310447</td>\n      <td>RamsChargers</td>\n      <td>DodgersAngels</td>\n      <td>LakersClippers</td>\n      <td>KingsDucks</td>\n    </tr>\n    <tr>\n      <th>2</th>\n      <td>San Francisco Bay Area</td>\n      <td>6657982</td>\n      <td>49ersRaiders</td>\n      <td>GiantsAthletics</td>\n      <td>Warriors</td>\n      <td>Sharks</td>\n    </tr>\n    <tr>\n      <th>3</th>\n      <td>Chicago</td>\n      <td>9512999</td>\n      <td>Bears</td>\n      <td>CubsWhite Sox</td>\n      <td>Bulls</td>\n      <td>Blackhawks</td>\n    </tr>\n    <tr>\n      <th>4</th>\n      <td>Dallas–Fort Worth</td>\n      <td>7233323</td>\n      <td>Cowboys</td>\n      <td>Rangers</td>\n      <td>Mavericks</td>\n      <td>Stars</td>\n    </tr>\n    <tr>\n      <th>5</th>\n      <td>Washington, D.C.</td>\n      <td>6131977</td>\n      <td>Redskins</td>\n      <td>Nationals</td>\n      <td>Wizards</td>\n      <td>Capitals</td>\n    </tr>\n    <tr>\n      <th>6</th>\n      <td>Philadelphia</td>\n      <td>6070500</td>\n      <td>Eagles</td>\n      <td>Phillies</td>\n      <td>76ers</td>\n      <td>Flyers</td>\n    </tr>\n    <tr>\n      <th>7</th>\n      <td>Boston</td>\n      <td>4794447</td>\n      <td>Patriots</td>\n      <td>Red Sox</td>\n      <td>Celtics</td>\n      <td>Bruins</td>\n    </tr>\n    <tr>\n      <th>8</th>\n      <td>Minneapolis–Saint Paul</td>\n      <td>3551036</td>\n      <td>Vikings</td>\n      <td>Twins</td>\n      <td>Timberwolves</td>\n      <td>Wild</td>\n    </tr>\n    <tr>\n      <th>9</th>\n      <td>Denver</td>\n      <td>2853077</td>\n      <td>Broncos</td>\n      <td>Rockies</td>\n      <td>Nuggets</td>\n      <td>Avalanche</td>\n    </tr>\n    <tr>\n      <th>10</th>\n      <td>Miami–Fort Lauderdale</td>\n      <td>6066387</td>\n      <td>Dolphins</td>\n      <td>Marlins</td>\n      <td>Heat</td>\n      <td>Panthers</td>\n    </tr>\n    <tr>\n      <th>11</th>\n      <td>Phoenix</td>\n      <td>4661537</td>\n      <td>Cardinals</td>\n      <td>Diamondbacks</td>\n      <td>Suns</td>\n      <td>Coyotes</td>\n    </tr>\n    <tr>\n      <th>12</th>\n      <td>Detroit</td>\n      <td>4297617</td>\n      <td>Lions</td>\n      <td>Tigers</td>\n      <td>Pistons</td>\n      <td>Red Wings</td>\n    </tr>\n    <tr>\n      <th>13</th>\n      <td>Toronto</td>\n      <td>5928040</td>\n      <td>—</td>\n      <td>Blue Jays</td>\n      <td>Raptors</td>\n      <td>Maple Leafs</td>\n    </tr>\n    <tr>\n      <th>14</th>\n      <td>Houston</td>\n      <td>6772470</td>\n      <td>Texans</td>\n      <td>Astros</td>\n      <td>Rockets</td>\n      <td>—</td>\n    </tr>\n    <tr>\n      <th>15</th>\n      <td>Atlanta</td>\n      <td>5789700</td>\n      <td>Falcons</td>\n      <td>Braves</td>\n      <td>Hawks</td>\n      <td></td>\n    </tr>\n    <tr>\n      <th>16</th>\n      <td>Tampa Bay Area</td>\n      <td>3032171</td>\n      <td>Buccaneers</td>\n      <td>Rays</td>\n      <td>—</td>\n      <td>Lightning</td>\n    </tr>\n    <tr>\n      <th>17</th>\n      <td>Pittsburgh</td>\n      <td>2342299</td>\n      <td>Steelers</td>\n      <td>Pirates</td>\n      <td></td>\n      <td>Penguins</td>\n    </tr>\n    <tr>\n      <th>18</th>\n      <td>Cleveland</td>\n      <td>2055612</td>\n      <td>Browns</td>\n      <td>Indians</td>\n      <td>Cavaliers</td>\n      <td></td>\n    </tr>\n    <tr>\n      <th>19</th>\n      <td>Seattle</td>\n      <td>3798902</td>\n      <td>Seahawks</td>\n      <td>Mariners</td>\n      <td></td>\n      <td></td>\n    </tr>\n    <tr>\n      <th>20</th>\n      <td>Cincinnati</td>\n      <td>2165139</td>\n      <td>Bengals</td>\n      <td>Reds</td>\n      <td></td>\n      <td>—</td>\n    </tr>\n    <tr>\n      <th>21</th>\n      <td>Kansas City</td>\n      <td>2104509</td>\n      <td>Chiefs</td>\n      <td>Royals</td>\n      <td></td>\n      <td></td>\n    </tr>\n    <tr>\n      <th>22</th>\n      <td>St. Louis</td>\n      <td>2807002</td>\n      <td></td>\n      <td>Cardinals</td>\n      <td></td>\n      <td>Blues</td>\n    </tr>\n    <tr>\n      <th>23</th>\n      <td>Baltimore</td>\n      <td>2798886</td>\n      <td>Ravens</td>\n      <td>Orioles</td>\n      <td></td>\n      <td>—</td>\n    </tr>\n    <tr>\n      <th>24</th>\n      <td>Charlotte</td>\n      <td>2474314</td>\n      <td>Panthers</td>\n      <td>—</td>\n      <td>Hornets</td>\n      <td>—</td>\n    </tr>\n    <tr>\n      <th>25</th>\n      <td>Indianapolis</td>\n      <td>2004230</td>\n      <td>Colts</td>\n      <td></td>\n      <td>Pacers</td>\n      <td>—</td>\n    </tr>\n    <tr>\n      <th>26</th>\n      <td>Nashville</td>\n      <td>1865298</td>\n      <td>Titans</td>\n      <td>—</td>\n      <td>—</td>\n      <td>Predators</td>\n    </tr>\n    <tr>\n      <th>27</th>\n      <td>Milwaukee</td>\n      <td>1572482</td>\n      <td></td>\n      <td>Brewers</td>\n      <td>Bucks</td>\n      <td>—</td>\n    </tr>\n    <tr>\n      <th>28</th>\n      <td>New Orleans</td>\n      <td>1268883</td>\n      <td>Saints</td>\n      <td>—</td>\n      <td>Pelicans</td>\n      <td>—</td>\n    </tr>\n    <tr>\n      <th>29</th>\n      <td>Buffalo</td>\n      <td>1132804</td>\n      <td>Bills</td>\n      <td></td>\n      <td></td>\n      <td>Sabres</td>\n    </tr>\n    <tr>\n      <th>30</th>\n      <td>Montreal</td>\n      <td>4098927</td>\n      <td>—</td>\n      <td></td>\n      <td>—</td>\n      <td>Canadiens</td>\n    </tr>\n    <tr>\n      <th>31</th>\n      <td>Vancouver</td>\n      <td>2463431</td>\n      <td>—</td>\n      <td>—</td>\n      <td></td>\n      <td>Canucks</td>\n    </tr>\n    <tr>\n      <th>32</th>\n      <td>Orlando</td>\n      <td>2441257</td>\n      <td>—</td>\n      <td>—</td>\n      <td>Magic</td>\n      <td>—</td>\n    </tr>\n    <tr>\n      <th>33</th>\n      <td>Portland</td>\n      <td>2424955</td>\n      <td>—</td>\n      <td>—</td>\n      <td>Trail Blazers</td>\n      <td>—</td>\n    </tr>\n    <tr>\n      <th>34</th>\n      <td>Columbus</td>\n      <td>2041520</td>\n      <td>—</td>\n      <td>—</td>\n      <td>—</td>\n      <td>Blue Jackets</td>\n    </tr>\n    <tr>\n      <th>35</th>\n      <td>Calgary</td>\n      <td>1392609</td>\n      <td>—</td>\n      <td>—</td>\n      <td>—</td>\n      <td>Flames</td>\n    </tr>\n    <tr>\n      <th>36</th>\n      <td>Ottawa</td>\n      <td>1323783</td>\n      <td>—</td>\n      <td>—</td>\n      <td>—</td>\n      <td>Senators</td>\n    </tr>\n    <tr>\n      <th>37</th>\n      <td>Edmonton</td>\n      <td>1321426</td>\n      <td>—</td>\n      <td>—</td>\n      <td>—</td>\n      <td>Oilers</td>\n    </tr>\n    <tr>\n      <th>38</th>\n      <td>Salt Lake City</td>\n      <td>1186187</td>\n      <td>—</td>\n      <td>—</td>\n      <td>Jazz</td>\n      <td>—</td>\n    </tr>\n    <tr>\n      <th>39</th>\n      <td>Winnipeg</td>\n      <td>778489</td>\n      <td>—</td>\n      <td>—</td>\n      <td>—</td>\n      <td>Jets</td>\n    </tr>\n    <tr>\n      <th>40</th>\n      <td>San Diego</td>\n      <td>3317749</td>\n      <td></td>\n      <td>Padres</td>\n      <td></td>\n      <td>—</td>\n    </tr>\n    <tr>\n      <th>41</th>\n      <td>San Antonio</td>\n      <td>2429609</td>\n      <td></td>\n      <td>—</td>\n      <td>Spurs</td>\n      <td>—</td>\n    </tr>\n    <tr>\n      <th>42</th>\n      <td>Sacramento</td>\n      <td>2296418</td>\n      <td>—</td>\n      <td>—</td>\n      <td>Kings</td>\n      <td>—</td>\n    </tr>\n    <tr>\n      <th>43</th>\n      <td>Las Vegas</td>\n      <td>2155664</td>\n      <td></td>\n      <td>—</td>\n      <td>—</td>\n      <td>Golden Knights</td>\n    </tr>\n    <tr>\n      <th>44</th>\n      <td>Jacksonville</td>\n      <td>1478212</td>\n      <td>Jaguars</td>\n      <td>—</td>\n      <td>—</td>\n      <td>—</td>\n    </tr>\n    <tr>\n      <th>45</th>\n      <td>Oklahoma City</td>\n      <td>1373211</td>\n      <td>—</td>\n      <td>—</td>\n      <td>Thunder</td>\n      <td>—</td>\n    </tr>\n    <tr>\n      <th>46</th>\n      <td>Memphis</td>\n      <td>1342842</td>\n      <td></td>\n      <td>—</td>\n      <td>Grizzlies</td>\n      <td>—</td>\n    </tr>\n    <tr>\n      <th>47</th>\n      <td>Raleigh</td>\n      <td>1302946</td>\n      <td>—</td>\n      <td>—</td>\n      <td>—</td>\n      <td>Hurricanes</td>\n    </tr>\n    <tr>\n      <th>48</th>\n      <td>Green Bay</td>\n      <td>318236</td>\n      <td>Packers</td>\n      <td>—</td>\n      <td>—</td>\n      <td>—</td>\n    </tr>\n    <tr>\n      <th>49</th>\n      <td>Hamilton</td>\n      <td>747545</td>\n      <td>—</td>\n      <td>—</td>\n      <td>—</td>\n      <td></td>\n    </tr>\n    <tr>\n      <th>50</th>\n      <td>Regina</td>\n      <td>236481</td>\n      <td>—</td>\n      <td>—</td>\n      <td>—</td>\n      <td>—</td>\n    </tr>\n  </tbody>\n</table>\n</div>"
     },
     "metadata": {},
     "execution_count": 192
    }
   ],
   "source": [
    "for col in sports:\n",
    "    cities[col] = cities[col].apply(cleaner)\n",
    "cities"
   ]
  },
  {
   "cell_type": "code",
   "execution_count": 193,
   "metadata": {},
   "outputs": [
    {
     "output_type": "stream",
     "name": "stdout",
     "text": [
      "              team  GP   W   L  OL  PTS  PTS%   GF   GA   SRS    SOS  RPt%  \\\n2    Boston Bruins  82  50  20  12  112  .683  270  214  0.62  -0.07  .610   \n38   Boston Bruins  82  44  31   7   95  .579  234  212  0.27   0.00  .543   \n73   Boston Bruins  82  42  31   9   93  .567  240  230  0.11  -0.02  .500   \n108  Boston Bruins  82  41  27  14   96  .585  213  211  0.01  -0.01  .537   \n138  Boston Bruins  82  54  19   9  117  .713  261  177  0.92  -0.11  .677   \n\n    ROW  year League  \n2    47  2018    NHL  \n38   42  2017    NHL  \n73   38  2017    NHL  \n108  37  2015    NHL  \n138  51  2014    NHL  \n"
     ]
    }
   ],
   "source": [
    "nhl_df['team']  = nhl_df['team'].apply(cleaner)\n",
    "\n",
    "print(nhl_df[nhl_df['team'].str.contains('Boston Bruins')])"
   ]
  },
  {
   "cell_type": "code",
   "execution_count": 194,
   "metadata": {},
   "outputs": [
    {
     "output_type": "execute_result",
     "data": {
      "text/plain": [
       "(171, 15)"
      ]
     },
     "metadata": {},
     "execution_count": 194
    }
   ],
   "source": [
    "nhl_df.shape"
   ]
  },
  {
   "cell_type": "code",
   "execution_count": 195,
   "metadata": {},
   "outputs": [],
   "source": [
    "nhl_df = nhl_df[nhl_df['year'] == 2018]\n",
    "nhl_df.drop([0,9,18,26], axis = 0, inplace= True)\n",
    "nhl_df = nhl_df[['team','W','L',]]\n",
    "nhl_teams = list(nhl_df['team'].values)"
   ]
  },
  {
   "cell_type": "code",
   "execution_count": 196,
   "metadata": {},
   "outputs": [
    {
     "output_type": "execute_result",
     "data": {
      "text/plain": [
       "['Tampa Bay Lightning',\n",
       " 'Boston Bruins',\n",
       " 'Toronto Maple Leafs',\n",
       " 'Florida Panthers',\n",
       " 'Detroit Red Wings',\n",
       " 'Montreal Canadiens',\n",
       " 'Ottawa Senators',\n",
       " 'Buffalo Sabres',\n",
       " 'Washington Capitals',\n",
       " 'Pittsburgh Penguins',\n",
       " 'Philadelphia Flyers',\n",
       " 'Columbus Blue Jackets',\n",
       " 'New Jersey Devils',\n",
       " 'Carolina Hurricanes',\n",
       " 'New York Islanders',\n",
       " 'New York Rangers',\n",
       " 'Nashville Predators',\n",
       " 'Winnipeg Jets',\n",
       " 'Minnesota Wild',\n",
       " 'Colorado Avalanche',\n",
       " 'St. Louis Blues',\n",
       " 'Dallas Stars',\n",
       " 'Chicago Blackhawks',\n",
       " 'Vegas Golden Knights',\n",
       " 'Anaheim Ducks',\n",
       " 'San Jose Sharks',\n",
       " 'Los Angeles Kings',\n",
       " 'Calgary Flames',\n",
       " 'Edmonton Oilers',\n",
       " 'Vancouver Canucks',\n",
       " 'Arizona Coyotes']"
      ]
     },
     "metadata": {},
     "execution_count": 196
    }
   ],
   "source": [
    "nhl_teams"
   ]
  },
  {
   "cell_type": "code",
   "execution_count": null,
   "metadata": {},
   "outputs": [],
   "source": []
  }
 ]
}