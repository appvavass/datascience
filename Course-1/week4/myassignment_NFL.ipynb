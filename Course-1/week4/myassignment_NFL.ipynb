{
 "metadata": {
  "language_info": {
   "codemirror_mode": {
    "name": "ipython",
    "version": 3
   },
   "file_extension": ".py",
   "mimetype": "text/x-python",
   "name": "python",
   "nbconvert_exporter": "python",
   "pygments_lexer": "ipython3",
   "version": "3.8.6-candidate"
  },
  "orig_nbformat": 2,
  "kernelspec": {
   "name": "python3",
   "display_name": "Python 3",
   "language": "python"
  }
 },
 "nbformat": 4,
 "nbformat_minor": 2,
 "cells": [
  {
   "cell_type": "code",
   "execution_count": 312,
   "metadata": {},
   "outputs": [],
   "source": [
    "import pandas as pd\n",
    "import numpy as np\n",
    "import scipy.stats as stats\n",
    "from scipy.stats import pearsonr\n",
    "import re\n",
    "\n",
    "nhl_df=pd.read_csv(\"assets/nfl.csv\")\n",
    "cities=pd.read_html(\"assets/wikipedia_data.html\")[1]\n",
    "cities=cities.iloc[:-1,[0,3,5,6,7,8]]\n",
    "\n",
    "big4 = 'NFL'"
   ]
  },
  {
   "cell_type": "code",
   "execution_count": 313,
   "metadata": {
    "tags": []
   },
   "outputs": [
    {
     "output_type": "execute_result",
     "data": {
      "text/plain": [
       "  Metropolitan area Population       NFL      MLB      NBA     NHL\n",
       "0           Atlanta    5789700   Falcons   Braves    Hawks        \n",
       "1         Baltimore    2798886    Ravens  Orioles                —\n",
       "2            Boston    4794447  Patriots  Red Sox  Celtics  Bruins\n",
       "3           Buffalo    1132804     Bills                    Sabres\n",
       "4           Calgary    1392609         —        —        —  Flames"
      ],
      "text/html": "<div>\n<style scoped>\n    .dataframe tbody tr th:only-of-type {\n        vertical-align: middle;\n    }\n\n    .dataframe tbody tr th {\n        vertical-align: top;\n    }\n\n    .dataframe thead th {\n        text-align: right;\n    }\n</style>\n<table border=\"1\" class=\"dataframe\">\n  <thead>\n    <tr style=\"text-align: right;\">\n      <th></th>\n      <th>Metropolitan area</th>\n      <th>Population</th>\n      <th>NFL</th>\n      <th>MLB</th>\n      <th>NBA</th>\n      <th>NHL</th>\n    </tr>\n  </thead>\n  <tbody>\n    <tr>\n      <th>0</th>\n      <td>Atlanta</td>\n      <td>5789700</td>\n      <td>Falcons</td>\n      <td>Braves</td>\n      <td>Hawks</td>\n      <td></td>\n    </tr>\n    <tr>\n      <th>1</th>\n      <td>Baltimore</td>\n      <td>2798886</td>\n      <td>Ravens</td>\n      <td>Orioles</td>\n      <td></td>\n      <td>—</td>\n    </tr>\n    <tr>\n      <th>2</th>\n      <td>Boston</td>\n      <td>4794447</td>\n      <td>Patriots</td>\n      <td>Red Sox</td>\n      <td>Celtics</td>\n      <td>Bruins</td>\n    </tr>\n    <tr>\n      <th>3</th>\n      <td>Buffalo</td>\n      <td>1132804</td>\n      <td>Bills</td>\n      <td></td>\n      <td></td>\n      <td>Sabres</td>\n    </tr>\n    <tr>\n      <th>4</th>\n      <td>Calgary</td>\n      <td>1392609</td>\n      <td>—</td>\n      <td>—</td>\n      <td>—</td>\n      <td>Flames</td>\n    </tr>\n  </tbody>\n</table>\n</div>"
     },
     "metadata": {},
     "execution_count": 313
    }
   ],
   "source": [
    "sports = ['Metropolitan area', 'Population', 'NFL','MLB','NBA','NHL']\n",
    "cities.columns = sports #rename the cities database columns\n",
    "def cleaning(item):\n",
    "    #print('working on function 1, string: {}'.format(item))\n",
    "    s = re.sub(r'([a-z])([A-Z])', r'\\1 \\2', item) #separate two words by the capital letter e.g ColdCase Cold Case\n",
    "    return s\n",
    "\n",
    "def cleaning_2(item):\n",
    "    #print('working on function 2, string: {}'.format(item))\n",
    "    s = re.sub('\\[.*\\]', '', item) #remove the squared bracket\n",
    "    #s = re.sub(r'([a-z])([A-Z])', r'\\1 \\2', item)\n",
    "    return s\n",
    "\n",
    "def cleaning_3(item): #clean the ends\n",
    "    #print('working on function 3, string: {}'.format(item))\n",
    "    item.strip()\n",
    "    s = re.sub('[\\*\\+]$', '', item)\n",
    "    return s\n",
    "\n",
    "\n",
    "def apply_cleaning(clen_fun, dataframe, columns): #applies all the cleaning functions on every col  \n",
    "    for fun in clen_fun:\n",
    "        for col in columns:\n",
    "            dataframe[col]  = dataframe[col].astype('string').apply(fun)\n",
    "    return dataframe\n",
    "\n",
    "functions = [cleaning, cleaning_2, cleaning_3]\n",
    "\n",
    "apply_cleaning(functions, cities, sports) # clean cities\n",
    "cities.sort_values('Metropolitan area', axis = 0, inplace=True) #sort cities by their name\n",
    "cities.reset_index(drop=True,inplace=True)\n",
    "cities.head()"
   ]
  },
  {
   "cell_type": "code",
   "execution_count": 314,
   "metadata": {},
   "outputs": [
    {
     "output_type": "execute_result",
     "data": {
      "text/plain": [
       "   Metropolitan area Population            NFL               MLB  \\\n",
       "0            Atlanta    5789700        Falcons            Braves   \n",
       "1          Baltimore    2798886         Ravens           Orioles   \n",
       "2             Boston    4794447       Patriots           Red Sox   \n",
       "3            Buffalo    1132804          Bills              None   \n",
       "4            Calgary    1392609           None              None   \n",
       "5          Charlotte    2474314       Panthers              None   \n",
       "6            Chicago    9512999          Bears    Cubs White Sox   \n",
       "7         Cincinnati    2165139        Bengals              Reds   \n",
       "8          Cleveland    2055612         Browns           Indians   \n",
       "9           Columbus    2041520           None              None   \n",
       "10            Dallas    7233323        Cowboys           Rangers   \n",
       "11            Denver    2853077        Broncos           Rockies   \n",
       "12           Detroit    4297617          Lions            Tigers   \n",
       "13          Edmonton    1321426           None              None   \n",
       "14         Green Bay     318236        Packers              None   \n",
       "15          Hamilton     747545           None              None   \n",
       "16           Houston    6772470         Texans            Astros   \n",
       "17      Indianapolis    2004230          Colts              None   \n",
       "18      Jacksonville    1478212        Jaguars              None   \n",
       "19       Kansas City    2104509         Chiefs            Royals   \n",
       "20         Las Vegas    2155664           None              None   \n",
       "21       Los Angeles   13310447  Rams Chargers    Dodgers Angels   \n",
       "22           Memphis    1342842           None              None   \n",
       "23             Miami    6066387       Dolphins           Marlins   \n",
       "24         Milwaukee    1572482           None           Brewers   \n",
       "25       Minneapolis    3551036        Vikings             Twins   \n",
       "26          Montreal    4098927           None              None   \n",
       "27         Nashville    1865298         Titans              None   \n",
       "28       New Orleans    1268883         Saints              None   \n",
       "29          New York   20153634    Giants Jets      Yankees Mets   \n",
       "30     Oklahoma City    1373211           None              None   \n",
       "31           Orlando    2441257           None              None   \n",
       "32            Ottawa    1323783           None              None   \n",
       "33      Philadelphia    6070500         Eagles          Phillies   \n",
       "34           Phoenix    4661537      Cardinals      Diamondbacks   \n",
       "35        Pittsburgh    2342299       Steelers           Pirates   \n",
       "36          Portland    2424955           None              None   \n",
       "37           Raleigh    1302946           None              None   \n",
       "38            Regina     236481           None              None   \n",
       "39        Sacramento    2296418           None              None   \n",
       "40    Salt Lake City    1186187           None              None   \n",
       "41       San Antonio    2429609           None              None   \n",
       "42         San Diego    3317749           None            Padres   \n",
       "43     San Francisco    6657982  49ers Raiders  Giants Athletics   \n",
       "44           Seattle    3798902       Seahawks          Mariners   \n",
       "45         St. Louis    2807002           None         Cardinals   \n",
       "46         Tampa Bay    3032171     Buccaneers              Rays   \n",
       "47           Toronto    5928040           None         Blue Jays   \n",
       "48         Vancouver    2463431           None              None   \n",
       "49        Washington    6131977       Redskins         Nationals   \n",
       "50          Winnipeg     778489           None              None   \n",
       "\n",
       "                NBA                       NHL  \n",
       "0             Hawks                      None  \n",
       "1              None                      None  \n",
       "2           Celtics                    Bruins  \n",
       "3              None                    Sabres  \n",
       "4              None                    Flames  \n",
       "5           Hornets                      None  \n",
       "6             Bulls                Blackhawks  \n",
       "7              None                      None  \n",
       "8         Cavaliers                      None  \n",
       "9              None              Blue Jackets  \n",
       "10        Mavericks                     Stars  \n",
       "11          Nuggets                 Avalanche  \n",
       "12          Pistons                 Red Wings  \n",
       "13             None                    Oilers  \n",
       "14             None                      None  \n",
       "15             None                      None  \n",
       "16          Rockets                      None  \n",
       "17           Pacers                      None  \n",
       "18             None                      None  \n",
       "19             None                      None  \n",
       "20             None            Golden Knights  \n",
       "21  Lakers Clippers               Kings Ducks  \n",
       "22        Grizzlies                      None  \n",
       "23             Heat                  Panthers  \n",
       "24            Bucks                      None  \n",
       "25     Timberwolves                      Wild  \n",
       "26             None                 Canadiens  \n",
       "27             None                 Predators  \n",
       "28         Pelicans                      None  \n",
       "29      Knicks Nets  Rangers Islanders Devils  \n",
       "30          Thunder                      None  \n",
       "31            Magic                      None  \n",
       "32             None                  Senators  \n",
       "33            76ers                    Flyers  \n",
       "34             Suns                   Coyotes  \n",
       "35             None                  Penguins  \n",
       "36    Trail Blazers                      None  \n",
       "37             None                Hurricanes  \n",
       "38             None                      None  \n",
       "39            Kings                      None  \n",
       "40             Jazz                      None  \n",
       "41            Spurs                      None  \n",
       "42             None                      None  \n",
       "43         Warriors                    Sharks  \n",
       "44             None                      None  \n",
       "45             None                     Blues  \n",
       "46             None                 Lightning  \n",
       "47          Raptors               Maple Leafs  \n",
       "48             None                   Canucks  \n",
       "49          Wizards                  Capitals  \n",
       "50             None                      Jets  "
      ],
      "text/html": "<div>\n<style scoped>\n    .dataframe tbody tr th:only-of-type {\n        vertical-align: middle;\n    }\n\n    .dataframe tbody tr th {\n        vertical-align: top;\n    }\n\n    .dataframe thead th {\n        text-align: right;\n    }\n</style>\n<table border=\"1\" class=\"dataframe\">\n  <thead>\n    <tr style=\"text-align: right;\">\n      <th></th>\n      <th>Metropolitan area</th>\n      <th>Population</th>\n      <th>NFL</th>\n      <th>MLB</th>\n      <th>NBA</th>\n      <th>NHL</th>\n    </tr>\n  </thead>\n  <tbody>\n    <tr>\n      <th>0</th>\n      <td>Atlanta</td>\n      <td>5789700</td>\n      <td>Falcons</td>\n      <td>Braves</td>\n      <td>Hawks</td>\n      <td>None</td>\n    </tr>\n    <tr>\n      <th>1</th>\n      <td>Baltimore</td>\n      <td>2798886</td>\n      <td>Ravens</td>\n      <td>Orioles</td>\n      <td>None</td>\n      <td>None</td>\n    </tr>\n    <tr>\n      <th>2</th>\n      <td>Boston</td>\n      <td>4794447</td>\n      <td>Patriots</td>\n      <td>Red Sox</td>\n      <td>Celtics</td>\n      <td>Bruins</td>\n    </tr>\n    <tr>\n      <th>3</th>\n      <td>Buffalo</td>\n      <td>1132804</td>\n      <td>Bills</td>\n      <td>None</td>\n      <td>None</td>\n      <td>Sabres</td>\n    </tr>\n    <tr>\n      <th>4</th>\n      <td>Calgary</td>\n      <td>1392609</td>\n      <td>None</td>\n      <td>None</td>\n      <td>None</td>\n      <td>Flames</td>\n    </tr>\n    <tr>\n      <th>5</th>\n      <td>Charlotte</td>\n      <td>2474314</td>\n      <td>Panthers</td>\n      <td>None</td>\n      <td>Hornets</td>\n      <td>None</td>\n    </tr>\n    <tr>\n      <th>6</th>\n      <td>Chicago</td>\n      <td>9512999</td>\n      <td>Bears</td>\n      <td>Cubs White Sox</td>\n      <td>Bulls</td>\n      <td>Blackhawks</td>\n    </tr>\n    <tr>\n      <th>7</th>\n      <td>Cincinnati</td>\n      <td>2165139</td>\n      <td>Bengals</td>\n      <td>Reds</td>\n      <td>None</td>\n      <td>None</td>\n    </tr>\n    <tr>\n      <th>8</th>\n      <td>Cleveland</td>\n      <td>2055612</td>\n      <td>Browns</td>\n      <td>Indians</td>\n      <td>Cavaliers</td>\n      <td>None</td>\n    </tr>\n    <tr>\n      <th>9</th>\n      <td>Columbus</td>\n      <td>2041520</td>\n      <td>None</td>\n      <td>None</td>\n      <td>None</td>\n      <td>Blue Jackets</td>\n    </tr>\n    <tr>\n      <th>10</th>\n      <td>Dallas</td>\n      <td>7233323</td>\n      <td>Cowboys</td>\n      <td>Rangers</td>\n      <td>Mavericks</td>\n      <td>Stars</td>\n    </tr>\n    <tr>\n      <th>11</th>\n      <td>Denver</td>\n      <td>2853077</td>\n      <td>Broncos</td>\n      <td>Rockies</td>\n      <td>Nuggets</td>\n      <td>Avalanche</td>\n    </tr>\n    <tr>\n      <th>12</th>\n      <td>Detroit</td>\n      <td>4297617</td>\n      <td>Lions</td>\n      <td>Tigers</td>\n      <td>Pistons</td>\n      <td>Red Wings</td>\n    </tr>\n    <tr>\n      <th>13</th>\n      <td>Edmonton</td>\n      <td>1321426</td>\n      <td>None</td>\n      <td>None</td>\n      <td>None</td>\n      <td>Oilers</td>\n    </tr>\n    <tr>\n      <th>14</th>\n      <td>Green Bay</td>\n      <td>318236</td>\n      <td>Packers</td>\n      <td>None</td>\n      <td>None</td>\n      <td>None</td>\n    </tr>\n    <tr>\n      <th>15</th>\n      <td>Hamilton</td>\n      <td>747545</td>\n      <td>None</td>\n      <td>None</td>\n      <td>None</td>\n      <td>None</td>\n    </tr>\n    <tr>\n      <th>16</th>\n      <td>Houston</td>\n      <td>6772470</td>\n      <td>Texans</td>\n      <td>Astros</td>\n      <td>Rockets</td>\n      <td>None</td>\n    </tr>\n    <tr>\n      <th>17</th>\n      <td>Indianapolis</td>\n      <td>2004230</td>\n      <td>Colts</td>\n      <td>None</td>\n      <td>Pacers</td>\n      <td>None</td>\n    </tr>\n    <tr>\n      <th>18</th>\n      <td>Jacksonville</td>\n      <td>1478212</td>\n      <td>Jaguars</td>\n      <td>None</td>\n      <td>None</td>\n      <td>None</td>\n    </tr>\n    <tr>\n      <th>19</th>\n      <td>Kansas City</td>\n      <td>2104509</td>\n      <td>Chiefs</td>\n      <td>Royals</td>\n      <td>None</td>\n      <td>None</td>\n    </tr>\n    <tr>\n      <th>20</th>\n      <td>Las Vegas</td>\n      <td>2155664</td>\n      <td>None</td>\n      <td>None</td>\n      <td>None</td>\n      <td>Golden Knights</td>\n    </tr>\n    <tr>\n      <th>21</th>\n      <td>Los Angeles</td>\n      <td>13310447</td>\n      <td>Rams Chargers</td>\n      <td>Dodgers Angels</td>\n      <td>Lakers Clippers</td>\n      <td>Kings Ducks</td>\n    </tr>\n    <tr>\n      <th>22</th>\n      <td>Memphis</td>\n      <td>1342842</td>\n      <td>None</td>\n      <td>None</td>\n      <td>Grizzlies</td>\n      <td>None</td>\n    </tr>\n    <tr>\n      <th>23</th>\n      <td>Miami</td>\n      <td>6066387</td>\n      <td>Dolphins</td>\n      <td>Marlins</td>\n      <td>Heat</td>\n      <td>Panthers</td>\n    </tr>\n    <tr>\n      <th>24</th>\n      <td>Milwaukee</td>\n      <td>1572482</td>\n      <td>None</td>\n      <td>Brewers</td>\n      <td>Bucks</td>\n      <td>None</td>\n    </tr>\n    <tr>\n      <th>25</th>\n      <td>Minneapolis</td>\n      <td>3551036</td>\n      <td>Vikings</td>\n      <td>Twins</td>\n      <td>Timberwolves</td>\n      <td>Wild</td>\n    </tr>\n    <tr>\n      <th>26</th>\n      <td>Montreal</td>\n      <td>4098927</td>\n      <td>None</td>\n      <td>None</td>\n      <td>None</td>\n      <td>Canadiens</td>\n    </tr>\n    <tr>\n      <th>27</th>\n      <td>Nashville</td>\n      <td>1865298</td>\n      <td>Titans</td>\n      <td>None</td>\n      <td>None</td>\n      <td>Predators</td>\n    </tr>\n    <tr>\n      <th>28</th>\n      <td>New Orleans</td>\n      <td>1268883</td>\n      <td>Saints</td>\n      <td>None</td>\n      <td>Pelicans</td>\n      <td>None</td>\n    </tr>\n    <tr>\n      <th>29</th>\n      <td>New York</td>\n      <td>20153634</td>\n      <td>Giants Jets</td>\n      <td>Yankees Mets</td>\n      <td>Knicks Nets</td>\n      <td>Rangers Islanders Devils</td>\n    </tr>\n    <tr>\n      <th>30</th>\n      <td>Oklahoma City</td>\n      <td>1373211</td>\n      <td>None</td>\n      <td>None</td>\n      <td>Thunder</td>\n      <td>None</td>\n    </tr>\n    <tr>\n      <th>31</th>\n      <td>Orlando</td>\n      <td>2441257</td>\n      <td>None</td>\n      <td>None</td>\n      <td>Magic</td>\n      <td>None</td>\n    </tr>\n    <tr>\n      <th>32</th>\n      <td>Ottawa</td>\n      <td>1323783</td>\n      <td>None</td>\n      <td>None</td>\n      <td>None</td>\n      <td>Senators</td>\n    </tr>\n    <tr>\n      <th>33</th>\n      <td>Philadelphia</td>\n      <td>6070500</td>\n      <td>Eagles</td>\n      <td>Phillies</td>\n      <td>76ers</td>\n      <td>Flyers</td>\n    </tr>\n    <tr>\n      <th>34</th>\n      <td>Phoenix</td>\n      <td>4661537</td>\n      <td>Cardinals</td>\n      <td>Diamondbacks</td>\n      <td>Suns</td>\n      <td>Coyotes</td>\n    </tr>\n    <tr>\n      <th>35</th>\n      <td>Pittsburgh</td>\n      <td>2342299</td>\n      <td>Steelers</td>\n      <td>Pirates</td>\n      <td>None</td>\n      <td>Penguins</td>\n    </tr>\n    <tr>\n      <th>36</th>\n      <td>Portland</td>\n      <td>2424955</td>\n      <td>None</td>\n      <td>None</td>\n      <td>Trail Blazers</td>\n      <td>None</td>\n    </tr>\n    <tr>\n      <th>37</th>\n      <td>Raleigh</td>\n      <td>1302946</td>\n      <td>None</td>\n      <td>None</td>\n      <td>None</td>\n      <td>Hurricanes</td>\n    </tr>\n    <tr>\n      <th>38</th>\n      <td>Regina</td>\n      <td>236481</td>\n      <td>None</td>\n      <td>None</td>\n      <td>None</td>\n      <td>None</td>\n    </tr>\n    <tr>\n      <th>39</th>\n      <td>Sacramento</td>\n      <td>2296418</td>\n      <td>None</td>\n      <td>None</td>\n      <td>Kings</td>\n      <td>None</td>\n    </tr>\n    <tr>\n      <th>40</th>\n      <td>Salt Lake City</td>\n      <td>1186187</td>\n      <td>None</td>\n      <td>None</td>\n      <td>Jazz</td>\n      <td>None</td>\n    </tr>\n    <tr>\n      <th>41</th>\n      <td>San Antonio</td>\n      <td>2429609</td>\n      <td>None</td>\n      <td>None</td>\n      <td>Spurs</td>\n      <td>None</td>\n    </tr>\n    <tr>\n      <th>42</th>\n      <td>San Diego</td>\n      <td>3317749</td>\n      <td>None</td>\n      <td>Padres</td>\n      <td>None</td>\n      <td>None</td>\n    </tr>\n    <tr>\n      <th>43</th>\n      <td>San Francisco</td>\n      <td>6657982</td>\n      <td>49ers Raiders</td>\n      <td>Giants Athletics</td>\n      <td>Warriors</td>\n      <td>Sharks</td>\n    </tr>\n    <tr>\n      <th>44</th>\n      <td>Seattle</td>\n      <td>3798902</td>\n      <td>Seahawks</td>\n      <td>Mariners</td>\n      <td>None</td>\n      <td>None</td>\n    </tr>\n    <tr>\n      <th>45</th>\n      <td>St. Louis</td>\n      <td>2807002</td>\n      <td>None</td>\n      <td>Cardinals</td>\n      <td>None</td>\n      <td>Blues</td>\n    </tr>\n    <tr>\n      <th>46</th>\n      <td>Tampa Bay</td>\n      <td>3032171</td>\n      <td>Buccaneers</td>\n      <td>Rays</td>\n      <td>None</td>\n      <td>Lightning</td>\n    </tr>\n    <tr>\n      <th>47</th>\n      <td>Toronto</td>\n      <td>5928040</td>\n      <td>None</td>\n      <td>Blue Jays</td>\n      <td>Raptors</td>\n      <td>Maple Leafs</td>\n    </tr>\n    <tr>\n      <th>48</th>\n      <td>Vancouver</td>\n      <td>2463431</td>\n      <td>None</td>\n      <td>None</td>\n      <td>None</td>\n      <td>Canucks</td>\n    </tr>\n    <tr>\n      <th>49</th>\n      <td>Washington</td>\n      <td>6131977</td>\n      <td>Redskins</td>\n      <td>Nationals</td>\n      <td>Wizards</td>\n      <td>Capitals</td>\n    </tr>\n    <tr>\n      <th>50</th>\n      <td>Winnipeg</td>\n      <td>778489</td>\n      <td>None</td>\n      <td>None</td>\n      <td>None</td>\n      <td>Jets</td>\n    </tr>\n  </tbody>\n</table>\n</div>"
     },
     "metadata": {},
     "execution_count": 314
    }
   ],
   "source": [
    "city_replace = {'Dallas–Fort Worth':'Dallas','Miami–Fort Lauderdale':'Miami','Minneapolis–Saint Paul':'Minneapolis','New York City':'New York','San Francisco Bay Area':'San Francisco','Tampa Bay Area':'Tampa Bay','Washington, D.C.':'Washington','':'None','—':'None','— ':'None'}\n",
    "#row above does some name cleaning for the cities\n",
    "cities.replace(to_replace=city_replace,value = None, inplace=True)\n",
    "cities #this is the cleaned database for cities and their teams"
   ]
  },
  {
   "cell_type": "code",
   "execution_count": 315,
   "metadata": {},
   "outputs": [],
   "source": [
    "nhl_df = nhl_df[nhl_df['year'] == 2018] #take only year 2018"
   ]
  },
  {
   "cell_type": "code",
   "execution_count": 316,
   "metadata": {},
   "outputs": [],
   "source": [
    "nhl_df.drop([0,5,10,15,20,25,30,35], axis = 0, inplace= True)\n",
    "nhl_df = nhl_df[['team','W','L',]] #take only the important stuff\n",
    "replace_nhl = {'New England':'Boston','Carolina':'Charlotte','Minnesota':'Minneapolis','Tennessee':'Nashville','Arizona':'Phoenix','Oakland':'San Francisco'}\n",
    "for i in nhl_df.columns:\n",
    "    nhl_df[i] = nhl_df[i].str.strip()"
   ]
  },
  {
   "cell_type": "code",
   "execution_count": 317,
   "metadata": {},
   "outputs": [
    {
     "output_type": "execute_result",
     "data": {
      "text/plain": [
       "     W   L        Team           City\n",
       "1   11   5    Patriots    New England\n",
       "2    7   9    Dolphins          Miami\n",
       "3    6  10       Bills        Buffalo\n",
       "4    4  12        Jets       New York\n",
       "6   10   6      Ravens      Baltimore\n",
       "7    9   6    Steelers     Pittsburgh\n",
       "8    7   8      Browns      Cleveland\n",
       "9    6  10     Bengals     Cincinnati\n",
       "11  11   5      Texans        Houston\n",
       "12  10   6       Colts   Indianapolis\n",
       "13   9   7      Titans      Tennessee\n",
       "14   5  11     Jaguars   Jacksonville\n",
       "16  12   4      Chiefs    Kansas City\n",
       "17  12   4    Chargers    Los Angeles\n",
       "18   6  10     Broncos         Denver\n",
       "19   4  12     Raiders        Oakland\n",
       "21  10   6     Cowboys         Dallas\n",
       "22   9   7      Eagles   Philadelphia\n",
       "23   7   9    Redskins     Washington\n",
       "24   5  11      Giants       New York\n",
       "26  12   4       Bears        Chicago\n",
       "27   8   7     Vikings      Minnesota\n",
       "28   6   9     Packers      Green Bay\n",
       "29   6  10       Lions        Detroit\n",
       "31  13   3      Saints    New Orleans\n",
       "32   7   9    Panthers       Carolina\n",
       "33   7   9     Falcons        Atlanta\n",
       "34   5  11  Buccaneers      Tampa Bay\n",
       "36  13   3        Rams    Los Angeles\n",
       "37  10   6    Seahawks        Seattle\n",
       "38   4  12       49ers  San Francisco\n",
       "39   3  13   Cardinals        Arizona"
      ],
      "text/html": "<div>\n<style scoped>\n    .dataframe tbody tr th:only-of-type {\n        vertical-align: middle;\n    }\n\n    .dataframe tbody tr th {\n        vertical-align: top;\n    }\n\n    .dataframe thead th {\n        text-align: right;\n    }\n</style>\n<table border=\"1\" class=\"dataframe\">\n  <thead>\n    <tr style=\"text-align: right;\">\n      <th></th>\n      <th>W</th>\n      <th>L</th>\n      <th>Team</th>\n      <th>City</th>\n    </tr>\n  </thead>\n  <tbody>\n    <tr>\n      <th>1</th>\n      <td>11</td>\n      <td>5</td>\n      <td>Patriots</td>\n      <td>New England</td>\n    </tr>\n    <tr>\n      <th>2</th>\n      <td>7</td>\n      <td>9</td>\n      <td>Dolphins</td>\n      <td>Miami</td>\n    </tr>\n    <tr>\n      <th>3</th>\n      <td>6</td>\n      <td>10</td>\n      <td>Bills</td>\n      <td>Buffalo</td>\n    </tr>\n    <tr>\n      <th>4</th>\n      <td>4</td>\n      <td>12</td>\n      <td>Jets</td>\n      <td>New York</td>\n    </tr>\n    <tr>\n      <th>6</th>\n      <td>10</td>\n      <td>6</td>\n      <td>Ravens</td>\n      <td>Baltimore</td>\n    </tr>\n    <tr>\n      <th>7</th>\n      <td>9</td>\n      <td>6</td>\n      <td>Steelers</td>\n      <td>Pittsburgh</td>\n    </tr>\n    <tr>\n      <th>8</th>\n      <td>7</td>\n      <td>8</td>\n      <td>Browns</td>\n      <td>Cleveland</td>\n    </tr>\n    <tr>\n      <th>9</th>\n      <td>6</td>\n      <td>10</td>\n      <td>Bengals</td>\n      <td>Cincinnati</td>\n    </tr>\n    <tr>\n      <th>11</th>\n      <td>11</td>\n      <td>5</td>\n      <td>Texans</td>\n      <td>Houston</td>\n    </tr>\n    <tr>\n      <th>12</th>\n      <td>10</td>\n      <td>6</td>\n      <td>Colts</td>\n      <td>Indianapolis</td>\n    </tr>\n    <tr>\n      <th>13</th>\n      <td>9</td>\n      <td>7</td>\n      <td>Titans</td>\n      <td>Tennessee</td>\n    </tr>\n    <tr>\n      <th>14</th>\n      <td>5</td>\n      <td>11</td>\n      <td>Jaguars</td>\n      <td>Jacksonville</td>\n    </tr>\n    <tr>\n      <th>16</th>\n      <td>12</td>\n      <td>4</td>\n      <td>Chiefs</td>\n      <td>Kansas City</td>\n    </tr>\n    <tr>\n      <th>17</th>\n      <td>12</td>\n      <td>4</td>\n      <td>Chargers</td>\n      <td>Los Angeles</td>\n    </tr>\n    <tr>\n      <th>18</th>\n      <td>6</td>\n      <td>10</td>\n      <td>Broncos</td>\n      <td>Denver</td>\n    </tr>\n    <tr>\n      <th>19</th>\n      <td>4</td>\n      <td>12</td>\n      <td>Raiders</td>\n      <td>Oakland</td>\n    </tr>\n    <tr>\n      <th>21</th>\n      <td>10</td>\n      <td>6</td>\n      <td>Cowboys</td>\n      <td>Dallas</td>\n    </tr>\n    <tr>\n      <th>22</th>\n      <td>9</td>\n      <td>7</td>\n      <td>Eagles</td>\n      <td>Philadelphia</td>\n    </tr>\n    <tr>\n      <th>23</th>\n      <td>7</td>\n      <td>9</td>\n      <td>Redskins</td>\n      <td>Washington</td>\n    </tr>\n    <tr>\n      <th>24</th>\n      <td>5</td>\n      <td>11</td>\n      <td>Giants</td>\n      <td>New York</td>\n    </tr>\n    <tr>\n      <th>26</th>\n      <td>12</td>\n      <td>4</td>\n      <td>Bears</td>\n      <td>Chicago</td>\n    </tr>\n    <tr>\n      <th>27</th>\n      <td>8</td>\n      <td>7</td>\n      <td>Vikings</td>\n      <td>Minnesota</td>\n    </tr>\n    <tr>\n      <th>28</th>\n      <td>6</td>\n      <td>9</td>\n      <td>Packers</td>\n      <td>Green Bay</td>\n    </tr>\n    <tr>\n      <th>29</th>\n      <td>6</td>\n      <td>10</td>\n      <td>Lions</td>\n      <td>Detroit</td>\n    </tr>\n    <tr>\n      <th>31</th>\n      <td>13</td>\n      <td>3</td>\n      <td>Saints</td>\n      <td>New Orleans</td>\n    </tr>\n    <tr>\n      <th>32</th>\n      <td>7</td>\n      <td>9</td>\n      <td>Panthers</td>\n      <td>Carolina</td>\n    </tr>\n    <tr>\n      <th>33</th>\n      <td>7</td>\n      <td>9</td>\n      <td>Falcons</td>\n      <td>Atlanta</td>\n    </tr>\n    <tr>\n      <th>34</th>\n      <td>5</td>\n      <td>11</td>\n      <td>Buccaneers</td>\n      <td>Tampa Bay</td>\n    </tr>\n    <tr>\n      <th>36</th>\n      <td>13</td>\n      <td>3</td>\n      <td>Rams</td>\n      <td>Los Angeles</td>\n    </tr>\n    <tr>\n      <th>37</th>\n      <td>10</td>\n      <td>6</td>\n      <td>Seahawks</td>\n      <td>Seattle</td>\n    </tr>\n    <tr>\n      <th>38</th>\n      <td>4</td>\n      <td>12</td>\n      <td>49ers</td>\n      <td>San Francisco</td>\n    </tr>\n    <tr>\n      <th>39</th>\n      <td>3</td>\n      <td>13</td>\n      <td>Cardinals</td>\n      <td>Arizona</td>\n    </tr>\n  </tbody>\n</table>\n</div>"
     },
     "metadata": {},
     "execution_count": 317
    }
   ],
   "source": [
    "apply_cleaning(functions, nhl_df, list(nhl_df.columns)) #clean the database\n",
    "def splitname(row):\n",
    "    row['Team']=row['team'].split(\" \")[-1]\n",
    "    s=row['team'].split(\" \")[:-1]\n",
    "    row['City']=' '.join(map(str, s)) #make it a single string instead of a list\n",
    "    return row\n",
    "\n",
    "nhl_df=nhl_df.apply(splitname, axis='columns')  #separe teams from cities\n",
    "del(nhl_df['team'])\n",
    "nhl_df"
   ]
  },
  {
   "cell_type": "code",
   "execution_count": 318,
   "metadata": {},
   "outputs": [
    {
     "output_type": "execute_result",
     "data": {
      "text/plain": [
       "                W   L        Team\n",
       "City                             \n",
       "Atlanta         7   9     Falcons\n",
       "Baltimore      10   6      Ravens\n",
       "Boston         11   5    Patriots\n",
       "Buffalo         6  10       Bills\n",
       "Charlotte       7   9    Panthers\n",
       "Chicago        12   4       Bears\n",
       "Cincinnati      6  10     Bengals\n",
       "Cleveland       7   8      Browns\n",
       "Dallas         10   6     Cowboys\n",
       "Denver          6  10     Broncos\n",
       "Detroit         6  10       Lions\n",
       "Green Bay       6   9     Packers\n",
       "Houston        11   5      Texans\n",
       "Indianapolis   10   6       Colts\n",
       "Jacksonville    5  11     Jaguars\n",
       "Kansas City    12   4      Chiefs\n",
       "Los Angeles    13   3        Rams\n",
       "Los Angeles    12   4    Chargers\n",
       "Miami           7   9    Dolphins\n",
       "Minneapolis     8   7     Vikings\n",
       "Nashville       9   7      Titans\n",
       "New Orleans    13   3      Saints\n",
       "New York        5  11      Giants\n",
       "New York        4  12        Jets\n",
       "Philadelphia    9   7      Eagles\n",
       "Phoenix         3  13   Cardinals\n",
       "Pittsburgh      9   6    Steelers\n",
       "San Francisco   4  12       49ers\n",
       "San Francisco   4  12     Raiders\n",
       "Seattle        10   6    Seahawks\n",
       "Tampa Bay       5  11  Buccaneers\n",
       "Washington      7   9    Redskins"
      ],
      "text/html": "<div>\n<style scoped>\n    .dataframe tbody tr th:only-of-type {\n        vertical-align: middle;\n    }\n\n    .dataframe tbody tr th {\n        vertical-align: top;\n    }\n\n    .dataframe thead th {\n        text-align: right;\n    }\n</style>\n<table border=\"1\" class=\"dataframe\">\n  <thead>\n    <tr style=\"text-align: right;\">\n      <th></th>\n      <th>W</th>\n      <th>L</th>\n      <th>Team</th>\n    </tr>\n    <tr>\n      <th>City</th>\n      <th></th>\n      <th></th>\n      <th></th>\n    </tr>\n  </thead>\n  <tbody>\n    <tr>\n      <th>Atlanta</th>\n      <td>7</td>\n      <td>9</td>\n      <td>Falcons</td>\n    </tr>\n    <tr>\n      <th>Baltimore</th>\n      <td>10</td>\n      <td>6</td>\n      <td>Ravens</td>\n    </tr>\n    <tr>\n      <th>Boston</th>\n      <td>11</td>\n      <td>5</td>\n      <td>Patriots</td>\n    </tr>\n    <tr>\n      <th>Buffalo</th>\n      <td>6</td>\n      <td>10</td>\n      <td>Bills</td>\n    </tr>\n    <tr>\n      <th>Charlotte</th>\n      <td>7</td>\n      <td>9</td>\n      <td>Panthers</td>\n    </tr>\n    <tr>\n      <th>Chicago</th>\n      <td>12</td>\n      <td>4</td>\n      <td>Bears</td>\n    </tr>\n    <tr>\n      <th>Cincinnati</th>\n      <td>6</td>\n      <td>10</td>\n      <td>Bengals</td>\n    </tr>\n    <tr>\n      <th>Cleveland</th>\n      <td>7</td>\n      <td>8</td>\n      <td>Browns</td>\n    </tr>\n    <tr>\n      <th>Dallas</th>\n      <td>10</td>\n      <td>6</td>\n      <td>Cowboys</td>\n    </tr>\n    <tr>\n      <th>Denver</th>\n      <td>6</td>\n      <td>10</td>\n      <td>Broncos</td>\n    </tr>\n    <tr>\n      <th>Detroit</th>\n      <td>6</td>\n      <td>10</td>\n      <td>Lions</td>\n    </tr>\n    <tr>\n      <th>Green Bay</th>\n      <td>6</td>\n      <td>9</td>\n      <td>Packers</td>\n    </tr>\n    <tr>\n      <th>Houston</th>\n      <td>11</td>\n      <td>5</td>\n      <td>Texans</td>\n    </tr>\n    <tr>\n      <th>Indianapolis</th>\n      <td>10</td>\n      <td>6</td>\n      <td>Colts</td>\n    </tr>\n    <tr>\n      <th>Jacksonville</th>\n      <td>5</td>\n      <td>11</td>\n      <td>Jaguars</td>\n    </tr>\n    <tr>\n      <th>Kansas City</th>\n      <td>12</td>\n      <td>4</td>\n      <td>Chiefs</td>\n    </tr>\n    <tr>\n      <th>Los Angeles</th>\n      <td>13</td>\n      <td>3</td>\n      <td>Rams</td>\n    </tr>\n    <tr>\n      <th>Los Angeles</th>\n      <td>12</td>\n      <td>4</td>\n      <td>Chargers</td>\n    </tr>\n    <tr>\n      <th>Miami</th>\n      <td>7</td>\n      <td>9</td>\n      <td>Dolphins</td>\n    </tr>\n    <tr>\n      <th>Minneapolis</th>\n      <td>8</td>\n      <td>7</td>\n      <td>Vikings</td>\n    </tr>\n    <tr>\n      <th>Nashville</th>\n      <td>9</td>\n      <td>7</td>\n      <td>Titans</td>\n    </tr>\n    <tr>\n      <th>New Orleans</th>\n      <td>13</td>\n      <td>3</td>\n      <td>Saints</td>\n    </tr>\n    <tr>\n      <th>New York</th>\n      <td>5</td>\n      <td>11</td>\n      <td>Giants</td>\n    </tr>\n    <tr>\n      <th>New York</th>\n      <td>4</td>\n      <td>12</td>\n      <td>Jets</td>\n    </tr>\n    <tr>\n      <th>Philadelphia</th>\n      <td>9</td>\n      <td>7</td>\n      <td>Eagles</td>\n    </tr>\n    <tr>\n      <th>Phoenix</th>\n      <td>3</td>\n      <td>13</td>\n      <td>Cardinals</td>\n    </tr>\n    <tr>\n      <th>Pittsburgh</th>\n      <td>9</td>\n      <td>6</td>\n      <td>Steelers</td>\n    </tr>\n    <tr>\n      <th>San Francisco</th>\n      <td>4</td>\n      <td>12</td>\n      <td>49ers</td>\n    </tr>\n    <tr>\n      <th>San Francisco</th>\n      <td>4</td>\n      <td>12</td>\n      <td>Raiders</td>\n    </tr>\n    <tr>\n      <th>Seattle</th>\n      <td>10</td>\n      <td>6</td>\n      <td>Seahawks</td>\n    </tr>\n    <tr>\n      <th>Tampa Bay</th>\n      <td>5</td>\n      <td>11</td>\n      <td>Buccaneers</td>\n    </tr>\n    <tr>\n      <th>Washington</th>\n      <td>7</td>\n      <td>9</td>\n      <td>Redskins</td>\n    </tr>\n  </tbody>\n</table>\n</div>"
     },
     "metadata": {},
     "execution_count": 318
    }
   ],
   "source": [
    "nhl_df.replace(to_replace=replace_nhl,value=None,inplace=True) #clean \"special\" teams' names\n",
    "nhl_df = nhl_df.set_index('City')\n",
    "nhl_df.sort_values('City', axis=0, inplace=True)\n",
    "nhl_df"
   ]
  },
  {
   "cell_type": "code",
   "execution_count": 319,
   "metadata": {},
   "outputs": [
    {
     "output_type": "stream",
     "name": "stdout",
     "text": [
      "nr of cities: 29, nr of NFL teams: 32\n"
     ]
    }
   ],
   "source": [
    "cities_nhl = cities[cities[big4] != 'None'] #take all the cities that have a \"NBA\" team\n",
    "cities_nhl = cities_nhl[['Metropolitan area','Population',big4]] # filter only interesting parameters\n",
    "cities_nhl = cities_nhl.set_index('Metropolitan area') \n",
    "cities_nhl.index.rename('City', inplace=True) \n",
    "print('nr of cities: {}, nr of {} teams: {}'.format(cities_nhl.shape[0],big4,nhl_df.shape[0]))"
   ]
  },
  {
   "source": [
    "### This passage here is to check for manual cleaning"
   ],
   "cell_type": "markdown",
   "metadata": {}
  },
  {
   "cell_type": "code",
   "execution_count": 320,
   "metadata": {},
   "outputs": [
    {
     "output_type": "execute_result",
     "data": {
      "text/plain": [
       "Empty DataFrame\n",
       "Columns: [W, L, Team]\n",
       "Index: []"
      ],
      "text/html": "<div>\n<style scoped>\n    .dataframe tbody tr th:only-of-type {\n        vertical-align: middle;\n    }\n\n    .dataframe tbody tr th {\n        vertical-align: top;\n    }\n\n    .dataframe thead th {\n        text-align: right;\n    }\n</style>\n<table border=\"1\" class=\"dataframe\">\n  <thead>\n    <tr style=\"text-align: right;\">\n      <th></th>\n      <th>W</th>\n      <th>L</th>\n      <th>Team</th>\n    </tr>\n    <tr>\n      <th>City</th>\n      <th></th>\n      <th></th>\n      <th></th>\n    </tr>\n  </thead>\n  <tbody>\n  </tbody>\n</table>\n</div>"
     },
     "metadata": {},
     "execution_count": 320
    }
   ],
   "source": [
    "#cities_nhl[~cities_nhl.index.isin(nhl_df.index)] #show cities that are not in the NBA dataframe\n",
    "nhl_df[~nhl_df.index.isin(cities_nhl.index)] #Check what cities are not matching the names"
   ]
  },
  {
   "cell_type": "code",
   "execution_count": 321,
   "metadata": {},
   "outputs": [
    {
     "output_type": "stream",
     "name": "stdout",
     "text": [
      "(32, 5)\n"
     ]
    },
    {
     "output_type": "execute_result",
     "data": {
      "text/plain": [
       "              Population   W   L        Team  W/L Ratio\n",
       "City                                                   \n",
       "Atlanta          5789700   7   9     Falcons   0.437500\n",
       "Baltimore        2798886  10   6      Ravens   0.625000\n",
       "Boston           4794447  11   5    Patriots   0.687500\n",
       "Buffalo          1132804   6  10       Bills   0.375000\n",
       "Charlotte        2474314   7   9    Panthers   0.437500\n",
       "Chicago          9512999  12   4       Bears   0.750000\n",
       "Cincinnati       2165139   6  10     Bengals   0.375000\n",
       "Cleveland        2055612   7   8      Browns   0.466667\n",
       "Dallas           7233323  10   6     Cowboys   0.625000\n",
       "Denver           2853077   6  10     Broncos   0.375000\n",
       "Detroit          4297617   6  10       Lions   0.375000\n",
       "Green Bay         318236   6   9     Packers   0.400000\n",
       "Houston          6772470  11   5      Texans   0.687500\n",
       "Indianapolis     2004230  10   6       Colts   0.625000\n",
       "Jacksonville     1478212   5  11     Jaguars   0.312500\n",
       "Kansas City      2104509  12   4      Chiefs   0.750000\n",
       "Los Angeles     13310447  13   3        Rams   0.812500\n",
       "Los Angeles     13310447  12   4    Chargers   0.750000\n",
       "Miami            6066387   7   9    Dolphins   0.437500\n",
       "Minneapolis      3551036   8   7     Vikings   0.533333\n",
       "Nashville        1865298   9   7      Titans   0.562500\n",
       "New Orleans      1268883  13   3      Saints   0.812500\n",
       "New York        20153634   5  11      Giants   0.312500\n",
       "New York        20153634   4  12        Jets   0.250000\n",
       "Philadelphia     6070500   9   7      Eagles   0.562500\n",
       "Phoenix          4661537   3  13   Cardinals   0.187500\n",
       "Pittsburgh       2342299   9   6    Steelers   0.600000\n",
       "San Francisco    6657982   4  12       49ers   0.250000\n",
       "San Francisco    6657982   4  12     Raiders   0.250000\n",
       "Seattle          3798902  10   6    Seahawks   0.625000\n",
       "Tampa Bay        3032171   5  11  Buccaneers   0.312500\n",
       "Washington       6131977   7   9    Redskins   0.437500"
      ],
      "text/html": "<div>\n<style scoped>\n    .dataframe tbody tr th:only-of-type {\n        vertical-align: middle;\n    }\n\n    .dataframe tbody tr th {\n        vertical-align: top;\n    }\n\n    .dataframe thead th {\n        text-align: right;\n    }\n</style>\n<table border=\"1\" class=\"dataframe\">\n  <thead>\n    <tr style=\"text-align: right;\">\n      <th></th>\n      <th>Population</th>\n      <th>W</th>\n      <th>L</th>\n      <th>Team</th>\n      <th>W/L Ratio</th>\n    </tr>\n    <tr>\n      <th>City</th>\n      <th></th>\n      <th></th>\n      <th></th>\n      <th></th>\n      <th></th>\n    </tr>\n  </thead>\n  <tbody>\n    <tr>\n      <th>Atlanta</th>\n      <td>5789700</td>\n      <td>7</td>\n      <td>9</td>\n      <td>Falcons</td>\n      <td>0.437500</td>\n    </tr>\n    <tr>\n      <th>Baltimore</th>\n      <td>2798886</td>\n      <td>10</td>\n      <td>6</td>\n      <td>Ravens</td>\n      <td>0.625000</td>\n    </tr>\n    <tr>\n      <th>Boston</th>\n      <td>4794447</td>\n      <td>11</td>\n      <td>5</td>\n      <td>Patriots</td>\n      <td>0.687500</td>\n    </tr>\n    <tr>\n      <th>Buffalo</th>\n      <td>1132804</td>\n      <td>6</td>\n      <td>10</td>\n      <td>Bills</td>\n      <td>0.375000</td>\n    </tr>\n    <tr>\n      <th>Charlotte</th>\n      <td>2474314</td>\n      <td>7</td>\n      <td>9</td>\n      <td>Panthers</td>\n      <td>0.437500</td>\n    </tr>\n    <tr>\n      <th>Chicago</th>\n      <td>9512999</td>\n      <td>12</td>\n      <td>4</td>\n      <td>Bears</td>\n      <td>0.750000</td>\n    </tr>\n    <tr>\n      <th>Cincinnati</th>\n      <td>2165139</td>\n      <td>6</td>\n      <td>10</td>\n      <td>Bengals</td>\n      <td>0.375000</td>\n    </tr>\n    <tr>\n      <th>Cleveland</th>\n      <td>2055612</td>\n      <td>7</td>\n      <td>8</td>\n      <td>Browns</td>\n      <td>0.466667</td>\n    </tr>\n    <tr>\n      <th>Dallas</th>\n      <td>7233323</td>\n      <td>10</td>\n      <td>6</td>\n      <td>Cowboys</td>\n      <td>0.625000</td>\n    </tr>\n    <tr>\n      <th>Denver</th>\n      <td>2853077</td>\n      <td>6</td>\n      <td>10</td>\n      <td>Broncos</td>\n      <td>0.375000</td>\n    </tr>\n    <tr>\n      <th>Detroit</th>\n      <td>4297617</td>\n      <td>6</td>\n      <td>10</td>\n      <td>Lions</td>\n      <td>0.375000</td>\n    </tr>\n    <tr>\n      <th>Green Bay</th>\n      <td>318236</td>\n      <td>6</td>\n      <td>9</td>\n      <td>Packers</td>\n      <td>0.400000</td>\n    </tr>\n    <tr>\n      <th>Houston</th>\n      <td>6772470</td>\n      <td>11</td>\n      <td>5</td>\n      <td>Texans</td>\n      <td>0.687500</td>\n    </tr>\n    <tr>\n      <th>Indianapolis</th>\n      <td>2004230</td>\n      <td>10</td>\n      <td>6</td>\n      <td>Colts</td>\n      <td>0.625000</td>\n    </tr>\n    <tr>\n      <th>Jacksonville</th>\n      <td>1478212</td>\n      <td>5</td>\n      <td>11</td>\n      <td>Jaguars</td>\n      <td>0.312500</td>\n    </tr>\n    <tr>\n      <th>Kansas City</th>\n      <td>2104509</td>\n      <td>12</td>\n      <td>4</td>\n      <td>Chiefs</td>\n      <td>0.750000</td>\n    </tr>\n    <tr>\n      <th>Los Angeles</th>\n      <td>13310447</td>\n      <td>13</td>\n      <td>3</td>\n      <td>Rams</td>\n      <td>0.812500</td>\n    </tr>\n    <tr>\n      <th>Los Angeles</th>\n      <td>13310447</td>\n      <td>12</td>\n      <td>4</td>\n      <td>Chargers</td>\n      <td>0.750000</td>\n    </tr>\n    <tr>\n      <th>Miami</th>\n      <td>6066387</td>\n      <td>7</td>\n      <td>9</td>\n      <td>Dolphins</td>\n      <td>0.437500</td>\n    </tr>\n    <tr>\n      <th>Minneapolis</th>\n      <td>3551036</td>\n      <td>8</td>\n      <td>7</td>\n      <td>Vikings</td>\n      <td>0.533333</td>\n    </tr>\n    <tr>\n      <th>Nashville</th>\n      <td>1865298</td>\n      <td>9</td>\n      <td>7</td>\n      <td>Titans</td>\n      <td>0.562500</td>\n    </tr>\n    <tr>\n      <th>New Orleans</th>\n      <td>1268883</td>\n      <td>13</td>\n      <td>3</td>\n      <td>Saints</td>\n      <td>0.812500</td>\n    </tr>\n    <tr>\n      <th>New York</th>\n      <td>20153634</td>\n      <td>5</td>\n      <td>11</td>\n      <td>Giants</td>\n      <td>0.312500</td>\n    </tr>\n    <tr>\n      <th>New York</th>\n      <td>20153634</td>\n      <td>4</td>\n      <td>12</td>\n      <td>Jets</td>\n      <td>0.250000</td>\n    </tr>\n    <tr>\n      <th>Philadelphia</th>\n      <td>6070500</td>\n      <td>9</td>\n      <td>7</td>\n      <td>Eagles</td>\n      <td>0.562500</td>\n    </tr>\n    <tr>\n      <th>Phoenix</th>\n      <td>4661537</td>\n      <td>3</td>\n      <td>13</td>\n      <td>Cardinals</td>\n      <td>0.187500</td>\n    </tr>\n    <tr>\n      <th>Pittsburgh</th>\n      <td>2342299</td>\n      <td>9</td>\n      <td>6</td>\n      <td>Steelers</td>\n      <td>0.600000</td>\n    </tr>\n    <tr>\n      <th>San Francisco</th>\n      <td>6657982</td>\n      <td>4</td>\n      <td>12</td>\n      <td>49ers</td>\n      <td>0.250000</td>\n    </tr>\n    <tr>\n      <th>San Francisco</th>\n      <td>6657982</td>\n      <td>4</td>\n      <td>12</td>\n      <td>Raiders</td>\n      <td>0.250000</td>\n    </tr>\n    <tr>\n      <th>Seattle</th>\n      <td>3798902</td>\n      <td>10</td>\n      <td>6</td>\n      <td>Seahawks</td>\n      <td>0.625000</td>\n    </tr>\n    <tr>\n      <th>Tampa Bay</th>\n      <td>3032171</td>\n      <td>5</td>\n      <td>11</td>\n      <td>Buccaneers</td>\n      <td>0.312500</td>\n    </tr>\n    <tr>\n      <th>Washington</th>\n      <td>6131977</td>\n      <td>7</td>\n      <td>9</td>\n      <td>Redskins</td>\n      <td>0.437500</td>\n    </tr>\n  </tbody>\n</table>\n</div>"
     },
     "metadata": {},
     "execution_count": 321
    }
   ],
   "source": [
    "cities_nhl = cities_nhl.merge(nhl_df, left_index=True, right_index=True)\n",
    "cities_nhl.drop(labels=big4, axis = 1, inplace=True)\n",
    "cities_nhl['W/L Ratio'] = cities_nhl['W'].astype('float64')/(cities_nhl['L'].astype('float64') + cities_nhl['W'].astype('float64'))\n",
    "print(cities_nhl.shape)\n",
    "cities_nhl\n"
   ]
  },
  {
   "cell_type": "code",
   "execution_count": 322,
   "metadata": {},
   "outputs": [
    {
     "output_type": "stream",
     "name": "stdout",
     "text": [
      "answer to question 1: -0.048530396034932394\n"
     ]
    }
   ],
   "source": [
    "cities_nhl['Avg. Ratio'] = cities_nhl.groupby(cities_nhl.index).agg(np.mean)\n",
    "cities_nhl['Population'] = cities_nhl['Population'].astype('int64')\n",
    "corr1 = cities_nhl['Population'].corr(cities_nhl['Avg. Ratio'],method='pearson')\n",
    "print('answer to question 1: {}'.format(corr1))"
   ]
  },
  {
   "cell_type": "code",
   "execution_count": 323,
   "metadata": {},
   "outputs": [],
   "source": [
    "ans_df = cities_nhl[['Population','Avg. Ratio']]\n",
    "ans_df.drop_duplicates(inplace=True)"
   ]
  },
  {
   "cell_type": "code",
   "execution_count": 324,
   "metadata": {},
   "outputs": [],
   "source": [
    "population_by_region = list(ans_df['Population'])\n",
    "win_loss_by_region = list(ans_df['Avg. Ratio'])"
   ]
  },
  {
   "cell_type": "code",
   "execution_count": 325,
   "metadata": {},
   "outputs": [
    {
     "output_type": "execute_result",
     "data": {
      "text/plain": [
       "0.004922112149349409"
      ]
     },
     "metadata": {},
     "execution_count": 325
    }
   ],
   "source": [
    "stats.pearsonr(population_by_region, win_loss_by_region)[0]"
   ]
  },
  {
   "cell_type": "code",
   "execution_count": 326,
   "metadata": {},
   "outputs": [],
   "source": [
    "cities_nhl.to_csv('assets/cleaned_NFL.csv')"
   ]
  }
 ]
}