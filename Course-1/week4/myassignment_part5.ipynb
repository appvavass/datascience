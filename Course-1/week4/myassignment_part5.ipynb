{
 "metadata": {
  "language_info": {
   "codemirror_mode": {
    "name": "ipython",
    "version": 3
   },
   "file_extension": ".py",
   "mimetype": "text/x-python",
   "name": "python",
   "nbconvert_exporter": "python",
   "pygments_lexer": "ipython3",
   "version": "3.8.6-candidate"
  },
  "orig_nbformat": 2,
  "kernelspec": {
   "name": "python3",
   "display_name": "Python 3",
   "language": "python"
  }
 },
 "nbformat": 4,
 "nbformat_minor": 2,
 "cells": [
  {
   "cell_type": "code",
   "execution_count": 86,
   "metadata": {},
   "outputs": [
    {
     "output_type": "execute_result",
     "data": {
      "text/plain": [
       "          Population   W   L          Team  W/L Ratio  Avg. Ratio\n",
       "City                                                             \n",
       "Boston       4794447  50  20        Bruins   0.714286    0.714286\n",
       "Buffalo      1132804  25  45        Sabres   0.357143    0.357143\n",
       "Calgary      1392609  37  35        Flames   0.513889    0.513889\n",
       "Chicago      9512999  33  39    Blackhawks   0.458333    0.458333\n",
       "Columbus     2041520  45  30  Blue Jackets   0.600000    0.600000"
      ],
      "text/html": "<div>\n<style scoped>\n    .dataframe tbody tr th:only-of-type {\n        vertical-align: middle;\n    }\n\n    .dataframe tbody tr th {\n        vertical-align: top;\n    }\n\n    .dataframe thead th {\n        text-align: right;\n    }\n</style>\n<table border=\"1\" class=\"dataframe\">\n  <thead>\n    <tr style=\"text-align: right;\">\n      <th></th>\n      <th>Population</th>\n      <th>W</th>\n      <th>L</th>\n      <th>Team</th>\n      <th>W/L Ratio</th>\n      <th>Avg. Ratio</th>\n    </tr>\n    <tr>\n      <th>City</th>\n      <th></th>\n      <th></th>\n      <th></th>\n      <th></th>\n      <th></th>\n      <th></th>\n    </tr>\n  </thead>\n  <tbody>\n    <tr>\n      <th>Boston</th>\n      <td>4794447</td>\n      <td>50</td>\n      <td>20</td>\n      <td>Bruins</td>\n      <td>0.714286</td>\n      <td>0.714286</td>\n    </tr>\n    <tr>\n      <th>Buffalo</th>\n      <td>1132804</td>\n      <td>25</td>\n      <td>45</td>\n      <td>Sabres</td>\n      <td>0.357143</td>\n      <td>0.357143</td>\n    </tr>\n    <tr>\n      <th>Calgary</th>\n      <td>1392609</td>\n      <td>37</td>\n      <td>35</td>\n      <td>Flames</td>\n      <td>0.513889</td>\n      <td>0.513889</td>\n    </tr>\n    <tr>\n      <th>Chicago</th>\n      <td>9512999</td>\n      <td>33</td>\n      <td>39</td>\n      <td>Blackhawks</td>\n      <td>0.458333</td>\n      <td>0.458333</td>\n    </tr>\n    <tr>\n      <th>Columbus</th>\n      <td>2041520</td>\n      <td>45</td>\n      <td>30</td>\n      <td>Blue Jackets</td>\n      <td>0.600000</td>\n      <td>0.600000</td>\n    </tr>\n  </tbody>\n</table>\n</div>"
     },
     "metadata": {},
     "execution_count": 86
    }
   ],
   "source": [
    "import pandas as pd\n",
    "import numpy as np\n",
    "from scipy.stats import ttest_rel\n",
    "\n",
    "NHL = pd.read_csv('assets/cleaned_NHL.csv')\n",
    "NBA = pd.read_csv('assets/cleaned_NBA.csv')\n",
    "NFL = pd.read_csv('assets/cleaned_NFL.csv')\n",
    "MLB = pd.read_csv('assets/cleaned_MLB.csv')\n",
    "\n",
    "big4 = ['MLB', 'NBA', 'NHL', 'NFL']\n",
    "big4_v = [NBA, MLB, NHL, NFL]\n",
    "\n",
    "for df in big4_v:\n",
    "    df.set_index('City', inplace = True)\n",
    "\n",
    "NHL.head()"
   ]
  },
  {
   "cell_type": "code",
   "execution_count": 87,
   "metadata": {},
   "outputs": [
    {
     "output_type": "execute_result",
     "data": {
      "text/plain": [
       "               Population   W   L         Team  W/L Ratio  Avg. Ratio\n",
       "City                                                                 \n",
       "Boston            4794447  50  20       Bruins   0.714286    0.714286\n",
       "Chicago           9512999  33  39   Blackhawks   0.458333    0.458333\n",
       "Dallas            7233323  42  32        Stars   0.567568    0.567568\n",
       "Denver            2853077  43  30    Avalanche   0.589041    0.589041\n",
       "Detroit           4297617  30  39    Red Wings   0.434783    0.434783\n",
       "Los Angeles      13310447  44  25        Ducks   0.637681    0.622895\n",
       "Los Angeles      13310447  45  29        Kings   0.608108    0.622895\n",
       "Miami             6066387  44  30     Panthers   0.594595    0.594595\n",
       "Minneapolis       3551036  45  26         Wild   0.633803    0.633803\n",
       "New York         20153634  44  29       Devils   0.602740    0.518201\n",
       "New York         20153634  34  39      Rangers   0.465753    0.518201\n",
       "New York         20153634  35  37    Islanders   0.486111    0.518201\n",
       "Philadelphia      6070500  42  26       Flyers   0.617647    0.617647\n",
       "Phoenix           4661537  29  41      Coyotes   0.414286    0.414286\n",
       "Pittsburgh        2342299  47  29     Penguins   0.618421    0.618421\n",
       "San Francisco     6657982  45  27       Sharks   0.625000    0.625000\n",
       "St. Louis         2807002  44  32        Blues   0.578947    0.578947\n",
       "Tampa Bay         3032171  54  23    Lightning   0.701299    0.701299\n",
       "Toronto           5928040  49  26  Maple Leafs   0.653333    0.653333\n",
       "Washington        6131977  49  26     Capitals   0.653333    0.653333"
      ],
      "text/html": "<div>\n<style scoped>\n    .dataframe tbody tr th:only-of-type {\n        vertical-align: middle;\n    }\n\n    .dataframe tbody tr th {\n        vertical-align: top;\n    }\n\n    .dataframe thead th {\n        text-align: right;\n    }\n</style>\n<table border=\"1\" class=\"dataframe\">\n  <thead>\n    <tr style=\"text-align: right;\">\n      <th></th>\n      <th>Population</th>\n      <th>W</th>\n      <th>L</th>\n      <th>Team</th>\n      <th>W/L Ratio</th>\n      <th>Avg. Ratio</th>\n    </tr>\n    <tr>\n      <th>City</th>\n      <th></th>\n      <th></th>\n      <th></th>\n      <th></th>\n      <th></th>\n      <th></th>\n    </tr>\n  </thead>\n  <tbody>\n    <tr>\n      <th>Boston</th>\n      <td>4794447</td>\n      <td>50</td>\n      <td>20</td>\n      <td>Bruins</td>\n      <td>0.714286</td>\n      <td>0.714286</td>\n    </tr>\n    <tr>\n      <th>Chicago</th>\n      <td>9512999</td>\n      <td>33</td>\n      <td>39</td>\n      <td>Blackhawks</td>\n      <td>0.458333</td>\n      <td>0.458333</td>\n    </tr>\n    <tr>\n      <th>Dallas</th>\n      <td>7233323</td>\n      <td>42</td>\n      <td>32</td>\n      <td>Stars</td>\n      <td>0.567568</td>\n      <td>0.567568</td>\n    </tr>\n    <tr>\n      <th>Denver</th>\n      <td>2853077</td>\n      <td>43</td>\n      <td>30</td>\n      <td>Avalanche</td>\n      <td>0.589041</td>\n      <td>0.589041</td>\n    </tr>\n    <tr>\n      <th>Detroit</th>\n      <td>4297617</td>\n      <td>30</td>\n      <td>39</td>\n      <td>Red Wings</td>\n      <td>0.434783</td>\n      <td>0.434783</td>\n    </tr>\n    <tr>\n      <th>Los Angeles</th>\n      <td>13310447</td>\n      <td>44</td>\n      <td>25</td>\n      <td>Ducks</td>\n      <td>0.637681</td>\n      <td>0.622895</td>\n    </tr>\n    <tr>\n      <th>Los Angeles</th>\n      <td>13310447</td>\n      <td>45</td>\n      <td>29</td>\n      <td>Kings</td>\n      <td>0.608108</td>\n      <td>0.622895</td>\n    </tr>\n    <tr>\n      <th>Miami</th>\n      <td>6066387</td>\n      <td>44</td>\n      <td>30</td>\n      <td>Panthers</td>\n      <td>0.594595</td>\n      <td>0.594595</td>\n    </tr>\n    <tr>\n      <th>Minneapolis</th>\n      <td>3551036</td>\n      <td>45</td>\n      <td>26</td>\n      <td>Wild</td>\n      <td>0.633803</td>\n      <td>0.633803</td>\n    </tr>\n    <tr>\n      <th>New York</th>\n      <td>20153634</td>\n      <td>44</td>\n      <td>29</td>\n      <td>Devils</td>\n      <td>0.602740</td>\n      <td>0.518201</td>\n    </tr>\n    <tr>\n      <th>New York</th>\n      <td>20153634</td>\n      <td>34</td>\n      <td>39</td>\n      <td>Rangers</td>\n      <td>0.465753</td>\n      <td>0.518201</td>\n    </tr>\n    <tr>\n      <th>New York</th>\n      <td>20153634</td>\n      <td>35</td>\n      <td>37</td>\n      <td>Islanders</td>\n      <td>0.486111</td>\n      <td>0.518201</td>\n    </tr>\n    <tr>\n      <th>Philadelphia</th>\n      <td>6070500</td>\n      <td>42</td>\n      <td>26</td>\n      <td>Flyers</td>\n      <td>0.617647</td>\n      <td>0.617647</td>\n    </tr>\n    <tr>\n      <th>Phoenix</th>\n      <td>4661537</td>\n      <td>29</td>\n      <td>41</td>\n      <td>Coyotes</td>\n      <td>0.414286</td>\n      <td>0.414286</td>\n    </tr>\n    <tr>\n      <th>Pittsburgh</th>\n      <td>2342299</td>\n      <td>47</td>\n      <td>29</td>\n      <td>Penguins</td>\n      <td>0.618421</td>\n      <td>0.618421</td>\n    </tr>\n    <tr>\n      <th>San Francisco</th>\n      <td>6657982</td>\n      <td>45</td>\n      <td>27</td>\n      <td>Sharks</td>\n      <td>0.625000</td>\n      <td>0.625000</td>\n    </tr>\n    <tr>\n      <th>St. Louis</th>\n      <td>2807002</td>\n      <td>44</td>\n      <td>32</td>\n      <td>Blues</td>\n      <td>0.578947</td>\n      <td>0.578947</td>\n    </tr>\n    <tr>\n      <th>Tampa Bay</th>\n      <td>3032171</td>\n      <td>54</td>\n      <td>23</td>\n      <td>Lightning</td>\n      <td>0.701299</td>\n      <td>0.701299</td>\n    </tr>\n    <tr>\n      <th>Toronto</th>\n      <td>5928040</td>\n      <td>49</td>\n      <td>26</td>\n      <td>Maple Leafs</td>\n      <td>0.653333</td>\n      <td>0.653333</td>\n    </tr>\n    <tr>\n      <th>Washington</th>\n      <td>6131977</td>\n      <td>49</td>\n      <td>26</td>\n      <td>Capitals</td>\n      <td>0.653333</td>\n      <td>0.653333</td>\n    </tr>\n  </tbody>\n</table>\n</div>"
     },
     "metadata": {},
     "execution_count": 87
    }
   ],
   "source": [
    "NHL[NHL.index.isin(MLB.index)] "
   ]
  },
  {
   "cell_type": "code",
   "execution_count": 88,
   "metadata": {},
   "outputs": [
    {
     "output_type": "execute_result",
     "data": {
      "text/plain": [
       "               Population_x        W_x   L_x  ...   L_y  W/L Ratio_y  Avg. Ratio_y\n",
       "City                                          ...                                 \n",
       "Boston            4794447.0  50.000000  20.0  ...  54.0     0.666667      0.666667\n",
       "Chicago           9512999.0  33.000000  39.0  ...  84.0     0.482769      0.482769\n",
       "Dallas            7233323.0  42.000000  32.0  ...  95.0     0.413580      0.413580\n",
       "Denver            2853077.0  43.000000  30.0  ...  72.0     0.558282      0.558282\n",
       "Detroit           4297617.0  30.000000  39.0  ...  98.0     0.395062      0.395062\n",
       "Los Angeles      13310447.0  44.500000  27.0  ...  76.5     0.529122      0.529122\n",
       "Miami             6066387.0  44.000000  30.0  ...  98.0     0.391304      0.391304\n",
       "Minneapolis       3551036.0  45.000000  26.0  ...  84.0     0.481481      0.481481\n",
       "New York         20153634.0  37.666667  35.0  ...  73.5     0.546296      0.546296\n",
       "Philadelphia      6070500.0  42.000000  26.0  ...  82.0     0.493827      0.493827\n",
       "Phoenix           4661537.0  29.000000  41.0  ...  80.0     0.506173      0.506173\n",
       "Pittsburgh        2342299.0  47.000000  29.0  ...  79.0     0.509317      0.509317\n",
       "San Francisco     6657982.0  45.000000  27.0  ...  77.0     0.524691      0.524691\n",
       "St. Louis         2807002.0  44.000000  32.0  ...  74.0     0.543210      0.543210\n",
       "Tampa Bay         3032171.0  54.000000  23.0  ...  72.0     0.555556      0.555556\n",
       "Toronto           5928040.0  49.000000  26.0  ...  89.0     0.450617      0.450617\n",
       "Washington        6131977.0  49.000000  26.0  ...  80.0     0.506173      0.506173\n",
       "\n",
       "[17 rows x 10 columns]"
      ],
      "text/html": "<div>\n<style scoped>\n    .dataframe tbody tr th:only-of-type {\n        vertical-align: middle;\n    }\n\n    .dataframe tbody tr th {\n        vertical-align: top;\n    }\n\n    .dataframe thead th {\n        text-align: right;\n    }\n</style>\n<table border=\"1\" class=\"dataframe\">\n  <thead>\n    <tr style=\"text-align: right;\">\n      <th></th>\n      <th>Population_x</th>\n      <th>W_x</th>\n      <th>L_x</th>\n      <th>W/L Ratio_x</th>\n      <th>Avg. Ratio_x</th>\n      <th>Population_y</th>\n      <th>W_y</th>\n      <th>L_y</th>\n      <th>W/L Ratio_y</th>\n      <th>Avg. Ratio_y</th>\n    </tr>\n    <tr>\n      <th>City</th>\n      <th></th>\n      <th></th>\n      <th></th>\n      <th></th>\n      <th></th>\n      <th></th>\n      <th></th>\n      <th></th>\n      <th></th>\n      <th></th>\n    </tr>\n  </thead>\n  <tbody>\n    <tr>\n      <th>Boston</th>\n      <td>4794447.0</td>\n      <td>50.000000</td>\n      <td>20.0</td>\n      <td>0.714286</td>\n      <td>0.714286</td>\n      <td>4794447.0</td>\n      <td>108.0</td>\n      <td>54.0</td>\n      <td>0.666667</td>\n      <td>0.666667</td>\n    </tr>\n    <tr>\n      <th>Chicago</th>\n      <td>9512999.0</td>\n      <td>33.000000</td>\n      <td>39.0</td>\n      <td>0.458333</td>\n      <td>0.458333</td>\n      <td>9512999.0</td>\n      <td>78.5</td>\n      <td>84.0</td>\n      <td>0.482769</td>\n      <td>0.482769</td>\n    </tr>\n    <tr>\n      <th>Dallas</th>\n      <td>7233323.0</td>\n      <td>42.000000</td>\n      <td>32.0</td>\n      <td>0.567568</td>\n      <td>0.567568</td>\n      <td>7233323.0</td>\n      <td>67.0</td>\n      <td>95.0</td>\n      <td>0.413580</td>\n      <td>0.413580</td>\n    </tr>\n    <tr>\n      <th>Denver</th>\n      <td>2853077.0</td>\n      <td>43.000000</td>\n      <td>30.0</td>\n      <td>0.589041</td>\n      <td>0.589041</td>\n      <td>2853077.0</td>\n      <td>91.0</td>\n      <td>72.0</td>\n      <td>0.558282</td>\n      <td>0.558282</td>\n    </tr>\n    <tr>\n      <th>Detroit</th>\n      <td>4297617.0</td>\n      <td>30.000000</td>\n      <td>39.0</td>\n      <td>0.434783</td>\n      <td>0.434783</td>\n      <td>4297617.0</td>\n      <td>64.0</td>\n      <td>98.0</td>\n      <td>0.395062</td>\n      <td>0.395062</td>\n    </tr>\n    <tr>\n      <th>Los Angeles</th>\n      <td>13310447.0</td>\n      <td>44.500000</td>\n      <td>27.0</td>\n      <td>0.622895</td>\n      <td>0.622895</td>\n      <td>13310447.0</td>\n      <td>86.0</td>\n      <td>76.5</td>\n      <td>0.529122</td>\n      <td>0.529122</td>\n    </tr>\n    <tr>\n      <th>Miami</th>\n      <td>6066387.0</td>\n      <td>44.000000</td>\n      <td>30.0</td>\n      <td>0.594595</td>\n      <td>0.594595</td>\n      <td>6066387.0</td>\n      <td>63.0</td>\n      <td>98.0</td>\n      <td>0.391304</td>\n      <td>0.391304</td>\n    </tr>\n    <tr>\n      <th>Minneapolis</th>\n      <td>3551036.0</td>\n      <td>45.000000</td>\n      <td>26.0</td>\n      <td>0.633803</td>\n      <td>0.633803</td>\n      <td>3551036.0</td>\n      <td>78.0</td>\n      <td>84.0</td>\n      <td>0.481481</td>\n      <td>0.481481</td>\n    </tr>\n    <tr>\n      <th>New York</th>\n      <td>20153634.0</td>\n      <td>37.666667</td>\n      <td>35.0</td>\n      <td>0.518201</td>\n      <td>0.518201</td>\n      <td>20153634.0</td>\n      <td>88.5</td>\n      <td>73.5</td>\n      <td>0.546296</td>\n      <td>0.546296</td>\n    </tr>\n    <tr>\n      <th>Philadelphia</th>\n      <td>6070500.0</td>\n      <td>42.000000</td>\n      <td>26.0</td>\n      <td>0.617647</td>\n      <td>0.617647</td>\n      <td>6070500.0</td>\n      <td>80.0</td>\n      <td>82.0</td>\n      <td>0.493827</td>\n      <td>0.493827</td>\n    </tr>\n    <tr>\n      <th>Phoenix</th>\n      <td>4661537.0</td>\n      <td>29.000000</td>\n      <td>41.0</td>\n      <td>0.414286</td>\n      <td>0.414286</td>\n      <td>4661537.0</td>\n      <td>82.0</td>\n      <td>80.0</td>\n      <td>0.506173</td>\n      <td>0.506173</td>\n    </tr>\n    <tr>\n      <th>Pittsburgh</th>\n      <td>2342299.0</td>\n      <td>47.000000</td>\n      <td>29.0</td>\n      <td>0.618421</td>\n      <td>0.618421</td>\n      <td>2342299.0</td>\n      <td>82.0</td>\n      <td>79.0</td>\n      <td>0.509317</td>\n      <td>0.509317</td>\n    </tr>\n    <tr>\n      <th>San Francisco</th>\n      <td>6657982.0</td>\n      <td>45.000000</td>\n      <td>27.0</td>\n      <td>0.625000</td>\n      <td>0.625000</td>\n      <td>6657982.0</td>\n      <td>85.0</td>\n      <td>77.0</td>\n      <td>0.524691</td>\n      <td>0.524691</td>\n    </tr>\n    <tr>\n      <th>St. Louis</th>\n      <td>2807002.0</td>\n      <td>44.000000</td>\n      <td>32.0</td>\n      <td>0.578947</td>\n      <td>0.578947</td>\n      <td>2807002.0</td>\n      <td>88.0</td>\n      <td>74.0</td>\n      <td>0.543210</td>\n      <td>0.543210</td>\n    </tr>\n    <tr>\n      <th>Tampa Bay</th>\n      <td>3032171.0</td>\n      <td>54.000000</td>\n      <td>23.0</td>\n      <td>0.701299</td>\n      <td>0.701299</td>\n      <td>3032171.0</td>\n      <td>90.0</td>\n      <td>72.0</td>\n      <td>0.555556</td>\n      <td>0.555556</td>\n    </tr>\n    <tr>\n      <th>Toronto</th>\n      <td>5928040.0</td>\n      <td>49.000000</td>\n      <td>26.0</td>\n      <td>0.653333</td>\n      <td>0.653333</td>\n      <td>5928040.0</td>\n      <td>73.0</td>\n      <td>89.0</td>\n      <td>0.450617</td>\n      <td>0.450617</td>\n    </tr>\n    <tr>\n      <th>Washington</th>\n      <td>6131977.0</td>\n      <td>49.000000</td>\n      <td>26.0</td>\n      <td>0.653333</td>\n      <td>0.653333</td>\n      <td>6131977.0</td>\n      <td>82.0</td>\n      <td>80.0</td>\n      <td>0.506173</td>\n      <td>0.506173</td>\n    </tr>\n  </tbody>\n</table>\n</div>"
     },
     "metadata": {},
     "execution_count": 88
    }
   ],
   "source": [
    "combined_nhl_mlb = NHL.merge(MLB, left_index = True, right_index = True)\n",
    "combined_nhl_mlb = combined_nhl_mlb.groupby('City').apply(np.mean)\n",
    "combined_nhl_mlb"
   ]
  },
  {
   "cell_type": "code",
   "execution_count": 90,
   "metadata": {},
   "outputs": [
    {
     "output_type": "stream",
     "name": "stdout",
     "text": [
      "0.0007078407880400678\n"
     ]
    }
   ],
   "source": [
    "p_val_nhl_mlb = ttest_rel(combined_nhl_mlb['Avg. Ratio_x'], combined_nhl_mlb['Avg. Ratio_y'])[1]"
   ]
  },
  {
   "cell_type": "code",
   "execution_count": null,
   "metadata": {},
   "outputs": [],
   "source": []
  }
 ]
}