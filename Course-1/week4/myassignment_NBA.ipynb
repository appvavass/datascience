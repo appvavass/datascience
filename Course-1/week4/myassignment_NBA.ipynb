{
 "metadata": {
  "language_info": {
   "codemirror_mode": {
    "name": "ipython",
    "version": 3
   },
   "file_extension": ".py",
   "mimetype": "text/x-python",
   "name": "python",
   "nbconvert_exporter": "python",
   "pygments_lexer": "ipython3",
   "version": "3.8.6-candidate"
  },
  "orig_nbformat": 2,
  "kernelspec": {
   "name": "python3",
   "display_name": "Python 3",
   "language": "python"
  }
 },
 "nbformat": 4,
 "nbformat_minor": 2,
 "cells": [
  {
   "cell_type": "code",
   "execution_count": 217,
   "metadata": {},
   "outputs": [],
   "source": [
    "import pandas as pd\n",
    "import numpy as np\n",
    "import scipy.stats as stats\n",
    "from scipy.stats import pearsonr\n",
    "import re\n",
    "\n",
    "nhl_df=pd.read_csv(\"assets/nba.csv\")\n",
    "cities=pd.read_html(\"assets/wikipedia_data.html\")[1]\n",
    "cities=cities.iloc[:-1,[0,3,5,6,7,8]]\n",
    "\n",
    "big4 = 'NBA'"
   ]
  },
  {
   "cell_type": "code",
   "execution_count": 218,
   "metadata": {},
   "outputs": [
    {
     "output_type": "execute_result",
     "data": {
      "text/plain": [
       "  Metropolitan area Population       NFL      MLB      NBA     NHL\n",
       "0           Atlanta    5789700   Falcons   Braves    Hawks        \n",
       "1         Baltimore    2798886    Ravens  Orioles                —\n",
       "2            Boston    4794447  Patriots  Red Sox  Celtics  Bruins\n",
       "3           Buffalo    1132804     Bills                    Sabres\n",
       "4           Calgary    1392609         —        —        —  Flames"
      ],
      "text/html": "<div>\n<style scoped>\n    .dataframe tbody tr th:only-of-type {\n        vertical-align: middle;\n    }\n\n    .dataframe tbody tr th {\n        vertical-align: top;\n    }\n\n    .dataframe thead th {\n        text-align: right;\n    }\n</style>\n<table border=\"1\" class=\"dataframe\">\n  <thead>\n    <tr style=\"text-align: right;\">\n      <th></th>\n      <th>Metropolitan area</th>\n      <th>Population</th>\n      <th>NFL</th>\n      <th>MLB</th>\n      <th>NBA</th>\n      <th>NHL</th>\n    </tr>\n  </thead>\n  <tbody>\n    <tr>\n      <th>0</th>\n      <td>Atlanta</td>\n      <td>5789700</td>\n      <td>Falcons</td>\n      <td>Braves</td>\n      <td>Hawks</td>\n      <td></td>\n    </tr>\n    <tr>\n      <th>1</th>\n      <td>Baltimore</td>\n      <td>2798886</td>\n      <td>Ravens</td>\n      <td>Orioles</td>\n      <td></td>\n      <td>—</td>\n    </tr>\n    <tr>\n      <th>2</th>\n      <td>Boston</td>\n      <td>4794447</td>\n      <td>Patriots</td>\n      <td>Red Sox</td>\n      <td>Celtics</td>\n      <td>Bruins</td>\n    </tr>\n    <tr>\n      <th>3</th>\n      <td>Buffalo</td>\n      <td>1132804</td>\n      <td>Bills</td>\n      <td></td>\n      <td></td>\n      <td>Sabres</td>\n    </tr>\n    <tr>\n      <th>4</th>\n      <td>Calgary</td>\n      <td>1392609</td>\n      <td>—</td>\n      <td>—</td>\n      <td>—</td>\n      <td>Flames</td>\n    </tr>\n  </tbody>\n</table>\n</div>"
     },
     "metadata": {},
     "execution_count": 218
    }
   ],
   "source": [
    "sports = ['Metropolitan area', 'Population', 'NFL','MLB','NBA','NHL']\n",
    "cities.columns = sports \n",
    "def cleaning(item):\n",
    "    #s = re.sub('\\[.*\\]', '', item)\n",
    "    s = re.sub(r'([a-z])([A-Z])', r'\\1 \\2', item)\n",
    "    return s\n",
    "\n",
    "def cleaning_2(item):\n",
    "    s = re.sub('\\[.*\\]', '', item)\n",
    "    #s = re.sub(r'([a-z])([A-Z])', r'\\1 \\2', item)\n",
    "    return s\n",
    "\n",
    "def cleaning_3(item):\n",
    "    item.strip()\n",
    "    s = re.sub('\\**\\s\\([0-9]*\\)$', '', item)\n",
    "    return s\n",
    "\n",
    "\n",
    "def apply_cleaning(clen_fun, dataframe, columns):\n",
    "    for fun in clen_fun:\n",
    "        for col in columns:\n",
    "            dataframe[col]  = dataframe[col].apply(fun)\n",
    "    return dataframe\n",
    "\n",
    "functions = [cleaning, cleaning_2, cleaning_3]\n",
    "\n",
    "apply_cleaning(functions, cities, sports)\n",
    "cities.sort_values('Metropolitan area', axis = 0, inplace=True)\n",
    "cities.reset_index(drop=True,inplace=True)\n",
    "cities.head()"
   ]
  },
  {
   "cell_type": "code",
   "execution_count": 219,
   "metadata": {},
   "outputs": [
    {
     "output_type": "execute_result",
     "data": {
      "text/plain": [
       "   Metropolitan area Population            NFL               MLB  \\\n",
       "0            Atlanta    5789700        Falcons            Braves   \n",
       "1          Baltimore    2798886         Ravens           Orioles   \n",
       "2             Boston    4794447       Patriots           Red Sox   \n",
       "3            Buffalo    1132804          Bills              None   \n",
       "4            Calgary    1392609           None              None   \n",
       "5          Charlotte    2474314       Panthers              None   \n",
       "6            Chicago    9512999          Bears    Cubs White Sox   \n",
       "7         Cincinnati    2165139        Bengals              Reds   \n",
       "8          Cleveland    2055612         Browns           Indians   \n",
       "9           Columbus    2041520           None              None   \n",
       "10            Dallas    7233323        Cowboys           Rangers   \n",
       "11            Denver    2853077        Broncos           Rockies   \n",
       "12           Detroit    4297617          Lions            Tigers   \n",
       "13          Edmonton    1321426           None              None   \n",
       "14         Green Bay     318236        Packers              None   \n",
       "15          Hamilton     747545           None              None   \n",
       "16           Houston    6772470         Texans            Astros   \n",
       "17      Indianapolis    2004230          Colts              None   \n",
       "18      Jacksonville    1478212        Jaguars              None   \n",
       "19       Kansas City    2104509         Chiefs            Royals   \n",
       "20         Las Vegas    2155664           None              None   \n",
       "21       Los Angeles   13310447  Rams Chargers    Dodgers Angels   \n",
       "22           Memphis    1342842           None              None   \n",
       "23             Miami    6066387       Dolphins           Marlins   \n",
       "24         Milwaukee    1572482           None           Brewers   \n",
       "25       Minneapolis    3551036        Vikings             Twins   \n",
       "26          Montreal    4098927           None              None   \n",
       "27         Nashville    1865298         Titans              None   \n",
       "28       New Orleans    1268883         Saints              None   \n",
       "29          New York   20153634    Giants Jets      Yankees Mets   \n",
       "30     Oklahoma City    1373211           None              None   \n",
       "31           Orlando    2441257           None              None   \n",
       "32            Ottawa    1323783           None              None   \n",
       "33      Philadelphia    6070500         Eagles          Phillies   \n",
       "34           Phoenix    4661537      Cardinals      Diamondbacks   \n",
       "35        Pittsburgh    2342299       Steelers           Pirates   \n",
       "36          Portland    2424955           None              None   \n",
       "37           Raleigh    1302946           None              None   \n",
       "38            Regina     236481           None              None   \n",
       "39        Sacramento    2296418           None              None   \n",
       "40    Salt Lake City    1186187           None              None   \n",
       "41       San Antonio    2429609           None              None   \n",
       "42         San Diego    3317749           None            Padres   \n",
       "43     San Francisco    6657982  49ers Raiders  Giants Athletics   \n",
       "44           Seattle    3798902       Seahawks          Mariners   \n",
       "45         St. Louis    2807002           None         Cardinals   \n",
       "46         Tampa Bay    3032171     Buccaneers              Rays   \n",
       "47           Toronto    5928040           None         Blue Jays   \n",
       "48         Vancouver    2463431           None              None   \n",
       "49        Washington    6131977       Redskins         Nationals   \n",
       "50          Winnipeg     778489           None              None   \n",
       "\n",
       "                NBA                       NHL  \n",
       "0             Hawks                      None  \n",
       "1              None                      None  \n",
       "2           Celtics                    Bruins  \n",
       "3              None                    Sabres  \n",
       "4              None                    Flames  \n",
       "5           Hornets                      None  \n",
       "6             Bulls                Blackhawks  \n",
       "7              None                      None  \n",
       "8         Cavaliers                      None  \n",
       "9              None              Blue Jackets  \n",
       "10        Mavericks                     Stars  \n",
       "11          Nuggets                 Avalanche  \n",
       "12          Pistons                 Red Wings  \n",
       "13             None                    Oilers  \n",
       "14             None                      None  \n",
       "15             None                      None  \n",
       "16          Rockets                      None  \n",
       "17           Pacers                      None  \n",
       "18             None                      None  \n",
       "19             None                      None  \n",
       "20             None            Golden Knights  \n",
       "21  Lakers Clippers               Kings Ducks  \n",
       "22        Grizzlies                      None  \n",
       "23             Heat                  Panthers  \n",
       "24            Bucks                      None  \n",
       "25     Timberwolves                      Wild  \n",
       "26             None                 Canadiens  \n",
       "27             None                 Predators  \n",
       "28         Pelicans                      None  \n",
       "29      Knicks Nets  Rangers Islanders Devils  \n",
       "30          Thunder                      None  \n",
       "31            Magic                      None  \n",
       "32             None                  Senators  \n",
       "33            76ers                    Flyers  \n",
       "34             Suns                   Coyotes  \n",
       "35             None                  Penguins  \n",
       "36    Trail Blazers                      None  \n",
       "37             None                Hurricanes  \n",
       "38             None                      None  \n",
       "39            Kings                      None  \n",
       "40             Jazz                      None  \n",
       "41            Spurs                      None  \n",
       "42             None                      None  \n",
       "43         Warriors                    Sharks  \n",
       "44             None                      None  \n",
       "45             None                     Blues  \n",
       "46             None                 Lightning  \n",
       "47          Raptors               Maple Leafs  \n",
       "48             None                   Canucks  \n",
       "49          Wizards                  Capitals  \n",
       "50             None                      Jets  "
      ],
      "text/html": "<div>\n<style scoped>\n    .dataframe tbody tr th:only-of-type {\n        vertical-align: middle;\n    }\n\n    .dataframe tbody tr th {\n        vertical-align: top;\n    }\n\n    .dataframe thead th {\n        text-align: right;\n    }\n</style>\n<table border=\"1\" class=\"dataframe\">\n  <thead>\n    <tr style=\"text-align: right;\">\n      <th></th>\n      <th>Metropolitan area</th>\n      <th>Population</th>\n      <th>NFL</th>\n      <th>MLB</th>\n      <th>NBA</th>\n      <th>NHL</th>\n    </tr>\n  </thead>\n  <tbody>\n    <tr>\n      <th>0</th>\n      <td>Atlanta</td>\n      <td>5789700</td>\n      <td>Falcons</td>\n      <td>Braves</td>\n      <td>Hawks</td>\n      <td>None</td>\n    </tr>\n    <tr>\n      <th>1</th>\n      <td>Baltimore</td>\n      <td>2798886</td>\n      <td>Ravens</td>\n      <td>Orioles</td>\n      <td>None</td>\n      <td>None</td>\n    </tr>\n    <tr>\n      <th>2</th>\n      <td>Boston</td>\n      <td>4794447</td>\n      <td>Patriots</td>\n      <td>Red Sox</td>\n      <td>Celtics</td>\n      <td>Bruins</td>\n    </tr>\n    <tr>\n      <th>3</th>\n      <td>Buffalo</td>\n      <td>1132804</td>\n      <td>Bills</td>\n      <td>None</td>\n      <td>None</td>\n      <td>Sabres</td>\n    </tr>\n    <tr>\n      <th>4</th>\n      <td>Calgary</td>\n      <td>1392609</td>\n      <td>None</td>\n      <td>None</td>\n      <td>None</td>\n      <td>Flames</td>\n    </tr>\n    <tr>\n      <th>5</th>\n      <td>Charlotte</td>\n      <td>2474314</td>\n      <td>Panthers</td>\n      <td>None</td>\n      <td>Hornets</td>\n      <td>None</td>\n    </tr>\n    <tr>\n      <th>6</th>\n      <td>Chicago</td>\n      <td>9512999</td>\n      <td>Bears</td>\n      <td>Cubs White Sox</td>\n      <td>Bulls</td>\n      <td>Blackhawks</td>\n    </tr>\n    <tr>\n      <th>7</th>\n      <td>Cincinnati</td>\n      <td>2165139</td>\n      <td>Bengals</td>\n      <td>Reds</td>\n      <td>None</td>\n      <td>None</td>\n    </tr>\n    <tr>\n      <th>8</th>\n      <td>Cleveland</td>\n      <td>2055612</td>\n      <td>Browns</td>\n      <td>Indians</td>\n      <td>Cavaliers</td>\n      <td>None</td>\n    </tr>\n    <tr>\n      <th>9</th>\n      <td>Columbus</td>\n      <td>2041520</td>\n      <td>None</td>\n      <td>None</td>\n      <td>None</td>\n      <td>Blue Jackets</td>\n    </tr>\n    <tr>\n      <th>10</th>\n      <td>Dallas</td>\n      <td>7233323</td>\n      <td>Cowboys</td>\n      <td>Rangers</td>\n      <td>Mavericks</td>\n      <td>Stars</td>\n    </tr>\n    <tr>\n      <th>11</th>\n      <td>Denver</td>\n      <td>2853077</td>\n      <td>Broncos</td>\n      <td>Rockies</td>\n      <td>Nuggets</td>\n      <td>Avalanche</td>\n    </tr>\n    <tr>\n      <th>12</th>\n      <td>Detroit</td>\n      <td>4297617</td>\n      <td>Lions</td>\n      <td>Tigers</td>\n      <td>Pistons</td>\n      <td>Red Wings</td>\n    </tr>\n    <tr>\n      <th>13</th>\n      <td>Edmonton</td>\n      <td>1321426</td>\n      <td>None</td>\n      <td>None</td>\n      <td>None</td>\n      <td>Oilers</td>\n    </tr>\n    <tr>\n      <th>14</th>\n      <td>Green Bay</td>\n      <td>318236</td>\n      <td>Packers</td>\n      <td>None</td>\n      <td>None</td>\n      <td>None</td>\n    </tr>\n    <tr>\n      <th>15</th>\n      <td>Hamilton</td>\n      <td>747545</td>\n      <td>None</td>\n      <td>None</td>\n      <td>None</td>\n      <td>None</td>\n    </tr>\n    <tr>\n      <th>16</th>\n      <td>Houston</td>\n      <td>6772470</td>\n      <td>Texans</td>\n      <td>Astros</td>\n      <td>Rockets</td>\n      <td>None</td>\n    </tr>\n    <tr>\n      <th>17</th>\n      <td>Indianapolis</td>\n      <td>2004230</td>\n      <td>Colts</td>\n      <td>None</td>\n      <td>Pacers</td>\n      <td>None</td>\n    </tr>\n    <tr>\n      <th>18</th>\n      <td>Jacksonville</td>\n      <td>1478212</td>\n      <td>Jaguars</td>\n      <td>None</td>\n      <td>None</td>\n      <td>None</td>\n    </tr>\n    <tr>\n      <th>19</th>\n      <td>Kansas City</td>\n      <td>2104509</td>\n      <td>Chiefs</td>\n      <td>Royals</td>\n      <td>None</td>\n      <td>None</td>\n    </tr>\n    <tr>\n      <th>20</th>\n      <td>Las Vegas</td>\n      <td>2155664</td>\n      <td>None</td>\n      <td>None</td>\n      <td>None</td>\n      <td>Golden Knights</td>\n    </tr>\n    <tr>\n      <th>21</th>\n      <td>Los Angeles</td>\n      <td>13310447</td>\n      <td>Rams Chargers</td>\n      <td>Dodgers Angels</td>\n      <td>Lakers Clippers</td>\n      <td>Kings Ducks</td>\n    </tr>\n    <tr>\n      <th>22</th>\n      <td>Memphis</td>\n      <td>1342842</td>\n      <td>None</td>\n      <td>None</td>\n      <td>Grizzlies</td>\n      <td>None</td>\n    </tr>\n    <tr>\n      <th>23</th>\n      <td>Miami</td>\n      <td>6066387</td>\n      <td>Dolphins</td>\n      <td>Marlins</td>\n      <td>Heat</td>\n      <td>Panthers</td>\n    </tr>\n    <tr>\n      <th>24</th>\n      <td>Milwaukee</td>\n      <td>1572482</td>\n      <td>None</td>\n      <td>Brewers</td>\n      <td>Bucks</td>\n      <td>None</td>\n    </tr>\n    <tr>\n      <th>25</th>\n      <td>Minneapolis</td>\n      <td>3551036</td>\n      <td>Vikings</td>\n      <td>Twins</td>\n      <td>Timberwolves</td>\n      <td>Wild</td>\n    </tr>\n    <tr>\n      <th>26</th>\n      <td>Montreal</td>\n      <td>4098927</td>\n      <td>None</td>\n      <td>None</td>\n      <td>None</td>\n      <td>Canadiens</td>\n    </tr>\n    <tr>\n      <th>27</th>\n      <td>Nashville</td>\n      <td>1865298</td>\n      <td>Titans</td>\n      <td>None</td>\n      <td>None</td>\n      <td>Predators</td>\n    </tr>\n    <tr>\n      <th>28</th>\n      <td>New Orleans</td>\n      <td>1268883</td>\n      <td>Saints</td>\n      <td>None</td>\n      <td>Pelicans</td>\n      <td>None</td>\n    </tr>\n    <tr>\n      <th>29</th>\n      <td>New York</td>\n      <td>20153634</td>\n      <td>Giants Jets</td>\n      <td>Yankees Mets</td>\n      <td>Knicks Nets</td>\n      <td>Rangers Islanders Devils</td>\n    </tr>\n    <tr>\n      <th>30</th>\n      <td>Oklahoma City</td>\n      <td>1373211</td>\n      <td>None</td>\n      <td>None</td>\n      <td>Thunder</td>\n      <td>None</td>\n    </tr>\n    <tr>\n      <th>31</th>\n      <td>Orlando</td>\n      <td>2441257</td>\n      <td>None</td>\n      <td>None</td>\n      <td>Magic</td>\n      <td>None</td>\n    </tr>\n    <tr>\n      <th>32</th>\n      <td>Ottawa</td>\n      <td>1323783</td>\n      <td>None</td>\n      <td>None</td>\n      <td>None</td>\n      <td>Senators</td>\n    </tr>\n    <tr>\n      <th>33</th>\n      <td>Philadelphia</td>\n      <td>6070500</td>\n      <td>Eagles</td>\n      <td>Phillies</td>\n      <td>76ers</td>\n      <td>Flyers</td>\n    </tr>\n    <tr>\n      <th>34</th>\n      <td>Phoenix</td>\n      <td>4661537</td>\n      <td>Cardinals</td>\n      <td>Diamondbacks</td>\n      <td>Suns</td>\n      <td>Coyotes</td>\n    </tr>\n    <tr>\n      <th>35</th>\n      <td>Pittsburgh</td>\n      <td>2342299</td>\n      <td>Steelers</td>\n      <td>Pirates</td>\n      <td>None</td>\n      <td>Penguins</td>\n    </tr>\n    <tr>\n      <th>36</th>\n      <td>Portland</td>\n      <td>2424955</td>\n      <td>None</td>\n      <td>None</td>\n      <td>Trail Blazers</td>\n      <td>None</td>\n    </tr>\n    <tr>\n      <th>37</th>\n      <td>Raleigh</td>\n      <td>1302946</td>\n      <td>None</td>\n      <td>None</td>\n      <td>None</td>\n      <td>Hurricanes</td>\n    </tr>\n    <tr>\n      <th>38</th>\n      <td>Regina</td>\n      <td>236481</td>\n      <td>None</td>\n      <td>None</td>\n      <td>None</td>\n      <td>None</td>\n    </tr>\n    <tr>\n      <th>39</th>\n      <td>Sacramento</td>\n      <td>2296418</td>\n      <td>None</td>\n      <td>None</td>\n      <td>Kings</td>\n      <td>None</td>\n    </tr>\n    <tr>\n      <th>40</th>\n      <td>Salt Lake City</td>\n      <td>1186187</td>\n      <td>None</td>\n      <td>None</td>\n      <td>Jazz</td>\n      <td>None</td>\n    </tr>\n    <tr>\n      <th>41</th>\n      <td>San Antonio</td>\n      <td>2429609</td>\n      <td>None</td>\n      <td>None</td>\n      <td>Spurs</td>\n      <td>None</td>\n    </tr>\n    <tr>\n      <th>42</th>\n      <td>San Diego</td>\n      <td>3317749</td>\n      <td>None</td>\n      <td>Padres</td>\n      <td>None</td>\n      <td>None</td>\n    </tr>\n    <tr>\n      <th>43</th>\n      <td>San Francisco</td>\n      <td>6657982</td>\n      <td>49ers Raiders</td>\n      <td>Giants Athletics</td>\n      <td>Warriors</td>\n      <td>Sharks</td>\n    </tr>\n    <tr>\n      <th>44</th>\n      <td>Seattle</td>\n      <td>3798902</td>\n      <td>Seahawks</td>\n      <td>Mariners</td>\n      <td>None</td>\n      <td>None</td>\n    </tr>\n    <tr>\n      <th>45</th>\n      <td>St. Louis</td>\n      <td>2807002</td>\n      <td>None</td>\n      <td>Cardinals</td>\n      <td>None</td>\n      <td>Blues</td>\n    </tr>\n    <tr>\n      <th>46</th>\n      <td>Tampa Bay</td>\n      <td>3032171</td>\n      <td>Buccaneers</td>\n      <td>Rays</td>\n      <td>None</td>\n      <td>Lightning</td>\n    </tr>\n    <tr>\n      <th>47</th>\n      <td>Toronto</td>\n      <td>5928040</td>\n      <td>None</td>\n      <td>Blue Jays</td>\n      <td>Raptors</td>\n      <td>Maple Leafs</td>\n    </tr>\n    <tr>\n      <th>48</th>\n      <td>Vancouver</td>\n      <td>2463431</td>\n      <td>None</td>\n      <td>None</td>\n      <td>None</td>\n      <td>Canucks</td>\n    </tr>\n    <tr>\n      <th>49</th>\n      <td>Washington</td>\n      <td>6131977</td>\n      <td>Redskins</td>\n      <td>Nationals</td>\n      <td>Wizards</td>\n      <td>Capitals</td>\n    </tr>\n    <tr>\n      <th>50</th>\n      <td>Winnipeg</td>\n      <td>778489</td>\n      <td>None</td>\n      <td>None</td>\n      <td>None</td>\n      <td>Jets</td>\n    </tr>\n  </tbody>\n</table>\n</div>"
     },
     "metadata": {},
     "execution_count": 219
    }
   ],
   "source": [
    "city_replace = {'Dallas–Fort Worth':'Dallas','Miami–Fort Lauderdale':'Miami','Minneapolis–Saint Paul':'Minneapolis','New York City':'New York','San Francisco Bay Area':'San Francisco','Tampa Bay Area':'Tampa Bay','Washington, D.C.':'Washington','':'None','—':'None','— ':'None'}\n",
    "cities.replace(to_replace=city_replace,value = None, inplace=True)\n",
    "cities"
   ]
  },
  {
   "cell_type": "code",
   "execution_count": 220,
   "metadata": {},
   "outputs": [
    {
     "output_type": "stream",
     "name": "stdout",
     "text": [
      "(30, 10)\n"
     ]
    }
   ],
   "source": [
    "nhl_df = nhl_df[nhl_df['year'] == 2018]\n",
    "print(nhl_df.shape)\n",
    "#nhl_df.drop([0,9,18,26], axis = 0, inplace= True)\n",
    "nhl_df = nhl_df[['team','W','L',]]\n",
    "replace_nhl = {'Brooklyn':'New York','Minnesota':'Minneapolis','Golden State':'San Francisco','Indiana':'Indianapolis','Portland Trail':'Portland','Blazers':'Trail Blazers','Utah':'Salt Lake City'}"
   ]
  },
  {
   "cell_type": "code",
   "execution_count": 221,
   "metadata": {},
   "outputs": [
    {
     "output_type": "execute_result",
     "data": {
      "text/plain": [
       "                      team   W   L\n",
       "0          Toronto Raptors  59  23\n",
       "1           Boston Celtics  55  27\n",
       "2       Philadelphia 76ers  52  30\n",
       "3      Cleveland Cavaliers  50  32\n",
       "4           Indiana Pacers  48  34\n",
       "5               Miami Heat  44  38\n",
       "6          Milwaukee Bucks  44  38\n",
       "7       Washington Wizards  43  39\n",
       "8          Detroit Pistons  39  43\n",
       "9        Charlotte Hornets  36  46\n",
       "10         New York Knicks  29  53\n",
       "11           Brooklyn Nets  28  54\n",
       "12           Chicago Bulls  27  55\n",
       "13           Orlando Magic  25  57\n",
       "14           Atlanta Hawks  24  58\n",
       "15         Houston Rockets  65  17\n",
       "16   Golden State Warriors  58  24\n",
       "17  Portland Trail Blazers  49  33\n",
       "18   Oklahoma City Thunder  48  34\n",
       "19               Utah Jazz  48  34\n",
       "20    New Orleans Pelicans  48  34\n",
       "21       San Antonio Spurs  47  35\n",
       "22  Minnesota Timberwolves  47  35\n",
       "23          Denver Nuggets  46  36\n",
       "24    Los Angeles Clippers  42  40\n",
       "25      Los Angeles Lakers  35  47\n",
       "26        Sacramento Kings  27  55\n",
       "27        Dallas Mavericks  24  58\n",
       "28       Memphis Grizzlies  22  60\n",
       "29            Phoenix Suns  21  61"
      ],
      "text/html": "<div>\n<style scoped>\n    .dataframe tbody tr th:only-of-type {\n        vertical-align: middle;\n    }\n\n    .dataframe tbody tr th {\n        vertical-align: top;\n    }\n\n    .dataframe thead th {\n        text-align: right;\n    }\n</style>\n<table border=\"1\" class=\"dataframe\">\n  <thead>\n    <tr style=\"text-align: right;\">\n      <th></th>\n      <th>team</th>\n      <th>W</th>\n      <th>L</th>\n    </tr>\n  </thead>\n  <tbody>\n    <tr>\n      <th>0</th>\n      <td>Toronto Raptors</td>\n      <td>59</td>\n      <td>23</td>\n    </tr>\n    <tr>\n      <th>1</th>\n      <td>Boston Celtics</td>\n      <td>55</td>\n      <td>27</td>\n    </tr>\n    <tr>\n      <th>2</th>\n      <td>Philadelphia 76ers</td>\n      <td>52</td>\n      <td>30</td>\n    </tr>\n    <tr>\n      <th>3</th>\n      <td>Cleveland Cavaliers</td>\n      <td>50</td>\n      <td>32</td>\n    </tr>\n    <tr>\n      <th>4</th>\n      <td>Indiana Pacers</td>\n      <td>48</td>\n      <td>34</td>\n    </tr>\n    <tr>\n      <th>5</th>\n      <td>Miami Heat</td>\n      <td>44</td>\n      <td>38</td>\n    </tr>\n    <tr>\n      <th>6</th>\n      <td>Milwaukee Bucks</td>\n      <td>44</td>\n      <td>38</td>\n    </tr>\n    <tr>\n      <th>7</th>\n      <td>Washington Wizards</td>\n      <td>43</td>\n      <td>39</td>\n    </tr>\n    <tr>\n      <th>8</th>\n      <td>Detroit Pistons</td>\n      <td>39</td>\n      <td>43</td>\n    </tr>\n    <tr>\n      <th>9</th>\n      <td>Charlotte Hornets</td>\n      <td>36</td>\n      <td>46</td>\n    </tr>\n    <tr>\n      <th>10</th>\n      <td>New York Knicks</td>\n      <td>29</td>\n      <td>53</td>\n    </tr>\n    <tr>\n      <th>11</th>\n      <td>Brooklyn Nets</td>\n      <td>28</td>\n      <td>54</td>\n    </tr>\n    <tr>\n      <th>12</th>\n      <td>Chicago Bulls</td>\n      <td>27</td>\n      <td>55</td>\n    </tr>\n    <tr>\n      <th>13</th>\n      <td>Orlando Magic</td>\n      <td>25</td>\n      <td>57</td>\n    </tr>\n    <tr>\n      <th>14</th>\n      <td>Atlanta Hawks</td>\n      <td>24</td>\n      <td>58</td>\n    </tr>\n    <tr>\n      <th>15</th>\n      <td>Houston Rockets</td>\n      <td>65</td>\n      <td>17</td>\n    </tr>\n    <tr>\n      <th>16</th>\n      <td>Golden State Warriors</td>\n      <td>58</td>\n      <td>24</td>\n    </tr>\n    <tr>\n      <th>17</th>\n      <td>Portland Trail Blazers</td>\n      <td>49</td>\n      <td>33</td>\n    </tr>\n    <tr>\n      <th>18</th>\n      <td>Oklahoma City Thunder</td>\n      <td>48</td>\n      <td>34</td>\n    </tr>\n    <tr>\n      <th>19</th>\n      <td>Utah Jazz</td>\n      <td>48</td>\n      <td>34</td>\n    </tr>\n    <tr>\n      <th>20</th>\n      <td>New Orleans Pelicans</td>\n      <td>48</td>\n      <td>34</td>\n    </tr>\n    <tr>\n      <th>21</th>\n      <td>San Antonio Spurs</td>\n      <td>47</td>\n      <td>35</td>\n    </tr>\n    <tr>\n      <th>22</th>\n      <td>Minnesota Timberwolves</td>\n      <td>47</td>\n      <td>35</td>\n    </tr>\n    <tr>\n      <th>23</th>\n      <td>Denver Nuggets</td>\n      <td>46</td>\n      <td>36</td>\n    </tr>\n    <tr>\n      <th>24</th>\n      <td>Los Angeles Clippers</td>\n      <td>42</td>\n      <td>40</td>\n    </tr>\n    <tr>\n      <th>25</th>\n      <td>Los Angeles Lakers</td>\n      <td>35</td>\n      <td>47</td>\n    </tr>\n    <tr>\n      <th>26</th>\n      <td>Sacramento Kings</td>\n      <td>27</td>\n      <td>55</td>\n    </tr>\n    <tr>\n      <th>27</th>\n      <td>Dallas Mavericks</td>\n      <td>24</td>\n      <td>58</td>\n    </tr>\n    <tr>\n      <th>28</th>\n      <td>Memphis Grizzlies</td>\n      <td>22</td>\n      <td>60</td>\n    </tr>\n    <tr>\n      <th>29</th>\n      <td>Phoenix Suns</td>\n      <td>21</td>\n      <td>61</td>\n    </tr>\n  </tbody>\n</table>\n</div>"
     },
     "metadata": {},
     "execution_count": 221
    }
   ],
   "source": [
    "apply_cleaning(functions, nhl_df, list(nhl_df.columns))\n",
    "nhl_df"
   ]
  },
  {
   "cell_type": "code",
   "execution_count": 222,
   "metadata": {},
   "outputs": [
    {
     "output_type": "execute_result",
     "data": {
      "text/plain": [
       "                 W   L           Team\n",
       "City                                 \n",
       "Atlanta         24  58          Hawks\n",
       "Boston          55  27        Celtics\n",
       "Charlotte       36  46        Hornets\n",
       "Chicago         27  55          Bulls\n",
       "Cleveland       50  32      Cavaliers\n",
       "Dallas          24  58      Mavericks\n",
       "Denver          46  36        Nuggets\n",
       "Detroit         39  43        Pistons\n",
       "Houston         65  17        Rockets\n",
       "Indianapolis    48  34         Pacers\n",
       "Los Angeles     42  40       Clippers\n",
       "Los Angeles     35  47         Lakers\n",
       "Memphis         22  60      Grizzlies\n",
       "Miami           44  38           Heat\n",
       "Milwaukee       44  38          Bucks\n",
       "Minneapolis     47  35   Timberwolves\n",
       "New Orleans     48  34       Pelicans\n",
       "New York        28  54           Nets\n",
       "New York        29  53         Knicks\n",
       "Oklahoma City   48  34        Thunder\n",
       "Orlando         25  57          Magic\n",
       "Philadelphia    52  30          76ers\n",
       "Phoenix         21  61           Suns\n",
       "Portland        49  33  Trail Blazers\n",
       "Sacramento      27  55          Kings\n",
       "Salt Lake City  48  34           Jazz\n",
       "San Antonio     47  35          Spurs\n",
       "San Francisco   58  24       Warriors\n",
       "Toronto         59  23        Raptors\n",
       "Washington      43  39        Wizards"
      ],
      "text/html": "<div>\n<style scoped>\n    .dataframe tbody tr th:only-of-type {\n        vertical-align: middle;\n    }\n\n    .dataframe tbody tr th {\n        vertical-align: top;\n    }\n\n    .dataframe thead th {\n        text-align: right;\n    }\n</style>\n<table border=\"1\" class=\"dataframe\">\n  <thead>\n    <tr style=\"text-align: right;\">\n      <th></th>\n      <th>W</th>\n      <th>L</th>\n      <th>Team</th>\n    </tr>\n    <tr>\n      <th>City</th>\n      <th></th>\n      <th></th>\n      <th></th>\n    </tr>\n  </thead>\n  <tbody>\n    <tr>\n      <th>Atlanta</th>\n      <td>24</td>\n      <td>58</td>\n      <td>Hawks</td>\n    </tr>\n    <tr>\n      <th>Boston</th>\n      <td>55</td>\n      <td>27</td>\n      <td>Celtics</td>\n    </tr>\n    <tr>\n      <th>Charlotte</th>\n      <td>36</td>\n      <td>46</td>\n      <td>Hornets</td>\n    </tr>\n    <tr>\n      <th>Chicago</th>\n      <td>27</td>\n      <td>55</td>\n      <td>Bulls</td>\n    </tr>\n    <tr>\n      <th>Cleveland</th>\n      <td>50</td>\n      <td>32</td>\n      <td>Cavaliers</td>\n    </tr>\n    <tr>\n      <th>Dallas</th>\n      <td>24</td>\n      <td>58</td>\n      <td>Mavericks</td>\n    </tr>\n    <tr>\n      <th>Denver</th>\n      <td>46</td>\n      <td>36</td>\n      <td>Nuggets</td>\n    </tr>\n    <tr>\n      <th>Detroit</th>\n      <td>39</td>\n      <td>43</td>\n      <td>Pistons</td>\n    </tr>\n    <tr>\n      <th>Houston</th>\n      <td>65</td>\n      <td>17</td>\n      <td>Rockets</td>\n    </tr>\n    <tr>\n      <th>Indianapolis</th>\n      <td>48</td>\n      <td>34</td>\n      <td>Pacers</td>\n    </tr>\n    <tr>\n      <th>Los Angeles</th>\n      <td>42</td>\n      <td>40</td>\n      <td>Clippers</td>\n    </tr>\n    <tr>\n      <th>Los Angeles</th>\n      <td>35</td>\n      <td>47</td>\n      <td>Lakers</td>\n    </tr>\n    <tr>\n      <th>Memphis</th>\n      <td>22</td>\n      <td>60</td>\n      <td>Grizzlies</td>\n    </tr>\n    <tr>\n      <th>Miami</th>\n      <td>44</td>\n      <td>38</td>\n      <td>Heat</td>\n    </tr>\n    <tr>\n      <th>Milwaukee</th>\n      <td>44</td>\n      <td>38</td>\n      <td>Bucks</td>\n    </tr>\n    <tr>\n      <th>Minneapolis</th>\n      <td>47</td>\n      <td>35</td>\n      <td>Timberwolves</td>\n    </tr>\n    <tr>\n      <th>New Orleans</th>\n      <td>48</td>\n      <td>34</td>\n      <td>Pelicans</td>\n    </tr>\n    <tr>\n      <th>New York</th>\n      <td>28</td>\n      <td>54</td>\n      <td>Nets</td>\n    </tr>\n    <tr>\n      <th>New York</th>\n      <td>29</td>\n      <td>53</td>\n      <td>Knicks</td>\n    </tr>\n    <tr>\n      <th>Oklahoma City</th>\n      <td>48</td>\n      <td>34</td>\n      <td>Thunder</td>\n    </tr>\n    <tr>\n      <th>Orlando</th>\n      <td>25</td>\n      <td>57</td>\n      <td>Magic</td>\n    </tr>\n    <tr>\n      <th>Philadelphia</th>\n      <td>52</td>\n      <td>30</td>\n      <td>76ers</td>\n    </tr>\n    <tr>\n      <th>Phoenix</th>\n      <td>21</td>\n      <td>61</td>\n      <td>Suns</td>\n    </tr>\n    <tr>\n      <th>Portland</th>\n      <td>49</td>\n      <td>33</td>\n      <td>Trail Blazers</td>\n    </tr>\n    <tr>\n      <th>Sacramento</th>\n      <td>27</td>\n      <td>55</td>\n      <td>Kings</td>\n    </tr>\n    <tr>\n      <th>Salt Lake City</th>\n      <td>48</td>\n      <td>34</td>\n      <td>Jazz</td>\n    </tr>\n    <tr>\n      <th>San Antonio</th>\n      <td>47</td>\n      <td>35</td>\n      <td>Spurs</td>\n    </tr>\n    <tr>\n      <th>San Francisco</th>\n      <td>58</td>\n      <td>24</td>\n      <td>Warriors</td>\n    </tr>\n    <tr>\n      <th>Toronto</th>\n      <td>59</td>\n      <td>23</td>\n      <td>Raptors</td>\n    </tr>\n    <tr>\n      <th>Washington</th>\n      <td>43</td>\n      <td>39</td>\n      <td>Wizards</td>\n    </tr>\n  </tbody>\n</table>\n</div>"
     },
     "metadata": {},
     "execution_count": 222
    }
   ],
   "source": [
    "def splitname(row):\n",
    "    row['Team']=row['team'].split(\" \")[-1]\n",
    "    s=row['team'].split(\" \")[:-1]\n",
    "    row['City']=' '.join(map(str, s)) #make it a single string instead of a list\n",
    "    return row\n",
    "\n",
    "nhl_df=nhl_df.apply(splitname, axis='columns')\n",
    "del(nhl_df['team'])\n",
    "nhl_df.replace(to_replace=replace_nhl,value=None,inplace=True)\n",
    "nhl_df = nhl_df.set_index('City')\n",
    "nhl_df.sort_values('City', axis=0, inplace=True)\n",
    "nhl_df"
   ]
  },
  {
   "cell_type": "code",
   "execution_count": 223,
   "metadata": {},
   "outputs": [
    {
     "output_type": "stream",
     "name": "stdout",
     "text": [
      "nr of cities: 28, nr of NBA teams: 30\n"
     ]
    },
    {
     "output_type": "execute_result",
     "data": {
      "text/plain": [
       "               Population              NBA\n",
       "City                                      \n",
       "Atlanta           5789700            Hawks\n",
       "Boston            4794447          Celtics\n",
       "Charlotte         2474314          Hornets\n",
       "Chicago           9512999            Bulls\n",
       "Cleveland         2055612        Cavaliers\n",
       "Dallas            7233323        Mavericks\n",
       "Denver            2853077          Nuggets\n",
       "Detroit           4297617          Pistons\n",
       "Houston           6772470          Rockets\n",
       "Indianapolis      2004230           Pacers\n",
       "Los Angeles      13310447  Lakers Clippers\n",
       "Memphis           1342842        Grizzlies\n",
       "Miami             6066387             Heat\n",
       "Milwaukee         1572482            Bucks\n",
       "Minneapolis       3551036     Timberwolves\n",
       "New Orleans       1268883         Pelicans\n",
       "New York         20153634      Knicks Nets\n",
       "Oklahoma City     1373211          Thunder\n",
       "Orlando           2441257            Magic\n",
       "Philadelphia      6070500            76ers\n",
       "Phoenix           4661537             Suns\n",
       "Portland          2424955    Trail Blazers\n",
       "Sacramento        2296418            Kings\n",
       "Salt Lake City    1186187             Jazz\n",
       "San Antonio       2429609            Spurs\n",
       "San Francisco     6657982         Warriors\n",
       "Toronto           5928040          Raptors\n",
       "Washington        6131977          Wizards"
      ],
      "text/html": "<div>\n<style scoped>\n    .dataframe tbody tr th:only-of-type {\n        vertical-align: middle;\n    }\n\n    .dataframe tbody tr th {\n        vertical-align: top;\n    }\n\n    .dataframe thead th {\n        text-align: right;\n    }\n</style>\n<table border=\"1\" class=\"dataframe\">\n  <thead>\n    <tr style=\"text-align: right;\">\n      <th></th>\n      <th>Population</th>\n      <th>NBA</th>\n    </tr>\n    <tr>\n      <th>City</th>\n      <th></th>\n      <th></th>\n    </tr>\n  </thead>\n  <tbody>\n    <tr>\n      <th>Atlanta</th>\n      <td>5789700</td>\n      <td>Hawks</td>\n    </tr>\n    <tr>\n      <th>Boston</th>\n      <td>4794447</td>\n      <td>Celtics</td>\n    </tr>\n    <tr>\n      <th>Charlotte</th>\n      <td>2474314</td>\n      <td>Hornets</td>\n    </tr>\n    <tr>\n      <th>Chicago</th>\n      <td>9512999</td>\n      <td>Bulls</td>\n    </tr>\n    <tr>\n      <th>Cleveland</th>\n      <td>2055612</td>\n      <td>Cavaliers</td>\n    </tr>\n    <tr>\n      <th>Dallas</th>\n      <td>7233323</td>\n      <td>Mavericks</td>\n    </tr>\n    <tr>\n      <th>Denver</th>\n      <td>2853077</td>\n      <td>Nuggets</td>\n    </tr>\n    <tr>\n      <th>Detroit</th>\n      <td>4297617</td>\n      <td>Pistons</td>\n    </tr>\n    <tr>\n      <th>Houston</th>\n      <td>6772470</td>\n      <td>Rockets</td>\n    </tr>\n    <tr>\n      <th>Indianapolis</th>\n      <td>2004230</td>\n      <td>Pacers</td>\n    </tr>\n    <tr>\n      <th>Los Angeles</th>\n      <td>13310447</td>\n      <td>Lakers Clippers</td>\n    </tr>\n    <tr>\n      <th>Memphis</th>\n      <td>1342842</td>\n      <td>Grizzlies</td>\n    </tr>\n    <tr>\n      <th>Miami</th>\n      <td>6066387</td>\n      <td>Heat</td>\n    </tr>\n    <tr>\n      <th>Milwaukee</th>\n      <td>1572482</td>\n      <td>Bucks</td>\n    </tr>\n    <tr>\n      <th>Minneapolis</th>\n      <td>3551036</td>\n      <td>Timberwolves</td>\n    </tr>\n    <tr>\n      <th>New Orleans</th>\n      <td>1268883</td>\n      <td>Pelicans</td>\n    </tr>\n    <tr>\n      <th>New York</th>\n      <td>20153634</td>\n      <td>Knicks Nets</td>\n    </tr>\n    <tr>\n      <th>Oklahoma City</th>\n      <td>1373211</td>\n      <td>Thunder</td>\n    </tr>\n    <tr>\n      <th>Orlando</th>\n      <td>2441257</td>\n      <td>Magic</td>\n    </tr>\n    <tr>\n      <th>Philadelphia</th>\n      <td>6070500</td>\n      <td>76ers</td>\n    </tr>\n    <tr>\n      <th>Phoenix</th>\n      <td>4661537</td>\n      <td>Suns</td>\n    </tr>\n    <tr>\n      <th>Portland</th>\n      <td>2424955</td>\n      <td>Trail Blazers</td>\n    </tr>\n    <tr>\n      <th>Sacramento</th>\n      <td>2296418</td>\n      <td>Kings</td>\n    </tr>\n    <tr>\n      <th>Salt Lake City</th>\n      <td>1186187</td>\n      <td>Jazz</td>\n    </tr>\n    <tr>\n      <th>San Antonio</th>\n      <td>2429609</td>\n      <td>Spurs</td>\n    </tr>\n    <tr>\n      <th>San Francisco</th>\n      <td>6657982</td>\n      <td>Warriors</td>\n    </tr>\n    <tr>\n      <th>Toronto</th>\n      <td>5928040</td>\n      <td>Raptors</td>\n    </tr>\n    <tr>\n      <th>Washington</th>\n      <td>6131977</td>\n      <td>Wizards</td>\n    </tr>\n  </tbody>\n</table>\n</div>"
     },
     "metadata": {},
     "execution_count": 223
    }
   ],
   "source": [
    "cities_nhl = cities[cities[big4] != 'None'] #take all the cities that have a \"NBA\" team\n",
    "cities_nhl = cities_nhl[['Metropolitan area','Population',big4]] # filter only interesting parameters\n",
    "cities_nhl = cities_nhl.set_index('Metropolitan area') \n",
    "cities_nhl.index.rename('City', inplace=True) \n",
    "print('nr of cities: {}, nr of {} teams: {}'.format(cities_nhl.shape[0],big4,nhl_df.shape[0]))\n",
    "cities_nhl"
   ]
  },
  {
   "cell_type": "code",
   "execution_count": 224,
   "metadata": {},
   "outputs": [
    {
     "output_type": "execute_result",
     "data": {
      "text/plain": [
       "Empty DataFrame\n",
       "Columns: [W, L, Team]\n",
       "Index: []"
      ],
      "text/html": "<div>\n<style scoped>\n    .dataframe tbody tr th:only-of-type {\n        vertical-align: middle;\n    }\n\n    .dataframe tbody tr th {\n        vertical-align: top;\n    }\n\n    .dataframe thead th {\n        text-align: right;\n    }\n</style>\n<table border=\"1\" class=\"dataframe\">\n  <thead>\n    <tr style=\"text-align: right;\">\n      <th></th>\n      <th>W</th>\n      <th>L</th>\n      <th>Team</th>\n    </tr>\n    <tr>\n      <th>City</th>\n      <th></th>\n      <th></th>\n      <th></th>\n    </tr>\n  </thead>\n  <tbody>\n  </tbody>\n</table>\n</div>"
     },
     "metadata": {},
     "execution_count": 224
    }
   ],
   "source": [
    "#cities_nhl[~cities_nhl.index.isin(nhl_df.index)] #show cities that are not in the NBA dataframe\n",
    "nhl_df[~nhl_df.index.isin(cities_nhl.index)] #Check what cities are not matching the names"
   ]
  },
  {
   "cell_type": "code",
   "execution_count": 225,
   "metadata": {},
   "outputs": [
    {
     "output_type": "stream",
     "name": "stdout",
     "text": [
      "(30, 5)\n"
     ]
    },
    {
     "output_type": "execute_result",
     "data": {
      "text/plain": [
       "               Population   W   L           Team  W/L Ratio\n",
       "City                                                       \n",
       "Atlanta           5789700  24  58          Hawks   0.292683\n",
       "Boston            4794447  55  27        Celtics   0.670732\n",
       "Charlotte         2474314  36  46        Hornets   0.439024\n",
       "Chicago           9512999  27  55          Bulls   0.329268\n",
       "Cleveland         2055612  50  32      Cavaliers   0.609756\n",
       "Dallas            7233323  24  58      Mavericks   0.292683\n",
       "Denver            2853077  46  36        Nuggets   0.560976\n",
       "Detroit           4297617  39  43        Pistons   0.475610\n",
       "Houston           6772470  65  17        Rockets   0.792683\n",
       "Indianapolis      2004230  48  34         Pacers   0.585366\n",
       "Los Angeles      13310447  42  40       Clippers   0.512195\n",
       "Los Angeles      13310447  35  47         Lakers   0.426829\n",
       "Memphis           1342842  22  60      Grizzlies   0.268293\n",
       "Miami             6066387  44  38           Heat   0.536585\n",
       "Milwaukee         1572482  44  38          Bucks   0.536585\n",
       "Minneapolis       3551036  47  35   Timberwolves   0.573171\n",
       "New Orleans       1268883  48  34       Pelicans   0.585366\n",
       "New York         20153634  28  54           Nets   0.341463\n",
       "New York         20153634  29  53         Knicks   0.353659\n",
       "Oklahoma City     1373211  48  34        Thunder   0.585366\n",
       "Orlando           2441257  25  57          Magic   0.304878\n",
       "Philadelphia      6070500  52  30          76ers   0.634146\n",
       "Phoenix           4661537  21  61           Suns   0.256098\n",
       "Portland          2424955  49  33  Trail Blazers   0.597561\n",
       "Sacramento        2296418  27  55          Kings   0.329268\n",
       "Salt Lake City    1186187  48  34           Jazz   0.585366\n",
       "San Antonio       2429609  47  35          Spurs   0.573171\n",
       "San Francisco     6657982  58  24       Warriors   0.707317\n",
       "Toronto           5928040  59  23        Raptors   0.719512\n",
       "Washington        6131977  43  39        Wizards   0.524390"
      ],
      "text/html": "<div>\n<style scoped>\n    .dataframe tbody tr th:only-of-type {\n        vertical-align: middle;\n    }\n\n    .dataframe tbody tr th {\n        vertical-align: top;\n    }\n\n    .dataframe thead th {\n        text-align: right;\n    }\n</style>\n<table border=\"1\" class=\"dataframe\">\n  <thead>\n    <tr style=\"text-align: right;\">\n      <th></th>\n      <th>Population</th>\n      <th>W</th>\n      <th>L</th>\n      <th>Team</th>\n      <th>W/L Ratio</th>\n    </tr>\n    <tr>\n      <th>City</th>\n      <th></th>\n      <th></th>\n      <th></th>\n      <th></th>\n      <th></th>\n    </tr>\n  </thead>\n  <tbody>\n    <tr>\n      <th>Atlanta</th>\n      <td>5789700</td>\n      <td>24</td>\n      <td>58</td>\n      <td>Hawks</td>\n      <td>0.292683</td>\n    </tr>\n    <tr>\n      <th>Boston</th>\n      <td>4794447</td>\n      <td>55</td>\n      <td>27</td>\n      <td>Celtics</td>\n      <td>0.670732</td>\n    </tr>\n    <tr>\n      <th>Charlotte</th>\n      <td>2474314</td>\n      <td>36</td>\n      <td>46</td>\n      <td>Hornets</td>\n      <td>0.439024</td>\n    </tr>\n    <tr>\n      <th>Chicago</th>\n      <td>9512999</td>\n      <td>27</td>\n      <td>55</td>\n      <td>Bulls</td>\n      <td>0.329268</td>\n    </tr>\n    <tr>\n      <th>Cleveland</th>\n      <td>2055612</td>\n      <td>50</td>\n      <td>32</td>\n      <td>Cavaliers</td>\n      <td>0.609756</td>\n    </tr>\n    <tr>\n      <th>Dallas</th>\n      <td>7233323</td>\n      <td>24</td>\n      <td>58</td>\n      <td>Mavericks</td>\n      <td>0.292683</td>\n    </tr>\n    <tr>\n      <th>Denver</th>\n      <td>2853077</td>\n      <td>46</td>\n      <td>36</td>\n      <td>Nuggets</td>\n      <td>0.560976</td>\n    </tr>\n    <tr>\n      <th>Detroit</th>\n      <td>4297617</td>\n      <td>39</td>\n      <td>43</td>\n      <td>Pistons</td>\n      <td>0.475610</td>\n    </tr>\n    <tr>\n      <th>Houston</th>\n      <td>6772470</td>\n      <td>65</td>\n      <td>17</td>\n      <td>Rockets</td>\n      <td>0.792683</td>\n    </tr>\n    <tr>\n      <th>Indianapolis</th>\n      <td>2004230</td>\n      <td>48</td>\n      <td>34</td>\n      <td>Pacers</td>\n      <td>0.585366</td>\n    </tr>\n    <tr>\n      <th>Los Angeles</th>\n      <td>13310447</td>\n      <td>42</td>\n      <td>40</td>\n      <td>Clippers</td>\n      <td>0.512195</td>\n    </tr>\n    <tr>\n      <th>Los Angeles</th>\n      <td>13310447</td>\n      <td>35</td>\n      <td>47</td>\n      <td>Lakers</td>\n      <td>0.426829</td>\n    </tr>\n    <tr>\n      <th>Memphis</th>\n      <td>1342842</td>\n      <td>22</td>\n      <td>60</td>\n      <td>Grizzlies</td>\n      <td>0.268293</td>\n    </tr>\n    <tr>\n      <th>Miami</th>\n      <td>6066387</td>\n      <td>44</td>\n      <td>38</td>\n      <td>Heat</td>\n      <td>0.536585</td>\n    </tr>\n    <tr>\n      <th>Milwaukee</th>\n      <td>1572482</td>\n      <td>44</td>\n      <td>38</td>\n      <td>Bucks</td>\n      <td>0.536585</td>\n    </tr>\n    <tr>\n      <th>Minneapolis</th>\n      <td>3551036</td>\n      <td>47</td>\n      <td>35</td>\n      <td>Timberwolves</td>\n      <td>0.573171</td>\n    </tr>\n    <tr>\n      <th>New Orleans</th>\n      <td>1268883</td>\n      <td>48</td>\n      <td>34</td>\n      <td>Pelicans</td>\n      <td>0.585366</td>\n    </tr>\n    <tr>\n      <th>New York</th>\n      <td>20153634</td>\n      <td>28</td>\n      <td>54</td>\n      <td>Nets</td>\n      <td>0.341463</td>\n    </tr>\n    <tr>\n      <th>New York</th>\n      <td>20153634</td>\n      <td>29</td>\n      <td>53</td>\n      <td>Knicks</td>\n      <td>0.353659</td>\n    </tr>\n    <tr>\n      <th>Oklahoma City</th>\n      <td>1373211</td>\n      <td>48</td>\n      <td>34</td>\n      <td>Thunder</td>\n      <td>0.585366</td>\n    </tr>\n    <tr>\n      <th>Orlando</th>\n      <td>2441257</td>\n      <td>25</td>\n      <td>57</td>\n      <td>Magic</td>\n      <td>0.304878</td>\n    </tr>\n    <tr>\n      <th>Philadelphia</th>\n      <td>6070500</td>\n      <td>52</td>\n      <td>30</td>\n      <td>76ers</td>\n      <td>0.634146</td>\n    </tr>\n    <tr>\n      <th>Phoenix</th>\n      <td>4661537</td>\n      <td>21</td>\n      <td>61</td>\n      <td>Suns</td>\n      <td>0.256098</td>\n    </tr>\n    <tr>\n      <th>Portland</th>\n      <td>2424955</td>\n      <td>49</td>\n      <td>33</td>\n      <td>Trail Blazers</td>\n      <td>0.597561</td>\n    </tr>\n    <tr>\n      <th>Sacramento</th>\n      <td>2296418</td>\n      <td>27</td>\n      <td>55</td>\n      <td>Kings</td>\n      <td>0.329268</td>\n    </tr>\n    <tr>\n      <th>Salt Lake City</th>\n      <td>1186187</td>\n      <td>48</td>\n      <td>34</td>\n      <td>Jazz</td>\n      <td>0.585366</td>\n    </tr>\n    <tr>\n      <th>San Antonio</th>\n      <td>2429609</td>\n      <td>47</td>\n      <td>35</td>\n      <td>Spurs</td>\n      <td>0.573171</td>\n    </tr>\n    <tr>\n      <th>San Francisco</th>\n      <td>6657982</td>\n      <td>58</td>\n      <td>24</td>\n      <td>Warriors</td>\n      <td>0.707317</td>\n    </tr>\n    <tr>\n      <th>Toronto</th>\n      <td>5928040</td>\n      <td>59</td>\n      <td>23</td>\n      <td>Raptors</td>\n      <td>0.719512</td>\n    </tr>\n    <tr>\n      <th>Washington</th>\n      <td>6131977</td>\n      <td>43</td>\n      <td>39</td>\n      <td>Wizards</td>\n      <td>0.524390</td>\n    </tr>\n  </tbody>\n</table>\n</div>"
     },
     "metadata": {},
     "execution_count": 225
    }
   ],
   "source": [
    "cities_nhl = cities_nhl.merge(nhl_df, left_index=True, right_index=True)\n",
    "cities_nhl.drop(labels=big4, axis = 1, inplace=True)\n",
    "cities_nhl['W/L Ratio'] = cities_nhl['W'].astype('float64')/(cities_nhl['L'].astype('float64') + cities_nhl['W'].astype('float64'))\n",
    "print(cities_nhl.shape)\n",
    "cities_nhl\n"
   ]
  },
  {
   "cell_type": "code",
   "execution_count": 226,
   "metadata": {},
   "outputs": [
    {
     "output_type": "stream",
     "name": "stdout",
     "text": [
      "answer to question 1: -0.25421734896460507\n"
     ]
    }
   ],
   "source": [
    "cities_nhl['Avg. Ratio'] = cities_nhl.groupby(cities_nhl.index).agg(np.mean)\n",
    "cities_nhl['Population'] = cities_nhl['Population'].astype('int64')\n",
    "corr1 = cities_nhl['Population'].corr(cities_nhl['Avg. Ratio'],method='pearson')\n",
    "print('answer to question 1: {}'.format(corr1))"
   ]
  },
  {
   "cell_type": "code",
   "execution_count": 227,
   "metadata": {},
   "outputs": [],
   "source": [
    "ans_df = cities_nhl[['Population','Avg. Ratio']]\n",
    "ans_df.drop_duplicates(inplace=True)"
   ]
  },
  {
   "cell_type": "code",
   "execution_count": 228,
   "metadata": {},
   "outputs": [],
   "source": [
    "population_by_region = list(ans_df['Population'])\n",
    "win_loss_by_region = list(ans_df['Avg. Ratio'])"
   ]
  },
  {
   "cell_type": "code",
   "execution_count": 229,
   "metadata": {},
   "outputs": [
    {
     "output_type": "execute_result",
     "data": {
      "text/plain": [
       "-0.17657160252844623"
      ]
     },
     "metadata": {},
     "execution_count": 229
    }
   ],
   "source": [
    "stats.pearsonr(population_by_region, win_loss_by_region)[0]"
   ]
  },
  {
   "cell_type": "code",
   "execution_count": 230,
   "metadata": {},
   "outputs": [
    {
     "output_type": "execute_result",
     "data": {
      "text/plain": [
       "[5789700,\n",
       " 4794447,\n",
       " 2474314,\n",
       " 9512999,\n",
       " 2055612,\n",
       " 7233323,\n",
       " 2853077,\n",
       " 4297617,\n",
       " 6772470,\n",
       " 2004230,\n",
       " 13310447,\n",
       " 1342842,\n",
       " 6066387,\n",
       " 1572482,\n",
       " 3551036,\n",
       " 1268883,\n",
       " 20153634,\n",
       " 1373211,\n",
       " 2441257,\n",
       " 6070500,\n",
       " 4661537,\n",
       " 2424955,\n",
       " 2296418,\n",
       " 1186187,\n",
       " 2429609,\n",
       " 6657982,\n",
       " 5928040,\n",
       " 6131977]"
      ]
     },
     "metadata": {},
     "execution_count": 230
    }
   ],
   "source": [
    "population_by_region"
   ]
  },
  {
   "cell_type": "code",
   "execution_count": 232,
   "metadata": {},
   "outputs": [
    {
     "output_type": "execute_result",
     "data": {
      "text/plain": [
       "28"
      ]
     },
     "metadata": {},
     "execution_count": 232
    }
   ],
   "source": [
    "len(win_loss_by_region)"
   ]
  },
  {
   "cell_type": "code",
   "execution_count": null,
   "metadata": {},
   "outputs": [],
   "source": []
  }
 ]
}