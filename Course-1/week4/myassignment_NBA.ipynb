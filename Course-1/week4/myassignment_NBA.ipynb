{
 "metadata": {
  "language_info": {
   "codemirror_mode": {
    "name": "ipython",
    "version": 3
   },
   "file_extension": ".py",
   "mimetype": "text/x-python",
   "name": "python",
   "nbconvert_exporter": "python",
   "pygments_lexer": "ipython3",
   "version": "3.8.6-final"
  },
  "orig_nbformat": 2,
  "kernelspec": {
   "name": "python3",
   "display_name": "Python 3",
   "language": "python"
  }
 },
 "nbformat": 4,
 "nbformat_minor": 2,
 "cells": [
  {
   "cell_type": "code",
   "execution_count": 1,
   "metadata": {},
   "outputs": [
    {
     "output_type": "execute_result",
     "data": {
      "text/plain": [
       "        Metropolitan area Population (2016 est.)[8]                   NFL  \\\n",
       "0           New York City                  20153634    GiantsJets[note 1]   \n",
       "1             Los Angeles                  13310447  RamsChargers[note 4]   \n",
       "2  San Francisco Bay Area                   6657982  49ersRaiders[note 6]   \n",
       "3                 Chicago                   9512999         Bears[note 8]   \n",
       "4       Dallas–Fort Worth                   7233323               Cowboys   \n",
       "\n",
       "                   MLB             NBA                             NHL  \n",
       "0  YankeesMets[note 2]      KnicksNets  RangersIslandersDevils[note 3]  \n",
       "1        DodgersAngels  LakersClippers                      KingsDucks  \n",
       "2      GiantsAthletics        Warriors                  Sharks[note 7]  \n",
       "3        CubsWhite Sox   Bulls[note 9]                      Blackhawks  \n",
       "4              Rangers       Mavericks                           Stars  "
      ],
      "text/html": "<div>\n<style scoped>\n    .dataframe tbody tr th:only-of-type {\n        vertical-align: middle;\n    }\n\n    .dataframe tbody tr th {\n        vertical-align: top;\n    }\n\n    .dataframe thead th {\n        text-align: right;\n    }\n</style>\n<table border=\"1\" class=\"dataframe\">\n  <thead>\n    <tr style=\"text-align: right;\">\n      <th></th>\n      <th>Metropolitan area</th>\n      <th>Population (2016 est.)[8]</th>\n      <th>NFL</th>\n      <th>MLB</th>\n      <th>NBA</th>\n      <th>NHL</th>\n    </tr>\n  </thead>\n  <tbody>\n    <tr>\n      <th>0</th>\n      <td>New York City</td>\n      <td>20153634</td>\n      <td>GiantsJets[note 1]</td>\n      <td>YankeesMets[note 2]</td>\n      <td>KnicksNets</td>\n      <td>RangersIslandersDevils[note 3]</td>\n    </tr>\n    <tr>\n      <th>1</th>\n      <td>Los Angeles</td>\n      <td>13310447</td>\n      <td>RamsChargers[note 4]</td>\n      <td>DodgersAngels</td>\n      <td>LakersClippers</td>\n      <td>KingsDucks</td>\n    </tr>\n    <tr>\n      <th>2</th>\n      <td>San Francisco Bay Area</td>\n      <td>6657982</td>\n      <td>49ersRaiders[note 6]</td>\n      <td>GiantsAthletics</td>\n      <td>Warriors</td>\n      <td>Sharks[note 7]</td>\n    </tr>\n    <tr>\n      <th>3</th>\n      <td>Chicago</td>\n      <td>9512999</td>\n      <td>Bears[note 8]</td>\n      <td>CubsWhite Sox</td>\n      <td>Bulls[note 9]</td>\n      <td>Blackhawks</td>\n    </tr>\n    <tr>\n      <th>4</th>\n      <td>Dallas–Fort Worth</td>\n      <td>7233323</td>\n      <td>Cowboys</td>\n      <td>Rangers</td>\n      <td>Mavericks</td>\n      <td>Stars</td>\n    </tr>\n  </tbody>\n</table>\n</div>"
     },
     "metadata": {},
     "execution_count": 1
    }
   ],
   "source": [
    "import pandas as pd\n",
    "import numpy as np\n",
    "import scipy.stats as stats\n",
    "from scipy.stats import pearsonr\n",
    "import re\n",
    "\n",
    "nhl_df=pd.read_csv(\"assets/nhl.csv\")\n",
    "cities=pd.read_html(\"assets/wikipedia_data.html\")[1]\n",
    "cities=cities.iloc[:-1,[0,3,5,6,7,8]]\n",
    "cities.head()"
   ]
  },
  {
   "cell_type": "code",
   "execution_count": 2,
   "metadata": {},
   "outputs": [
    {
     "output_type": "execute_result",
     "data": {
      "text/plain": [
       "  Metropolitan area Population       NFL      MLB      NBA     NHL\n",
       "0           Atlanta    5789700   Falcons   Braves    Hawks        \n",
       "1         Baltimore    2798886    Ravens  Orioles                —\n",
       "2            Boston    4794447  Patriots  Red Sox  Celtics  Bruins\n",
       "3           Buffalo    1132804     Bills                    Sabres\n",
       "4           Calgary    1392609         —        —        —  Flames"
      ],
      "text/html": "<div>\n<style scoped>\n    .dataframe tbody tr th:only-of-type {\n        vertical-align: middle;\n    }\n\n    .dataframe tbody tr th {\n        vertical-align: top;\n    }\n\n    .dataframe thead th {\n        text-align: right;\n    }\n</style>\n<table border=\"1\" class=\"dataframe\">\n  <thead>\n    <tr style=\"text-align: right;\">\n      <th></th>\n      <th>Metropolitan area</th>\n      <th>Population</th>\n      <th>NFL</th>\n      <th>MLB</th>\n      <th>NBA</th>\n      <th>NHL</th>\n    </tr>\n  </thead>\n  <tbody>\n    <tr>\n      <th>0</th>\n      <td>Atlanta</td>\n      <td>5789700</td>\n      <td>Falcons</td>\n      <td>Braves</td>\n      <td>Hawks</td>\n      <td></td>\n    </tr>\n    <tr>\n      <th>1</th>\n      <td>Baltimore</td>\n      <td>2798886</td>\n      <td>Ravens</td>\n      <td>Orioles</td>\n      <td></td>\n      <td>—</td>\n    </tr>\n    <tr>\n      <th>2</th>\n      <td>Boston</td>\n      <td>4794447</td>\n      <td>Patriots</td>\n      <td>Red Sox</td>\n      <td>Celtics</td>\n      <td>Bruins</td>\n    </tr>\n    <tr>\n      <th>3</th>\n      <td>Buffalo</td>\n      <td>1132804</td>\n      <td>Bills</td>\n      <td></td>\n      <td></td>\n      <td>Sabres</td>\n    </tr>\n    <tr>\n      <th>4</th>\n      <td>Calgary</td>\n      <td>1392609</td>\n      <td>—</td>\n      <td>—</td>\n      <td>—</td>\n      <td>Flames</td>\n    </tr>\n  </tbody>\n</table>\n</div>"
     },
     "metadata": {},
     "execution_count": 2
    }
   ],
   "source": [
    "sports = ['Metropolitan area', 'Population', 'NFL','MLB','NBA','NHL']\n",
    "cities.columns = sports \n",
    "def cleaning(item):\n",
    "    #s = re.sub('\\[.*\\]', '', item)\n",
    "    s = re.sub(r'([a-z])([A-Z])', r'\\1 \\2', item)\n",
    "    return s\n",
    "\n",
    "def cleaning_2(item):\n",
    "    s = re.sub('\\[.*\\]', '', item)\n",
    "    #s = re.sub(r'([a-z])([A-Z])', r'\\1 \\2', item)\n",
    "    return s\n",
    "\n",
    "def cleaning_3(item):\n",
    "    s = re.sub('\\*$', '', item)\n",
    "    return s\n",
    "\n",
    "\n",
    "def apply_cleaning(clen_fun, dataframe, columns):\n",
    "    for fun in clen_fun:\n",
    "        for col in columns:\n",
    "            dataframe[col]  = dataframe[col].apply(fun)\n",
    "    return dataframe\n",
    "\n",
    "functions = [cleaning, cleaning_2, cleaning_3]\n",
    "\n",
    "apply_cleaning(functions, cities, sports)\n",
    "cities.sort_values('Metropolitan area', axis = 0, inplace=True)\n",
    "cities.reset_index(drop=True,inplace=True)\n",
    "cities.head()"
   ]
  },
  {
   "cell_type": "code",
   "execution_count": 3,
   "metadata": {},
   "outputs": [],
   "source": [
    "city_replace = {'Dallas–Fort Worth':'Dallas','Miami–Fort Lauderdale':'Miami','Minneapolis–Saint Paul':'Minneapolis','New York City':'New York','San Francisco Bay Area':'San Francisco','Tampa Bay Area':'Tampa Bay','Washington, D.C.':'Washington','':'None','—':'None','— ':'None'}\n",
    "cities.replace(to_replace=city_replace,value = None, inplace=True)\n"
   ]
  },
  {
   "cell_type": "code",
   "execution_count": 4,
   "metadata": {},
   "outputs": [],
   "source": [
    "nhl_df = nhl_df[nhl_df['year'] == 2018]\n",
    "nhl_df.drop([0,9,18,26], axis = 0, inplace= True)\n",
    "nhl_df = nhl_df[['team','W','L',]]\n",
    "replace_nhl = {'Toronto Maple':'Toronto','Leafs':'Maple Leafs','Detroit Red':'Detroit','Wings':'Red Wings','Columbus Blue':'Columbus','Jackets':'Blue Jackets','Vegas Golden':'Las Vegas','Knights':'Golden Knights','Florida':'Miami','San Jose':'San Francisco','Colorado':'Denver','Minnesota':'Minneapolis','Arizona':'Phoenix','Carolina':'Raleigh','New Jersey':'New York','Anaheim':'Los Angeles'}"
   ]
  },
  {
   "cell_type": "code",
   "execution_count": 5,
   "metadata": {},
   "outputs": [
    {
     "output_type": "execute_result",
     "data": {
      "text/plain": [
       "                  team   W   L\n",
       "1  Tampa Bay Lightning  54  23\n",
       "2        Boston Bruins  50  20\n",
       "3  Toronto Maple Leafs  49  26\n",
       "4     Florida Panthers  44  30\n",
       "5    Detroit Red Wings  30  39"
      ],
      "text/html": "<div>\n<style scoped>\n    .dataframe tbody tr th:only-of-type {\n        vertical-align: middle;\n    }\n\n    .dataframe tbody tr th {\n        vertical-align: top;\n    }\n\n    .dataframe thead th {\n        text-align: right;\n    }\n</style>\n<table border=\"1\" class=\"dataframe\">\n  <thead>\n    <tr style=\"text-align: right;\">\n      <th></th>\n      <th>team</th>\n      <th>W</th>\n      <th>L</th>\n    </tr>\n  </thead>\n  <tbody>\n    <tr>\n      <th>1</th>\n      <td>Tampa Bay Lightning</td>\n      <td>54</td>\n      <td>23</td>\n    </tr>\n    <tr>\n      <th>2</th>\n      <td>Boston Bruins</td>\n      <td>50</td>\n      <td>20</td>\n    </tr>\n    <tr>\n      <th>3</th>\n      <td>Toronto Maple Leafs</td>\n      <td>49</td>\n      <td>26</td>\n    </tr>\n    <tr>\n      <th>4</th>\n      <td>Florida Panthers</td>\n      <td>44</td>\n      <td>30</td>\n    </tr>\n    <tr>\n      <th>5</th>\n      <td>Detroit Red Wings</td>\n      <td>30</td>\n      <td>39</td>\n    </tr>\n  </tbody>\n</table>\n</div>"
     },
     "metadata": {},
     "execution_count": 5
    }
   ],
   "source": [
    "apply_cleaning(functions, nhl_df, list(nhl_df.columns))\n",
    "nhl_df.head()"
   ]
  },
  {
   "cell_type": "code",
   "execution_count": 6,
   "metadata": {},
   "outputs": [
    {
     "output_type": "execute_result",
     "data": {
      "text/plain": [
       "              W   L     Team\n",
       "City                        \n",
       "Los Angeles  44  25    Ducks\n",
       "Phoenix      29  41  Coyotes\n",
       "Boston       50  20   Bruins\n",
       "Buffalo      25  45   Sabres\n",
       "Calgary      37  35   Flames"
      ],
      "text/html": "<div>\n<style scoped>\n    .dataframe tbody tr th:only-of-type {\n        vertical-align: middle;\n    }\n\n    .dataframe tbody tr th {\n        vertical-align: top;\n    }\n\n    .dataframe thead th {\n        text-align: right;\n    }\n</style>\n<table border=\"1\" class=\"dataframe\">\n  <thead>\n    <tr style=\"text-align: right;\">\n      <th></th>\n      <th>W</th>\n      <th>L</th>\n      <th>Team</th>\n    </tr>\n    <tr>\n      <th>City</th>\n      <th></th>\n      <th></th>\n      <th></th>\n    </tr>\n  </thead>\n  <tbody>\n    <tr>\n      <th>Los Angeles</th>\n      <td>44</td>\n      <td>25</td>\n      <td>Ducks</td>\n    </tr>\n    <tr>\n      <th>Phoenix</th>\n      <td>29</td>\n      <td>41</td>\n      <td>Coyotes</td>\n    </tr>\n    <tr>\n      <th>Boston</th>\n      <td>50</td>\n      <td>20</td>\n      <td>Bruins</td>\n    </tr>\n    <tr>\n      <th>Buffalo</th>\n      <td>25</td>\n      <td>45</td>\n      <td>Sabres</td>\n    </tr>\n    <tr>\n      <th>Calgary</th>\n      <td>37</td>\n      <td>35</td>\n      <td>Flames</td>\n    </tr>\n  </tbody>\n</table>\n</div>"
     },
     "metadata": {},
     "execution_count": 6
    }
   ],
   "source": [
    "def splitname(row):\n",
    "    row['Team']=row['team'].split(\" \")[-1]\n",
    "    s=row['team'].split(\" \")[:-1]\n",
    "    row['City']=' '.join(map(str, s)) \n",
    "    return row\n",
    "\n",
    "nhl_df=nhl_df.apply(splitname, axis='columns')\n",
    "del(nhl_df['team'])\n",
    "nhl_df.sort_values('City', axis=0, inplace=True)\n",
    "nhl_df.replace(to_replace=replace_nhl,value=None,inplace=True)\n",
    "nhl_df = nhl_df.set_index('City')\n",
    "nhl_df.head()"
   ]
  },
  {
   "cell_type": "code",
   "execution_count": 7,
   "metadata": {},
   "outputs": [
    {
     "output_type": "stream",
     "name": "stdout",
     "text": [
      "nr of cities: 28, nr of NHL teams: 31\n"
     ]
    }
   ],
   "source": [
    "cities_nhl = cities[cities['NHL'] != 'None']\n",
    "cities_nhl = cities_nhl[['Metropolitan area','Population','NHL']]\n",
    "cities_nhl = cities_nhl.set_index('Metropolitan area')\n",
    "cities_nhl.index.rename('City', inplace=True)\n",
    "print('nr of cities: {}, nr of NHL teams: {}'.format(cities_nhl.shape[0],nhl_df.shape[0]))"
   ]
  },
  {
   "cell_type": "code",
   "execution_count": 8,
   "metadata": {},
   "outputs": [],
   "source": [
    "#cities_nhl[~cities_nhl['Metropolitan area'].isin(nhl_df['City'])] \n",
    "#nhl_df[~nhl_df.index.isin(cities_nhl.index)]\n",
    "#Check what cities are not matching the names"
   ]
  },
  {
   "cell_type": "code",
   "execution_count": 9,
   "metadata": {},
   "outputs": [
    {
     "output_type": "execute_result",
     "data": {
      "text/plain": [
       "         Population   W   L          Team  W/L Ratio\n",
       "City                                                \n",
       "Boston      4794447  50  20        Bruins   0.714286\n",
       "Buffalo     1132804  25  45        Sabres   0.357143\n",
       "Calgary     1392609  37  35        Flames   0.513889\n",
       "Chicago     9512999  33  39    Blackhawks   0.458333\n",
       "Columbus    2041520  45  30  Blue Jackets   0.600000"
      ],
      "text/html": "<div>\n<style scoped>\n    .dataframe tbody tr th:only-of-type {\n        vertical-align: middle;\n    }\n\n    .dataframe tbody tr th {\n        vertical-align: top;\n    }\n\n    .dataframe thead th {\n        text-align: right;\n    }\n</style>\n<table border=\"1\" class=\"dataframe\">\n  <thead>\n    <tr style=\"text-align: right;\">\n      <th></th>\n      <th>Population</th>\n      <th>W</th>\n      <th>L</th>\n      <th>Team</th>\n      <th>W/L Ratio</th>\n    </tr>\n    <tr>\n      <th>City</th>\n      <th></th>\n      <th></th>\n      <th></th>\n      <th></th>\n      <th></th>\n    </tr>\n  </thead>\n  <tbody>\n    <tr>\n      <th>Boston</th>\n      <td>4794447</td>\n      <td>50</td>\n      <td>20</td>\n      <td>Bruins</td>\n      <td>0.714286</td>\n    </tr>\n    <tr>\n      <th>Buffalo</th>\n      <td>1132804</td>\n      <td>25</td>\n      <td>45</td>\n      <td>Sabres</td>\n      <td>0.357143</td>\n    </tr>\n    <tr>\n      <th>Calgary</th>\n      <td>1392609</td>\n      <td>37</td>\n      <td>35</td>\n      <td>Flames</td>\n      <td>0.513889</td>\n    </tr>\n    <tr>\n      <th>Chicago</th>\n      <td>9512999</td>\n      <td>33</td>\n      <td>39</td>\n      <td>Blackhawks</td>\n      <td>0.458333</td>\n    </tr>\n    <tr>\n      <th>Columbus</th>\n      <td>2041520</td>\n      <td>45</td>\n      <td>30</td>\n      <td>Blue Jackets</td>\n      <td>0.600000</td>\n    </tr>\n  </tbody>\n</table>\n</div>"
     },
     "metadata": {},
     "execution_count": 9
    }
   ],
   "source": [
    "cities_nhl = cities_nhl.merge(nhl_df, left_index=True, right_index=True)\n",
    "cities_nhl.drop(labels='NHL', axis = 1, inplace=True)\n",
    "cities_nhl['W/L Ratio'] = cities_nhl['W'].astype('float64')/(cities_nhl['L'].astype('float64') + cities_nhl['W'].astype('float64'))\n",
    "cities_nhl.head()"
   ]
  },
  {
   "cell_type": "code",
   "execution_count": 10,
   "metadata": {},
   "outputs": [
    {
     "output_type": "stream",
     "name": "stdout",
     "text": [
      "answer to question 1: -0.04358264468600224\n"
     ]
    }
   ],
   "source": [
    "cities_nhl['Avg. Ratio'] = cities_nhl.groupby(cities_nhl.index).agg(np.mean)\n",
    "cities_nhl['Population'] = cities_nhl['Population'].astype('int64')\n",
    "corr1 = cities_nhl['Population'].corr(cities_nhl['Avg. Ratio'],method='pearson')\n",
    "print('answer to question 1: {}'.format(corr1))"
   ]
  },
  {
   "cell_type": "code",
   "execution_count": 11,
   "metadata": {},
   "outputs": [],
   "source": [
    "ans_df = cities_nhl[['Population','Avg. Ratio']]\n",
    "ans_df.drop_duplicates(inplace=True)"
   ]
  },
  {
   "cell_type": "code",
   "execution_count": 12,
   "metadata": {},
   "outputs": [],
   "source": [
    "population_by_region = list(ans_df['Population'])\n",
    "win_loss_by_region = list(ans_df['Avg. Ratio'])"
   ]
  },
  {
   "cell_type": "code",
   "execution_count": 13,
   "metadata": {},
   "outputs": [
    {
     "output_type": "execute_result",
     "data": {
      "text/plain": [
       "0.012486162921209923"
      ]
     },
     "metadata": {},
     "execution_count": 13
    }
   ],
   "source": [
    "stats.pearsonr(population_by_region, win_loss_by_region)[0]"
   ]
  },
  {
   "cell_type": "code",
   "execution_count": null,
   "metadata": {},
   "outputs": [],
   "source": []
  }
 ]
}