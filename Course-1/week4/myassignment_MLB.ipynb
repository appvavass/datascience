{
 "metadata": {
  "language_info": {
   "codemirror_mode": {
    "name": "ipython",
    "version": 3
   },
   "file_extension": ".py",
   "mimetype": "text/x-python",
   "name": "python",
   "nbconvert_exporter": "python",
   "pygments_lexer": "ipython3",
   "version": "3.8.6-candidate"
  },
  "orig_nbformat": 2,
  "kernelspec": {
   "name": "python3",
   "display_name": "Python 3",
   "language": "python"
  }
 },
 "nbformat": 4,
 "nbformat_minor": 2,
 "cells": [
  {
   "cell_type": "code",
   "execution_count": 1,
   "metadata": {},
   "outputs": [],
   "source": [
    "import pandas as pd\n",
    "import numpy as np\n",
    "import scipy.stats as stats\n",
    "from scipy.stats import pearsonr\n",
    "import re\n",
    "\n",
    "nhl_df=pd.read_csv(\"assets/mlb.csv\")\n",
    "cities=pd.read_html(\"assets/wikipedia_data.html\")[1]\n",
    "cities=cities.iloc[:-1,[0,3,5,6,7,8]]\n",
    "\n",
    "big4 = 'MLB'"
   ]
  },
  {
   "cell_type": "code",
   "execution_count": 2,
   "metadata": {
    "tags": []
   },
   "outputs": [
    {
     "output_type": "execute_result",
     "data": {
      "text/plain": [
       "  Metropolitan area Population       NFL      MLB      NBA     NHL\n",
       "0           Atlanta    5789700   Falcons   Braves    Hawks        \n",
       "1         Baltimore    2798886    Ravens  Orioles                —\n",
       "2            Boston    4794447  Patriots  Red Sox  Celtics  Bruins\n",
       "3           Buffalo    1132804     Bills                    Sabres\n",
       "4           Calgary    1392609         —        —        —  Flames"
      ],
      "text/html": "<div>\n<style scoped>\n    .dataframe tbody tr th:only-of-type {\n        vertical-align: middle;\n    }\n\n    .dataframe tbody tr th {\n        vertical-align: top;\n    }\n\n    .dataframe thead th {\n        text-align: right;\n    }\n</style>\n<table border=\"1\" class=\"dataframe\">\n  <thead>\n    <tr style=\"text-align: right;\">\n      <th></th>\n      <th>Metropolitan area</th>\n      <th>Population</th>\n      <th>NFL</th>\n      <th>MLB</th>\n      <th>NBA</th>\n      <th>NHL</th>\n    </tr>\n  </thead>\n  <tbody>\n    <tr>\n      <th>0</th>\n      <td>Atlanta</td>\n      <td>5789700</td>\n      <td>Falcons</td>\n      <td>Braves</td>\n      <td>Hawks</td>\n      <td></td>\n    </tr>\n    <tr>\n      <th>1</th>\n      <td>Baltimore</td>\n      <td>2798886</td>\n      <td>Ravens</td>\n      <td>Orioles</td>\n      <td></td>\n      <td>—</td>\n    </tr>\n    <tr>\n      <th>2</th>\n      <td>Boston</td>\n      <td>4794447</td>\n      <td>Patriots</td>\n      <td>Red Sox</td>\n      <td>Celtics</td>\n      <td>Bruins</td>\n    </tr>\n    <tr>\n      <th>3</th>\n      <td>Buffalo</td>\n      <td>1132804</td>\n      <td>Bills</td>\n      <td></td>\n      <td></td>\n      <td>Sabres</td>\n    </tr>\n    <tr>\n      <th>4</th>\n      <td>Calgary</td>\n      <td>1392609</td>\n      <td>—</td>\n      <td>—</td>\n      <td>—</td>\n      <td>Flames</td>\n    </tr>\n  </tbody>\n</table>\n</div>"
     },
     "metadata": {},
     "execution_count": 2
    }
   ],
   "source": [
    "sports = ['Metropolitan area', 'Population', 'NFL','MLB','NBA','NHL']\n",
    "cities.columns = sports #rename the cities database columns\n",
    "def cleaning(item):\n",
    "    #print('working on function 1, string: {}'.format(item))\n",
    "    s = re.sub(r'([a-z])([A-Z])', r'\\1 \\2', item) #separate two words by the capital letter e.g ColdCase Cold Case\n",
    "    return s\n",
    "\n",
    "def cleaning_2(item):\n",
    "    #print('working on function 2, string: {}'.format(item))\n",
    "    s = re.sub('\\[.*\\]', '', item) #remove the squared bracket\n",
    "    #s = re.sub(r'([a-z])([A-Z])', r'\\1 \\2', item)\n",
    "    return s\n",
    "\n",
    "def cleaning_3(item): #clean the ends\n",
    "    #print('working on function 3, string: {}'.format(item))\n",
    "    item.strip()\n",
    "    s = re.sub('\\**\\s\\([0-9]*\\)$', '', item)\n",
    "    return s\n",
    "\n",
    "\n",
    "def apply_cleaning(clen_fun, dataframe, columns): #applies all the cleaning functions on every col  \n",
    "    for fun in clen_fun:\n",
    "        for col in columns:\n",
    "            dataframe[col]  = dataframe[col].astype('string').apply(fun)\n",
    "    return dataframe\n",
    "\n",
    "functions = [cleaning, cleaning_2, cleaning_3]\n",
    "\n",
    "apply_cleaning(functions, cities, sports) # clean cities\n",
    "cities.sort_values('Metropolitan area', axis = 0, inplace=True) #sort cities by their name\n",
    "cities.reset_index(drop=True,inplace=True)\n",
    "cities.head()"
   ]
  },
  {
   "cell_type": "code",
   "execution_count": 3,
   "metadata": {},
   "outputs": [
    {
     "output_type": "execute_result",
     "data": {
      "text/plain": [
       "   Metropolitan area Population            NFL               MLB  \\\n",
       "0            Atlanta    5789700        Falcons            Braves   \n",
       "1          Baltimore    2798886         Ravens           Orioles   \n",
       "2             Boston    4794447       Patriots           Red Sox   \n",
       "3            Buffalo    1132804          Bills              None   \n",
       "4            Calgary    1392609           None              None   \n",
       "5          Charlotte    2474314       Panthers              None   \n",
       "6            Chicago    9512999          Bears    Cubs White Sox   \n",
       "7         Cincinnati    2165139        Bengals              Reds   \n",
       "8          Cleveland    2055612         Browns           Indians   \n",
       "9           Columbus    2041520           None              None   \n",
       "10            Dallas    7233323        Cowboys           Rangers   \n",
       "11            Denver    2853077        Broncos           Rockies   \n",
       "12           Detroit    4297617          Lions            Tigers   \n",
       "13          Edmonton    1321426           None              None   \n",
       "14         Green Bay     318236        Packers              None   \n",
       "15          Hamilton     747545           None              None   \n",
       "16           Houston    6772470         Texans            Astros   \n",
       "17      Indianapolis    2004230          Colts              None   \n",
       "18      Jacksonville    1478212        Jaguars              None   \n",
       "19       Kansas City    2104509         Chiefs            Royals   \n",
       "20         Las Vegas    2155664           None              None   \n",
       "21       Los Angeles   13310447  Rams Chargers    Dodgers Angels   \n",
       "22           Memphis    1342842           None              None   \n",
       "23             Miami    6066387       Dolphins           Marlins   \n",
       "24         Milwaukee    1572482           None           Brewers   \n",
       "25       Minneapolis    3551036        Vikings             Twins   \n",
       "26          Montreal    4098927           None              None   \n",
       "27         Nashville    1865298         Titans              None   \n",
       "28       New Orleans    1268883         Saints              None   \n",
       "29          New York   20153634    Giants Jets      Yankees Mets   \n",
       "30     Oklahoma City    1373211           None              None   \n",
       "31           Orlando    2441257           None              None   \n",
       "32            Ottawa    1323783           None              None   \n",
       "33      Philadelphia    6070500         Eagles          Phillies   \n",
       "34           Phoenix    4661537      Cardinals      Diamondbacks   \n",
       "35        Pittsburgh    2342299       Steelers           Pirates   \n",
       "36          Portland    2424955           None              None   \n",
       "37           Raleigh    1302946           None              None   \n",
       "38            Regina     236481           None              None   \n",
       "39        Sacramento    2296418           None              None   \n",
       "40    Salt Lake City    1186187           None              None   \n",
       "41       San Antonio    2429609           None              None   \n",
       "42         San Diego    3317749           None            Padres   \n",
       "43     San Francisco    6657982  49ers Raiders  Giants Athletics   \n",
       "44           Seattle    3798902       Seahawks          Mariners   \n",
       "45         St. Louis    2807002           None         Cardinals   \n",
       "46         Tampa Bay    3032171     Buccaneers              Rays   \n",
       "47           Toronto    5928040           None         Blue Jays   \n",
       "48         Vancouver    2463431           None              None   \n",
       "49        Washington    6131977       Redskins         Nationals   \n",
       "50          Winnipeg     778489           None              None   \n",
       "\n",
       "                NBA                       NHL  \n",
       "0             Hawks                      None  \n",
       "1              None                      None  \n",
       "2           Celtics                    Bruins  \n",
       "3              None                    Sabres  \n",
       "4              None                    Flames  \n",
       "5           Hornets                      None  \n",
       "6             Bulls                Blackhawks  \n",
       "7              None                      None  \n",
       "8         Cavaliers                      None  \n",
       "9              None              Blue Jackets  \n",
       "10        Mavericks                     Stars  \n",
       "11          Nuggets                 Avalanche  \n",
       "12          Pistons                 Red Wings  \n",
       "13             None                    Oilers  \n",
       "14             None                      None  \n",
       "15             None                      None  \n",
       "16          Rockets                      None  \n",
       "17           Pacers                      None  \n",
       "18             None                      None  \n",
       "19             None                      None  \n",
       "20             None            Golden Knights  \n",
       "21  Lakers Clippers               Kings Ducks  \n",
       "22        Grizzlies                      None  \n",
       "23             Heat                  Panthers  \n",
       "24            Bucks                      None  \n",
       "25     Timberwolves                      Wild  \n",
       "26             None                 Canadiens  \n",
       "27             None                 Predators  \n",
       "28         Pelicans                      None  \n",
       "29      Knicks Nets  Rangers Islanders Devils  \n",
       "30          Thunder                      None  \n",
       "31            Magic                      None  \n",
       "32             None                  Senators  \n",
       "33            76ers                    Flyers  \n",
       "34             Suns                   Coyotes  \n",
       "35             None                  Penguins  \n",
       "36    Trail Blazers                      None  \n",
       "37             None                Hurricanes  \n",
       "38             None                      None  \n",
       "39            Kings                      None  \n",
       "40             Jazz                      None  \n",
       "41            Spurs                      None  \n",
       "42             None                      None  \n",
       "43         Warriors                    Sharks  \n",
       "44             None                      None  \n",
       "45             None                     Blues  \n",
       "46             None                 Lightning  \n",
       "47          Raptors               Maple Leafs  \n",
       "48             None                   Canucks  \n",
       "49          Wizards                  Capitals  \n",
       "50             None                      Jets  "
      ],
      "text/html": "<div>\n<style scoped>\n    .dataframe tbody tr th:only-of-type {\n        vertical-align: middle;\n    }\n\n    .dataframe tbody tr th {\n        vertical-align: top;\n    }\n\n    .dataframe thead th {\n        text-align: right;\n    }\n</style>\n<table border=\"1\" class=\"dataframe\">\n  <thead>\n    <tr style=\"text-align: right;\">\n      <th></th>\n      <th>Metropolitan area</th>\n      <th>Population</th>\n      <th>NFL</th>\n      <th>MLB</th>\n      <th>NBA</th>\n      <th>NHL</th>\n    </tr>\n  </thead>\n  <tbody>\n    <tr>\n      <th>0</th>\n      <td>Atlanta</td>\n      <td>5789700</td>\n      <td>Falcons</td>\n      <td>Braves</td>\n      <td>Hawks</td>\n      <td>None</td>\n    </tr>\n    <tr>\n      <th>1</th>\n      <td>Baltimore</td>\n      <td>2798886</td>\n      <td>Ravens</td>\n      <td>Orioles</td>\n      <td>None</td>\n      <td>None</td>\n    </tr>\n    <tr>\n      <th>2</th>\n      <td>Boston</td>\n      <td>4794447</td>\n      <td>Patriots</td>\n      <td>Red Sox</td>\n      <td>Celtics</td>\n      <td>Bruins</td>\n    </tr>\n    <tr>\n      <th>3</th>\n      <td>Buffalo</td>\n      <td>1132804</td>\n      <td>Bills</td>\n      <td>None</td>\n      <td>None</td>\n      <td>Sabres</td>\n    </tr>\n    <tr>\n      <th>4</th>\n      <td>Calgary</td>\n      <td>1392609</td>\n      <td>None</td>\n      <td>None</td>\n      <td>None</td>\n      <td>Flames</td>\n    </tr>\n    <tr>\n      <th>5</th>\n      <td>Charlotte</td>\n      <td>2474314</td>\n      <td>Panthers</td>\n      <td>None</td>\n      <td>Hornets</td>\n      <td>None</td>\n    </tr>\n    <tr>\n      <th>6</th>\n      <td>Chicago</td>\n      <td>9512999</td>\n      <td>Bears</td>\n      <td>Cubs White Sox</td>\n      <td>Bulls</td>\n      <td>Blackhawks</td>\n    </tr>\n    <tr>\n      <th>7</th>\n      <td>Cincinnati</td>\n      <td>2165139</td>\n      <td>Bengals</td>\n      <td>Reds</td>\n      <td>None</td>\n      <td>None</td>\n    </tr>\n    <tr>\n      <th>8</th>\n      <td>Cleveland</td>\n      <td>2055612</td>\n      <td>Browns</td>\n      <td>Indians</td>\n      <td>Cavaliers</td>\n      <td>None</td>\n    </tr>\n    <tr>\n      <th>9</th>\n      <td>Columbus</td>\n      <td>2041520</td>\n      <td>None</td>\n      <td>None</td>\n      <td>None</td>\n      <td>Blue Jackets</td>\n    </tr>\n    <tr>\n      <th>10</th>\n      <td>Dallas</td>\n      <td>7233323</td>\n      <td>Cowboys</td>\n      <td>Rangers</td>\n      <td>Mavericks</td>\n      <td>Stars</td>\n    </tr>\n    <tr>\n      <th>11</th>\n      <td>Denver</td>\n      <td>2853077</td>\n      <td>Broncos</td>\n      <td>Rockies</td>\n      <td>Nuggets</td>\n      <td>Avalanche</td>\n    </tr>\n    <tr>\n      <th>12</th>\n      <td>Detroit</td>\n      <td>4297617</td>\n      <td>Lions</td>\n      <td>Tigers</td>\n      <td>Pistons</td>\n      <td>Red Wings</td>\n    </tr>\n    <tr>\n      <th>13</th>\n      <td>Edmonton</td>\n      <td>1321426</td>\n      <td>None</td>\n      <td>None</td>\n      <td>None</td>\n      <td>Oilers</td>\n    </tr>\n    <tr>\n      <th>14</th>\n      <td>Green Bay</td>\n      <td>318236</td>\n      <td>Packers</td>\n      <td>None</td>\n      <td>None</td>\n      <td>None</td>\n    </tr>\n    <tr>\n      <th>15</th>\n      <td>Hamilton</td>\n      <td>747545</td>\n      <td>None</td>\n      <td>None</td>\n      <td>None</td>\n      <td>None</td>\n    </tr>\n    <tr>\n      <th>16</th>\n      <td>Houston</td>\n      <td>6772470</td>\n      <td>Texans</td>\n      <td>Astros</td>\n      <td>Rockets</td>\n      <td>None</td>\n    </tr>\n    <tr>\n      <th>17</th>\n      <td>Indianapolis</td>\n      <td>2004230</td>\n      <td>Colts</td>\n      <td>None</td>\n      <td>Pacers</td>\n      <td>None</td>\n    </tr>\n    <tr>\n      <th>18</th>\n      <td>Jacksonville</td>\n      <td>1478212</td>\n      <td>Jaguars</td>\n      <td>None</td>\n      <td>None</td>\n      <td>None</td>\n    </tr>\n    <tr>\n      <th>19</th>\n      <td>Kansas City</td>\n      <td>2104509</td>\n      <td>Chiefs</td>\n      <td>Royals</td>\n      <td>None</td>\n      <td>None</td>\n    </tr>\n    <tr>\n      <th>20</th>\n      <td>Las Vegas</td>\n      <td>2155664</td>\n      <td>None</td>\n      <td>None</td>\n      <td>None</td>\n      <td>Golden Knights</td>\n    </tr>\n    <tr>\n      <th>21</th>\n      <td>Los Angeles</td>\n      <td>13310447</td>\n      <td>Rams Chargers</td>\n      <td>Dodgers Angels</td>\n      <td>Lakers Clippers</td>\n      <td>Kings Ducks</td>\n    </tr>\n    <tr>\n      <th>22</th>\n      <td>Memphis</td>\n      <td>1342842</td>\n      <td>None</td>\n      <td>None</td>\n      <td>Grizzlies</td>\n      <td>None</td>\n    </tr>\n    <tr>\n      <th>23</th>\n      <td>Miami</td>\n      <td>6066387</td>\n      <td>Dolphins</td>\n      <td>Marlins</td>\n      <td>Heat</td>\n      <td>Panthers</td>\n    </tr>\n    <tr>\n      <th>24</th>\n      <td>Milwaukee</td>\n      <td>1572482</td>\n      <td>None</td>\n      <td>Brewers</td>\n      <td>Bucks</td>\n      <td>None</td>\n    </tr>\n    <tr>\n      <th>25</th>\n      <td>Minneapolis</td>\n      <td>3551036</td>\n      <td>Vikings</td>\n      <td>Twins</td>\n      <td>Timberwolves</td>\n      <td>Wild</td>\n    </tr>\n    <tr>\n      <th>26</th>\n      <td>Montreal</td>\n      <td>4098927</td>\n      <td>None</td>\n      <td>None</td>\n      <td>None</td>\n      <td>Canadiens</td>\n    </tr>\n    <tr>\n      <th>27</th>\n      <td>Nashville</td>\n      <td>1865298</td>\n      <td>Titans</td>\n      <td>None</td>\n      <td>None</td>\n      <td>Predators</td>\n    </tr>\n    <tr>\n      <th>28</th>\n      <td>New Orleans</td>\n      <td>1268883</td>\n      <td>Saints</td>\n      <td>None</td>\n      <td>Pelicans</td>\n      <td>None</td>\n    </tr>\n    <tr>\n      <th>29</th>\n      <td>New York</td>\n      <td>20153634</td>\n      <td>Giants Jets</td>\n      <td>Yankees Mets</td>\n      <td>Knicks Nets</td>\n      <td>Rangers Islanders Devils</td>\n    </tr>\n    <tr>\n      <th>30</th>\n      <td>Oklahoma City</td>\n      <td>1373211</td>\n      <td>None</td>\n      <td>None</td>\n      <td>Thunder</td>\n      <td>None</td>\n    </tr>\n    <tr>\n      <th>31</th>\n      <td>Orlando</td>\n      <td>2441257</td>\n      <td>None</td>\n      <td>None</td>\n      <td>Magic</td>\n      <td>None</td>\n    </tr>\n    <tr>\n      <th>32</th>\n      <td>Ottawa</td>\n      <td>1323783</td>\n      <td>None</td>\n      <td>None</td>\n      <td>None</td>\n      <td>Senators</td>\n    </tr>\n    <tr>\n      <th>33</th>\n      <td>Philadelphia</td>\n      <td>6070500</td>\n      <td>Eagles</td>\n      <td>Phillies</td>\n      <td>76ers</td>\n      <td>Flyers</td>\n    </tr>\n    <tr>\n      <th>34</th>\n      <td>Phoenix</td>\n      <td>4661537</td>\n      <td>Cardinals</td>\n      <td>Diamondbacks</td>\n      <td>Suns</td>\n      <td>Coyotes</td>\n    </tr>\n    <tr>\n      <th>35</th>\n      <td>Pittsburgh</td>\n      <td>2342299</td>\n      <td>Steelers</td>\n      <td>Pirates</td>\n      <td>None</td>\n      <td>Penguins</td>\n    </tr>\n    <tr>\n      <th>36</th>\n      <td>Portland</td>\n      <td>2424955</td>\n      <td>None</td>\n      <td>None</td>\n      <td>Trail Blazers</td>\n      <td>None</td>\n    </tr>\n    <tr>\n      <th>37</th>\n      <td>Raleigh</td>\n      <td>1302946</td>\n      <td>None</td>\n      <td>None</td>\n      <td>None</td>\n      <td>Hurricanes</td>\n    </tr>\n    <tr>\n      <th>38</th>\n      <td>Regina</td>\n      <td>236481</td>\n      <td>None</td>\n      <td>None</td>\n      <td>None</td>\n      <td>None</td>\n    </tr>\n    <tr>\n      <th>39</th>\n      <td>Sacramento</td>\n      <td>2296418</td>\n      <td>None</td>\n      <td>None</td>\n      <td>Kings</td>\n      <td>None</td>\n    </tr>\n    <tr>\n      <th>40</th>\n      <td>Salt Lake City</td>\n      <td>1186187</td>\n      <td>None</td>\n      <td>None</td>\n      <td>Jazz</td>\n      <td>None</td>\n    </tr>\n    <tr>\n      <th>41</th>\n      <td>San Antonio</td>\n      <td>2429609</td>\n      <td>None</td>\n      <td>None</td>\n      <td>Spurs</td>\n      <td>None</td>\n    </tr>\n    <tr>\n      <th>42</th>\n      <td>San Diego</td>\n      <td>3317749</td>\n      <td>None</td>\n      <td>Padres</td>\n      <td>None</td>\n      <td>None</td>\n    </tr>\n    <tr>\n      <th>43</th>\n      <td>San Francisco</td>\n      <td>6657982</td>\n      <td>49ers Raiders</td>\n      <td>Giants Athletics</td>\n      <td>Warriors</td>\n      <td>Sharks</td>\n    </tr>\n    <tr>\n      <th>44</th>\n      <td>Seattle</td>\n      <td>3798902</td>\n      <td>Seahawks</td>\n      <td>Mariners</td>\n      <td>None</td>\n      <td>None</td>\n    </tr>\n    <tr>\n      <th>45</th>\n      <td>St. Louis</td>\n      <td>2807002</td>\n      <td>None</td>\n      <td>Cardinals</td>\n      <td>None</td>\n      <td>Blues</td>\n    </tr>\n    <tr>\n      <th>46</th>\n      <td>Tampa Bay</td>\n      <td>3032171</td>\n      <td>Buccaneers</td>\n      <td>Rays</td>\n      <td>None</td>\n      <td>Lightning</td>\n    </tr>\n    <tr>\n      <th>47</th>\n      <td>Toronto</td>\n      <td>5928040</td>\n      <td>None</td>\n      <td>Blue Jays</td>\n      <td>Raptors</td>\n      <td>Maple Leafs</td>\n    </tr>\n    <tr>\n      <th>48</th>\n      <td>Vancouver</td>\n      <td>2463431</td>\n      <td>None</td>\n      <td>None</td>\n      <td>None</td>\n      <td>Canucks</td>\n    </tr>\n    <tr>\n      <th>49</th>\n      <td>Washington</td>\n      <td>6131977</td>\n      <td>Redskins</td>\n      <td>Nationals</td>\n      <td>Wizards</td>\n      <td>Capitals</td>\n    </tr>\n    <tr>\n      <th>50</th>\n      <td>Winnipeg</td>\n      <td>778489</td>\n      <td>None</td>\n      <td>None</td>\n      <td>None</td>\n      <td>Jets</td>\n    </tr>\n  </tbody>\n</table>\n</div>"
     },
     "metadata": {},
     "execution_count": 3
    }
   ],
   "source": [
    "city_replace = {'Dallas–Fort Worth':'Dallas','Miami–Fort Lauderdale':'Miami','Minneapolis–Saint Paul':'Minneapolis','New York City':'New York','San Francisco Bay Area':'San Francisco','Tampa Bay Area':'Tampa Bay','Washington, D.C.':'Washington','':'None','—':'None','— ':'None'}\n",
    "#row above does some name cleaning for the cities\n",
    "cities.replace(to_replace=city_replace,value = None, inplace=True)\n",
    "cities #this is the cleaned database for cities and their teams"
   ]
  },
  {
   "cell_type": "code",
   "execution_count": 4,
   "metadata": {},
   "outputs": [
    {
     "output_type": "stream",
     "name": "stdout",
     "text": [
      "(30, 3)\n"
     ]
    }
   ],
   "source": [
    "nhl_df = nhl_df[nhl_df['year'] == 2018] #take only year 2018\n",
    "#nhl_df.drop([0,9,18,26], axis = 0, inplace= True)\n",
    "nhl_df = nhl_df[['team','W','L',]] #take only the important stuff\n",
    "print(nhl_df.shape)\n",
    "replace_nhl = {'Arizona':'Phoenix','Colorado':'Denver','Minnesota':'Minneapolis','Oakland':'San Francisco','Texas':'Dallas','Toronto Blue':'Toronto','Jays':'Blue Jays'}"
   ]
  },
  {
   "cell_type": "code",
   "execution_count": 5,
   "metadata": {},
   "outputs": [
    {
     "output_type": "execute_result",
     "data": {
      "text/plain": [
       "                     team    W    L\n",
       "0          Boston Red Sox  108   54\n",
       "1        New York Yankees  100   62\n",
       "2          Tampa Bay Rays   90   72\n",
       "3       Toronto Blue Jays   73   89\n",
       "4       Baltimore Orioles   47  115\n",
       "5       Cleveland Indians   91   71\n",
       "6         Minnesota Twins   78   84\n",
       "7          Detroit Tigers   64   98\n",
       "8       Chicago White Sox   62  100\n",
       "9      Kansas City Royals   58  104\n",
       "10         Houston Astros  103   59\n",
       "11      Oakland Athletics   97   65\n",
       "12       Seattle Mariners   89   73\n",
       "13     Los Angeles Angels   80   82\n",
       "14          Texas Rangers   67   95\n",
       "15         Atlanta Braves   90   72\n",
       "16   Washington Nationals   82   80\n",
       "17  Philadelphia Phillies   80   82\n",
       "18          New York Mets   77   85\n",
       "19          Miami Marlins   63   98\n",
       "20      Milwaukee Brewers   96   67\n",
       "21           Chicago Cubs   95   68\n",
       "22    St. Louis Cardinals   88   74\n",
       "23     Pittsburgh Pirates   82   79\n",
       "24        Cincinnati Reds   67   95\n",
       "25    Los Angeles Dodgers   92   71\n",
       "26       Colorado Rockies   91   72\n",
       "27   Arizona Diamondbacks   82   80\n",
       "28   San Francisco Giants   73   89\n",
       "29       San Diego Padres   66   96"
      ],
      "text/html": "<div>\n<style scoped>\n    .dataframe tbody tr th:only-of-type {\n        vertical-align: middle;\n    }\n\n    .dataframe tbody tr th {\n        vertical-align: top;\n    }\n\n    .dataframe thead th {\n        text-align: right;\n    }\n</style>\n<table border=\"1\" class=\"dataframe\">\n  <thead>\n    <tr style=\"text-align: right;\">\n      <th></th>\n      <th>team</th>\n      <th>W</th>\n      <th>L</th>\n    </tr>\n  </thead>\n  <tbody>\n    <tr>\n      <th>0</th>\n      <td>Boston Red Sox</td>\n      <td>108</td>\n      <td>54</td>\n    </tr>\n    <tr>\n      <th>1</th>\n      <td>New York Yankees</td>\n      <td>100</td>\n      <td>62</td>\n    </tr>\n    <tr>\n      <th>2</th>\n      <td>Tampa Bay Rays</td>\n      <td>90</td>\n      <td>72</td>\n    </tr>\n    <tr>\n      <th>3</th>\n      <td>Toronto Blue Jays</td>\n      <td>73</td>\n      <td>89</td>\n    </tr>\n    <tr>\n      <th>4</th>\n      <td>Baltimore Orioles</td>\n      <td>47</td>\n      <td>115</td>\n    </tr>\n    <tr>\n      <th>5</th>\n      <td>Cleveland Indians</td>\n      <td>91</td>\n      <td>71</td>\n    </tr>\n    <tr>\n      <th>6</th>\n      <td>Minnesota Twins</td>\n      <td>78</td>\n      <td>84</td>\n    </tr>\n    <tr>\n      <th>7</th>\n      <td>Detroit Tigers</td>\n      <td>64</td>\n      <td>98</td>\n    </tr>\n    <tr>\n      <th>8</th>\n      <td>Chicago White Sox</td>\n      <td>62</td>\n      <td>100</td>\n    </tr>\n    <tr>\n      <th>9</th>\n      <td>Kansas City Royals</td>\n      <td>58</td>\n      <td>104</td>\n    </tr>\n    <tr>\n      <th>10</th>\n      <td>Houston Astros</td>\n      <td>103</td>\n      <td>59</td>\n    </tr>\n    <tr>\n      <th>11</th>\n      <td>Oakland Athletics</td>\n      <td>97</td>\n      <td>65</td>\n    </tr>\n    <tr>\n      <th>12</th>\n      <td>Seattle Mariners</td>\n      <td>89</td>\n      <td>73</td>\n    </tr>\n    <tr>\n      <th>13</th>\n      <td>Los Angeles Angels</td>\n      <td>80</td>\n      <td>82</td>\n    </tr>\n    <tr>\n      <th>14</th>\n      <td>Texas Rangers</td>\n      <td>67</td>\n      <td>95</td>\n    </tr>\n    <tr>\n      <th>15</th>\n      <td>Atlanta Braves</td>\n      <td>90</td>\n      <td>72</td>\n    </tr>\n    <tr>\n      <th>16</th>\n      <td>Washington Nationals</td>\n      <td>82</td>\n      <td>80</td>\n    </tr>\n    <tr>\n      <th>17</th>\n      <td>Philadelphia Phillies</td>\n      <td>80</td>\n      <td>82</td>\n    </tr>\n    <tr>\n      <th>18</th>\n      <td>New York Mets</td>\n      <td>77</td>\n      <td>85</td>\n    </tr>\n    <tr>\n      <th>19</th>\n      <td>Miami Marlins</td>\n      <td>63</td>\n      <td>98</td>\n    </tr>\n    <tr>\n      <th>20</th>\n      <td>Milwaukee Brewers</td>\n      <td>96</td>\n      <td>67</td>\n    </tr>\n    <tr>\n      <th>21</th>\n      <td>Chicago Cubs</td>\n      <td>95</td>\n      <td>68</td>\n    </tr>\n    <tr>\n      <th>22</th>\n      <td>St. Louis Cardinals</td>\n      <td>88</td>\n      <td>74</td>\n    </tr>\n    <tr>\n      <th>23</th>\n      <td>Pittsburgh Pirates</td>\n      <td>82</td>\n      <td>79</td>\n    </tr>\n    <tr>\n      <th>24</th>\n      <td>Cincinnati Reds</td>\n      <td>67</td>\n      <td>95</td>\n    </tr>\n    <tr>\n      <th>25</th>\n      <td>Los Angeles Dodgers</td>\n      <td>92</td>\n      <td>71</td>\n    </tr>\n    <tr>\n      <th>26</th>\n      <td>Colorado Rockies</td>\n      <td>91</td>\n      <td>72</td>\n    </tr>\n    <tr>\n      <th>27</th>\n      <td>Arizona Diamondbacks</td>\n      <td>82</td>\n      <td>80</td>\n    </tr>\n    <tr>\n      <th>28</th>\n      <td>San Francisco Giants</td>\n      <td>73</td>\n      <td>89</td>\n    </tr>\n    <tr>\n      <th>29</th>\n      <td>San Diego Padres</td>\n      <td>66</td>\n      <td>96</td>\n    </tr>\n  </tbody>\n</table>\n</div>"
     },
     "metadata": {},
     "execution_count": 5
    }
   ],
   "source": [
    "apply_cleaning(functions, nhl_df, list(nhl_df.columns)) #clean the database"
   ]
  },
  {
   "cell_type": "code",
   "execution_count": 6,
   "metadata": {},
   "outputs": [
    {
     "output_type": "execute_result",
     "data": {
      "text/plain": [
       "      W    L          Team           City\n",
       "0   108   54       Red Sox         Boston\n",
       "1   100   62       Yankees       New York\n",
       "2    90   72          Rays      Tampa Bay\n",
       "3    73   89          Jays   Toronto Blue\n",
       "4    47  115       Orioles      Baltimore\n",
       "5    91   71       Indians      Cleveland\n",
       "6    78   84         Twins      Minnesota\n",
       "7    64   98        Tigers        Detroit\n",
       "8    62  100     White Sox        Chicago\n",
       "9    58  104        Royals    Kansas City\n",
       "10  103   59        Astros        Houston\n",
       "11   97   65     Athletics        Oakland\n",
       "12   89   73      Mariners        Seattle\n",
       "13   80   82        Angels    Los Angeles\n",
       "14   67   95       Rangers          Texas\n",
       "15   90   72        Braves        Atlanta\n",
       "16   82   80     Nationals     Washington\n",
       "17   80   82      Phillies   Philadelphia\n",
       "18   77   85          Mets       New York\n",
       "19   63   98       Marlins          Miami\n",
       "20   96   67       Brewers      Milwaukee\n",
       "21   95   68          Cubs        Chicago\n",
       "22   88   74     Cardinals      St. Louis\n",
       "23   82   79       Pirates     Pittsburgh\n",
       "24   67   95          Reds     Cincinnati\n",
       "25   92   71       Dodgers    Los Angeles\n",
       "26   91   72       Rockies       Colorado\n",
       "27   82   80  Diamondbacks        Arizona\n",
       "28   73   89        Giants  San Francisco\n",
       "29   66   96        Padres      San Diego"
      ],
      "text/html": "<div>\n<style scoped>\n    .dataframe tbody tr th:only-of-type {\n        vertical-align: middle;\n    }\n\n    .dataframe tbody tr th {\n        vertical-align: top;\n    }\n\n    .dataframe thead th {\n        text-align: right;\n    }\n</style>\n<table border=\"1\" class=\"dataframe\">\n  <thead>\n    <tr style=\"text-align: right;\">\n      <th></th>\n      <th>W</th>\n      <th>L</th>\n      <th>Team</th>\n      <th>City</th>\n    </tr>\n  </thead>\n  <tbody>\n    <tr>\n      <th>0</th>\n      <td>108</td>\n      <td>54</td>\n      <td>Red Sox</td>\n      <td>Boston</td>\n    </tr>\n    <tr>\n      <th>1</th>\n      <td>100</td>\n      <td>62</td>\n      <td>Yankees</td>\n      <td>New York</td>\n    </tr>\n    <tr>\n      <th>2</th>\n      <td>90</td>\n      <td>72</td>\n      <td>Rays</td>\n      <td>Tampa Bay</td>\n    </tr>\n    <tr>\n      <th>3</th>\n      <td>73</td>\n      <td>89</td>\n      <td>Jays</td>\n      <td>Toronto Blue</td>\n    </tr>\n    <tr>\n      <th>4</th>\n      <td>47</td>\n      <td>115</td>\n      <td>Orioles</td>\n      <td>Baltimore</td>\n    </tr>\n    <tr>\n      <th>5</th>\n      <td>91</td>\n      <td>71</td>\n      <td>Indians</td>\n      <td>Cleveland</td>\n    </tr>\n    <tr>\n      <th>6</th>\n      <td>78</td>\n      <td>84</td>\n      <td>Twins</td>\n      <td>Minnesota</td>\n    </tr>\n    <tr>\n      <th>7</th>\n      <td>64</td>\n      <td>98</td>\n      <td>Tigers</td>\n      <td>Detroit</td>\n    </tr>\n    <tr>\n      <th>8</th>\n      <td>62</td>\n      <td>100</td>\n      <td>White Sox</td>\n      <td>Chicago</td>\n    </tr>\n    <tr>\n      <th>9</th>\n      <td>58</td>\n      <td>104</td>\n      <td>Royals</td>\n      <td>Kansas City</td>\n    </tr>\n    <tr>\n      <th>10</th>\n      <td>103</td>\n      <td>59</td>\n      <td>Astros</td>\n      <td>Houston</td>\n    </tr>\n    <tr>\n      <th>11</th>\n      <td>97</td>\n      <td>65</td>\n      <td>Athletics</td>\n      <td>Oakland</td>\n    </tr>\n    <tr>\n      <th>12</th>\n      <td>89</td>\n      <td>73</td>\n      <td>Mariners</td>\n      <td>Seattle</td>\n    </tr>\n    <tr>\n      <th>13</th>\n      <td>80</td>\n      <td>82</td>\n      <td>Angels</td>\n      <td>Los Angeles</td>\n    </tr>\n    <tr>\n      <th>14</th>\n      <td>67</td>\n      <td>95</td>\n      <td>Rangers</td>\n      <td>Texas</td>\n    </tr>\n    <tr>\n      <th>15</th>\n      <td>90</td>\n      <td>72</td>\n      <td>Braves</td>\n      <td>Atlanta</td>\n    </tr>\n    <tr>\n      <th>16</th>\n      <td>82</td>\n      <td>80</td>\n      <td>Nationals</td>\n      <td>Washington</td>\n    </tr>\n    <tr>\n      <th>17</th>\n      <td>80</td>\n      <td>82</td>\n      <td>Phillies</td>\n      <td>Philadelphia</td>\n    </tr>\n    <tr>\n      <th>18</th>\n      <td>77</td>\n      <td>85</td>\n      <td>Mets</td>\n      <td>New York</td>\n    </tr>\n    <tr>\n      <th>19</th>\n      <td>63</td>\n      <td>98</td>\n      <td>Marlins</td>\n      <td>Miami</td>\n    </tr>\n    <tr>\n      <th>20</th>\n      <td>96</td>\n      <td>67</td>\n      <td>Brewers</td>\n      <td>Milwaukee</td>\n    </tr>\n    <tr>\n      <th>21</th>\n      <td>95</td>\n      <td>68</td>\n      <td>Cubs</td>\n      <td>Chicago</td>\n    </tr>\n    <tr>\n      <th>22</th>\n      <td>88</td>\n      <td>74</td>\n      <td>Cardinals</td>\n      <td>St. Louis</td>\n    </tr>\n    <tr>\n      <th>23</th>\n      <td>82</td>\n      <td>79</td>\n      <td>Pirates</td>\n      <td>Pittsburgh</td>\n    </tr>\n    <tr>\n      <th>24</th>\n      <td>67</td>\n      <td>95</td>\n      <td>Reds</td>\n      <td>Cincinnati</td>\n    </tr>\n    <tr>\n      <th>25</th>\n      <td>92</td>\n      <td>71</td>\n      <td>Dodgers</td>\n      <td>Los Angeles</td>\n    </tr>\n    <tr>\n      <th>26</th>\n      <td>91</td>\n      <td>72</td>\n      <td>Rockies</td>\n      <td>Colorado</td>\n    </tr>\n    <tr>\n      <th>27</th>\n      <td>82</td>\n      <td>80</td>\n      <td>Diamondbacks</td>\n      <td>Arizona</td>\n    </tr>\n    <tr>\n      <th>28</th>\n      <td>73</td>\n      <td>89</td>\n      <td>Giants</td>\n      <td>San Francisco</td>\n    </tr>\n    <tr>\n      <th>29</th>\n      <td>66</td>\n      <td>96</td>\n      <td>Padres</td>\n      <td>San Diego</td>\n    </tr>\n  </tbody>\n</table>\n</div>"
     },
     "metadata": {},
     "execution_count": 6
    }
   ],
   "source": [
    "def splitname(row):\n",
    "    if 'Red Sox' in row['team']:\n",
    "        row['Team'] = 'Red Sox'\n",
    "        row['City'] = 'Boston'\n",
    "        return row\n",
    "    if 'White Sox' in row['team']:\n",
    "        row['Team']  = 'White Sox'\n",
    "        row['City'] = 'Chicago'\n",
    "        return row\n",
    "    else:\n",
    "        row['Team']=row['team'].split(\" \")[-1]\n",
    "        s=row['team'].split(\" \")[:-1]\n",
    "        row['City']=' '.join(map(str, s)) #make it a single string instead of a list\n",
    "        return row\n",
    "\n",
    "nhl_df=nhl_df.apply(splitname, axis='columns')  #separe teams from cities\n",
    "del(nhl_df['team'])\n",
    "nhl_df"
   ]
  },
  {
   "cell_type": "code",
   "execution_count": 7,
   "metadata": {},
   "outputs": [
    {
     "output_type": "execute_result",
     "data": {
      "text/plain": [
       "                 W    L          Team\n",
       "City                                 \n",
       "Atlanta         90   72        Braves\n",
       "Baltimore       47  115       Orioles\n",
       "Boston         108   54       Red Sox\n",
       "Chicago         95   68          Cubs\n",
       "Chicago         62  100     White Sox\n",
       "Cincinnati      67   95          Reds\n",
       "Cleveland       91   71       Indians\n",
       "Dallas          67   95       Rangers\n",
       "Denver          91   72       Rockies\n",
       "Detroit         64   98        Tigers\n",
       "Houston        103   59        Astros\n",
       "Kansas City     58  104        Royals\n",
       "Los Angeles     92   71       Dodgers\n",
       "Los Angeles     80   82        Angels\n",
       "Miami           63   98       Marlins\n",
       "Milwaukee       96   67       Brewers\n",
       "Minneapolis     78   84         Twins\n",
       "New York       100   62       Yankees\n",
       "New York        77   85          Mets\n",
       "Philadelphia    80   82      Phillies\n",
       "Phoenix         82   80  Diamondbacks\n",
       "Pittsburgh      82   79       Pirates\n",
       "San Diego       66   96        Padres\n",
       "San Francisco   73   89        Giants\n",
       "San Francisco   97   65     Athletics\n",
       "Seattle         89   73      Mariners\n",
       "St. Louis       88   74     Cardinals\n",
       "Tampa Bay       90   72          Rays\n",
       "Toronto         73   89     Blue Jays\n",
       "Washington      82   80     Nationals"
      ],
      "text/html": "<div>\n<style scoped>\n    .dataframe tbody tr th:only-of-type {\n        vertical-align: middle;\n    }\n\n    .dataframe tbody tr th {\n        vertical-align: top;\n    }\n\n    .dataframe thead th {\n        text-align: right;\n    }\n</style>\n<table border=\"1\" class=\"dataframe\">\n  <thead>\n    <tr style=\"text-align: right;\">\n      <th></th>\n      <th>W</th>\n      <th>L</th>\n      <th>Team</th>\n    </tr>\n    <tr>\n      <th>City</th>\n      <th></th>\n      <th></th>\n      <th></th>\n    </tr>\n  </thead>\n  <tbody>\n    <tr>\n      <th>Atlanta</th>\n      <td>90</td>\n      <td>72</td>\n      <td>Braves</td>\n    </tr>\n    <tr>\n      <th>Baltimore</th>\n      <td>47</td>\n      <td>115</td>\n      <td>Orioles</td>\n    </tr>\n    <tr>\n      <th>Boston</th>\n      <td>108</td>\n      <td>54</td>\n      <td>Red Sox</td>\n    </tr>\n    <tr>\n      <th>Chicago</th>\n      <td>95</td>\n      <td>68</td>\n      <td>Cubs</td>\n    </tr>\n    <tr>\n      <th>Chicago</th>\n      <td>62</td>\n      <td>100</td>\n      <td>White Sox</td>\n    </tr>\n    <tr>\n      <th>Cincinnati</th>\n      <td>67</td>\n      <td>95</td>\n      <td>Reds</td>\n    </tr>\n    <tr>\n      <th>Cleveland</th>\n      <td>91</td>\n      <td>71</td>\n      <td>Indians</td>\n    </tr>\n    <tr>\n      <th>Dallas</th>\n      <td>67</td>\n      <td>95</td>\n      <td>Rangers</td>\n    </tr>\n    <tr>\n      <th>Denver</th>\n      <td>91</td>\n      <td>72</td>\n      <td>Rockies</td>\n    </tr>\n    <tr>\n      <th>Detroit</th>\n      <td>64</td>\n      <td>98</td>\n      <td>Tigers</td>\n    </tr>\n    <tr>\n      <th>Houston</th>\n      <td>103</td>\n      <td>59</td>\n      <td>Astros</td>\n    </tr>\n    <tr>\n      <th>Kansas City</th>\n      <td>58</td>\n      <td>104</td>\n      <td>Royals</td>\n    </tr>\n    <tr>\n      <th>Los Angeles</th>\n      <td>92</td>\n      <td>71</td>\n      <td>Dodgers</td>\n    </tr>\n    <tr>\n      <th>Los Angeles</th>\n      <td>80</td>\n      <td>82</td>\n      <td>Angels</td>\n    </tr>\n    <tr>\n      <th>Miami</th>\n      <td>63</td>\n      <td>98</td>\n      <td>Marlins</td>\n    </tr>\n    <tr>\n      <th>Milwaukee</th>\n      <td>96</td>\n      <td>67</td>\n      <td>Brewers</td>\n    </tr>\n    <tr>\n      <th>Minneapolis</th>\n      <td>78</td>\n      <td>84</td>\n      <td>Twins</td>\n    </tr>\n    <tr>\n      <th>New York</th>\n      <td>100</td>\n      <td>62</td>\n      <td>Yankees</td>\n    </tr>\n    <tr>\n      <th>New York</th>\n      <td>77</td>\n      <td>85</td>\n      <td>Mets</td>\n    </tr>\n    <tr>\n      <th>Philadelphia</th>\n      <td>80</td>\n      <td>82</td>\n      <td>Phillies</td>\n    </tr>\n    <tr>\n      <th>Phoenix</th>\n      <td>82</td>\n      <td>80</td>\n      <td>Diamondbacks</td>\n    </tr>\n    <tr>\n      <th>Pittsburgh</th>\n      <td>82</td>\n      <td>79</td>\n      <td>Pirates</td>\n    </tr>\n    <tr>\n      <th>San Diego</th>\n      <td>66</td>\n      <td>96</td>\n      <td>Padres</td>\n    </tr>\n    <tr>\n      <th>San Francisco</th>\n      <td>73</td>\n      <td>89</td>\n      <td>Giants</td>\n    </tr>\n    <tr>\n      <th>San Francisco</th>\n      <td>97</td>\n      <td>65</td>\n      <td>Athletics</td>\n    </tr>\n    <tr>\n      <th>Seattle</th>\n      <td>89</td>\n      <td>73</td>\n      <td>Mariners</td>\n    </tr>\n    <tr>\n      <th>St. Louis</th>\n      <td>88</td>\n      <td>74</td>\n      <td>Cardinals</td>\n    </tr>\n    <tr>\n      <th>Tampa Bay</th>\n      <td>90</td>\n      <td>72</td>\n      <td>Rays</td>\n    </tr>\n    <tr>\n      <th>Toronto</th>\n      <td>73</td>\n      <td>89</td>\n      <td>Blue Jays</td>\n    </tr>\n    <tr>\n      <th>Washington</th>\n      <td>82</td>\n      <td>80</td>\n      <td>Nationals</td>\n    </tr>\n  </tbody>\n</table>\n</div>"
     },
     "metadata": {},
     "execution_count": 7
    }
   ],
   "source": [
    "nhl_df.replace(to_replace=replace_nhl,value=None,inplace=True) #clean \"special\" teams' names\n",
    "nhl_df = nhl_df.set_index('City')\n",
    "nhl_df.sort_values('City', axis=0, inplace=True)\n",
    "nhl_df"
   ]
  },
  {
   "cell_type": "code",
   "execution_count": 8,
   "metadata": {},
   "outputs": [
    {
     "output_type": "stream",
     "name": "stdout",
     "text": [
      "nr of cities: 26, nr of MLB teams: 30\n"
     ]
    },
    {
     "output_type": "execute_result",
     "data": {
      "text/plain": [
       "           Population             MLB\n",
       "City                                 \n",
       "Atlanta       5789700          Braves\n",
       "Baltimore     2798886         Orioles\n",
       "Boston        4794447         Red Sox\n",
       "Chicago       9512999  Cubs White Sox\n",
       "Cincinnati    2165139            Reds"
      ],
      "text/html": "<div>\n<style scoped>\n    .dataframe tbody tr th:only-of-type {\n        vertical-align: middle;\n    }\n\n    .dataframe tbody tr th {\n        vertical-align: top;\n    }\n\n    .dataframe thead th {\n        text-align: right;\n    }\n</style>\n<table border=\"1\" class=\"dataframe\">\n  <thead>\n    <tr style=\"text-align: right;\">\n      <th></th>\n      <th>Population</th>\n      <th>MLB</th>\n    </tr>\n    <tr>\n      <th>City</th>\n      <th></th>\n      <th></th>\n    </tr>\n  </thead>\n  <tbody>\n    <tr>\n      <th>Atlanta</th>\n      <td>5789700</td>\n      <td>Braves</td>\n    </tr>\n    <tr>\n      <th>Baltimore</th>\n      <td>2798886</td>\n      <td>Orioles</td>\n    </tr>\n    <tr>\n      <th>Boston</th>\n      <td>4794447</td>\n      <td>Red Sox</td>\n    </tr>\n    <tr>\n      <th>Chicago</th>\n      <td>9512999</td>\n      <td>Cubs White Sox</td>\n    </tr>\n    <tr>\n      <th>Cincinnati</th>\n      <td>2165139</td>\n      <td>Reds</td>\n    </tr>\n  </tbody>\n</table>\n</div>"
     },
     "metadata": {},
     "execution_count": 8
    }
   ],
   "source": [
    "cities_nhl = cities[cities[big4] != 'None'] #take all the cities that have a \"NBA\" team\n",
    "cities_nhl = cities_nhl[['Metropolitan area','Population',big4]] # filter only interesting parameters\n",
    "cities_nhl = cities_nhl.set_index('Metropolitan area') \n",
    "cities_nhl.index.rename('City', inplace=True) \n",
    "print('nr of cities: {}, nr of {} teams: {}'.format(cities_nhl.shape[0],big4,nhl_df.shape[0]))\n",
    "cities_nhl.head()"
   ]
  },
  {
   "source": [
    "### This passage here is to check for manual cleaning"
   ],
   "cell_type": "markdown",
   "metadata": {}
  },
  {
   "cell_type": "code",
   "execution_count": 9,
   "metadata": {},
   "outputs": [],
   "source": [
    "#cities_nhl[~cities_nhl.index.isin(nhl_df.index)] #show cities that are not in the NBA dataframe\n",
    "#nhl_df[~nhl_df.index.isin(cities_nhl.index)] #Check what cities are not matching the names"
   ]
  },
  {
   "cell_type": "code",
   "execution_count": 10,
   "metadata": {},
   "outputs": [
    {
     "output_type": "stream",
     "name": "stdout",
     "text": [
      "(30, 5)\n"
     ]
    },
    {
     "output_type": "execute_result",
     "data": {
      "text/plain": [
       "              Population    W    L          Team  W/L Ratio\n",
       "City                                                       \n",
       "Atlanta          5789700   90   72        Braves   0.555556\n",
       "Baltimore        2798886   47  115       Orioles   0.290123\n",
       "Boston           4794447  108   54       Red Sox   0.666667\n",
       "Chicago          9512999   95   68          Cubs   0.582822\n",
       "Chicago          9512999   62  100     White Sox   0.382716\n",
       "Cincinnati       2165139   67   95          Reds   0.413580\n",
       "Cleveland        2055612   91   71       Indians   0.561728\n",
       "Dallas           7233323   67   95       Rangers   0.413580\n",
       "Denver           2853077   91   72       Rockies   0.558282\n",
       "Detroit          4297617   64   98        Tigers   0.395062\n",
       "Houston          6772470  103   59        Astros   0.635802\n",
       "Kansas City      2104509   58  104        Royals   0.358025\n",
       "Los Angeles     13310447   92   71       Dodgers   0.564417\n",
       "Los Angeles     13310447   80   82        Angels   0.493827\n",
       "Miami            6066387   63   98       Marlins   0.391304\n",
       "Milwaukee        1572482   96   67       Brewers   0.588957\n",
       "Minneapolis      3551036   78   84         Twins   0.481481\n",
       "New York        20153634  100   62       Yankees   0.617284\n",
       "New York        20153634   77   85          Mets   0.475309\n",
       "Philadelphia     6070500   80   82      Phillies   0.493827\n",
       "Phoenix          4661537   82   80  Diamondbacks   0.506173\n",
       "Pittsburgh       2342299   82   79       Pirates   0.509317\n",
       "San Diego        3317749   66   96        Padres   0.407407\n",
       "San Francisco    6657982   73   89        Giants   0.450617\n",
       "San Francisco    6657982   97   65     Athletics   0.598765\n",
       "Seattle          3798902   89   73      Mariners   0.549383\n",
       "St. Louis        2807002   88   74     Cardinals   0.543210\n",
       "Tampa Bay        3032171   90   72          Rays   0.555556\n",
       "Toronto          5928040   73   89     Blue Jays   0.450617\n",
       "Washington       6131977   82   80     Nationals   0.506173"
      ],
      "text/html": "<div>\n<style scoped>\n    .dataframe tbody tr th:only-of-type {\n        vertical-align: middle;\n    }\n\n    .dataframe tbody tr th {\n        vertical-align: top;\n    }\n\n    .dataframe thead th {\n        text-align: right;\n    }\n</style>\n<table border=\"1\" class=\"dataframe\">\n  <thead>\n    <tr style=\"text-align: right;\">\n      <th></th>\n      <th>Population</th>\n      <th>W</th>\n      <th>L</th>\n      <th>Team</th>\n      <th>W/L Ratio</th>\n    </tr>\n    <tr>\n      <th>City</th>\n      <th></th>\n      <th></th>\n      <th></th>\n      <th></th>\n      <th></th>\n    </tr>\n  </thead>\n  <tbody>\n    <tr>\n      <th>Atlanta</th>\n      <td>5789700</td>\n      <td>90</td>\n      <td>72</td>\n      <td>Braves</td>\n      <td>0.555556</td>\n    </tr>\n    <tr>\n      <th>Baltimore</th>\n      <td>2798886</td>\n      <td>47</td>\n      <td>115</td>\n      <td>Orioles</td>\n      <td>0.290123</td>\n    </tr>\n    <tr>\n      <th>Boston</th>\n      <td>4794447</td>\n      <td>108</td>\n      <td>54</td>\n      <td>Red Sox</td>\n      <td>0.666667</td>\n    </tr>\n    <tr>\n      <th>Chicago</th>\n      <td>9512999</td>\n      <td>95</td>\n      <td>68</td>\n      <td>Cubs</td>\n      <td>0.582822</td>\n    </tr>\n    <tr>\n      <th>Chicago</th>\n      <td>9512999</td>\n      <td>62</td>\n      <td>100</td>\n      <td>White Sox</td>\n      <td>0.382716</td>\n    </tr>\n    <tr>\n      <th>Cincinnati</th>\n      <td>2165139</td>\n      <td>67</td>\n      <td>95</td>\n      <td>Reds</td>\n      <td>0.413580</td>\n    </tr>\n    <tr>\n      <th>Cleveland</th>\n      <td>2055612</td>\n      <td>91</td>\n      <td>71</td>\n      <td>Indians</td>\n      <td>0.561728</td>\n    </tr>\n    <tr>\n      <th>Dallas</th>\n      <td>7233323</td>\n      <td>67</td>\n      <td>95</td>\n      <td>Rangers</td>\n      <td>0.413580</td>\n    </tr>\n    <tr>\n      <th>Denver</th>\n      <td>2853077</td>\n      <td>91</td>\n      <td>72</td>\n      <td>Rockies</td>\n      <td>0.558282</td>\n    </tr>\n    <tr>\n      <th>Detroit</th>\n      <td>4297617</td>\n      <td>64</td>\n      <td>98</td>\n      <td>Tigers</td>\n      <td>0.395062</td>\n    </tr>\n    <tr>\n      <th>Houston</th>\n      <td>6772470</td>\n      <td>103</td>\n      <td>59</td>\n      <td>Astros</td>\n      <td>0.635802</td>\n    </tr>\n    <tr>\n      <th>Kansas City</th>\n      <td>2104509</td>\n      <td>58</td>\n      <td>104</td>\n      <td>Royals</td>\n      <td>0.358025</td>\n    </tr>\n    <tr>\n      <th>Los Angeles</th>\n      <td>13310447</td>\n      <td>92</td>\n      <td>71</td>\n      <td>Dodgers</td>\n      <td>0.564417</td>\n    </tr>\n    <tr>\n      <th>Los Angeles</th>\n      <td>13310447</td>\n      <td>80</td>\n      <td>82</td>\n      <td>Angels</td>\n      <td>0.493827</td>\n    </tr>\n    <tr>\n      <th>Miami</th>\n      <td>6066387</td>\n      <td>63</td>\n      <td>98</td>\n      <td>Marlins</td>\n      <td>0.391304</td>\n    </tr>\n    <tr>\n      <th>Milwaukee</th>\n      <td>1572482</td>\n      <td>96</td>\n      <td>67</td>\n      <td>Brewers</td>\n      <td>0.588957</td>\n    </tr>\n    <tr>\n      <th>Minneapolis</th>\n      <td>3551036</td>\n      <td>78</td>\n      <td>84</td>\n      <td>Twins</td>\n      <td>0.481481</td>\n    </tr>\n    <tr>\n      <th>New York</th>\n      <td>20153634</td>\n      <td>100</td>\n      <td>62</td>\n      <td>Yankees</td>\n      <td>0.617284</td>\n    </tr>\n    <tr>\n      <th>New York</th>\n      <td>20153634</td>\n      <td>77</td>\n      <td>85</td>\n      <td>Mets</td>\n      <td>0.475309</td>\n    </tr>\n    <tr>\n      <th>Philadelphia</th>\n      <td>6070500</td>\n      <td>80</td>\n      <td>82</td>\n      <td>Phillies</td>\n      <td>0.493827</td>\n    </tr>\n    <tr>\n      <th>Phoenix</th>\n      <td>4661537</td>\n      <td>82</td>\n      <td>80</td>\n      <td>Diamondbacks</td>\n      <td>0.506173</td>\n    </tr>\n    <tr>\n      <th>Pittsburgh</th>\n      <td>2342299</td>\n      <td>82</td>\n      <td>79</td>\n      <td>Pirates</td>\n      <td>0.509317</td>\n    </tr>\n    <tr>\n      <th>San Diego</th>\n      <td>3317749</td>\n      <td>66</td>\n      <td>96</td>\n      <td>Padres</td>\n      <td>0.407407</td>\n    </tr>\n    <tr>\n      <th>San Francisco</th>\n      <td>6657982</td>\n      <td>73</td>\n      <td>89</td>\n      <td>Giants</td>\n      <td>0.450617</td>\n    </tr>\n    <tr>\n      <th>San Francisco</th>\n      <td>6657982</td>\n      <td>97</td>\n      <td>65</td>\n      <td>Athletics</td>\n      <td>0.598765</td>\n    </tr>\n    <tr>\n      <th>Seattle</th>\n      <td>3798902</td>\n      <td>89</td>\n      <td>73</td>\n      <td>Mariners</td>\n      <td>0.549383</td>\n    </tr>\n    <tr>\n      <th>St. Louis</th>\n      <td>2807002</td>\n      <td>88</td>\n      <td>74</td>\n      <td>Cardinals</td>\n      <td>0.543210</td>\n    </tr>\n    <tr>\n      <th>Tampa Bay</th>\n      <td>3032171</td>\n      <td>90</td>\n      <td>72</td>\n      <td>Rays</td>\n      <td>0.555556</td>\n    </tr>\n    <tr>\n      <th>Toronto</th>\n      <td>5928040</td>\n      <td>73</td>\n      <td>89</td>\n      <td>Blue Jays</td>\n      <td>0.450617</td>\n    </tr>\n    <tr>\n      <th>Washington</th>\n      <td>6131977</td>\n      <td>82</td>\n      <td>80</td>\n      <td>Nationals</td>\n      <td>0.506173</td>\n    </tr>\n  </tbody>\n</table>\n</div>"
     },
     "metadata": {},
     "execution_count": 10
    }
   ],
   "source": [
    "cities_nhl = cities_nhl.merge(nhl_df, left_index=True, right_index=True)\n",
    "cities_nhl.drop(labels=big4, axis = 1, inplace=True)\n",
    "cities_nhl['W/L Ratio'] = cities_nhl['W'].astype('float64')/(cities_nhl['L'].astype('float64') + cities_nhl['W'].astype('float64'))\n",
    "print(cities_nhl.shape)\n",
    "cities_nhl\n"
   ]
  },
  {
   "cell_type": "code",
   "execution_count": 11,
   "metadata": {},
   "outputs": [
    {
     "output_type": "stream",
     "name": "stdout",
     "text": [
      "answer to question 1: 0.19149307167656843\n"
     ]
    }
   ],
   "source": [
    "cities_nhl['Avg. Ratio'] = cities_nhl.groupby(cities_nhl.index).agg(np.mean)\n",
    "cities_nhl['Population'] = cities_nhl['Population'].astype('int64')\n",
    "corr1 = cities_nhl['Population'].corr(cities_nhl['Avg. Ratio'],method='pearson')\n",
    "print('answer to question 1: {}'.format(corr1))"
   ]
  },
  {
   "cell_type": "code",
   "execution_count": 12,
   "metadata": {},
   "outputs": [],
   "source": [
    "ans_df = cities_nhl[['Population','Avg. Ratio']]\n",
    "ans_df.drop_duplicates(inplace=True)"
   ]
  },
  {
   "cell_type": "code",
   "execution_count": 13,
   "metadata": {},
   "outputs": [],
   "source": [
    "population_by_region = list(ans_df['Population'])\n",
    "win_loss_by_region = list(ans_df['Avg. Ratio'])"
   ]
  },
  {
   "cell_type": "code",
   "execution_count": 14,
   "metadata": {},
   "outputs": [
    {
     "output_type": "execute_result",
     "data": {
      "text/plain": [
       "0.15027698302669307"
      ]
     },
     "metadata": {},
     "execution_count": 14
    }
   ],
   "source": [
    "stats.pearsonr(population_by_region, win_loss_by_region)[0]"
   ]
  },
  {
   "cell_type": "code",
   "execution_count": 15,
   "metadata": {},
   "outputs": [
    {
     "output_type": "execute_result",
     "data": {
      "text/plain": [
       "[5789700,\n",
       " 2798886,\n",
       " 4794447,\n",
       " 9512999,\n",
       " 2165139,\n",
       " 2055612,\n",
       " 7233323,\n",
       " 2853077,\n",
       " 4297617,\n",
       " 6772470,\n",
       " 2104509,\n",
       " 13310447,\n",
       " 6066387,\n",
       " 1572482,\n",
       " 3551036,\n",
       " 20153634,\n",
       " 6070500,\n",
       " 4661537,\n",
       " 2342299,\n",
       " 3317749,\n",
       " 6657982,\n",
       " 3798902,\n",
       " 2807002,\n",
       " 3032171,\n",
       " 5928040,\n",
       " 6131977]"
      ]
     },
     "metadata": {},
     "execution_count": 15
    }
   ],
   "source": [
    "population_by_region"
   ]
  },
  {
   "cell_type": "code",
   "execution_count": 16,
   "metadata": {},
   "outputs": [
    {
     "output_type": "execute_result",
     "data": {
      "text/plain": [
       "26"
      ]
     },
     "metadata": {},
     "execution_count": 16
    }
   ],
   "source": [
    "len(win_loss_by_region)"
   ]
  },
  {
   "cell_type": "code",
   "execution_count": 17,
   "metadata": {},
   "outputs": [
    {
     "output_type": "execute_result",
     "data": {
      "text/plain": [
       "[0.5555555555555556,\n",
       " 0.29012345679012347,\n",
       " 0.6666666666666666,\n",
       " 0.48276906763614325,\n",
       " 0.41358024691358025,\n",
       " 0.5617283950617284,\n",
       " 0.41358024691358025,\n",
       " 0.558282208588957,\n",
       " 0.3950617283950617,\n",
       " 0.6358024691358025,\n",
       " 0.35802469135802467,\n",
       " 0.5291221692039687,\n",
       " 0.391304347826087,\n",
       " 0.588957055214724,\n",
       " 0.48148148148148145,\n",
       " 0.5462962962962963,\n",
       " 0.49382716049382713,\n",
       " 0.5061728395061729,\n",
       " 0.5093167701863354,\n",
       " 0.4074074074074074,\n",
       " 0.5246913580246914,\n",
       " 0.5493827160493827,\n",
       " 0.5432098765432098,\n",
       " 0.5555555555555556,\n",
       " 0.4506172839506173,\n",
       " 0.5061728395061729]"
      ]
     },
     "metadata": {},
     "execution_count": 17
    }
   ],
   "source": [
    "win_loss_by_region"
   ]
  },
  {
   "cell_type": "code",
   "execution_count": 18,
   "metadata": {},
   "outputs": [],
   "source": [
    "cities_nhl.to_csv('assets/cleaned_'+big4+'.csv')"
   ]
  }
 ]
}