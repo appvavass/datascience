{
 "metadata": {
  "language_info": {
   "codemirror_mode": {
    "name": "ipython",
    "version": 3
   },
   "file_extension": ".py",
   "mimetype": "text/x-python",
   "name": "python",
   "nbconvert_exporter": "python",
   "pygments_lexer": "ipython3",
   "version": "3.8.6-candidate"
  },
  "orig_nbformat": 2,
  "kernelspec": {
   "name": "python3",
   "display_name": "Python 3",
   "language": "python"
  }
 },
 "nbformat": 4,
 "nbformat_minor": 2,
 "cells": [
  {
   "cell_type": "code",
   "execution_count": 29,
   "metadata": {},
   "outputs": [
    {
     "output_type": "execute_result",
     "data": {
      "text/plain": [
       "               0\n",
       "0        Vietnam\n",
       "1  United States\n",
       "2           Iran\n",
       "3    South Korea"
      ],
      "text/html": "<div>\n<style scoped>\n    .dataframe tbody tr th:only-of-type {\n        vertical-align: middle;\n    }\n\n    .dataframe tbody tr th {\n        vertical-align: top;\n    }\n\n    .dataframe thead th {\n        text-align: right;\n    }\n</style>\n<table border=\"1\" class=\"dataframe\">\n  <thead>\n    <tr style=\"text-align: right;\">\n      <th></th>\n      <th>0</th>\n    </tr>\n  </thead>\n  <tbody>\n    <tr>\n      <th>0</th>\n      <td>Vietnam</td>\n    </tr>\n    <tr>\n      <th>1</th>\n      <td>United States</td>\n    </tr>\n    <tr>\n      <th>2</th>\n      <td>Iran</td>\n    </tr>\n    <tr>\n      <th>3</th>\n      <td>South Korea</td>\n    </tr>\n  </tbody>\n</table>\n</div>"
     },
     "metadata": {},
     "execution_count": 29
    }
   ],
   "source": [
    "import pandas as pd\n",
    "A = pd.DataFrame(['Vietnam','United States','Iran','South Korea'],index = range(4))\n",
    "B = pd.DataFrame(['Viet nam','United States','Iran','Korea','Japan'],index = range(5))\n",
    "C = pd.DataFrame(['Viet nam','United States','Iran','Indonesia'])\n",
    "A"
   ]
  },
  {
   "cell_type": "code",
   "execution_count": 30,
   "metadata": {},
   "outputs": [
    {
     "output_type": "execute_result",
     "data": {
      "text/plain": [
       "               0\n",
       "0       Viet nam\n",
       "1  United States\n",
       "2           Iran\n",
       "3          Korea\n",
       "4          Japan"
      ],
      "text/html": "<div>\n<style scoped>\n    .dataframe tbody tr th:only-of-type {\n        vertical-align: middle;\n    }\n\n    .dataframe tbody tr th {\n        vertical-align: top;\n    }\n\n    .dataframe thead th {\n        text-align: right;\n    }\n</style>\n<table border=\"1\" class=\"dataframe\">\n  <thead>\n    <tr style=\"text-align: right;\">\n      <th></th>\n      <th>0</th>\n    </tr>\n  </thead>\n  <tbody>\n    <tr>\n      <th>0</th>\n      <td>Viet nam</td>\n    </tr>\n    <tr>\n      <th>1</th>\n      <td>United States</td>\n    </tr>\n    <tr>\n      <th>2</th>\n      <td>Iran</td>\n    </tr>\n    <tr>\n      <th>3</th>\n      <td>Korea</td>\n    </tr>\n    <tr>\n      <th>4</th>\n      <td>Japan</td>\n    </tr>\n  </tbody>\n</table>\n</div>"
     },
     "metadata": {},
     "execution_count": 30
    }
   ],
   "source": [
    "B"
   ]
  },
  {
   "cell_type": "code",
   "execution_count": 31,
   "metadata": {},
   "outputs": [
    {
     "output_type": "execute_result",
     "data": {
      "text/plain": [
       "               0\n",
       "0       Viet nam\n",
       "1  United States\n",
       "2           Iran\n",
       "3      Indonesia"
      ],
      "text/html": "<div>\n<style scoped>\n    .dataframe tbody tr th:only-of-type {\n        vertical-align: middle;\n    }\n\n    .dataframe tbody tr th {\n        vertical-align: top;\n    }\n\n    .dataframe thead th {\n        text-align: right;\n    }\n</style>\n<table border=\"1\" class=\"dataframe\">\n  <thead>\n    <tr style=\"text-align: right;\">\n      <th></th>\n      <th>0</th>\n    </tr>\n  </thead>\n  <tbody>\n    <tr>\n      <th>0</th>\n      <td>Viet nam</td>\n    </tr>\n    <tr>\n      <th>1</th>\n      <td>United States</td>\n    </tr>\n    <tr>\n      <th>2</th>\n      <td>Iran</td>\n    </tr>\n    <tr>\n      <th>3</th>\n      <td>Indonesia</td>\n    </tr>\n  </tbody>\n</table>\n</div>"
     },
     "metadata": {},
     "execution_count": 31
    }
   ],
   "source": [
    "C"
   ]
  },
  {
   "cell_type": "code",
   "execution_count": 32,
   "metadata": {},
   "outputs": [],
   "source": [
    "A.rename(columns={0:'Country'},inplace=True)\n",
    "B.rename(columns={0:'Country Name'},inplace=True)\n",
    "C.rename(columns={0:'Country Name'},inplace=True) "
   ]
  },
  {
   "cell_type": "code",
   "execution_count": 33,
   "metadata": {},
   "outputs": [
    {
     "output_type": "execute_result",
     "data": {
      "text/plain": [
       "         Country\n",
       "0        Vietnam\n",
       "1  United States\n",
       "2           Iran\n",
       "3    South Korea"
      ],
      "text/html": "<div>\n<style scoped>\n    .dataframe tbody tr th:only-of-type {\n        vertical-align: middle;\n    }\n\n    .dataframe tbody tr th {\n        vertical-align: top;\n    }\n\n    .dataframe thead th {\n        text-align: right;\n    }\n</style>\n<table border=\"1\" class=\"dataframe\">\n  <thead>\n    <tr style=\"text-align: right;\">\n      <th></th>\n      <th>Country</th>\n    </tr>\n  </thead>\n  <tbody>\n    <tr>\n      <th>0</th>\n      <td>Vietnam</td>\n    </tr>\n    <tr>\n      <th>1</th>\n      <td>United States</td>\n    </tr>\n    <tr>\n      <th>2</th>\n      <td>Iran</td>\n    </tr>\n    <tr>\n      <th>3</th>\n      <td>South Korea</td>\n    </tr>\n  </tbody>\n</table>\n</div>"
     },
     "metadata": {},
     "execution_count": 33
    }
   ],
   "source": [
    "A"
   ]
  },
  {
   "cell_type": "code",
   "execution_count": 34,
   "metadata": {},
   "outputs": [
    {
     "output_type": "execute_result",
     "data": {
      "text/plain": [
       "    Country Name\n",
       "0       Viet nam\n",
       "1  United States\n",
       "2           Iran\n",
       "3          Korea\n",
       "4          Japan"
      ],
      "text/html": "<div>\n<style scoped>\n    .dataframe tbody tr th:only-of-type {\n        vertical-align: middle;\n    }\n\n    .dataframe tbody tr th {\n        vertical-align: top;\n    }\n\n    .dataframe thead th {\n        text-align: right;\n    }\n</style>\n<table border=\"1\" class=\"dataframe\">\n  <thead>\n    <tr style=\"text-align: right;\">\n      <th></th>\n      <th>Country Name</th>\n    </tr>\n  </thead>\n  <tbody>\n    <tr>\n      <th>0</th>\n      <td>Viet nam</td>\n    </tr>\n    <tr>\n      <th>1</th>\n      <td>United States</td>\n    </tr>\n    <tr>\n      <th>2</th>\n      <td>Iran</td>\n    </tr>\n    <tr>\n      <th>3</th>\n      <td>Korea</td>\n    </tr>\n    <tr>\n      <th>4</th>\n      <td>Japan</td>\n    </tr>\n  </tbody>\n</table>\n</div>"
     },
     "metadata": {},
     "execution_count": 34
    }
   ],
   "source": [
    "B"
   ]
  },
  {
   "cell_type": "code",
   "execution_count": 35,
   "metadata": {},
   "outputs": [
    {
     "output_type": "execute_result",
     "data": {
      "text/plain": [
       "    Country Name\n",
       "0       Viet nam\n",
       "1  United States\n",
       "2           Iran\n",
       "3      Indonesia"
      ],
      "text/html": "<div>\n<style scoped>\n    .dataframe tbody tr th:only-of-type {\n        vertical-align: middle;\n    }\n\n    .dataframe tbody tr th {\n        vertical-align: top;\n    }\n\n    .dataframe thead th {\n        text-align: right;\n    }\n</style>\n<table border=\"1\" class=\"dataframe\">\n  <thead>\n    <tr style=\"text-align: right;\">\n      <th></th>\n      <th>Country Name</th>\n    </tr>\n  </thead>\n  <tbody>\n    <tr>\n      <th>0</th>\n      <td>Viet nam</td>\n    </tr>\n    <tr>\n      <th>1</th>\n      <td>United States</td>\n    </tr>\n    <tr>\n      <th>2</th>\n      <td>Iran</td>\n    </tr>\n    <tr>\n      <th>3</th>\n      <td>Indonesia</td>\n    </tr>\n  </tbody>\n</table>\n</div>"
     },
     "metadata": {},
     "execution_count": 35
    }
   ],
   "source": [
    "C"
   ]
  },
  {
   "cell_type": "code",
   "execution_count": 36,
   "metadata": {},
   "outputs": [],
   "source": [
    "D = pd.merge(A,B,how='outer',left_on='Country',right_on='Country Name')\n",
    "E = pd.merge(C,D,how='outer',left_on='Country Name',right_on='Country')"
   ]
  },
  {
   "cell_type": "code",
   "execution_count": 37,
   "metadata": {},
   "outputs": [
    {
     "output_type": "execute_result",
     "data": {
      "text/plain": [
       "         Country   Country Name\n",
       "0        Vietnam            NaN\n",
       "1  United States  United States\n",
       "2           Iran           Iran\n",
       "3    South Korea            NaN\n",
       "4            NaN       Viet nam\n",
       "5            NaN          Korea\n",
       "6            NaN          Japan"
      ],
      "text/html": "<div>\n<style scoped>\n    .dataframe tbody tr th:only-of-type {\n        vertical-align: middle;\n    }\n\n    .dataframe tbody tr th {\n        vertical-align: top;\n    }\n\n    .dataframe thead th {\n        text-align: right;\n    }\n</style>\n<table border=\"1\" class=\"dataframe\">\n  <thead>\n    <tr style=\"text-align: right;\">\n      <th></th>\n      <th>Country</th>\n      <th>Country Name</th>\n    </tr>\n  </thead>\n  <tbody>\n    <tr>\n      <th>0</th>\n      <td>Vietnam</td>\n      <td>NaN</td>\n    </tr>\n    <tr>\n      <th>1</th>\n      <td>United States</td>\n      <td>United States</td>\n    </tr>\n    <tr>\n      <th>2</th>\n      <td>Iran</td>\n      <td>Iran</td>\n    </tr>\n    <tr>\n      <th>3</th>\n      <td>South Korea</td>\n      <td>NaN</td>\n    </tr>\n    <tr>\n      <th>4</th>\n      <td>NaN</td>\n      <td>Viet nam</td>\n    </tr>\n    <tr>\n      <th>5</th>\n      <td>NaN</td>\n      <td>Korea</td>\n    </tr>\n    <tr>\n      <th>6</th>\n      <td>NaN</td>\n      <td>Japan</td>\n    </tr>\n  </tbody>\n</table>\n</div>"
     },
     "metadata": {},
     "execution_count": 37
    }
   ],
   "source": [
    "D"
   ]
  },
  {
   "cell_type": "code",
   "execution_count": 38,
   "metadata": {},
   "outputs": [
    {
     "output_type": "execute_result",
     "data": {
      "text/plain": [
       "  Country Name_x        Country Country Name_y\n",
       "0       Viet nam            NaN            NaN\n",
       "1  United States  United States  United States\n",
       "2           Iran           Iran           Iran\n",
       "3      Indonesia            NaN            NaN\n",
       "4            NaN        Vietnam            NaN\n",
       "5            NaN    South Korea            NaN\n",
       "6            NaN            NaN       Viet nam\n",
       "7            NaN            NaN          Korea\n",
       "8            NaN            NaN          Japan"
      ],
      "text/html": "<div>\n<style scoped>\n    .dataframe tbody tr th:only-of-type {\n        vertical-align: middle;\n    }\n\n    .dataframe tbody tr th {\n        vertical-align: top;\n    }\n\n    .dataframe thead th {\n        text-align: right;\n    }\n</style>\n<table border=\"1\" class=\"dataframe\">\n  <thead>\n    <tr style=\"text-align: right;\">\n      <th></th>\n      <th>Country Name_x</th>\n      <th>Country</th>\n      <th>Country Name_y</th>\n    </tr>\n  </thead>\n  <tbody>\n    <tr>\n      <th>0</th>\n      <td>Viet nam</td>\n      <td>NaN</td>\n      <td>NaN</td>\n    </tr>\n    <tr>\n      <th>1</th>\n      <td>United States</td>\n      <td>United States</td>\n      <td>United States</td>\n    </tr>\n    <tr>\n      <th>2</th>\n      <td>Iran</td>\n      <td>Iran</td>\n      <td>Iran</td>\n    </tr>\n    <tr>\n      <th>3</th>\n      <td>Indonesia</td>\n      <td>NaN</td>\n      <td>NaN</td>\n    </tr>\n    <tr>\n      <th>4</th>\n      <td>NaN</td>\n      <td>Vietnam</td>\n      <td>NaN</td>\n    </tr>\n    <tr>\n      <th>5</th>\n      <td>NaN</td>\n      <td>South Korea</td>\n      <td>NaN</td>\n    </tr>\n    <tr>\n      <th>6</th>\n      <td>NaN</td>\n      <td>NaN</td>\n      <td>Viet nam</td>\n    </tr>\n    <tr>\n      <th>7</th>\n      <td>NaN</td>\n      <td>NaN</td>\n      <td>Korea</td>\n    </tr>\n    <tr>\n      <th>8</th>\n      <td>NaN</td>\n      <td>NaN</td>\n      <td>Japan</td>\n    </tr>\n  </tbody>\n</table>\n</div>"
     },
     "metadata": {},
     "execution_count": 38
    }
   ],
   "source": [
    "E"
   ]
  },
  {
   "cell_type": "code",
   "execution_count": 39,
   "metadata": {},
   "outputs": [],
   "source": [
    "D1 = pd.merge(A,B,how='inner',left_on='Country',right_on='Country Name')\n",
    "E1 = pd.merge(C,D1,how='inner',left_on='Country Name',right_on='Country')"
   ]
  },
  {
   "cell_type": "code",
   "execution_count": 40,
   "metadata": {},
   "outputs": [
    {
     "output_type": "stream",
     "name": "stdout",
     "text": [
      "7\n9\n2\n"
     ]
    }
   ],
   "source": [
    "print(len(E)-len(E1))\n",
    "print(len(E))\n",
    "print(len(E1))"
   ]
  },
  {
   "cell_type": "code",
   "execution_count": 41,
   "metadata": {},
   "outputs": [],
   "source": [
    "B.rename(columns={'Country Name':'Country'},inplace=True)\n",
    "C.rename(columns={'Country Name':'Country'},inplace=True) "
   ]
  },
  {
   "cell_type": "code",
   "execution_count": 42,
   "metadata": {},
   "outputs": [],
   "source": [
    "D = pd.merge(A,B,how='outer',left_on='Country',right_on='Country')\n",
    "E = pd.merge(C,D,how='outer',left_on='Country',right_on='Country')"
   ]
  },
  {
   "cell_type": "code",
   "execution_count": 43,
   "metadata": {},
   "outputs": [],
   "source": [
    "D1 = pd.merge(A,B,how='inner',on ='Country')\n",
    "E1 = pd.merge(C,D1,how='inner',on='Country')"
   ]
  },
  {
   "cell_type": "code",
   "execution_count": 44,
   "metadata": {},
   "outputs": [
    {
     "output_type": "stream",
     "name": "stdout",
     "text": [
      "6\n8\n2\n"
     ]
    }
   ],
   "source": [
    "print(len(E)-len(E1))\n",
    "print(len(E))\n",
    "print(len(E1))"
   ]
  }
 ]
}