{
 "metadata": {
  "language_info": {
   "codemirror_mode": {
    "name": "ipython",
    "version": 3
   },
   "file_extension": ".py",
   "mimetype": "text/x-python",
   "name": "python",
   "nbconvert_exporter": "python",
   "pygments_lexer": "ipython3",
   "version": "3.8.6-candidate"
  },
  "orig_nbformat": 2,
  "kernelspec": {
   "name": "python3",
   "display_name": "Python 3",
   "language": "python"
  }
 },
 "nbformat": 4,
 "nbformat_minor": 2,
 "cells": [
  {
   "cell_type": "code",
   "execution_count": 342,
   "metadata": {},
   "outputs": [],
   "source": [
    "import pandas as pd\n",
    "import numpy as np\n",
    "import re\n",
    "#pd.set_option('display.max_rows',None)\n",
    "# Filter all warnings. If you would like to see the warnings, please comment the two lines below.\n",
    "import warnings\n",
    "warnings.filterwarnings('ignore')"
   ]
  },
  {
   "source": [
    "# Question 1"
   ],
   "cell_type": "markdown",
   "metadata": {}
  },
  {
   "cell_type": "code",
   "execution_count": 343,
   "metadata": {},
   "outputs": [],
   "source": [
    "Energy = pd.read_excel('assets/Energy Indicators.xls', header = None, usecols='C:F', skiprows = 18, skipfooter = 38)\n",
    "cols = ['Country', 'Energy Supply', 'Energy Supply per Capita', '% Renewable']\n",
    "Energy.columns = cols\n",
    "Energy.set_index('Country', inplace=True)\n",
    "ren  = {\"Republic of Korea\": \"South Korea\",\n",
    "\"United States of America\": \"United States\",\n",
    "\"United Kingdom of Great Britain and Northern Ireland\": \"United Kingdom\",\n",
    "\"China, Hong Kong Special Administrative Region\": \"Hong Kong\"}\n"
   ]
  },
  {
   "cell_type": "code",
   "execution_count": 344,
   "metadata": {},
   "outputs": [],
   "source": [
    "def conversion(item):\n",
    "    if item == '...':\n",
    "        return None\n",
    "    else:\n",
    "        new_val =  item*1000000\n",
    "        return new_val"
   ]
  },
  {
   "cell_type": "code",
   "execution_count": 345,
   "metadata": {},
   "outputs": [],
   "source": [
    "Energy['Energy Supply'] = Energy['Energy Supply'].apply(conversion)"
   ]
  },
  {
   "cell_type": "code",
   "execution_count": 346,
   "metadata": {},
   "outputs": [],
   "source": [
    "def cleaning(item):\n",
    "\n",
    "    result = re.sub('\\d', '', item) #remove digits\n",
    "    result = re.sub(r'\\([^)]*\\)', '', result) #Remove things in parenthesis\n",
    "    result = result.rstrip()\n",
    "    \n",
    "    return result\n",
    "\n",
    "Energy.index = Energy.index.map(cleaning)\n",
    "Energy.rename(index = ren, inplace = True)\n"
   ]
  },
  {
   "cell_type": "code",
   "execution_count": 347,
   "metadata": {},
   "outputs": [],
   "source": [
    "GDP = pd.read_csv('assets/world_bank.csv', skiprows=4, index_col= 0)"
   ]
  },
  {
   "cell_type": "code",
   "execution_count": 348,
   "metadata": {},
   "outputs": [],
   "source": [
    "rena = {\"Korea, Rep.\": \"South Korea\", \"Iran, Islamic Rep.\": \"Iran\", \"Hong Kong SAR, China\": \"Hong Kong\"}\n",
    "dropcol =  list(range(2006,2016))\n",
    "dropcol = map(str, dropcol)  \n",
    "#GDP.drop(GDP.columns.difference(dropcol), 1, inplace= True)\n",
    "GDP = GDP[dropcol]\n",
    "GDP.index.rename('Country', inplace = True)\n"
   ]
  },
  {
   "cell_type": "code",
   "execution_count": 349,
   "metadata": {},
   "outputs": [
    {
     "output_type": "stream",
     "name": "stdout",
     "text": [
      "(264, 10)\n"
     ]
    },
    {
     "output_type": "execute_result",
     "data": {
      "text/plain": [
       "                     2006          2007          2008          2009  \\\n",
       "Country                                                               \n",
       "Aruba                 NaN           NaN           NaN           NaN   \n",
       "Andorra      4.018196e+09  4.021331e+09  3.675728e+09  3.535389e+09   \n",
       "Afghanistan  1.030523e+10  1.172119e+10  1.214448e+10  1.469733e+10   \n",
       "Angola       5.581103e+10  6.842044e+10  7.787420e+10  7.975320e+10   \n",
       "Albania      9.771760e+09  1.034829e+10  1.112752e+10  1.150029e+10   \n",
       "\n",
       "                     2010          2011          2012          2013  \\\n",
       "Country                                                               \n",
       "Aruba        2.467704e+09           NaN           NaN           NaN   \n",
       "Andorra      3.346317e+09  3.185605e+09  3.129538e+09  3.127550e+09   \n",
       "Afghanistan  1.593680e+10  1.691113e+10  1.935220e+10  1.973134e+10   \n",
       "Angola       8.247091e+10  8.570262e+10  9.012096e+10  9.626143e+10   \n",
       "Albania      1.192695e+10  1.223109e+10  1.240477e+10  1.254247e+10   \n",
       "\n",
       "                     2014          2015  \n",
       "Country                                  \n",
       "Aruba                 NaN           NaN  \n",
       "Andorra               NaN           NaN  \n",
       "Afghanistan  1.999032e+10  2.029415e+10  \n",
       "Angola       1.008863e+11  1.039106e+11  \n",
       "Albania      1.279331e+10  1.312082e+10  "
      ],
      "text/html": "<div>\n<style scoped>\n    .dataframe tbody tr th:only-of-type {\n        vertical-align: middle;\n    }\n\n    .dataframe tbody tr th {\n        vertical-align: top;\n    }\n\n    .dataframe thead th {\n        text-align: right;\n    }\n</style>\n<table border=\"1\" class=\"dataframe\">\n  <thead>\n    <tr style=\"text-align: right;\">\n      <th></th>\n      <th>2006</th>\n      <th>2007</th>\n      <th>2008</th>\n      <th>2009</th>\n      <th>2010</th>\n      <th>2011</th>\n      <th>2012</th>\n      <th>2013</th>\n      <th>2014</th>\n      <th>2015</th>\n    </tr>\n    <tr>\n      <th>Country</th>\n      <th></th>\n      <th></th>\n      <th></th>\n      <th></th>\n      <th></th>\n      <th></th>\n      <th></th>\n      <th></th>\n      <th></th>\n      <th></th>\n    </tr>\n  </thead>\n  <tbody>\n    <tr>\n      <th>Aruba</th>\n      <td>NaN</td>\n      <td>NaN</td>\n      <td>NaN</td>\n      <td>NaN</td>\n      <td>2.467704e+09</td>\n      <td>NaN</td>\n      <td>NaN</td>\n      <td>NaN</td>\n      <td>NaN</td>\n      <td>NaN</td>\n    </tr>\n    <tr>\n      <th>Andorra</th>\n      <td>4.018196e+09</td>\n      <td>4.021331e+09</td>\n      <td>3.675728e+09</td>\n      <td>3.535389e+09</td>\n      <td>3.346317e+09</td>\n      <td>3.185605e+09</td>\n      <td>3.129538e+09</td>\n      <td>3.127550e+09</td>\n      <td>NaN</td>\n      <td>NaN</td>\n    </tr>\n    <tr>\n      <th>Afghanistan</th>\n      <td>1.030523e+10</td>\n      <td>1.172119e+10</td>\n      <td>1.214448e+10</td>\n      <td>1.469733e+10</td>\n      <td>1.593680e+10</td>\n      <td>1.691113e+10</td>\n      <td>1.935220e+10</td>\n      <td>1.973134e+10</td>\n      <td>1.999032e+10</td>\n      <td>2.029415e+10</td>\n    </tr>\n    <tr>\n      <th>Angola</th>\n      <td>5.581103e+10</td>\n      <td>6.842044e+10</td>\n      <td>7.787420e+10</td>\n      <td>7.975320e+10</td>\n      <td>8.247091e+10</td>\n      <td>8.570262e+10</td>\n      <td>9.012096e+10</td>\n      <td>9.626143e+10</td>\n      <td>1.008863e+11</td>\n      <td>1.039106e+11</td>\n    </tr>\n    <tr>\n      <th>Albania</th>\n      <td>9.771760e+09</td>\n      <td>1.034829e+10</td>\n      <td>1.112752e+10</td>\n      <td>1.150029e+10</td>\n      <td>1.192695e+10</td>\n      <td>1.223109e+10</td>\n      <td>1.240477e+10</td>\n      <td>1.254247e+10</td>\n      <td>1.279331e+10</td>\n      <td>1.312082e+10</td>\n    </tr>\n  </tbody>\n</table>\n</div>"
     },
     "metadata": {},
     "execution_count": 349
    }
   ],
   "source": [
    "GDP.rename(index = rena, inplace = True)\n",
    "print(GDP.shape)\n",
    "GDP.head()\n"
   ]
  },
  {
   "cell_type": "code",
   "execution_count": 350,
   "metadata": {},
   "outputs": [
    {
     "output_type": "execute_result",
     "data": {
      "text/plain": [
       "   Rank             Country  Documents  Citable documents  Citations  \\\n",
       "0     1               China     127050             126767     597237   \n",
       "1     2       United States      96661              94747     792274   \n",
       "2     3               Japan      30504              30287     223024   \n",
       "3     4      United Kingdom      20944              20357     206091   \n",
       "4     5  Russian Federation      18534              18301      34266   \n",
       "\n",
       "   Self-citations  Citations per document  H index  \n",
       "0          411683                    4.70      138  \n",
       "1          265436                    8.20      230  \n",
       "2           61554                    7.31      134  \n",
       "3           37874                    9.84      139  \n",
       "4           12422                    1.85       57  "
      ],
      "text/html": "<div>\n<style scoped>\n    .dataframe tbody tr th:only-of-type {\n        vertical-align: middle;\n    }\n\n    .dataframe tbody tr th {\n        vertical-align: top;\n    }\n\n    .dataframe thead th {\n        text-align: right;\n    }\n</style>\n<table border=\"1\" class=\"dataframe\">\n  <thead>\n    <tr style=\"text-align: right;\">\n      <th></th>\n      <th>Rank</th>\n      <th>Country</th>\n      <th>Documents</th>\n      <th>Citable documents</th>\n      <th>Citations</th>\n      <th>Self-citations</th>\n      <th>Citations per document</th>\n      <th>H index</th>\n    </tr>\n  </thead>\n  <tbody>\n    <tr>\n      <th>0</th>\n      <td>1</td>\n      <td>China</td>\n      <td>127050</td>\n      <td>126767</td>\n      <td>597237</td>\n      <td>411683</td>\n      <td>4.70</td>\n      <td>138</td>\n    </tr>\n    <tr>\n      <th>1</th>\n      <td>2</td>\n      <td>United States</td>\n      <td>96661</td>\n      <td>94747</td>\n      <td>792274</td>\n      <td>265436</td>\n      <td>8.20</td>\n      <td>230</td>\n    </tr>\n    <tr>\n      <th>2</th>\n      <td>3</td>\n      <td>Japan</td>\n      <td>30504</td>\n      <td>30287</td>\n      <td>223024</td>\n      <td>61554</td>\n      <td>7.31</td>\n      <td>134</td>\n    </tr>\n    <tr>\n      <th>3</th>\n      <td>4</td>\n      <td>United Kingdom</td>\n      <td>20944</td>\n      <td>20357</td>\n      <td>206091</td>\n      <td>37874</td>\n      <td>9.84</td>\n      <td>139</td>\n    </tr>\n    <tr>\n      <th>4</th>\n      <td>5</td>\n      <td>Russian Federation</td>\n      <td>18534</td>\n      <td>18301</td>\n      <td>34266</td>\n      <td>12422</td>\n      <td>1.85</td>\n      <td>57</td>\n    </tr>\n  </tbody>\n</table>\n</div>"
     },
     "metadata": {},
     "execution_count": 350
    }
   ],
   "source": [
    "ScimEn = pd.read_csv('assets/scimagojr-3.csv')\n",
    "ScimEn.head()\n"
   ]
  },
  {
   "cell_type": "code",
   "execution_count": 351,
   "metadata": {},
   "outputs": [],
   "source": [
    "ScimEn_short = ScimEn[ScimEn.index < 15]\n",
    "new_df = ScimEn_short.merge(GDP, how = 'inner', left_on = 'Country', right_on = 'Country')\n",
    "new_df.set_index('Country')\n",
    "new_df = new_df.merge(Energy, how = 'inner', left_on='Country', right_on = 'Country')\n",
    "new_df.set_index('Country', inplace = True)\n"
   ]
  },
  {
   "cell_type": "code",
   "execution_count": 352,
   "metadata": {},
   "outputs": [],
   "source": [
    "sortby = ['Rank', 'Documents', 'Citable documents', 'Citations', 'Self-citations','Citations per document', 'H index', 'Energy Supply','Energy Supply per Capita', '% Renewable','2006', '2007', '2008','2009', '2010', '2011', '2012', '2013','2014', '2015']\n",
    "new_df = new_df[sortby]\n"
   ]
  },
  {
   "cell_type": "code",
   "execution_count": 353,
   "metadata": {},
   "outputs": [
    {
     "output_type": "execute_result",
     "data": {
      "text/plain": [
       "[191, 264, 227]"
      ]
     },
     "metadata": {},
     "execution_count": 353
    }
   ],
   "source": [
    "entries = list()\n",
    "entries.append(ScimEn.shape[0])\n",
    "entries.append(GDP.shape[0])\n",
    "entries.append(Energy.shape[0])\n",
    "entries"
   ]
  },
  {
   "cell_type": "code",
   "execution_count": null,
   "metadata": {},
   "outputs": [],
   "source": []
  },
  {
   "source": [
    "# Part 3"
   ],
   "cell_type": "markdown",
   "metadata": {}
  },
  {
   "cell_type": "code",
   "execution_count": 354,
   "metadata": {},
   "outputs": [],
   "source": [
    "years = list(range(2006,2016))\n",
    "years = list(map(str,years))\n"
   ]
  },
  {
   "cell_type": "code",
   "execution_count": 355,
   "metadata": {},
   "outputs": [
    {
     "output_type": "execute_result",
     "data": {
      "text/plain": [
       "Country\n",
       "United States         1.536434e+13\n",
       "China                 6.348609e+12\n",
       "Japan                 5.542208e+12\n",
       "Germany               3.493025e+12\n",
       "France                2.681725e+12\n",
       "United Kingdom        2.487907e+12\n",
       "Brazil                2.189794e+12\n",
       "Italy                 2.120175e+12\n",
       "India                 1.769297e+12\n",
       "Canada                1.660647e+12\n",
       "Russian Federation    1.565459e+12\n",
       "Spain                 1.418078e+12\n",
       "Australia             1.164043e+12\n",
       "South Korea           1.106715e+12\n",
       "Iran                  4.441558e+11\n",
       "Name: avg, dtype: float64"
      ]
     },
     "metadata": {},
     "execution_count": 355
    }
   ],
   "source": [
    "new_df['avg'] = new_df[years].mean(axis = 1)\n",
    "new_df.sort_values('avg', axis = 0,ascending = False, inplace= True)\n",
    "gdp_serie = new_df['avg']\n",
    "gdp_serie"
   ]
  },
  {
   "source": [
    "# Part 4"
   ],
   "cell_type": "markdown",
   "metadata": {}
  },
  {
   "cell_type": "code",
   "execution_count": 356,
   "metadata": {},
   "outputs": [],
   "source": [
    "best6 = gdp_serie.index.values[5] ## return the country\n",
    "df_6 = new_df.loc[best6]\n"
   ]
  },
  {
   "cell_type": "code",
   "execution_count": 357,
   "metadata": {},
   "outputs": [
    {
     "output_type": "execute_result",
     "data": {
      "text/plain": [
       "246702696075.3999"
      ]
     },
     "metadata": {},
     "execution_count": 357
    }
   ],
   "source": [
    "gdp_trend = df_6.iloc[10:20]\n",
    "min_gdp = gdp_trend[0]\n",
    "max_gdp = gdp_trend[-1]\n",
    "gdp_change = max_gdp - min_gdp\n",
    "gdp_change"
   ]
  },
  {
   "source": [
    "# Part 5"
   ],
   "cell_type": "markdown",
   "metadata": {}
  },
  {
   "cell_type": "code",
   "execution_count": 358,
   "metadata": {},
   "outputs": [
    {
     "output_type": "execute_result",
     "data": {
      "text/plain": [
       "               Rank  Documents  Citable documents  Citations  Self-citations  \\\n",
       "Country                                                                        \n",
       "United States     2      96661              94747     792274          265436   \n",
       "China             1     127050             126767     597237          411683   \n",
       "Japan             3      30504              30287     223024           61554   \n",
       "Germany           7      17027              16831     140566           27426   \n",
       "France            9      13153              12973     130632           28601   \n",
       "\n",
       "               Citations per document  H index  Energy Supply  \\\n",
       "Country                                                         \n",
       "United States                    8.20      230   9.083800e+10   \n",
       "China                            4.70      138   1.271910e+11   \n",
       "Japan                            7.31      134   1.898400e+10   \n",
       "Germany                          8.26      126   1.326100e+10   \n",
       "France                           9.93      114   1.059700e+10   \n",
       "\n",
       "              Energy Supply per Capita  % Renewable  ...          2007  \\\n",
       "Country                                              ...                 \n",
       "United States                      286     11.57098  ...  1.505540e+13   \n",
       "China                               93     19.75491  ...  4.559041e+12   \n",
       "Japan                              149     10.23282  ...  5.617036e+12   \n",
       "Germany                            165     17.90153  ...  3.441561e+12   \n",
       "France                             166     17.02028  ...  2.669424e+12   \n",
       "\n",
       "                       2008          2009          2010          2011  \\\n",
       "Country                                                                 \n",
       "United States  1.501149e+13  1.459484e+13  1.496437e+13  1.520402e+13   \n",
       "China          4.997775e+12  5.459247e+12  6.039659e+12  6.612490e+12   \n",
       "Japan          5.558527e+12  5.251308e+12  5.498718e+12  5.473738e+12   \n",
       "Germany        3.478809e+12  3.283340e+12  3.417298e+12  3.542371e+12   \n",
       "France         2.674637e+12  2.595967e+12  2.646995e+12  2.702032e+12   \n",
       "\n",
       "                       2012          2013          2014          2015  \\\n",
       "Country                                                                 \n",
       "United States  1.554216e+13  1.577367e+13  1.615662e+13  1.654857e+13   \n",
       "China          7.124978e+12  7.672448e+12  8.230121e+12  8.797999e+12   \n",
       "Japan          5.569102e+12  5.644659e+12  5.642884e+12  5.669563e+12   \n",
       "Germany        3.556724e+12  3.567317e+12  3.624386e+12  3.685556e+12   \n",
       "France         2.706968e+12  2.722567e+12  2.729632e+12  2.761185e+12   \n",
       "\n",
       "                        avg  \n",
       "Country                      \n",
       "United States  1.536434e+13  \n",
       "China          6.348609e+12  \n",
       "Japan          5.542208e+12  \n",
       "Germany        3.493025e+12  \n",
       "France         2.681725e+12  \n",
       "\n",
       "[5 rows x 21 columns]"
      ],
      "text/html": "<div>\n<style scoped>\n    .dataframe tbody tr th:only-of-type {\n        vertical-align: middle;\n    }\n\n    .dataframe tbody tr th {\n        vertical-align: top;\n    }\n\n    .dataframe thead th {\n        text-align: right;\n    }\n</style>\n<table border=\"1\" class=\"dataframe\">\n  <thead>\n    <tr style=\"text-align: right;\">\n      <th></th>\n      <th>Rank</th>\n      <th>Documents</th>\n      <th>Citable documents</th>\n      <th>Citations</th>\n      <th>Self-citations</th>\n      <th>Citations per document</th>\n      <th>H index</th>\n      <th>Energy Supply</th>\n      <th>Energy Supply per Capita</th>\n      <th>% Renewable</th>\n      <th>...</th>\n      <th>2007</th>\n      <th>2008</th>\n      <th>2009</th>\n      <th>2010</th>\n      <th>2011</th>\n      <th>2012</th>\n      <th>2013</th>\n      <th>2014</th>\n      <th>2015</th>\n      <th>avg</th>\n    </tr>\n    <tr>\n      <th>Country</th>\n      <th></th>\n      <th></th>\n      <th></th>\n      <th></th>\n      <th></th>\n      <th></th>\n      <th></th>\n      <th></th>\n      <th></th>\n      <th></th>\n      <th></th>\n      <th></th>\n      <th></th>\n      <th></th>\n      <th></th>\n      <th></th>\n      <th></th>\n      <th></th>\n      <th></th>\n      <th></th>\n      <th></th>\n    </tr>\n  </thead>\n  <tbody>\n    <tr>\n      <th>United States</th>\n      <td>2</td>\n      <td>96661</td>\n      <td>94747</td>\n      <td>792274</td>\n      <td>265436</td>\n      <td>8.20</td>\n      <td>230</td>\n      <td>9.083800e+10</td>\n      <td>286</td>\n      <td>11.57098</td>\n      <td>...</td>\n      <td>1.505540e+13</td>\n      <td>1.501149e+13</td>\n      <td>1.459484e+13</td>\n      <td>1.496437e+13</td>\n      <td>1.520402e+13</td>\n      <td>1.554216e+13</td>\n      <td>1.577367e+13</td>\n      <td>1.615662e+13</td>\n      <td>1.654857e+13</td>\n      <td>1.536434e+13</td>\n    </tr>\n    <tr>\n      <th>China</th>\n      <td>1</td>\n      <td>127050</td>\n      <td>126767</td>\n      <td>597237</td>\n      <td>411683</td>\n      <td>4.70</td>\n      <td>138</td>\n      <td>1.271910e+11</td>\n      <td>93</td>\n      <td>19.75491</td>\n      <td>...</td>\n      <td>4.559041e+12</td>\n      <td>4.997775e+12</td>\n      <td>5.459247e+12</td>\n      <td>6.039659e+12</td>\n      <td>6.612490e+12</td>\n      <td>7.124978e+12</td>\n      <td>7.672448e+12</td>\n      <td>8.230121e+12</td>\n      <td>8.797999e+12</td>\n      <td>6.348609e+12</td>\n    </tr>\n    <tr>\n      <th>Japan</th>\n      <td>3</td>\n      <td>30504</td>\n      <td>30287</td>\n      <td>223024</td>\n      <td>61554</td>\n      <td>7.31</td>\n      <td>134</td>\n      <td>1.898400e+10</td>\n      <td>149</td>\n      <td>10.23282</td>\n      <td>...</td>\n      <td>5.617036e+12</td>\n      <td>5.558527e+12</td>\n      <td>5.251308e+12</td>\n      <td>5.498718e+12</td>\n      <td>5.473738e+12</td>\n      <td>5.569102e+12</td>\n      <td>5.644659e+12</td>\n      <td>5.642884e+12</td>\n      <td>5.669563e+12</td>\n      <td>5.542208e+12</td>\n    </tr>\n    <tr>\n      <th>Germany</th>\n      <td>7</td>\n      <td>17027</td>\n      <td>16831</td>\n      <td>140566</td>\n      <td>27426</td>\n      <td>8.26</td>\n      <td>126</td>\n      <td>1.326100e+10</td>\n      <td>165</td>\n      <td>17.90153</td>\n      <td>...</td>\n      <td>3.441561e+12</td>\n      <td>3.478809e+12</td>\n      <td>3.283340e+12</td>\n      <td>3.417298e+12</td>\n      <td>3.542371e+12</td>\n      <td>3.556724e+12</td>\n      <td>3.567317e+12</td>\n      <td>3.624386e+12</td>\n      <td>3.685556e+12</td>\n      <td>3.493025e+12</td>\n    </tr>\n    <tr>\n      <th>France</th>\n      <td>9</td>\n      <td>13153</td>\n      <td>12973</td>\n      <td>130632</td>\n      <td>28601</td>\n      <td>9.93</td>\n      <td>114</td>\n      <td>1.059700e+10</td>\n      <td>166</td>\n      <td>17.02028</td>\n      <td>...</td>\n      <td>2.669424e+12</td>\n      <td>2.674637e+12</td>\n      <td>2.595967e+12</td>\n      <td>2.646995e+12</td>\n      <td>2.702032e+12</td>\n      <td>2.706968e+12</td>\n      <td>2.722567e+12</td>\n      <td>2.729632e+12</td>\n      <td>2.761185e+12</td>\n      <td>2.681725e+12</td>\n    </tr>\n  </tbody>\n</table>\n<p>5 rows × 21 columns</p>\n</div>"
     },
     "metadata": {},
     "execution_count": 358
    }
   ],
   "source": [
    "new_df.head()"
   ]
  },
  {
   "cell_type": "code",
   "execution_count": 359,
   "metadata": {},
   "outputs": [],
   "source": [
    "espc = new_df['Energy Supply per Capita']\n",
    "ans = espc.mean()"
   ]
  },
  {
   "source": [
    "# Part 6"
   ],
   "cell_type": "markdown",
   "metadata": {}
  },
  {
   "cell_type": "code",
   "execution_count": 360,
   "metadata": {},
   "outputs": [
    {
     "output_type": "execute_result",
     "data": {
      "text/plain": [
       "('Brazil', 69.64803)"
      ]
     },
     "metadata": {},
     "execution_count": 360
    }
   ],
   "source": [
    "new_df.sort_values('% Renewable',ascending=False, inplace=True)\n",
    "most_ren = new_df.iloc[0]\n",
    "country = most_ren.name\n",
    "share = most_ren['% Renewable']\n",
    "ans = (country, share)\n",
    "ans\n"
   ]
  },
  {
   "source": [
    "# Part 7"
   ],
   "cell_type": "markdown",
   "metadata": {}
  },
  {
   "cell_type": "code",
   "execution_count": 361,
   "metadata": {},
   "outputs": [],
   "source": [
    "def cit_ratio(item):\n",
    "    nom =  item['Self-citations']\n",
    "    den = item['Citations']\n",
    "    ratio = nom/den\n",
    "   \n",
    "    return ratio\n",
    "\n",
    "new_df['Citation Ratio'] = new_df.apply(cit_ratio, axis = 1)\n",
    "new_df.sort_values('Citation Ratio', ascending=False,inplace = True)\n",
    "top_ratio  = new_df.iloc[0]\n",
    "country  = top_ratio.name\n",
    "ratio  = new_df.at[country,'Citation Ratio']\n"
   ]
  },
  {
   "source": [
    "# Part 8"
   ],
   "cell_type": "markdown",
   "metadata": {}
  },
  {
   "cell_type": "code",
   "execution_count": 362,
   "metadata": {},
   "outputs": [],
   "source": [
    "def pop_est(item):\n",
    "    e_supp = item['Energy Supply']\n",
    "    e_p_cap = item['Energy Supply per Capita']\n",
    "    pop_est = e_supp / e_p_cap\n",
    "    return pop_est\n",
    "\n",
    "new_df['Pop. Est.']  = new_df.apply(pop_est, axis = 1)"
   ]
  },
  {
   "cell_type": "code",
   "execution_count": 363,
   "metadata": {},
   "outputs": [
    {
     "output_type": "execute_result",
     "data": {
      "text/plain": [
       "                    Rank  Documents  Citable documents  Citations  \\\n",
       "Country                                                             \n",
       "China                  1     127050             126767     597237   \n",
       "Russian Federation     5      18534              18301      34266   \n",
       "United States          2      96661              94747     792274   \n",
       "Iran                  13       8896               8819      57470   \n",
       "India                  8      15005              14841     128763   \n",
       "\n",
       "                    Self-citations  Citations per document  H index  \\\n",
       "Country                                                               \n",
       "China                       411683                    4.70      138   \n",
       "Russian Federation           12422                    1.85       57   \n",
       "United States               265436                    8.20      230   \n",
       "Iran                         19125                    6.46       72   \n",
       "India                        37209                    8.58      115   \n",
       "\n",
       "                    Energy Supply Energy Supply per Capita  % Renewable  ...  \\\n",
       "Country                                                                  ...   \n",
       "China                1.271910e+11                       93    19.754910  ...   \n",
       "Russian Federation   3.070900e+10                      214    17.288680  ...   \n",
       "United States        9.083800e+10                      286    11.570980  ...   \n",
       "Iran                 9.172000e+09                      119     5.707721  ...   \n",
       "India                3.319500e+10                       26    14.969080  ...   \n",
       "\n",
       "                            2009          2010          2011          2012  \\\n",
       "Country                                                                      \n",
       "China               5.459247e+12  6.039659e+12  6.612490e+12  7.124978e+12   \n",
       "Russian Federation  1.459199e+12  1.524917e+12  1.589943e+12  1.645876e+12   \n",
       "United States       1.459484e+13  1.496437e+13  1.520402e+13  1.554216e+13   \n",
       "Iran                4.389208e+11  4.677902e+11  4.853309e+11  4.532569e+11   \n",
       "India               1.549483e+12  1.708459e+12  1.821872e+12  1.924235e+12   \n",
       "\n",
       "                            2013          2014          2015           avg  \\\n",
       "Country                                                                      \n",
       "China               7.672448e+12  8.230121e+12  8.797999e+12  6.348609e+12   \n",
       "Russian Federation  1.666934e+12  1.678709e+12  1.616149e+12  1.565459e+12   \n",
       "United States       1.577367e+13  1.615662e+13  1.654857e+13  1.536434e+13   \n",
       "Iran                4.445926e+11  4.639027e+11           NaN  4.441558e+11   \n",
       "India               2.051982e+12  2.200617e+12  2.367206e+12  1.769297e+12   \n",
       "\n",
       "                    Citation Ratio     Pop. Est.  \n",
       "Country                                           \n",
       "China                     0.689313  1.367645e+09  \n",
       "Russian Federation        0.362517  1.435000e+08  \n",
       "United States             0.335031  3.176154e+08  \n",
       "Iran                      0.332782  7.707563e+07  \n",
       "India                     0.288973  1.276731e+09  \n",
       "\n",
       "[5 rows x 23 columns]"
      ],
      "text/html": "<div>\n<style scoped>\n    .dataframe tbody tr th:only-of-type {\n        vertical-align: middle;\n    }\n\n    .dataframe tbody tr th {\n        vertical-align: top;\n    }\n\n    .dataframe thead th {\n        text-align: right;\n    }\n</style>\n<table border=\"1\" class=\"dataframe\">\n  <thead>\n    <tr style=\"text-align: right;\">\n      <th></th>\n      <th>Rank</th>\n      <th>Documents</th>\n      <th>Citable documents</th>\n      <th>Citations</th>\n      <th>Self-citations</th>\n      <th>Citations per document</th>\n      <th>H index</th>\n      <th>Energy Supply</th>\n      <th>Energy Supply per Capita</th>\n      <th>% Renewable</th>\n      <th>...</th>\n      <th>2009</th>\n      <th>2010</th>\n      <th>2011</th>\n      <th>2012</th>\n      <th>2013</th>\n      <th>2014</th>\n      <th>2015</th>\n      <th>avg</th>\n      <th>Citation Ratio</th>\n      <th>Pop. Est.</th>\n    </tr>\n    <tr>\n      <th>Country</th>\n      <th></th>\n      <th></th>\n      <th></th>\n      <th></th>\n      <th></th>\n      <th></th>\n      <th></th>\n      <th></th>\n      <th></th>\n      <th></th>\n      <th></th>\n      <th></th>\n      <th></th>\n      <th></th>\n      <th></th>\n      <th></th>\n      <th></th>\n      <th></th>\n      <th></th>\n      <th></th>\n      <th></th>\n    </tr>\n  </thead>\n  <tbody>\n    <tr>\n      <th>China</th>\n      <td>1</td>\n      <td>127050</td>\n      <td>126767</td>\n      <td>597237</td>\n      <td>411683</td>\n      <td>4.70</td>\n      <td>138</td>\n      <td>1.271910e+11</td>\n      <td>93</td>\n      <td>19.754910</td>\n      <td>...</td>\n      <td>5.459247e+12</td>\n      <td>6.039659e+12</td>\n      <td>6.612490e+12</td>\n      <td>7.124978e+12</td>\n      <td>7.672448e+12</td>\n      <td>8.230121e+12</td>\n      <td>8.797999e+12</td>\n      <td>6.348609e+12</td>\n      <td>0.689313</td>\n      <td>1.367645e+09</td>\n    </tr>\n    <tr>\n      <th>Russian Federation</th>\n      <td>5</td>\n      <td>18534</td>\n      <td>18301</td>\n      <td>34266</td>\n      <td>12422</td>\n      <td>1.85</td>\n      <td>57</td>\n      <td>3.070900e+10</td>\n      <td>214</td>\n      <td>17.288680</td>\n      <td>...</td>\n      <td>1.459199e+12</td>\n      <td>1.524917e+12</td>\n      <td>1.589943e+12</td>\n      <td>1.645876e+12</td>\n      <td>1.666934e+12</td>\n      <td>1.678709e+12</td>\n      <td>1.616149e+12</td>\n      <td>1.565459e+12</td>\n      <td>0.362517</td>\n      <td>1.435000e+08</td>\n    </tr>\n    <tr>\n      <th>United States</th>\n      <td>2</td>\n      <td>96661</td>\n      <td>94747</td>\n      <td>792274</td>\n      <td>265436</td>\n      <td>8.20</td>\n      <td>230</td>\n      <td>9.083800e+10</td>\n      <td>286</td>\n      <td>11.570980</td>\n      <td>...</td>\n      <td>1.459484e+13</td>\n      <td>1.496437e+13</td>\n      <td>1.520402e+13</td>\n      <td>1.554216e+13</td>\n      <td>1.577367e+13</td>\n      <td>1.615662e+13</td>\n      <td>1.654857e+13</td>\n      <td>1.536434e+13</td>\n      <td>0.335031</td>\n      <td>3.176154e+08</td>\n    </tr>\n    <tr>\n      <th>Iran</th>\n      <td>13</td>\n      <td>8896</td>\n      <td>8819</td>\n      <td>57470</td>\n      <td>19125</td>\n      <td>6.46</td>\n      <td>72</td>\n      <td>9.172000e+09</td>\n      <td>119</td>\n      <td>5.707721</td>\n      <td>...</td>\n      <td>4.389208e+11</td>\n      <td>4.677902e+11</td>\n      <td>4.853309e+11</td>\n      <td>4.532569e+11</td>\n      <td>4.445926e+11</td>\n      <td>4.639027e+11</td>\n      <td>NaN</td>\n      <td>4.441558e+11</td>\n      <td>0.332782</td>\n      <td>7.707563e+07</td>\n    </tr>\n    <tr>\n      <th>India</th>\n      <td>8</td>\n      <td>15005</td>\n      <td>14841</td>\n      <td>128763</td>\n      <td>37209</td>\n      <td>8.58</td>\n      <td>115</td>\n      <td>3.319500e+10</td>\n      <td>26</td>\n      <td>14.969080</td>\n      <td>...</td>\n      <td>1.549483e+12</td>\n      <td>1.708459e+12</td>\n      <td>1.821872e+12</td>\n      <td>1.924235e+12</td>\n      <td>2.051982e+12</td>\n      <td>2.200617e+12</td>\n      <td>2.367206e+12</td>\n      <td>1.769297e+12</td>\n      <td>0.288973</td>\n      <td>1.276731e+09</td>\n    </tr>\n  </tbody>\n</table>\n<p>5 rows × 23 columns</p>\n</div>"
     },
     "metadata": {},
     "execution_count": 363
    }
   ],
   "source": [
    "new_df.head()"
   ]
  },
  {
   "cell_type": "code",
   "execution_count": 364,
   "metadata": {},
   "outputs": [],
   "source": [
    "third_pop = new_df.sort_values('Pop. Est.', ascending= False).iloc[3].name"
   ]
  },
  {
   "source": [
    "# Part 9"
   ],
   "cell_type": "markdown",
   "metadata": {}
  },
  {
   "cell_type": "code",
   "execution_count": 365,
   "metadata": {},
   "outputs": [],
   "source": [
    "def doc_per_person(item):\n",
    "    cit_doc = item['Citable documents']\n",
    "    pop = item['Pop. Est.']\n",
    "    ans = cit_doc/ pop\n",
    "    return ans\n"
   ]
  },
  {
   "cell_type": "code",
   "execution_count": 366,
   "metadata": {},
   "outputs": [],
   "source": [
    "new_df['Citable documents per Capita'] = new_df.apply(doc_per_person,axis= 1)"
   ]
  },
  {
   "cell_type": "code",
   "execution_count": 367,
   "metadata": {},
   "outputs": [
    {
     "output_type": "execute_result",
     "data": {
      "text/plain": [
       "                    Rank  Documents  Citable documents  Citations  \\\n",
       "Country                                                             \n",
       "China                  1     127050             126767     597237   \n",
       "Russian Federation     5      18534              18301      34266   \n",
       "United States          2      96661              94747     792274   \n",
       "Iran                  13       8896               8819      57470   \n",
       "India                  8      15005              14841     128763   \n",
       "\n",
       "                    Self-citations  Citations per document  H index  \\\n",
       "Country                                                               \n",
       "China                       411683                    4.70      138   \n",
       "Russian Federation           12422                    1.85       57   \n",
       "United States               265436                    8.20      230   \n",
       "Iran                         19125                    6.46       72   \n",
       "India                        37209                    8.58      115   \n",
       "\n",
       "                    Energy Supply Energy Supply per Capita  % Renewable  ...  \\\n",
       "Country                                                                  ...   \n",
       "China                1.271910e+11                       93    19.754910  ...   \n",
       "Russian Federation   3.070900e+10                      214    17.288680  ...   \n",
       "United States        9.083800e+10                      286    11.570980  ...   \n",
       "Iran                 9.172000e+09                      119     5.707721  ...   \n",
       "India                3.319500e+10                       26    14.969080  ...   \n",
       "\n",
       "                            2010          2011          2012          2013  \\\n",
       "Country                                                                      \n",
       "China               6.039659e+12  6.612490e+12  7.124978e+12  7.672448e+12   \n",
       "Russian Federation  1.524917e+12  1.589943e+12  1.645876e+12  1.666934e+12   \n",
       "United States       1.496437e+13  1.520402e+13  1.554216e+13  1.577367e+13   \n",
       "Iran                4.677902e+11  4.853309e+11  4.532569e+11  4.445926e+11   \n",
       "India               1.708459e+12  1.821872e+12  1.924235e+12  2.051982e+12   \n",
       "\n",
       "                            2014          2015           avg  Citation Ratio  \\\n",
       "Country                                                                        \n",
       "China               8.230121e+12  8.797999e+12  6.348609e+12        0.689313   \n",
       "Russian Federation  1.678709e+12  1.616149e+12  1.565459e+12        0.362517   \n",
       "United States       1.615662e+13  1.654857e+13  1.536434e+13        0.335031   \n",
       "Iran                4.639027e+11           NaN  4.441558e+11        0.332782   \n",
       "India               2.200617e+12  2.367206e+12  1.769297e+12        0.288973   \n",
       "\n",
       "                       Pop. Est.  Citable documents per Capita  \n",
       "Country                                                         \n",
       "China               1.367645e+09                      0.000093  \n",
       "Russian Federation  1.435000e+08                      0.000128  \n",
       "United States       3.176154e+08                      0.000298  \n",
       "Iran                7.707563e+07                      0.000114  \n",
       "India               1.276731e+09                      0.000012  \n",
       "\n",
       "[5 rows x 24 columns]"
      ],
      "text/html": "<div>\n<style scoped>\n    .dataframe tbody tr th:only-of-type {\n        vertical-align: middle;\n    }\n\n    .dataframe tbody tr th {\n        vertical-align: top;\n    }\n\n    .dataframe thead th {\n        text-align: right;\n    }\n</style>\n<table border=\"1\" class=\"dataframe\">\n  <thead>\n    <tr style=\"text-align: right;\">\n      <th></th>\n      <th>Rank</th>\n      <th>Documents</th>\n      <th>Citable documents</th>\n      <th>Citations</th>\n      <th>Self-citations</th>\n      <th>Citations per document</th>\n      <th>H index</th>\n      <th>Energy Supply</th>\n      <th>Energy Supply per Capita</th>\n      <th>% Renewable</th>\n      <th>...</th>\n      <th>2010</th>\n      <th>2011</th>\n      <th>2012</th>\n      <th>2013</th>\n      <th>2014</th>\n      <th>2015</th>\n      <th>avg</th>\n      <th>Citation Ratio</th>\n      <th>Pop. Est.</th>\n      <th>Citable documents per Capita</th>\n    </tr>\n    <tr>\n      <th>Country</th>\n      <th></th>\n      <th></th>\n      <th></th>\n      <th></th>\n      <th></th>\n      <th></th>\n      <th></th>\n      <th></th>\n      <th></th>\n      <th></th>\n      <th></th>\n      <th></th>\n      <th></th>\n      <th></th>\n      <th></th>\n      <th></th>\n      <th></th>\n      <th></th>\n      <th></th>\n      <th></th>\n      <th></th>\n    </tr>\n  </thead>\n  <tbody>\n    <tr>\n      <th>China</th>\n      <td>1</td>\n      <td>127050</td>\n      <td>126767</td>\n      <td>597237</td>\n      <td>411683</td>\n      <td>4.70</td>\n      <td>138</td>\n      <td>1.271910e+11</td>\n      <td>93</td>\n      <td>19.754910</td>\n      <td>...</td>\n      <td>6.039659e+12</td>\n      <td>6.612490e+12</td>\n      <td>7.124978e+12</td>\n      <td>7.672448e+12</td>\n      <td>8.230121e+12</td>\n      <td>8.797999e+12</td>\n      <td>6.348609e+12</td>\n      <td>0.689313</td>\n      <td>1.367645e+09</td>\n      <td>0.000093</td>\n    </tr>\n    <tr>\n      <th>Russian Federation</th>\n      <td>5</td>\n      <td>18534</td>\n      <td>18301</td>\n      <td>34266</td>\n      <td>12422</td>\n      <td>1.85</td>\n      <td>57</td>\n      <td>3.070900e+10</td>\n      <td>214</td>\n      <td>17.288680</td>\n      <td>...</td>\n      <td>1.524917e+12</td>\n      <td>1.589943e+12</td>\n      <td>1.645876e+12</td>\n      <td>1.666934e+12</td>\n      <td>1.678709e+12</td>\n      <td>1.616149e+12</td>\n      <td>1.565459e+12</td>\n      <td>0.362517</td>\n      <td>1.435000e+08</td>\n      <td>0.000128</td>\n    </tr>\n    <tr>\n      <th>United States</th>\n      <td>2</td>\n      <td>96661</td>\n      <td>94747</td>\n      <td>792274</td>\n      <td>265436</td>\n      <td>8.20</td>\n      <td>230</td>\n      <td>9.083800e+10</td>\n      <td>286</td>\n      <td>11.570980</td>\n      <td>...</td>\n      <td>1.496437e+13</td>\n      <td>1.520402e+13</td>\n      <td>1.554216e+13</td>\n      <td>1.577367e+13</td>\n      <td>1.615662e+13</td>\n      <td>1.654857e+13</td>\n      <td>1.536434e+13</td>\n      <td>0.335031</td>\n      <td>3.176154e+08</td>\n      <td>0.000298</td>\n    </tr>\n    <tr>\n      <th>Iran</th>\n      <td>13</td>\n      <td>8896</td>\n      <td>8819</td>\n      <td>57470</td>\n      <td>19125</td>\n      <td>6.46</td>\n      <td>72</td>\n      <td>9.172000e+09</td>\n      <td>119</td>\n      <td>5.707721</td>\n      <td>...</td>\n      <td>4.677902e+11</td>\n      <td>4.853309e+11</td>\n      <td>4.532569e+11</td>\n      <td>4.445926e+11</td>\n      <td>4.639027e+11</td>\n      <td>NaN</td>\n      <td>4.441558e+11</td>\n      <td>0.332782</td>\n      <td>7.707563e+07</td>\n      <td>0.000114</td>\n    </tr>\n    <tr>\n      <th>India</th>\n      <td>8</td>\n      <td>15005</td>\n      <td>14841</td>\n      <td>128763</td>\n      <td>37209</td>\n      <td>8.58</td>\n      <td>115</td>\n      <td>3.319500e+10</td>\n      <td>26</td>\n      <td>14.969080</td>\n      <td>...</td>\n      <td>1.708459e+12</td>\n      <td>1.821872e+12</td>\n      <td>1.924235e+12</td>\n      <td>2.051982e+12</td>\n      <td>2.200617e+12</td>\n      <td>2.367206e+12</td>\n      <td>1.769297e+12</td>\n      <td>0.288973</td>\n      <td>1.276731e+09</td>\n      <td>0.000012</td>\n    </tr>\n  </tbody>\n</table>\n<p>5 rows × 24 columns</p>\n</div>"
     },
     "metadata": {},
     "execution_count": 367
    }
   ],
   "source": [
    "new_df.head()"
   ]
  },
  {
   "cell_type": "code",
   "execution_count": 368,
   "metadata": {},
   "outputs": [
    {
     "output_type": "execute_result",
     "data": {
      "text/plain": [
       "0.7940010435442942"
      ]
     },
     "metadata": {},
     "execution_count": 368
    }
   ],
   "source": [
    "\n",
    "new_df['Citable documents per Capita']=np.float64(new_df['Citable documents per Capita'])\n",
    "new_df['Energy Supply per Capita']=np.float64(new_df['Energy Supply per Capita'])\n",
    "new_df['Energy Supply per Capita'].corr(new_df['Citable documents per Capita'], method='pearson')\n"
   ]
  },
  {
   "source": [
    "# part 10"
   ],
   "cell_type": "markdown",
   "metadata": {}
  },
  {
   "cell_type": "code",
   "execution_count": 369,
   "metadata": {},
   "outputs": [],
   "source": [
    "median = new_df['% Renewable'].median()\n",
    "def checker(item):\n",
    "    if item >= median:\n",
    "        return 1\n",
    "    else:\n",
    "        return 0\n",
    "new_df['% Ren. check'] = new_df['% Renewable'].apply(checker)"
   ]
  },
  {
   "cell_type": "code",
   "execution_count": 370,
   "metadata": {},
   "outputs": [],
   "source": [
    "new_df.sort_values('Rank', ascending=True, inplace=True)\n",
    "ans = new_df['% Ren. check']"
   ]
  },
  {
   "source": [
    "# part 11"
   ],
   "cell_type": "markdown",
   "metadata": {}
  },
  {
   "cell_type": "code",
   "execution_count": 371,
   "metadata": {},
   "outputs": [],
   "source": [
    "ContinentDict  = {'China':'Asia', \n",
    "                  'United States':'North America', \n",
    "                  'Japan':'Asia', \n",
    "                  'United Kingdom':'Europe', \n",
    "                  'Russian Federation':'Europe', \n",
    "                  'Canada':'North America', \n",
    "                  'Germany':'Europe', \n",
    "                  'India':'Asia',\n",
    "                  'France':'Europe', \n",
    "                  'South Korea':'Asia', \n",
    "                  'Italy':'Europe', \n",
    "                  'Spain':'Europe', \n",
    "                  'Iran':'Asia',\n",
    "                  'Australia':'Australia', \n",
    "                  'Brazil':'South America'}"
   ]
  },
  {
   "cell_type": "code",
   "execution_count": 372,
   "metadata": {},
   "outputs": [],
   "source": [
    "def grouping(item):\n",
    "    continent = ContinentDict[item]\n",
    "    return continent"
   ]
  },
  {
   "cell_type": "code",
   "execution_count": 373,
   "metadata": {},
   "outputs": [
    {
     "output_type": "execute_result",
     "data": {
      "text/plain": [
       "                    Rank  Documents  Citable documents  Citations  \\\n",
       "Country                                                             \n",
       "China                  1     127050             126767     597237   \n",
       "United States          2      96661              94747     792274   \n",
       "Japan                  3      30504              30287     223024   \n",
       "United Kingdom         4      20944              20357     206091   \n",
       "Russian Federation     5      18534              18301      34266   \n",
       "\n",
       "                    Self-citations  Citations per document  H index  \\\n",
       "Country                                                               \n",
       "China                       411683                    4.70      138   \n",
       "United States               265436                    8.20      230   \n",
       "Japan                        61554                    7.31      134   \n",
       "United Kingdom               37874                    9.84      139   \n",
       "Russian Federation           12422                    1.85       57   \n",
       "\n",
       "                    Energy Supply  Energy Supply per Capita  % Renewable  ...  \\\n",
       "Country                                                                   ...   \n",
       "China                1.271910e+11                      93.0     19.75491  ...   \n",
       "United States        9.083800e+10                     286.0     11.57098  ...   \n",
       "Japan                1.898400e+10                     149.0     10.23282  ...   \n",
       "United Kingdom       7.920000e+09                     124.0     10.60047  ...   \n",
       "Russian Federation   3.070900e+10                     214.0     17.28868  ...   \n",
       "\n",
       "                            2012          2013          2014          2015  \\\n",
       "Country                                                                      \n",
       "China               7.124978e+12  7.672448e+12  8.230121e+12  8.797999e+12   \n",
       "United States       1.554216e+13  1.577367e+13  1.615662e+13  1.654857e+13   \n",
       "Japan               5.569102e+12  5.644659e+12  5.642884e+12  5.669563e+12   \n",
       "United Kingdom      2.479809e+12  2.533370e+12  2.605643e+12  2.666333e+12   \n",
       "Russian Federation  1.645876e+12  1.666934e+12  1.678709e+12  1.616149e+12   \n",
       "\n",
       "                             avg  Citation Ratio     Pop. Est.  \\\n",
       "Country                                                          \n",
       "China               6.348609e+12        0.689313  1.367645e+09   \n",
       "United States       1.536434e+13        0.335031  3.176154e+08   \n",
       "Japan               5.542208e+12        0.275997  1.274094e+08   \n",
       "United Kingdom      2.487907e+12        0.183773  6.387097e+07   \n",
       "Russian Federation  1.565459e+12        0.362517  1.435000e+08   \n",
       "\n",
       "                    Citable documents per Capita  % Ren. check      Continent  \n",
       "Country                                                                        \n",
       "China                                   0.000093             1           Asia  \n",
       "United States                           0.000298             0  North America  \n",
       "Japan                                   0.000238             0           Asia  \n",
       "United Kingdom                          0.000319             0         Europe  \n",
       "Russian Federation                      0.000128             1         Europe  \n",
       "\n",
       "[5 rows x 26 columns]"
      ],
      "text/html": "<div>\n<style scoped>\n    .dataframe tbody tr th:only-of-type {\n        vertical-align: middle;\n    }\n\n    .dataframe tbody tr th {\n        vertical-align: top;\n    }\n\n    .dataframe thead th {\n        text-align: right;\n    }\n</style>\n<table border=\"1\" class=\"dataframe\">\n  <thead>\n    <tr style=\"text-align: right;\">\n      <th></th>\n      <th>Rank</th>\n      <th>Documents</th>\n      <th>Citable documents</th>\n      <th>Citations</th>\n      <th>Self-citations</th>\n      <th>Citations per document</th>\n      <th>H index</th>\n      <th>Energy Supply</th>\n      <th>Energy Supply per Capita</th>\n      <th>% Renewable</th>\n      <th>...</th>\n      <th>2012</th>\n      <th>2013</th>\n      <th>2014</th>\n      <th>2015</th>\n      <th>avg</th>\n      <th>Citation Ratio</th>\n      <th>Pop. Est.</th>\n      <th>Citable documents per Capita</th>\n      <th>% Ren. check</th>\n      <th>Continent</th>\n    </tr>\n    <tr>\n      <th>Country</th>\n      <th></th>\n      <th></th>\n      <th></th>\n      <th></th>\n      <th></th>\n      <th></th>\n      <th></th>\n      <th></th>\n      <th></th>\n      <th></th>\n      <th></th>\n      <th></th>\n      <th></th>\n      <th></th>\n      <th></th>\n      <th></th>\n      <th></th>\n      <th></th>\n      <th></th>\n      <th></th>\n      <th></th>\n    </tr>\n  </thead>\n  <tbody>\n    <tr>\n      <th>China</th>\n      <td>1</td>\n      <td>127050</td>\n      <td>126767</td>\n      <td>597237</td>\n      <td>411683</td>\n      <td>4.70</td>\n      <td>138</td>\n      <td>1.271910e+11</td>\n      <td>93.0</td>\n      <td>19.75491</td>\n      <td>...</td>\n      <td>7.124978e+12</td>\n      <td>7.672448e+12</td>\n      <td>8.230121e+12</td>\n      <td>8.797999e+12</td>\n      <td>6.348609e+12</td>\n      <td>0.689313</td>\n      <td>1.367645e+09</td>\n      <td>0.000093</td>\n      <td>1</td>\n      <td>Asia</td>\n    </tr>\n    <tr>\n      <th>United States</th>\n      <td>2</td>\n      <td>96661</td>\n      <td>94747</td>\n      <td>792274</td>\n      <td>265436</td>\n      <td>8.20</td>\n      <td>230</td>\n      <td>9.083800e+10</td>\n      <td>286.0</td>\n      <td>11.57098</td>\n      <td>...</td>\n      <td>1.554216e+13</td>\n      <td>1.577367e+13</td>\n      <td>1.615662e+13</td>\n      <td>1.654857e+13</td>\n      <td>1.536434e+13</td>\n      <td>0.335031</td>\n      <td>3.176154e+08</td>\n      <td>0.000298</td>\n      <td>0</td>\n      <td>North America</td>\n    </tr>\n    <tr>\n      <th>Japan</th>\n      <td>3</td>\n      <td>30504</td>\n      <td>30287</td>\n      <td>223024</td>\n      <td>61554</td>\n      <td>7.31</td>\n      <td>134</td>\n      <td>1.898400e+10</td>\n      <td>149.0</td>\n      <td>10.23282</td>\n      <td>...</td>\n      <td>5.569102e+12</td>\n      <td>5.644659e+12</td>\n      <td>5.642884e+12</td>\n      <td>5.669563e+12</td>\n      <td>5.542208e+12</td>\n      <td>0.275997</td>\n      <td>1.274094e+08</td>\n      <td>0.000238</td>\n      <td>0</td>\n      <td>Asia</td>\n    </tr>\n    <tr>\n      <th>United Kingdom</th>\n      <td>4</td>\n      <td>20944</td>\n      <td>20357</td>\n      <td>206091</td>\n      <td>37874</td>\n      <td>9.84</td>\n      <td>139</td>\n      <td>7.920000e+09</td>\n      <td>124.0</td>\n      <td>10.60047</td>\n      <td>...</td>\n      <td>2.479809e+12</td>\n      <td>2.533370e+12</td>\n      <td>2.605643e+12</td>\n      <td>2.666333e+12</td>\n      <td>2.487907e+12</td>\n      <td>0.183773</td>\n      <td>6.387097e+07</td>\n      <td>0.000319</td>\n      <td>0</td>\n      <td>Europe</td>\n    </tr>\n    <tr>\n      <th>Russian Federation</th>\n      <td>5</td>\n      <td>18534</td>\n      <td>18301</td>\n      <td>34266</td>\n      <td>12422</td>\n      <td>1.85</td>\n      <td>57</td>\n      <td>3.070900e+10</td>\n      <td>214.0</td>\n      <td>17.28868</td>\n      <td>...</td>\n      <td>1.645876e+12</td>\n      <td>1.666934e+12</td>\n      <td>1.678709e+12</td>\n      <td>1.616149e+12</td>\n      <td>1.565459e+12</td>\n      <td>0.362517</td>\n      <td>1.435000e+08</td>\n      <td>0.000128</td>\n      <td>1</td>\n      <td>Europe</td>\n    </tr>\n  </tbody>\n</table>\n<p>5 rows × 26 columns</p>\n</div>"
     },
     "metadata": {},
     "execution_count": 373
    }
   ],
   "source": [
    "new_df['Country_name'] =  new_df.index.values\n",
    "new_df['Continent'] = new_df['Country_name'].apply(grouping)\n",
    "new_df.drop('Country_name', axis = 1, inplace = True)\n",
    "new_df.head()"
   ]
  },
  {
   "cell_type": "code",
   "execution_count": 374,
   "metadata": {},
   "outputs": [],
   "source": [
    "small_df = new_df.groupby('Continent').agg({'Pop. Est.':(np.sum,np.mean,np.std)})\n",
    "small_df['size'] = new_df.groupby('Continent').size()"
   ]
  },
  {
   "cell_type": "code",
   "execution_count": 375,
   "metadata": {},
   "outputs": [
    {
     "output_type": "execute_result",
     "data": {
      "text/plain": [
       "               size           sum          mean           std\n",
       "Continent                                                    \n",
       "Asia              5  2.898666e+09  5.797333e+08  6.790979e+08\n",
       "Australia         1  2.331602e+07  2.331602e+07           NaN\n",
       "Europe            6  4.579297e+08  7.632161e+07  3.464767e+07\n",
       "North America     2  3.528552e+08  1.764276e+08  1.996696e+08\n",
       "South America     1  2.059153e+08  2.059153e+08           NaN"
      ],
      "text/html": "<div>\n<style scoped>\n    .dataframe tbody tr th:only-of-type {\n        vertical-align: middle;\n    }\n\n    .dataframe tbody tr th {\n        vertical-align: top;\n    }\n\n    .dataframe thead th {\n        text-align: right;\n    }\n</style>\n<table border=\"1\" class=\"dataframe\">\n  <thead>\n    <tr style=\"text-align: right;\">\n      <th></th>\n      <th>size</th>\n      <th>sum</th>\n      <th>mean</th>\n      <th>std</th>\n    </tr>\n    <tr>\n      <th>Continent</th>\n      <th></th>\n      <th></th>\n      <th></th>\n      <th></th>\n    </tr>\n  </thead>\n  <tbody>\n    <tr>\n      <th>Asia</th>\n      <td>5</td>\n      <td>2.898666e+09</td>\n      <td>5.797333e+08</td>\n      <td>6.790979e+08</td>\n    </tr>\n    <tr>\n      <th>Australia</th>\n      <td>1</td>\n      <td>2.331602e+07</td>\n      <td>2.331602e+07</td>\n      <td>NaN</td>\n    </tr>\n    <tr>\n      <th>Europe</th>\n      <td>6</td>\n      <td>4.579297e+08</td>\n      <td>7.632161e+07</td>\n      <td>3.464767e+07</td>\n    </tr>\n    <tr>\n      <th>North America</th>\n      <td>2</td>\n      <td>3.528552e+08</td>\n      <td>1.764276e+08</td>\n      <td>1.996696e+08</td>\n    </tr>\n    <tr>\n      <th>South America</th>\n      <td>1</td>\n      <td>2.059153e+08</td>\n      <td>2.059153e+08</td>\n      <td>NaN</td>\n    </tr>\n  </tbody>\n</table>\n</div>"
     },
     "metadata": {},
     "execution_count": 375
    }
   ],
   "source": [
    "final_df = small_df['Pop. Est.']\n",
    "append = small_df['size']\n",
    "final_df['size'] = append\n",
    "final_df =  final_df[['size','sum','mean','std']]\n",
    "final_df"
   ]
  },
  {
   "source": [
    "# Part 12"
   ],
   "cell_type": "markdown",
   "metadata": {}
  },
  {
   "cell_type": "code",
   "execution_count": 376,
   "metadata": {},
   "outputs": [
    {
     "output_type": "execute_result",
     "data": {
      "text/plain": [
       "                    Rank  Documents  Citable documents  Citations  \\\n",
       "Country                                                             \n",
       "China                  1     127050             126767     597237   \n",
       "United States          2      96661              94747     792274   \n",
       "Japan                  3      30504              30287     223024   \n",
       "United Kingdom         4      20944              20357     206091   \n",
       "Russian Federation     5      18534              18301      34266   \n",
       "Canada                 6      17899              17620     215003   \n",
       "Germany                7      17027              16831     140566   \n",
       "India                  8      15005              14841     128763   \n",
       "France                 9      13153              12973     130632   \n",
       "South Korea           10      11983              11923     114675   \n",
       "Italy                 11      10964              10794     111850   \n",
       "Spain                 12       9428               9330     123336   \n",
       "Iran                  13       8896               8819      57470   \n",
       "Australia             14       8831               8725      90765   \n",
       "Brazil                15       8668               8596      60702   \n",
       "\n",
       "                    Self-citations  Citations per document  H index  \\\n",
       "Country                                                               \n",
       "China                       411683                    4.70      138   \n",
       "United States               265436                    8.20      230   \n",
       "Japan                        61554                    7.31      134   \n",
       "United Kingdom               37874                    9.84      139   \n",
       "Russian Federation           12422                    1.85       57   \n",
       "Canada                       40930                   12.01      149   \n",
       "Germany                      27426                    8.26      126   \n",
       "India                        37209                    8.58      115   \n",
       "France                       28601                    9.93      114   \n",
       "South Korea                  22595                    9.57      104   \n",
       "Italy                        26661                   10.20      106   \n",
       "Spain                        23964                   13.08      115   \n",
       "Iran                         19125                    6.46       72   \n",
       "Australia                    15606                   10.28      107   \n",
       "Brazil                       14396                    7.00       86   \n",
       "\n",
       "                    Energy Supply  Energy Supply per Capita       % Renewable  \\\n",
       "Country                                                                         \n",
       "China                1.271910e+11                      93.0  (15.753, 29.227]   \n",
       "United States        9.083800e+10                     286.0   (2.212, 15.753]   \n",
       "Japan                1.898400e+10                     149.0   (2.212, 15.753]   \n",
       "United Kingdom       7.920000e+09                     124.0   (2.212, 15.753]   \n",
       "Russian Federation   3.070900e+10                     214.0  (15.753, 29.227]   \n",
       "Canada               1.043100e+10                     296.0  (56.174, 69.648]   \n",
       "Germany              1.326100e+10                     165.0  (15.753, 29.227]   \n",
       "India                3.319500e+10                      26.0   (2.212, 15.753]   \n",
       "France               1.059700e+10                     166.0  (15.753, 29.227]   \n",
       "South Korea          1.100700e+10                     221.0   (2.212, 15.753]   \n",
       "Italy                6.530000e+09                     109.0  (29.227, 42.701]   \n",
       "Spain                4.923000e+09                     106.0  (29.227, 42.701]   \n",
       "Iran                 9.172000e+09                     119.0   (2.212, 15.753]   \n",
       "Australia            5.386000e+09                     231.0   (2.212, 15.753]   \n",
       "Brazil               1.214900e+10                      59.0  (56.174, 69.648]   \n",
       "\n",
       "                    ...          2012          2013          2014  \\\n",
       "Country             ...                                             \n",
       "China               ...  7.124978e+12  7.672448e+12  8.230121e+12   \n",
       "United States       ...  1.554216e+13  1.577367e+13  1.615662e+13   \n",
       "Japan               ...  5.569102e+12  5.644659e+12  5.642884e+12   \n",
       "United Kingdom      ...  2.479809e+12  2.533370e+12  2.605643e+12   \n",
       "Russian Federation  ...  1.645876e+12  1.666934e+12  1.678709e+12   \n",
       "Canada              ...  1.693133e+12  1.730688e+12  1.773486e+12   \n",
       "Germany             ...  3.556724e+12  3.567317e+12  3.624386e+12   \n",
       "India               ...  1.924235e+12  2.051982e+12  2.200617e+12   \n",
       "France              ...  2.706968e+12  2.722567e+12  2.729632e+12   \n",
       "South Korea         ...  1.160809e+12  1.194429e+12  1.234340e+12   \n",
       "Italy               ...  2.077184e+12  2.040871e+12  2.033868e+12   \n",
       "Spain               ...  1.380216e+12  1.357139e+12  1.375605e+12   \n",
       "Iran                ...  4.532569e+11  4.445926e+11  4.639027e+11   \n",
       "Australia           ...  1.211913e+12  1.241484e+12  1.272520e+12   \n",
       "Brazil              ...  2.339209e+12  2.409740e+12  2.412231e+12   \n",
       "\n",
       "                            2015           avg  Citation Ratio     Pop. Est.  \\\n",
       "Country                                                                        \n",
       "China               8.797999e+12  6.348609e+12        0.689313  1.367645e+09   \n",
       "United States       1.654857e+13  1.536434e+13        0.335031  3.176154e+08   \n",
       "Japan               5.669563e+12  5.542208e+12        0.275997  1.274094e+08   \n",
       "United Kingdom      2.666333e+12  2.487907e+12        0.183773  6.387097e+07   \n",
       "Russian Federation  1.616149e+12  1.565459e+12        0.362517  1.435000e+08   \n",
       "Canada              1.792609e+12  1.660647e+12        0.190369  3.523986e+07   \n",
       "Germany             3.685556e+12  3.493025e+12        0.195111  8.036970e+07   \n",
       "India               2.367206e+12  1.769297e+12        0.288973  1.276731e+09   \n",
       "France              2.761185e+12  2.681725e+12        0.218943  6.383735e+07   \n",
       "South Korea         1.266580e+12  1.106715e+12        0.197035  4.980543e+07   \n",
       "Italy               2.049316e+12  2.120175e+12        0.238364  5.990826e+07   \n",
       "Spain               1.419821e+12  1.418078e+12        0.194299  4.644340e+07   \n",
       "Iran                         NaN  4.441558e+11        0.332782  7.707563e+07   \n",
       "Australia           1.301251e+12  1.164043e+12        0.171939  2.331602e+07   \n",
       "Brazil              2.319423e+12  2.189794e+12        0.237159  2.059153e+08   \n",
       "\n",
       "                    Citable documents per Capita  % Ren. check      Continent  \n",
       "Country                                                                        \n",
       "China                                   0.000093             1           Asia  \n",
       "United States                           0.000298             0  North America  \n",
       "Japan                                   0.000238             0           Asia  \n",
       "United Kingdom                          0.000319             0         Europe  \n",
       "Russian Federation                      0.000128             1         Europe  \n",
       "Canada                                  0.000500             1  North America  \n",
       "Germany                                 0.000209             1         Europe  \n",
       "India                                   0.000012             0           Asia  \n",
       "France                                  0.000203             1         Europe  \n",
       "South Korea                             0.000239             0           Asia  \n",
       "Italy                                   0.000180             1         Europe  \n",
       "Spain                                   0.000201             1         Europe  \n",
       "Iran                                    0.000114             0           Asia  \n",
       "Australia                               0.000374             0      Australia  \n",
       "Brazil                                  0.000042             1  South America  \n",
       "\n",
       "[15 rows x 26 columns]"
      ],
      "text/html": "<div>\n<style scoped>\n    .dataframe tbody tr th:only-of-type {\n        vertical-align: middle;\n    }\n\n    .dataframe tbody tr th {\n        vertical-align: top;\n    }\n\n    .dataframe thead th {\n        text-align: right;\n    }\n</style>\n<table border=\"1\" class=\"dataframe\">\n  <thead>\n    <tr style=\"text-align: right;\">\n      <th></th>\n      <th>Rank</th>\n      <th>Documents</th>\n      <th>Citable documents</th>\n      <th>Citations</th>\n      <th>Self-citations</th>\n      <th>Citations per document</th>\n      <th>H index</th>\n      <th>Energy Supply</th>\n      <th>Energy Supply per Capita</th>\n      <th>% Renewable</th>\n      <th>...</th>\n      <th>2012</th>\n      <th>2013</th>\n      <th>2014</th>\n      <th>2015</th>\n      <th>avg</th>\n      <th>Citation Ratio</th>\n      <th>Pop. Est.</th>\n      <th>Citable documents per Capita</th>\n      <th>% Ren. check</th>\n      <th>Continent</th>\n    </tr>\n    <tr>\n      <th>Country</th>\n      <th></th>\n      <th></th>\n      <th></th>\n      <th></th>\n      <th></th>\n      <th></th>\n      <th></th>\n      <th></th>\n      <th></th>\n      <th></th>\n      <th></th>\n      <th></th>\n      <th></th>\n      <th></th>\n      <th></th>\n      <th></th>\n      <th></th>\n      <th></th>\n      <th></th>\n      <th></th>\n      <th></th>\n    </tr>\n  </thead>\n  <tbody>\n    <tr>\n      <th>China</th>\n      <td>1</td>\n      <td>127050</td>\n      <td>126767</td>\n      <td>597237</td>\n      <td>411683</td>\n      <td>4.70</td>\n      <td>138</td>\n      <td>1.271910e+11</td>\n      <td>93.0</td>\n      <td>(15.753, 29.227]</td>\n      <td>...</td>\n      <td>7.124978e+12</td>\n      <td>7.672448e+12</td>\n      <td>8.230121e+12</td>\n      <td>8.797999e+12</td>\n      <td>6.348609e+12</td>\n      <td>0.689313</td>\n      <td>1.367645e+09</td>\n      <td>0.000093</td>\n      <td>1</td>\n      <td>Asia</td>\n    </tr>\n    <tr>\n      <th>United States</th>\n      <td>2</td>\n      <td>96661</td>\n      <td>94747</td>\n      <td>792274</td>\n      <td>265436</td>\n      <td>8.20</td>\n      <td>230</td>\n      <td>9.083800e+10</td>\n      <td>286.0</td>\n      <td>(2.212, 15.753]</td>\n      <td>...</td>\n      <td>1.554216e+13</td>\n      <td>1.577367e+13</td>\n      <td>1.615662e+13</td>\n      <td>1.654857e+13</td>\n      <td>1.536434e+13</td>\n      <td>0.335031</td>\n      <td>3.176154e+08</td>\n      <td>0.000298</td>\n      <td>0</td>\n      <td>North America</td>\n    </tr>\n    <tr>\n      <th>Japan</th>\n      <td>3</td>\n      <td>30504</td>\n      <td>30287</td>\n      <td>223024</td>\n      <td>61554</td>\n      <td>7.31</td>\n      <td>134</td>\n      <td>1.898400e+10</td>\n      <td>149.0</td>\n      <td>(2.212, 15.753]</td>\n      <td>...</td>\n      <td>5.569102e+12</td>\n      <td>5.644659e+12</td>\n      <td>5.642884e+12</td>\n      <td>5.669563e+12</td>\n      <td>5.542208e+12</td>\n      <td>0.275997</td>\n      <td>1.274094e+08</td>\n      <td>0.000238</td>\n      <td>0</td>\n      <td>Asia</td>\n    </tr>\n    <tr>\n      <th>United Kingdom</th>\n      <td>4</td>\n      <td>20944</td>\n      <td>20357</td>\n      <td>206091</td>\n      <td>37874</td>\n      <td>9.84</td>\n      <td>139</td>\n      <td>7.920000e+09</td>\n      <td>124.0</td>\n      <td>(2.212, 15.753]</td>\n      <td>...</td>\n      <td>2.479809e+12</td>\n      <td>2.533370e+12</td>\n      <td>2.605643e+12</td>\n      <td>2.666333e+12</td>\n      <td>2.487907e+12</td>\n      <td>0.183773</td>\n      <td>6.387097e+07</td>\n      <td>0.000319</td>\n      <td>0</td>\n      <td>Europe</td>\n    </tr>\n    <tr>\n      <th>Russian Federation</th>\n      <td>5</td>\n      <td>18534</td>\n      <td>18301</td>\n      <td>34266</td>\n      <td>12422</td>\n      <td>1.85</td>\n      <td>57</td>\n      <td>3.070900e+10</td>\n      <td>214.0</td>\n      <td>(15.753, 29.227]</td>\n      <td>...</td>\n      <td>1.645876e+12</td>\n      <td>1.666934e+12</td>\n      <td>1.678709e+12</td>\n      <td>1.616149e+12</td>\n      <td>1.565459e+12</td>\n      <td>0.362517</td>\n      <td>1.435000e+08</td>\n      <td>0.000128</td>\n      <td>1</td>\n      <td>Europe</td>\n    </tr>\n    <tr>\n      <th>Canada</th>\n      <td>6</td>\n      <td>17899</td>\n      <td>17620</td>\n      <td>215003</td>\n      <td>40930</td>\n      <td>12.01</td>\n      <td>149</td>\n      <td>1.043100e+10</td>\n      <td>296.0</td>\n      <td>(56.174, 69.648]</td>\n      <td>...</td>\n      <td>1.693133e+12</td>\n      <td>1.730688e+12</td>\n      <td>1.773486e+12</td>\n      <td>1.792609e+12</td>\n      <td>1.660647e+12</td>\n      <td>0.190369</td>\n      <td>3.523986e+07</td>\n      <td>0.000500</td>\n      <td>1</td>\n      <td>North America</td>\n    </tr>\n    <tr>\n      <th>Germany</th>\n      <td>7</td>\n      <td>17027</td>\n      <td>16831</td>\n      <td>140566</td>\n      <td>27426</td>\n      <td>8.26</td>\n      <td>126</td>\n      <td>1.326100e+10</td>\n      <td>165.0</td>\n      <td>(15.753, 29.227]</td>\n      <td>...</td>\n      <td>3.556724e+12</td>\n      <td>3.567317e+12</td>\n      <td>3.624386e+12</td>\n      <td>3.685556e+12</td>\n      <td>3.493025e+12</td>\n      <td>0.195111</td>\n      <td>8.036970e+07</td>\n      <td>0.000209</td>\n      <td>1</td>\n      <td>Europe</td>\n    </tr>\n    <tr>\n      <th>India</th>\n      <td>8</td>\n      <td>15005</td>\n      <td>14841</td>\n      <td>128763</td>\n      <td>37209</td>\n      <td>8.58</td>\n      <td>115</td>\n      <td>3.319500e+10</td>\n      <td>26.0</td>\n      <td>(2.212, 15.753]</td>\n      <td>...</td>\n      <td>1.924235e+12</td>\n      <td>2.051982e+12</td>\n      <td>2.200617e+12</td>\n      <td>2.367206e+12</td>\n      <td>1.769297e+12</td>\n      <td>0.288973</td>\n      <td>1.276731e+09</td>\n      <td>0.000012</td>\n      <td>0</td>\n      <td>Asia</td>\n    </tr>\n    <tr>\n      <th>France</th>\n      <td>9</td>\n      <td>13153</td>\n      <td>12973</td>\n      <td>130632</td>\n      <td>28601</td>\n      <td>9.93</td>\n      <td>114</td>\n      <td>1.059700e+10</td>\n      <td>166.0</td>\n      <td>(15.753, 29.227]</td>\n      <td>...</td>\n      <td>2.706968e+12</td>\n      <td>2.722567e+12</td>\n      <td>2.729632e+12</td>\n      <td>2.761185e+12</td>\n      <td>2.681725e+12</td>\n      <td>0.218943</td>\n      <td>6.383735e+07</td>\n      <td>0.000203</td>\n      <td>1</td>\n      <td>Europe</td>\n    </tr>\n    <tr>\n      <th>South Korea</th>\n      <td>10</td>\n      <td>11983</td>\n      <td>11923</td>\n      <td>114675</td>\n      <td>22595</td>\n      <td>9.57</td>\n      <td>104</td>\n      <td>1.100700e+10</td>\n      <td>221.0</td>\n      <td>(2.212, 15.753]</td>\n      <td>...</td>\n      <td>1.160809e+12</td>\n      <td>1.194429e+12</td>\n      <td>1.234340e+12</td>\n      <td>1.266580e+12</td>\n      <td>1.106715e+12</td>\n      <td>0.197035</td>\n      <td>4.980543e+07</td>\n      <td>0.000239</td>\n      <td>0</td>\n      <td>Asia</td>\n    </tr>\n    <tr>\n      <th>Italy</th>\n      <td>11</td>\n      <td>10964</td>\n      <td>10794</td>\n      <td>111850</td>\n      <td>26661</td>\n      <td>10.20</td>\n      <td>106</td>\n      <td>6.530000e+09</td>\n      <td>109.0</td>\n      <td>(29.227, 42.701]</td>\n      <td>...</td>\n      <td>2.077184e+12</td>\n      <td>2.040871e+12</td>\n      <td>2.033868e+12</td>\n      <td>2.049316e+12</td>\n      <td>2.120175e+12</td>\n      <td>0.238364</td>\n      <td>5.990826e+07</td>\n      <td>0.000180</td>\n      <td>1</td>\n      <td>Europe</td>\n    </tr>\n    <tr>\n      <th>Spain</th>\n      <td>12</td>\n      <td>9428</td>\n      <td>9330</td>\n      <td>123336</td>\n      <td>23964</td>\n      <td>13.08</td>\n      <td>115</td>\n      <td>4.923000e+09</td>\n      <td>106.0</td>\n      <td>(29.227, 42.701]</td>\n      <td>...</td>\n      <td>1.380216e+12</td>\n      <td>1.357139e+12</td>\n      <td>1.375605e+12</td>\n      <td>1.419821e+12</td>\n      <td>1.418078e+12</td>\n      <td>0.194299</td>\n      <td>4.644340e+07</td>\n      <td>0.000201</td>\n      <td>1</td>\n      <td>Europe</td>\n    </tr>\n    <tr>\n      <th>Iran</th>\n      <td>13</td>\n      <td>8896</td>\n      <td>8819</td>\n      <td>57470</td>\n      <td>19125</td>\n      <td>6.46</td>\n      <td>72</td>\n      <td>9.172000e+09</td>\n      <td>119.0</td>\n      <td>(2.212, 15.753]</td>\n      <td>...</td>\n      <td>4.532569e+11</td>\n      <td>4.445926e+11</td>\n      <td>4.639027e+11</td>\n      <td>NaN</td>\n      <td>4.441558e+11</td>\n      <td>0.332782</td>\n      <td>7.707563e+07</td>\n      <td>0.000114</td>\n      <td>0</td>\n      <td>Asia</td>\n    </tr>\n    <tr>\n      <th>Australia</th>\n      <td>14</td>\n      <td>8831</td>\n      <td>8725</td>\n      <td>90765</td>\n      <td>15606</td>\n      <td>10.28</td>\n      <td>107</td>\n      <td>5.386000e+09</td>\n      <td>231.0</td>\n      <td>(2.212, 15.753]</td>\n      <td>...</td>\n      <td>1.211913e+12</td>\n      <td>1.241484e+12</td>\n      <td>1.272520e+12</td>\n      <td>1.301251e+12</td>\n      <td>1.164043e+12</td>\n      <td>0.171939</td>\n      <td>2.331602e+07</td>\n      <td>0.000374</td>\n      <td>0</td>\n      <td>Australia</td>\n    </tr>\n    <tr>\n      <th>Brazil</th>\n      <td>15</td>\n      <td>8668</td>\n      <td>8596</td>\n      <td>60702</td>\n      <td>14396</td>\n      <td>7.00</td>\n      <td>86</td>\n      <td>1.214900e+10</td>\n      <td>59.0</td>\n      <td>(56.174, 69.648]</td>\n      <td>...</td>\n      <td>2.339209e+12</td>\n      <td>2.409740e+12</td>\n      <td>2.412231e+12</td>\n      <td>2.319423e+12</td>\n      <td>2.189794e+12</td>\n      <td>0.237159</td>\n      <td>2.059153e+08</td>\n      <td>0.000042</td>\n      <td>1</td>\n      <td>South America</td>\n    </tr>\n  </tbody>\n</table>\n<p>15 rows × 26 columns</p>\n</div>"
     },
     "metadata": {},
     "execution_count": 376
    }
   ],
   "source": [
    "new_df['% Renewable'] = pd.cut(new_df['% Renewable'],5)\n",
    "new_df\n",
    "    "
   ]
  },
  {
   "cell_type": "code",
   "execution_count": 377,
   "metadata": {},
   "outputs": [],
   "source": [
    "num = new_df.groupby([new_df['Continent'], new_df['% Renewable']]).size()"
   ]
  },
  {
   "cell_type": "code",
   "execution_count": 378,
   "metadata": {},
   "outputs": [],
   "source": [
    "indexNames =  num[num == 0].index"
   ]
  },
  {
   "cell_type": "code",
   "execution_count": 379,
   "metadata": {},
   "outputs": [],
   "source": [
    "num.drop(indexNames, inplace=True)"
   ]
  },
  {
   "cell_type": "code",
   "execution_count": 384,
   "metadata": {},
   "outputs": [
    {
     "output_type": "execute_result",
     "data": {
      "text/plain": [
       "FrozenList(['Continent', '% Renewable'])"
      ]
     },
     "metadata": {},
     "execution_count": 384
    }
   ],
   "source": [
    "num.index.names"
   ]
  },
  {
   "cell_type": "code",
   "execution_count": 385,
   "metadata": {},
   "outputs": [
    {
     "output_type": "execute_result",
     "data": {
      "text/plain": [
       "Continent      % Renewable     \n",
       "Asia           (2.212, 15.753]     4\n",
       "               (15.753, 29.227]    1\n",
       "Australia      (2.212, 15.753]     1\n",
       "Europe         (2.212, 15.753]     1\n",
       "               (15.753, 29.227]    3\n",
       "               (29.227, 42.701]    2\n",
       "North America  (2.212, 15.753]     1\n",
       "               (56.174, 69.648]    1\n",
       "South America  (56.174, 69.648]    1\n",
       "dtype: int64"
      ]
     },
     "metadata": {},
     "execution_count": 385
    }
   ],
   "source": [
    "num"
   ]
  },
  {
   "source": [
    "# Part 13"
   ],
   "cell_type": "markdown",
   "metadata": {}
  },
  {
   "cell_type": "code",
   "execution_count": 380,
   "metadata": {},
   "outputs": [
    {
     "output_type": "execute_result",
     "data": {
      "text/plain": [
       "Country\n",
       "China                 1367645161.2903225\n",
       "United States         317615384.61538464\n",
       "Japan                 127409395.97315437\n",
       "United Kingdom        63870967.741935484\n",
       "Russian Federation           143500000.0\n",
       "Canada                 35239864.86486486\n",
       "Germany                80369696.96969697\n",
       "India                 1276730769.2307692\n",
       "France                 63837349.39759036\n",
       "South Korea           49805429.864253394\n",
       "Italy                 59908256.880733944\n",
       "Spain                   46443396.2264151\n",
       "Iran                   77075630.25210084\n",
       "Australia             23316017.316017315\n",
       "Brazil                205915254.23728815\n",
       "Name: Pop. Est., dtype: object"
      ]
     },
     "metadata": {},
     "execution_count": 380
    }
   ],
   "source": [
    "PopEst = new_df['Pop. Est.'].apply(str)\n",
    "PopEst"
   ]
  },
  {
   "cell_type": "code",
   "execution_count": null,
   "metadata": {},
   "outputs": [],
   "source": []
  }
 ]
}