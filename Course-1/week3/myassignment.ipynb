{
 "metadata": {
  "language_info": {
   "codemirror_mode": {
    "name": "ipython",
    "version": 3
   },
   "file_extension": ".py",
   "mimetype": "text/x-python",
   "name": "python",
   "nbconvert_exporter": "python",
   "pygments_lexer": "ipython3",
   "version": "3.8.6-candidate"
  },
  "orig_nbformat": 2,
  "kernelspec": {
   "name": "python3",
   "display_name": "Python 3",
   "language": "python"
  }
 },
 "nbformat": 4,
 "nbformat_minor": 2,
 "cells": [
  {
   "cell_type": "code",
   "execution_count": 177,
   "metadata": {},
   "outputs": [],
   "source": [
    "import pandas as pd\n",
    "import numpy as np\n",
    "import re\n",
    "#pd.set_option('display.max_rows',None)\n",
    "# Filter all warnings. If you would like to see the warnings, please comment the two lines below.\n",
    "import warnings\n",
    "warnings.filterwarnings('ignore')"
   ]
  },
  {
   "source": [
    "# Question 1"
   ],
   "cell_type": "markdown",
   "metadata": {}
  },
  {
   "cell_type": "code",
   "execution_count": 178,
   "metadata": {},
   "outputs": [],
   "source": [
    "Energy = pd.read_excel('assets/Energy Indicators.xls', header = None, usecols='C:F', skiprows = 18, skipfooter = 38)\n",
    "cols = ['Country', 'Energy Supply', 'Energy Supply per Capita', '% Renewable']\n",
    "Energy.columns = cols\n",
    "Energy.set_index('Country', inplace=True)\n",
    "ren  = {\"Republic of Korea\": \"South Korea\",\n",
    "\"United States of America\": \"United States\",\n",
    "\"United Kingdom of Great Britain and Northern Ireland\": \"United Kingdom\",\n",
    "\"China, Hong Kong Special Administrative Region\": \"Hong Kong\"}\n"
   ]
  },
  {
   "cell_type": "code",
   "execution_count": 179,
   "metadata": {},
   "outputs": [],
   "source": [
    "def conversion(item):\n",
    "    if item == '...':\n",
    "        return None\n",
    "    else:\n",
    "        new_val =  item*1000000\n",
    "        return new_val"
   ]
  },
  {
   "cell_type": "code",
   "execution_count": 180,
   "metadata": {},
   "outputs": [],
   "source": [
    "Energy['Energy Supply'] = Energy['Energy Supply'].apply(conversion)"
   ]
  },
  {
   "cell_type": "code",
   "execution_count": 181,
   "metadata": {},
   "outputs": [],
   "source": [
    "def cleaning(item):\n",
    "\n",
    "    result = re.sub('\\d', '', item) #remove digits\n",
    "    result = re.sub(r'\\([^)]*\\)', '', result) #Remove things in parenthesis\n",
    "    result = result.rstrip()\n",
    "    \n",
    "    return result\n",
    "\n",
    "Energy.index = Energy.index.map(cleaning)\n",
    "Energy.rename(index = ren, inplace = True)\n"
   ]
  },
  {
   "cell_type": "code",
   "execution_count": 182,
   "metadata": {},
   "outputs": [],
   "source": [
    "GDP = pd.read_csv('assets/world_bank.csv', skiprows=4, index_col= 0)"
   ]
  },
  {
   "cell_type": "code",
   "execution_count": 183,
   "metadata": {},
   "outputs": [],
   "source": [
    "rena = {\"Korea, Rep.\": \"South Korea\", \"Iran, Islamic Rep.\": \"Iran\", \"Hong Kong SAR, China\": \"Hong Kong\"}\n",
    "dropcol =  list(range(2006,2016))\n",
    "dropcol = map(str, dropcol)  \n",
    "#GDP.drop(GDP.columns.difference(dropcol), 1, inplace= True)\n",
    "GDP = GDP[dropcol]\n",
    "GDP.index.rename('Country', inplace = True)\n"
   ]
  },
  {
   "cell_type": "code",
   "execution_count": 184,
   "metadata": {},
   "outputs": [
    {
     "output_type": "stream",
     "name": "stdout",
     "text": [
      "(264, 10)\n"
     ]
    },
    {
     "output_type": "execute_result",
     "data": {
      "text/plain": [
       "                     2006          2007          2008          2009  \\\n",
       "Country                                                               \n",
       "Aruba                 NaN           NaN           NaN           NaN   \n",
       "Andorra      4.018196e+09  4.021331e+09  3.675728e+09  3.535389e+09   \n",
       "Afghanistan  1.030523e+10  1.172119e+10  1.214448e+10  1.469733e+10   \n",
       "Angola       5.581103e+10  6.842044e+10  7.787420e+10  7.975320e+10   \n",
       "Albania      9.771760e+09  1.034829e+10  1.112752e+10  1.150029e+10   \n",
       "\n",
       "                     2010          2011          2012          2013  \\\n",
       "Country                                                               \n",
       "Aruba        2.467704e+09           NaN           NaN           NaN   \n",
       "Andorra      3.346317e+09  3.185605e+09  3.129538e+09  3.127550e+09   \n",
       "Afghanistan  1.593680e+10  1.691113e+10  1.935220e+10  1.973134e+10   \n",
       "Angola       8.247091e+10  8.570262e+10  9.012096e+10  9.626143e+10   \n",
       "Albania      1.192695e+10  1.223109e+10  1.240477e+10  1.254247e+10   \n",
       "\n",
       "                     2014          2015  \n",
       "Country                                  \n",
       "Aruba                 NaN           NaN  \n",
       "Andorra               NaN           NaN  \n",
       "Afghanistan  1.999032e+10  2.029415e+10  \n",
       "Angola       1.008863e+11  1.039106e+11  \n",
       "Albania      1.279331e+10  1.312082e+10  "
      ],
      "text/html": "<div>\n<style scoped>\n    .dataframe tbody tr th:only-of-type {\n        vertical-align: middle;\n    }\n\n    .dataframe tbody tr th {\n        vertical-align: top;\n    }\n\n    .dataframe thead th {\n        text-align: right;\n    }\n</style>\n<table border=\"1\" class=\"dataframe\">\n  <thead>\n    <tr style=\"text-align: right;\">\n      <th></th>\n      <th>2006</th>\n      <th>2007</th>\n      <th>2008</th>\n      <th>2009</th>\n      <th>2010</th>\n      <th>2011</th>\n      <th>2012</th>\n      <th>2013</th>\n      <th>2014</th>\n      <th>2015</th>\n    </tr>\n    <tr>\n      <th>Country</th>\n      <th></th>\n      <th></th>\n      <th></th>\n      <th></th>\n      <th></th>\n      <th></th>\n      <th></th>\n      <th></th>\n      <th></th>\n      <th></th>\n    </tr>\n  </thead>\n  <tbody>\n    <tr>\n      <th>Aruba</th>\n      <td>NaN</td>\n      <td>NaN</td>\n      <td>NaN</td>\n      <td>NaN</td>\n      <td>2.467704e+09</td>\n      <td>NaN</td>\n      <td>NaN</td>\n      <td>NaN</td>\n      <td>NaN</td>\n      <td>NaN</td>\n    </tr>\n    <tr>\n      <th>Andorra</th>\n      <td>4.018196e+09</td>\n      <td>4.021331e+09</td>\n      <td>3.675728e+09</td>\n      <td>3.535389e+09</td>\n      <td>3.346317e+09</td>\n      <td>3.185605e+09</td>\n      <td>3.129538e+09</td>\n      <td>3.127550e+09</td>\n      <td>NaN</td>\n      <td>NaN</td>\n    </tr>\n    <tr>\n      <th>Afghanistan</th>\n      <td>1.030523e+10</td>\n      <td>1.172119e+10</td>\n      <td>1.214448e+10</td>\n      <td>1.469733e+10</td>\n      <td>1.593680e+10</td>\n      <td>1.691113e+10</td>\n      <td>1.935220e+10</td>\n      <td>1.973134e+10</td>\n      <td>1.999032e+10</td>\n      <td>2.029415e+10</td>\n    </tr>\n    <tr>\n      <th>Angola</th>\n      <td>5.581103e+10</td>\n      <td>6.842044e+10</td>\n      <td>7.787420e+10</td>\n      <td>7.975320e+10</td>\n      <td>8.247091e+10</td>\n      <td>8.570262e+10</td>\n      <td>9.012096e+10</td>\n      <td>9.626143e+10</td>\n      <td>1.008863e+11</td>\n      <td>1.039106e+11</td>\n    </tr>\n    <tr>\n      <th>Albania</th>\n      <td>9.771760e+09</td>\n      <td>1.034829e+10</td>\n      <td>1.112752e+10</td>\n      <td>1.150029e+10</td>\n      <td>1.192695e+10</td>\n      <td>1.223109e+10</td>\n      <td>1.240477e+10</td>\n      <td>1.254247e+10</td>\n      <td>1.279331e+10</td>\n      <td>1.312082e+10</td>\n    </tr>\n  </tbody>\n</table>\n</div>"
     },
     "metadata": {},
     "execution_count": 184
    }
   ],
   "source": [
    "GDP.rename(index = rena, inplace = True)\n",
    "print(GDP.shape)\n",
    "GDP.head()\n"
   ]
  },
  {
   "cell_type": "code",
   "execution_count": 185,
   "metadata": {},
   "outputs": [
    {
     "output_type": "execute_result",
     "data": {
      "text/plain": [
       "   Rank             Country  Documents  Citable documents  Citations  \\\n",
       "0     1               China     127050             126767     597237   \n",
       "1     2       United States      96661              94747     792274   \n",
       "2     3               Japan      30504              30287     223024   \n",
       "3     4      United Kingdom      20944              20357     206091   \n",
       "4     5  Russian Federation      18534              18301      34266   \n",
       "\n",
       "   Self-citations  Citations per document  H index  \n",
       "0          411683                    4.70      138  \n",
       "1          265436                    8.20      230  \n",
       "2           61554                    7.31      134  \n",
       "3           37874                    9.84      139  \n",
       "4           12422                    1.85       57  "
      ],
      "text/html": "<div>\n<style scoped>\n    .dataframe tbody tr th:only-of-type {\n        vertical-align: middle;\n    }\n\n    .dataframe tbody tr th {\n        vertical-align: top;\n    }\n\n    .dataframe thead th {\n        text-align: right;\n    }\n</style>\n<table border=\"1\" class=\"dataframe\">\n  <thead>\n    <tr style=\"text-align: right;\">\n      <th></th>\n      <th>Rank</th>\n      <th>Country</th>\n      <th>Documents</th>\n      <th>Citable documents</th>\n      <th>Citations</th>\n      <th>Self-citations</th>\n      <th>Citations per document</th>\n      <th>H index</th>\n    </tr>\n  </thead>\n  <tbody>\n    <tr>\n      <th>0</th>\n      <td>1</td>\n      <td>China</td>\n      <td>127050</td>\n      <td>126767</td>\n      <td>597237</td>\n      <td>411683</td>\n      <td>4.70</td>\n      <td>138</td>\n    </tr>\n    <tr>\n      <th>1</th>\n      <td>2</td>\n      <td>United States</td>\n      <td>96661</td>\n      <td>94747</td>\n      <td>792274</td>\n      <td>265436</td>\n      <td>8.20</td>\n      <td>230</td>\n    </tr>\n    <tr>\n      <th>2</th>\n      <td>3</td>\n      <td>Japan</td>\n      <td>30504</td>\n      <td>30287</td>\n      <td>223024</td>\n      <td>61554</td>\n      <td>7.31</td>\n      <td>134</td>\n    </tr>\n    <tr>\n      <th>3</th>\n      <td>4</td>\n      <td>United Kingdom</td>\n      <td>20944</td>\n      <td>20357</td>\n      <td>206091</td>\n      <td>37874</td>\n      <td>9.84</td>\n      <td>139</td>\n    </tr>\n    <tr>\n      <th>4</th>\n      <td>5</td>\n      <td>Russian Federation</td>\n      <td>18534</td>\n      <td>18301</td>\n      <td>34266</td>\n      <td>12422</td>\n      <td>1.85</td>\n      <td>57</td>\n    </tr>\n  </tbody>\n</table>\n</div>"
     },
     "metadata": {},
     "execution_count": 185
    }
   ],
   "source": [
    "ScimEn = pd.read_csv('assets/scimagojr-3.csv')\n",
    "ScimEn.head()\n"
   ]
  },
  {
   "cell_type": "code",
   "execution_count": 186,
   "metadata": {},
   "outputs": [],
   "source": [
    "ScimEn_short = ScimEn[ScimEn.index < 15]\n",
    "new_df = ScimEn_short.merge(GDP, how = 'inner', left_on = 'Country', right_on = 'Country')\n",
    "new_df.set_index('Country')\n",
    "new_df = new_df.merge(Energy, how = 'inner', left_on='Country', right_on = 'Country')\n",
    "new_df.set_index('Country', inplace = True)\n"
   ]
  },
  {
   "cell_type": "code",
   "execution_count": 187,
   "metadata": {},
   "outputs": [],
   "source": [
    "sortby = ['Rank', 'Documents', 'Citable documents', 'Citations', 'Self-citations','Citations per document', 'H index', 'Energy Supply','Energy Supply per Capita', '% Renewable','2006', '2007', '2008','2009', '2010', '2011', '2012', '2013','2014', '2015']\n",
    "new_df = new_df[sortby]\n"
   ]
  },
  {
   "cell_type": "code",
   "execution_count": 188,
   "metadata": {},
   "outputs": [
    {
     "output_type": "execute_result",
     "data": {
      "text/plain": [
       "[191, 264, 227]"
      ]
     },
     "metadata": {},
     "execution_count": 188
    }
   ],
   "source": [
    "entries = list()\n",
    "entries.append(ScimEn.shape[0])\n",
    "entries.append(GDP.shape[0])\n",
    "entries.append(Energy.shape[0])\n",
    "entries"
   ]
  },
  {
   "cell_type": "code",
   "execution_count": null,
   "metadata": {},
   "outputs": [],
   "source": []
  },
  {
   "source": [
    "# Part 3"
   ],
   "cell_type": "markdown",
   "metadata": {}
  },
  {
   "cell_type": "code",
   "execution_count": 189,
   "metadata": {},
   "outputs": [],
   "source": [
    "years = list(range(2006,2016))\n",
    "years = list(map(str,years))\n"
   ]
  },
  {
   "cell_type": "code",
   "execution_count": 190,
   "metadata": {},
   "outputs": [
    {
     "output_type": "execute_result",
     "data": {
      "text/plain": [
       "Country\n",
       "United States         1.536434e+13\n",
       "China                 6.348609e+12\n",
       "Japan                 5.542208e+12\n",
       "Germany               3.493025e+12\n",
       "France                2.681725e+12\n",
       "United Kingdom        2.487907e+12\n",
       "Brazil                2.189794e+12\n",
       "Italy                 2.120175e+12\n",
       "India                 1.769297e+12\n",
       "Canada                1.660647e+12\n",
       "Russian Federation    1.565459e+12\n",
       "Spain                 1.418078e+12\n",
       "Australia             1.164043e+12\n",
       "South Korea           1.106715e+12\n",
       "Iran                  4.441558e+11\n",
       "Name: avg, dtype: float64"
      ]
     },
     "metadata": {},
     "execution_count": 190
    }
   ],
   "source": [
    "new_df['avg'] = new_df[years].mean(axis = 1)\n",
    "new_df.sort_values('avg', axis = 0,ascending = False, inplace= True)\n",
    "gdp_serie = new_df['avg']\n",
    "gdp_serie"
   ]
  },
  {
   "source": [
    "# Part 4"
   ],
   "cell_type": "markdown",
   "metadata": {}
  },
  {
   "cell_type": "code",
   "execution_count": 191,
   "metadata": {},
   "outputs": [],
   "source": [
    "best6 = gdp_serie.index.values[5] ## return the country\n",
    "df_6 = new_df.loc[best6]\n"
   ]
  },
  {
   "cell_type": "code",
   "execution_count": 192,
   "metadata": {},
   "outputs": [
    {
     "output_type": "execute_result",
     "data": {
      "text/plain": [
       "246702696075.3999"
      ]
     },
     "metadata": {},
     "execution_count": 192
    }
   ],
   "source": [
    "gdp_trend = df_6.iloc[10:20]\n",
    "min_gdp = gdp_trend[0]\n",
    "max_gdp = gdp_trend[-1]\n",
    "gdp_change = max_gdp - min_gdp\n",
    "gdp_change"
   ]
  },
  {
   "source": [
    "# Part 5"
   ],
   "cell_type": "markdown",
   "metadata": {}
  },
  {
   "cell_type": "code",
   "execution_count": 193,
   "metadata": {},
   "outputs": [
    {
     "output_type": "execute_result",
     "data": {
      "text/plain": [
       "               Rank  Documents  Citable documents  Citations  Self-citations  \\\n",
       "Country                                                                        \n",
       "United States     2      96661              94747     792274          265436   \n",
       "China             1     127050             126767     597237          411683   \n",
       "Japan             3      30504              30287     223024           61554   \n",
       "Germany           7      17027              16831     140566           27426   \n",
       "France            9      13153              12973     130632           28601   \n",
       "\n",
       "               Citations per document  H index  Energy Supply  \\\n",
       "Country                                                         \n",
       "United States                    8.20      230   9.083800e+10   \n",
       "China                            4.70      138   1.271910e+11   \n",
       "Japan                            7.31      134   1.898400e+10   \n",
       "Germany                          8.26      126   1.326100e+10   \n",
       "France                           9.93      114   1.059700e+10   \n",
       "\n",
       "              Energy Supply per Capita  % Renewable  ...          2007  \\\n",
       "Country                                              ...                 \n",
       "United States                      286     11.57098  ...  1.505540e+13   \n",
       "China                               93     19.75491  ...  4.559041e+12   \n",
       "Japan                              149     10.23282  ...  5.617036e+12   \n",
       "Germany                            165     17.90153  ...  3.441561e+12   \n",
       "France                             166     17.02028  ...  2.669424e+12   \n",
       "\n",
       "                       2008          2009          2010          2011  \\\n",
       "Country                                                                 \n",
       "United States  1.501149e+13  1.459484e+13  1.496437e+13  1.520402e+13   \n",
       "China          4.997775e+12  5.459247e+12  6.039659e+12  6.612490e+12   \n",
       "Japan          5.558527e+12  5.251308e+12  5.498718e+12  5.473738e+12   \n",
       "Germany        3.478809e+12  3.283340e+12  3.417298e+12  3.542371e+12   \n",
       "France         2.674637e+12  2.595967e+12  2.646995e+12  2.702032e+12   \n",
       "\n",
       "                       2012          2013          2014          2015  \\\n",
       "Country                                                                 \n",
       "United States  1.554216e+13  1.577367e+13  1.615662e+13  1.654857e+13   \n",
       "China          7.124978e+12  7.672448e+12  8.230121e+12  8.797999e+12   \n",
       "Japan          5.569102e+12  5.644659e+12  5.642884e+12  5.669563e+12   \n",
       "Germany        3.556724e+12  3.567317e+12  3.624386e+12  3.685556e+12   \n",
       "France         2.706968e+12  2.722567e+12  2.729632e+12  2.761185e+12   \n",
       "\n",
       "                        avg  \n",
       "Country                      \n",
       "United States  1.536434e+13  \n",
       "China          6.348609e+12  \n",
       "Japan          5.542208e+12  \n",
       "Germany        3.493025e+12  \n",
       "France         2.681725e+12  \n",
       "\n",
       "[5 rows x 21 columns]"
      ],
      "text/html": "<div>\n<style scoped>\n    .dataframe tbody tr th:only-of-type {\n        vertical-align: middle;\n    }\n\n    .dataframe tbody tr th {\n        vertical-align: top;\n    }\n\n    .dataframe thead th {\n        text-align: right;\n    }\n</style>\n<table border=\"1\" class=\"dataframe\">\n  <thead>\n    <tr style=\"text-align: right;\">\n      <th></th>\n      <th>Rank</th>\n      <th>Documents</th>\n      <th>Citable documents</th>\n      <th>Citations</th>\n      <th>Self-citations</th>\n      <th>Citations per document</th>\n      <th>H index</th>\n      <th>Energy Supply</th>\n      <th>Energy Supply per Capita</th>\n      <th>% Renewable</th>\n      <th>...</th>\n      <th>2007</th>\n      <th>2008</th>\n      <th>2009</th>\n      <th>2010</th>\n      <th>2011</th>\n      <th>2012</th>\n      <th>2013</th>\n      <th>2014</th>\n      <th>2015</th>\n      <th>avg</th>\n    </tr>\n    <tr>\n      <th>Country</th>\n      <th></th>\n      <th></th>\n      <th></th>\n      <th></th>\n      <th></th>\n      <th></th>\n      <th></th>\n      <th></th>\n      <th></th>\n      <th></th>\n      <th></th>\n      <th></th>\n      <th></th>\n      <th></th>\n      <th></th>\n      <th></th>\n      <th></th>\n      <th></th>\n      <th></th>\n      <th></th>\n      <th></th>\n    </tr>\n  </thead>\n  <tbody>\n    <tr>\n      <th>United States</th>\n      <td>2</td>\n      <td>96661</td>\n      <td>94747</td>\n      <td>792274</td>\n      <td>265436</td>\n      <td>8.20</td>\n      <td>230</td>\n      <td>9.083800e+10</td>\n      <td>286</td>\n      <td>11.57098</td>\n      <td>...</td>\n      <td>1.505540e+13</td>\n      <td>1.501149e+13</td>\n      <td>1.459484e+13</td>\n      <td>1.496437e+13</td>\n      <td>1.520402e+13</td>\n      <td>1.554216e+13</td>\n      <td>1.577367e+13</td>\n      <td>1.615662e+13</td>\n      <td>1.654857e+13</td>\n      <td>1.536434e+13</td>\n    </tr>\n    <tr>\n      <th>China</th>\n      <td>1</td>\n      <td>127050</td>\n      <td>126767</td>\n      <td>597237</td>\n      <td>411683</td>\n      <td>4.70</td>\n      <td>138</td>\n      <td>1.271910e+11</td>\n      <td>93</td>\n      <td>19.75491</td>\n      <td>...</td>\n      <td>4.559041e+12</td>\n      <td>4.997775e+12</td>\n      <td>5.459247e+12</td>\n      <td>6.039659e+12</td>\n      <td>6.612490e+12</td>\n      <td>7.124978e+12</td>\n      <td>7.672448e+12</td>\n      <td>8.230121e+12</td>\n      <td>8.797999e+12</td>\n      <td>6.348609e+12</td>\n    </tr>\n    <tr>\n      <th>Japan</th>\n      <td>3</td>\n      <td>30504</td>\n      <td>30287</td>\n      <td>223024</td>\n      <td>61554</td>\n      <td>7.31</td>\n      <td>134</td>\n      <td>1.898400e+10</td>\n      <td>149</td>\n      <td>10.23282</td>\n      <td>...</td>\n      <td>5.617036e+12</td>\n      <td>5.558527e+12</td>\n      <td>5.251308e+12</td>\n      <td>5.498718e+12</td>\n      <td>5.473738e+12</td>\n      <td>5.569102e+12</td>\n      <td>5.644659e+12</td>\n      <td>5.642884e+12</td>\n      <td>5.669563e+12</td>\n      <td>5.542208e+12</td>\n    </tr>\n    <tr>\n      <th>Germany</th>\n      <td>7</td>\n      <td>17027</td>\n      <td>16831</td>\n      <td>140566</td>\n      <td>27426</td>\n      <td>8.26</td>\n      <td>126</td>\n      <td>1.326100e+10</td>\n      <td>165</td>\n      <td>17.90153</td>\n      <td>...</td>\n      <td>3.441561e+12</td>\n      <td>3.478809e+12</td>\n      <td>3.283340e+12</td>\n      <td>3.417298e+12</td>\n      <td>3.542371e+12</td>\n      <td>3.556724e+12</td>\n      <td>3.567317e+12</td>\n      <td>3.624386e+12</td>\n      <td>3.685556e+12</td>\n      <td>3.493025e+12</td>\n    </tr>\n    <tr>\n      <th>France</th>\n      <td>9</td>\n      <td>13153</td>\n      <td>12973</td>\n      <td>130632</td>\n      <td>28601</td>\n      <td>9.93</td>\n      <td>114</td>\n      <td>1.059700e+10</td>\n      <td>166</td>\n      <td>17.02028</td>\n      <td>...</td>\n      <td>2.669424e+12</td>\n      <td>2.674637e+12</td>\n      <td>2.595967e+12</td>\n      <td>2.646995e+12</td>\n      <td>2.702032e+12</td>\n      <td>2.706968e+12</td>\n      <td>2.722567e+12</td>\n      <td>2.729632e+12</td>\n      <td>2.761185e+12</td>\n      <td>2.681725e+12</td>\n    </tr>\n  </tbody>\n</table>\n<p>5 rows × 21 columns</p>\n</div>"
     },
     "metadata": {},
     "execution_count": 193
    }
   ],
   "source": [
    "new_df.head()"
   ]
  },
  {
   "cell_type": "code",
   "execution_count": 194,
   "metadata": {},
   "outputs": [],
   "source": [
    "espc = new_df['Energy Supply per Capita']\n",
    "ans = espc.mean()"
   ]
  },
  {
   "source": [
    "# Part 6"
   ],
   "cell_type": "markdown",
   "metadata": {}
  },
  {
   "cell_type": "code",
   "execution_count": 195,
   "metadata": {},
   "outputs": [
    {
     "output_type": "execute_result",
     "data": {
      "text/plain": [
       "('Brazil', 69.64803)"
      ]
     },
     "metadata": {},
     "execution_count": 195
    }
   ],
   "source": [
    "new_df.sort_values('% Renewable',ascending=False, inplace=True)\n",
    "most_ren = new_df.iloc[0]\n",
    "country = most_ren.name\n",
    "share = most_ren['% Renewable']\n",
    "ans = (country, share)\n",
    "ans\n"
   ]
  },
  {
   "source": [
    "# Part 7"
   ],
   "cell_type": "markdown",
   "metadata": {}
  },
  {
   "cell_type": "code",
   "execution_count": 196,
   "metadata": {},
   "outputs": [],
   "source": [
    "def cit_ratio(item):\n",
    "    nom =  item['Self-citations']\n",
    "    den = item['Citations']\n",
    "    ratio = nom/den\n",
    "   \n",
    "    return ratio\n",
    "\n",
    "new_df['Citation Ratio'] = new_df.apply(cit_ratio, axis = 1)\n",
    "new_df.sort_values('Citation Ratio', ascending=False,inplace = True)\n",
    "top_ratio  = new_df.iloc[0]\n",
    "country  = top_ratio.name\n",
    "ratio  = new_df.at[country,'Citation Ratio']\n"
   ]
  },
  {
   "source": [
    "# Part 8"
   ],
   "cell_type": "markdown",
   "metadata": {}
  },
  {
   "cell_type": "code",
   "execution_count": null,
   "metadata": {},
   "outputs": [],
   "source": []
  }
 ]
}