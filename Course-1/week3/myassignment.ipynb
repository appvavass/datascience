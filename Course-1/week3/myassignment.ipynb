{
 "metadata": {
  "language_info": {
   "codemirror_mode": {
    "name": "ipython",
    "version": 3
   },
   "file_extension": ".py",
   "mimetype": "text/x-python",
   "name": "python",
   "nbconvert_exporter": "python",
   "pygments_lexer": "ipython3",
   "version": "3.8.6-candidate"
  },
  "orig_nbformat": 2,
  "kernelspec": {
   "name": "python3",
   "display_name": "Python 3",
   "language": "python"
  }
 },
 "nbformat": 4,
 "nbformat_minor": 2,
 "cells": [
  {
   "cell_type": "code",
   "execution_count": 73,
   "metadata": {},
   "outputs": [],
   "source": [
    "import pandas as pd\n",
    "import numpy as np\n",
    "import re\n",
    "pd.set_option('display.max_rows',None)\n",
    "# Filter all warnings. If you would like to see the warnings, please comment the two lines below.\n",
    "import warnings\n",
    "warnings.filterwarnings('ignore')"
   ]
  },
  {
   "source": [
    "# Question 1"
   ],
   "cell_type": "markdown",
   "metadata": {}
  },
  {
   "cell_type": "code",
   "execution_count": 74,
   "metadata": {},
   "outputs": [],
   "source": [
    "Energy = pd.read_excel('assets/Energy Indicators.xls', header = None, usecols='C:F', skiprows = 18, skipfooter = 38)\n",
    "cols = ['Country', 'Energy Supply', 'Energy Supply per Capita', '% Renewable']\n",
    "Energy.columns = cols\n",
    "Energy.set_index('Country', inplace=True)\n",
    "ren  = {\"Republic of Korea\": \"South Korea\",\n",
    "\"United States of America\": \"United States\",\n",
    "\"United Kingdom of Great Britain and Northern Ireland\": \"United Kingdom\",\n",
    "\"China, Hong Kong Special Administrative Region\": \"Hong Kong\"}\n"
   ]
  },
  {
   "cell_type": "code",
   "execution_count": 75,
   "metadata": {},
   "outputs": [],
   "source": [
    "def conversion(item):\n",
    "    if item == '...':\n",
    "        return None\n",
    "    else:\n",
    "        new_val =  item*1000000\n",
    "        return new_val"
   ]
  },
  {
   "cell_type": "code",
   "execution_count": 83,
   "metadata": {},
   "outputs": [
    {
     "output_type": "execute_result",
     "data": {
      "text/plain": [
       "Energy Supply               2.554e+15\n",
       "Energy Supply per Capita           28\n",
       "% Renewable                   45.3215\n",
       "Name: Viet Nam, dtype: object"
      ]
     },
     "metadata": {},
     "execution_count": 83
    }
   ],
   "source": [
    "Energy['Energy Supply'] = Energy['Energy Supply'].apply(conversion)"
   ]
  },
  {
   "cell_type": "code",
   "execution_count": 77,
   "metadata": {},
   "outputs": [],
   "source": [
    "def cleaning(item):\n",
    "\n",
    "    result = re.sub('\\d', '', item) #remove digits\n",
    "    result = re.sub(r'\\([^)]*\\)', '', result) #Remove things in parenthesis\n",
    "    result = result.rstrip()\n",
    "    \n",
    "    return result\n",
    "\n",
    "Energy.index = Energy.index.map(cleaning)\n",
    "Energy.rename(index = ren, inplace = True)\n"
   ]
  },
  {
   "cell_type": "code",
   "execution_count": 78,
   "metadata": {},
   "outputs": [],
   "source": [
    "GDP = pd.read_csv('assets/world_bank.csv', skiprows=4, index_col= 0)"
   ]
  },
  {
   "cell_type": "code",
   "execution_count": 79,
   "metadata": {},
   "outputs": [],
   "source": [
    "rena = {\"Korea, Rep.\": \"South Korea\", \"Iran, Islamic Rep.\": \"Iran\", \"Hong Kong SAR, China\": \"Hong Kong\"}\n",
    "dropcol =  list(range(2006,2016))\n",
    "dropcol = map(str, dropcol)  \n",
    "#GDP.drop(GDP.columns.difference(dropcol), 1, inplace= True)\n",
    "GDP = GDP[dropcol]"
   ]
  },
  {
   "cell_type": "code",
   "execution_count": 80,
   "metadata": {},
   "outputs": [
    {
     "output_type": "stream",
     "name": "stdout",
     "text": [
      "(264, 10)\n"
     ]
    },
    {
     "output_type": "execute_result",
     "data": {
      "text/plain": [
       "                      2006          2007          2008          2009  \\\n",
       "Country Name                                                           \n",
       "Aruba                  NaN           NaN           NaN           NaN   \n",
       "Andorra       4.018196e+09  4.021331e+09  3.675728e+09  3.535389e+09   \n",
       "Afghanistan   1.030523e+10  1.172119e+10  1.214448e+10  1.469733e+10   \n",
       "Angola        5.581103e+10  6.842044e+10  7.787420e+10  7.975320e+10   \n",
       "Albania       9.771760e+09  1.034829e+10  1.112752e+10  1.150029e+10   \n",
       "\n",
       "                      2010          2011          2012          2013  \\\n",
       "Country Name                                                           \n",
       "Aruba         2.467704e+09           NaN           NaN           NaN   \n",
       "Andorra       3.346317e+09  3.185605e+09  3.129538e+09  3.127550e+09   \n",
       "Afghanistan   1.593680e+10  1.691113e+10  1.935220e+10  1.973134e+10   \n",
       "Angola        8.247091e+10  8.570262e+10  9.012096e+10  9.626143e+10   \n",
       "Albania       1.192695e+10  1.223109e+10  1.240477e+10  1.254247e+10   \n",
       "\n",
       "                      2014          2015  \n",
       "Country Name                              \n",
       "Aruba                  NaN           NaN  \n",
       "Andorra                NaN           NaN  \n",
       "Afghanistan   1.999032e+10  2.029415e+10  \n",
       "Angola        1.008863e+11  1.039106e+11  \n",
       "Albania       1.279331e+10  1.312082e+10  "
      ],
      "text/html": "<div>\n<style scoped>\n    .dataframe tbody tr th:only-of-type {\n        vertical-align: middle;\n    }\n\n    .dataframe tbody tr th {\n        vertical-align: top;\n    }\n\n    .dataframe thead th {\n        text-align: right;\n    }\n</style>\n<table border=\"1\" class=\"dataframe\">\n  <thead>\n    <tr style=\"text-align: right;\">\n      <th></th>\n      <th>2006</th>\n      <th>2007</th>\n      <th>2008</th>\n      <th>2009</th>\n      <th>2010</th>\n      <th>2011</th>\n      <th>2012</th>\n      <th>2013</th>\n      <th>2014</th>\n      <th>2015</th>\n    </tr>\n    <tr>\n      <th>Country Name</th>\n      <th></th>\n      <th></th>\n      <th></th>\n      <th></th>\n      <th></th>\n      <th></th>\n      <th></th>\n      <th></th>\n      <th></th>\n      <th></th>\n    </tr>\n  </thead>\n  <tbody>\n    <tr>\n      <th>Aruba</th>\n      <td>NaN</td>\n      <td>NaN</td>\n      <td>NaN</td>\n      <td>NaN</td>\n      <td>2.467704e+09</td>\n      <td>NaN</td>\n      <td>NaN</td>\n      <td>NaN</td>\n      <td>NaN</td>\n      <td>NaN</td>\n    </tr>\n    <tr>\n      <th>Andorra</th>\n      <td>4.018196e+09</td>\n      <td>4.021331e+09</td>\n      <td>3.675728e+09</td>\n      <td>3.535389e+09</td>\n      <td>3.346317e+09</td>\n      <td>3.185605e+09</td>\n      <td>3.129538e+09</td>\n      <td>3.127550e+09</td>\n      <td>NaN</td>\n      <td>NaN</td>\n    </tr>\n    <tr>\n      <th>Afghanistan</th>\n      <td>1.030523e+10</td>\n      <td>1.172119e+10</td>\n      <td>1.214448e+10</td>\n      <td>1.469733e+10</td>\n      <td>1.593680e+10</td>\n      <td>1.691113e+10</td>\n      <td>1.935220e+10</td>\n      <td>1.973134e+10</td>\n      <td>1.999032e+10</td>\n      <td>2.029415e+10</td>\n    </tr>\n    <tr>\n      <th>Angola</th>\n      <td>5.581103e+10</td>\n      <td>6.842044e+10</td>\n      <td>7.787420e+10</td>\n      <td>7.975320e+10</td>\n      <td>8.247091e+10</td>\n      <td>8.570262e+10</td>\n      <td>9.012096e+10</td>\n      <td>9.626143e+10</td>\n      <td>1.008863e+11</td>\n      <td>1.039106e+11</td>\n    </tr>\n    <tr>\n      <th>Albania</th>\n      <td>9.771760e+09</td>\n      <td>1.034829e+10</td>\n      <td>1.112752e+10</td>\n      <td>1.150029e+10</td>\n      <td>1.192695e+10</td>\n      <td>1.223109e+10</td>\n      <td>1.240477e+10</td>\n      <td>1.254247e+10</td>\n      <td>1.279331e+10</td>\n      <td>1.312082e+10</td>\n    </tr>\n  </tbody>\n</table>\n</div>"
     },
     "metadata": {},
     "execution_count": 80
    }
   ],
   "source": [
    "GDP.rename(index = rena, inplace = True)\n",
    "print(GDP.shape)\n",
    "GDP.head()\n"
   ]
  },
  {
   "cell_type": "code",
   "execution_count": 81,
   "metadata": {},
   "outputs": [
    {
     "output_type": "stream",
     "name": "stdout",
     "text": [
      "(191, 7)\n"
     ]
    }
   ],
   "source": [
    "ScimEn = pd.read_csv('assets/scimagojr-3.csv', index_col= 0)\n",
    "print(ScimEn.shape)\n",
    "ScimEn = ScimEn[ScimEn.index <= 15]\n",
    "ScimEn = ScimEn.merge(GDP, how = 'inner', left_on = 'Country', right_on = 'Country Name')\n",
    "ScimEn.set_index('Country')\n",
    "\n",
    "ScimEn = ScimEn.merge(Energy, how = 'inner', left_on='Country', right_on = 'Country')\n"
   ]
  },
  {
   "cell_type": "code",
   "execution_count": 82,
   "metadata": {},
   "outputs": [
    {
     "output_type": "execute_result",
     "data": {
      "text/plain": [
       "               Country  Documents  Citable documents  Citations  \\\n",
       "0                China     127050             126767     597237   \n",
       "1        United States      96661              94747     792274   \n",
       "2                Japan      30504              30287     223024   \n",
       "3       United Kingdom      20944              20357     206091   \n",
       "4   Russian Federation      18534              18301      34266   \n",
       "5               Canada      17899              17620     215003   \n",
       "6              Germany      17027              16831     140566   \n",
       "7                India      15005              14841     128763   \n",
       "8               France      13153              12973     130632   \n",
       "9          South Korea      11983              11923     114675   \n",
       "10               Italy      10964              10794     111850   \n",
       "11               Spain       9428               9330     123336   \n",
       "12                Iran       8896               8819      57470   \n",
       "13           Australia       8831               8725      90765   \n",
       "14              Brazil       8668               8596      60702   \n",
       "\n",
       "    Self-citations  Citations per document  H index          2006  \\\n",
       "0           411683                    4.70      138  3.992331e+12   \n",
       "1           265436                    8.20      230  1.479230e+13   \n",
       "2            61554                    7.31      134  5.496542e+12   \n",
       "3            37874                    9.84      139  2.419631e+12   \n",
       "4            12422                    1.85       57  1.385793e+12   \n",
       "5            40930                   12.01      149  1.564469e+12   \n",
       "6            27426                    8.26      126  3.332891e+12   \n",
       "7            37209                    8.58      115  1.265894e+12   \n",
       "8            28601                    9.93      114  2.607840e+12   \n",
       "9            22595                    9.57      104  9.410199e+11   \n",
       "10           26661                   10.20      106  2.202170e+12   \n",
       "11           23964                   13.08      115  1.414823e+12   \n",
       "12           19125                    6.46       72  3.895523e+11   \n",
       "13           15606                   10.28      107  1.021939e+12   \n",
       "14           14396                    7.00       86  1.845080e+12   \n",
       "\n",
       "            2007          2008          2009          2010          2011  \\\n",
       "0   4.559041e+12  4.997775e+12  5.459247e+12  6.039659e+12  6.612490e+12   \n",
       "1   1.505540e+13  1.501149e+13  1.459484e+13  1.496437e+13  1.520402e+13   \n",
       "2   5.617036e+12  5.558527e+12  5.251308e+12  5.498718e+12  5.473738e+12   \n",
       "3   2.482203e+12  2.470614e+12  2.367048e+12  2.403504e+12  2.450911e+12   \n",
       "4   1.504071e+12  1.583004e+12  1.459199e+12  1.524917e+12  1.589943e+12   \n",
       "5   1.596740e+12  1.612713e+12  1.565145e+12  1.613406e+12  1.664087e+12   \n",
       "6   3.441561e+12  3.478809e+12  3.283340e+12  3.417298e+12  3.542371e+12   \n",
       "7   1.374865e+12  1.428361e+12  1.549483e+12  1.708459e+12  1.821872e+12   \n",
       "8   2.669424e+12  2.674637e+12  2.595967e+12  2.646995e+12  2.702032e+12   \n",
       "9   9.924316e+11  1.020510e+12  1.027730e+12  1.094499e+12  1.134796e+12   \n",
       "10  2.234627e+12  2.211154e+12  2.089938e+12  2.125185e+12  2.137439e+12   \n",
       "11  1.468146e+12  1.484530e+12  1.431475e+12  1.431673e+12  1.417355e+12   \n",
       "12  4.250646e+11  4.289909e+11  4.389208e+11  4.677902e+11  4.853309e+11   \n",
       "13  1.060340e+12  1.099644e+12  1.119654e+12  1.142251e+12  1.169431e+12   \n",
       "14  1.957118e+12  2.056809e+12  2.054215e+12  2.208872e+12  2.295245e+12   \n",
       "\n",
       "            2012          2013          2014          2015  Energy Supply  \\\n",
       "0   7.124978e+12  7.672448e+12  8.230121e+12  8.797999e+12   1.271910e+11   \n",
       "1   1.554216e+13  1.577367e+13  1.615662e+13  1.654857e+13   9.083800e+10   \n",
       "2   5.569102e+12  5.644659e+12  5.642884e+12  5.669563e+12   1.898400e+10   \n",
       "3   2.479809e+12  2.533370e+12  2.605643e+12  2.666333e+12   7.920000e+09   \n",
       "4   1.645876e+12  1.666934e+12  1.678709e+12  1.616149e+12   3.070900e+10   \n",
       "5   1.693133e+12  1.730688e+12  1.773486e+12  1.792609e+12   1.043100e+10   \n",
       "6   3.556724e+12  3.567317e+12  3.624386e+12  3.685556e+12   1.326100e+10   \n",
       "7   1.924235e+12  2.051982e+12  2.200617e+12  2.367206e+12   3.319500e+10   \n",
       "8   2.706968e+12  2.722567e+12  2.729632e+12  2.761185e+12   1.059700e+10   \n",
       "9   1.160809e+12  1.194429e+12  1.234340e+12  1.266580e+12   1.100700e+10   \n",
       "10  2.077184e+12  2.040871e+12  2.033868e+12  2.049316e+12   6.530000e+09   \n",
       "11  1.380216e+12  1.357139e+12  1.375605e+12  1.419821e+12   4.923000e+09   \n",
       "12  4.532569e+11  4.445926e+11  4.639027e+11           NaN   9.172000e+09   \n",
       "13  1.211913e+12  1.241484e+12  1.272520e+12  1.301251e+12   5.386000e+09   \n",
       "14  2.339209e+12  2.409740e+12  2.412231e+12  2.319423e+12   1.214900e+10   \n",
       "\n",
       "   Energy Supply per Capita  % Renewable  \n",
       "0                        93    19.754910  \n",
       "1                       286    11.570980  \n",
       "2                       149    10.232820  \n",
       "3                       124    10.600470  \n",
       "4                       214    17.288680  \n",
       "5                       296    61.945430  \n",
       "6                       165    17.901530  \n",
       "7                        26    14.969080  \n",
       "8                       166    17.020280  \n",
       "9                       221     2.279353  \n",
       "10                      109    33.667230  \n",
       "11                      106    37.968590  \n",
       "12                      119     5.707721  \n",
       "13                      231    11.810810  \n",
       "14                       59    69.648030  "
      ],
      "text/html": "<div>\n<style scoped>\n    .dataframe tbody tr th:only-of-type {\n        vertical-align: middle;\n    }\n\n    .dataframe tbody tr th {\n        vertical-align: top;\n    }\n\n    .dataframe thead th {\n        text-align: right;\n    }\n</style>\n<table border=\"1\" class=\"dataframe\">\n  <thead>\n    <tr style=\"text-align: right;\">\n      <th></th>\n      <th>Country</th>\n      <th>Documents</th>\n      <th>Citable documents</th>\n      <th>Citations</th>\n      <th>Self-citations</th>\n      <th>Citations per document</th>\n      <th>H index</th>\n      <th>2006</th>\n      <th>2007</th>\n      <th>2008</th>\n      <th>2009</th>\n      <th>2010</th>\n      <th>2011</th>\n      <th>2012</th>\n      <th>2013</th>\n      <th>2014</th>\n      <th>2015</th>\n      <th>Energy Supply</th>\n      <th>Energy Supply per Capita</th>\n      <th>% Renewable</th>\n    </tr>\n  </thead>\n  <tbody>\n    <tr>\n      <th>0</th>\n      <td>China</td>\n      <td>127050</td>\n      <td>126767</td>\n      <td>597237</td>\n      <td>411683</td>\n      <td>4.70</td>\n      <td>138</td>\n      <td>3.992331e+12</td>\n      <td>4.559041e+12</td>\n      <td>4.997775e+12</td>\n      <td>5.459247e+12</td>\n      <td>6.039659e+12</td>\n      <td>6.612490e+12</td>\n      <td>7.124978e+12</td>\n      <td>7.672448e+12</td>\n      <td>8.230121e+12</td>\n      <td>8.797999e+12</td>\n      <td>1.271910e+11</td>\n      <td>93</td>\n      <td>19.754910</td>\n    </tr>\n    <tr>\n      <th>1</th>\n      <td>United States</td>\n      <td>96661</td>\n      <td>94747</td>\n      <td>792274</td>\n      <td>265436</td>\n      <td>8.20</td>\n      <td>230</td>\n      <td>1.479230e+13</td>\n      <td>1.505540e+13</td>\n      <td>1.501149e+13</td>\n      <td>1.459484e+13</td>\n      <td>1.496437e+13</td>\n      <td>1.520402e+13</td>\n      <td>1.554216e+13</td>\n      <td>1.577367e+13</td>\n      <td>1.615662e+13</td>\n      <td>1.654857e+13</td>\n      <td>9.083800e+10</td>\n      <td>286</td>\n      <td>11.570980</td>\n    </tr>\n    <tr>\n      <th>2</th>\n      <td>Japan</td>\n      <td>30504</td>\n      <td>30287</td>\n      <td>223024</td>\n      <td>61554</td>\n      <td>7.31</td>\n      <td>134</td>\n      <td>5.496542e+12</td>\n      <td>5.617036e+12</td>\n      <td>5.558527e+12</td>\n      <td>5.251308e+12</td>\n      <td>5.498718e+12</td>\n      <td>5.473738e+12</td>\n      <td>5.569102e+12</td>\n      <td>5.644659e+12</td>\n      <td>5.642884e+12</td>\n      <td>5.669563e+12</td>\n      <td>1.898400e+10</td>\n      <td>149</td>\n      <td>10.232820</td>\n    </tr>\n    <tr>\n      <th>3</th>\n      <td>United Kingdom</td>\n      <td>20944</td>\n      <td>20357</td>\n      <td>206091</td>\n      <td>37874</td>\n      <td>9.84</td>\n      <td>139</td>\n      <td>2.419631e+12</td>\n      <td>2.482203e+12</td>\n      <td>2.470614e+12</td>\n      <td>2.367048e+12</td>\n      <td>2.403504e+12</td>\n      <td>2.450911e+12</td>\n      <td>2.479809e+12</td>\n      <td>2.533370e+12</td>\n      <td>2.605643e+12</td>\n      <td>2.666333e+12</td>\n      <td>7.920000e+09</td>\n      <td>124</td>\n      <td>10.600470</td>\n    </tr>\n    <tr>\n      <th>4</th>\n      <td>Russian Federation</td>\n      <td>18534</td>\n      <td>18301</td>\n      <td>34266</td>\n      <td>12422</td>\n      <td>1.85</td>\n      <td>57</td>\n      <td>1.385793e+12</td>\n      <td>1.504071e+12</td>\n      <td>1.583004e+12</td>\n      <td>1.459199e+12</td>\n      <td>1.524917e+12</td>\n      <td>1.589943e+12</td>\n      <td>1.645876e+12</td>\n      <td>1.666934e+12</td>\n      <td>1.678709e+12</td>\n      <td>1.616149e+12</td>\n      <td>3.070900e+10</td>\n      <td>214</td>\n      <td>17.288680</td>\n    </tr>\n    <tr>\n      <th>5</th>\n      <td>Canada</td>\n      <td>17899</td>\n      <td>17620</td>\n      <td>215003</td>\n      <td>40930</td>\n      <td>12.01</td>\n      <td>149</td>\n      <td>1.564469e+12</td>\n      <td>1.596740e+12</td>\n      <td>1.612713e+12</td>\n      <td>1.565145e+12</td>\n      <td>1.613406e+12</td>\n      <td>1.664087e+12</td>\n      <td>1.693133e+12</td>\n      <td>1.730688e+12</td>\n      <td>1.773486e+12</td>\n      <td>1.792609e+12</td>\n      <td>1.043100e+10</td>\n      <td>296</td>\n      <td>61.945430</td>\n    </tr>\n    <tr>\n      <th>6</th>\n      <td>Germany</td>\n      <td>17027</td>\n      <td>16831</td>\n      <td>140566</td>\n      <td>27426</td>\n      <td>8.26</td>\n      <td>126</td>\n      <td>3.332891e+12</td>\n      <td>3.441561e+12</td>\n      <td>3.478809e+12</td>\n      <td>3.283340e+12</td>\n      <td>3.417298e+12</td>\n      <td>3.542371e+12</td>\n      <td>3.556724e+12</td>\n      <td>3.567317e+12</td>\n      <td>3.624386e+12</td>\n      <td>3.685556e+12</td>\n      <td>1.326100e+10</td>\n      <td>165</td>\n      <td>17.901530</td>\n    </tr>\n    <tr>\n      <th>7</th>\n      <td>India</td>\n      <td>15005</td>\n      <td>14841</td>\n      <td>128763</td>\n      <td>37209</td>\n      <td>8.58</td>\n      <td>115</td>\n      <td>1.265894e+12</td>\n      <td>1.374865e+12</td>\n      <td>1.428361e+12</td>\n      <td>1.549483e+12</td>\n      <td>1.708459e+12</td>\n      <td>1.821872e+12</td>\n      <td>1.924235e+12</td>\n      <td>2.051982e+12</td>\n      <td>2.200617e+12</td>\n      <td>2.367206e+12</td>\n      <td>3.319500e+10</td>\n      <td>26</td>\n      <td>14.969080</td>\n    </tr>\n    <tr>\n      <th>8</th>\n      <td>France</td>\n      <td>13153</td>\n      <td>12973</td>\n      <td>130632</td>\n      <td>28601</td>\n      <td>9.93</td>\n      <td>114</td>\n      <td>2.607840e+12</td>\n      <td>2.669424e+12</td>\n      <td>2.674637e+12</td>\n      <td>2.595967e+12</td>\n      <td>2.646995e+12</td>\n      <td>2.702032e+12</td>\n      <td>2.706968e+12</td>\n      <td>2.722567e+12</td>\n      <td>2.729632e+12</td>\n      <td>2.761185e+12</td>\n      <td>1.059700e+10</td>\n      <td>166</td>\n      <td>17.020280</td>\n    </tr>\n    <tr>\n      <th>9</th>\n      <td>South Korea</td>\n      <td>11983</td>\n      <td>11923</td>\n      <td>114675</td>\n      <td>22595</td>\n      <td>9.57</td>\n      <td>104</td>\n      <td>9.410199e+11</td>\n      <td>9.924316e+11</td>\n      <td>1.020510e+12</td>\n      <td>1.027730e+12</td>\n      <td>1.094499e+12</td>\n      <td>1.134796e+12</td>\n      <td>1.160809e+12</td>\n      <td>1.194429e+12</td>\n      <td>1.234340e+12</td>\n      <td>1.266580e+12</td>\n      <td>1.100700e+10</td>\n      <td>221</td>\n      <td>2.279353</td>\n    </tr>\n    <tr>\n      <th>10</th>\n      <td>Italy</td>\n      <td>10964</td>\n      <td>10794</td>\n      <td>111850</td>\n      <td>26661</td>\n      <td>10.20</td>\n      <td>106</td>\n      <td>2.202170e+12</td>\n      <td>2.234627e+12</td>\n      <td>2.211154e+12</td>\n      <td>2.089938e+12</td>\n      <td>2.125185e+12</td>\n      <td>2.137439e+12</td>\n      <td>2.077184e+12</td>\n      <td>2.040871e+12</td>\n      <td>2.033868e+12</td>\n      <td>2.049316e+12</td>\n      <td>6.530000e+09</td>\n      <td>109</td>\n      <td>33.667230</td>\n    </tr>\n    <tr>\n      <th>11</th>\n      <td>Spain</td>\n      <td>9428</td>\n      <td>9330</td>\n      <td>123336</td>\n      <td>23964</td>\n      <td>13.08</td>\n      <td>115</td>\n      <td>1.414823e+12</td>\n      <td>1.468146e+12</td>\n      <td>1.484530e+12</td>\n      <td>1.431475e+12</td>\n      <td>1.431673e+12</td>\n      <td>1.417355e+12</td>\n      <td>1.380216e+12</td>\n      <td>1.357139e+12</td>\n      <td>1.375605e+12</td>\n      <td>1.419821e+12</td>\n      <td>4.923000e+09</td>\n      <td>106</td>\n      <td>37.968590</td>\n    </tr>\n    <tr>\n      <th>12</th>\n      <td>Iran</td>\n      <td>8896</td>\n      <td>8819</td>\n      <td>57470</td>\n      <td>19125</td>\n      <td>6.46</td>\n      <td>72</td>\n      <td>3.895523e+11</td>\n      <td>4.250646e+11</td>\n      <td>4.289909e+11</td>\n      <td>4.389208e+11</td>\n      <td>4.677902e+11</td>\n      <td>4.853309e+11</td>\n      <td>4.532569e+11</td>\n      <td>4.445926e+11</td>\n      <td>4.639027e+11</td>\n      <td>NaN</td>\n      <td>9.172000e+09</td>\n      <td>119</td>\n      <td>5.707721</td>\n    </tr>\n    <tr>\n      <th>13</th>\n      <td>Australia</td>\n      <td>8831</td>\n      <td>8725</td>\n      <td>90765</td>\n      <td>15606</td>\n      <td>10.28</td>\n      <td>107</td>\n      <td>1.021939e+12</td>\n      <td>1.060340e+12</td>\n      <td>1.099644e+12</td>\n      <td>1.119654e+12</td>\n      <td>1.142251e+12</td>\n      <td>1.169431e+12</td>\n      <td>1.211913e+12</td>\n      <td>1.241484e+12</td>\n      <td>1.272520e+12</td>\n      <td>1.301251e+12</td>\n      <td>5.386000e+09</td>\n      <td>231</td>\n      <td>11.810810</td>\n    </tr>\n    <tr>\n      <th>14</th>\n      <td>Brazil</td>\n      <td>8668</td>\n      <td>8596</td>\n      <td>60702</td>\n      <td>14396</td>\n      <td>7.00</td>\n      <td>86</td>\n      <td>1.845080e+12</td>\n      <td>1.957118e+12</td>\n      <td>2.056809e+12</td>\n      <td>2.054215e+12</td>\n      <td>2.208872e+12</td>\n      <td>2.295245e+12</td>\n      <td>2.339209e+12</td>\n      <td>2.409740e+12</td>\n      <td>2.412231e+12</td>\n      <td>2.319423e+12</td>\n      <td>1.214900e+10</td>\n      <td>59</td>\n      <td>69.648030</td>\n    </tr>\n  </tbody>\n</table>\n</div>"
     },
     "metadata": {},
     "execution_count": 82
    }
   ],
   "source": [
    "ScimEn"
   ]
  },
  {
   "cell_type": "code",
   "execution_count": null,
   "metadata": {},
   "outputs": [],
   "source": []
  }
 ]
}