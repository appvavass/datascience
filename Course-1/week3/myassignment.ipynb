{
 "metadata": {
  "language_info": {
   "codemirror_mode": {
    "name": "ipython",
    "version": 3
   },
   "file_extension": ".py",
   "mimetype": "text/x-python",
   "name": "python",
   "nbconvert_exporter": "python",
   "pygments_lexer": "ipython3",
   "version": "3.8.6-final"
  },
  "orig_nbformat": 2,
  "kernelspec": {
   "name": "python3",
   "display_name": "Python 3",
   "language": "python"
  }
 },
 "nbformat": 4,
 "nbformat_minor": 2,
 "cells": [
  {
   "cell_type": "code",
   "execution_count": 1,
   "metadata": {},
   "outputs": [],
   "source": [
    "import pandas as pd\n",
    "import numpy as np\n",
    "import re\n",
    "#pd.set_option('display.max_rows',None)\n",
    "# Filter all warnings. If you would like to see the warnings, please comment the two lines below.\n",
    "import warnings\n",
    "warnings.filterwarnings('ignore')"
   ]
  },
  {
   "source": [
    "# Question 1"
   ],
   "cell_type": "markdown",
   "metadata": {}
  },
  {
   "cell_type": "code",
   "execution_count": 2,
   "metadata": {},
   "outputs": [],
   "source": [
    "Energy = pd.read_excel('assets/Energy Indicators.xls', header = None, usecols='C:F', skiprows = 18, skipfooter = 38)\n",
    "cols = ['Country', 'Energy Supply', 'Energy Supply per Capita', '% Renewable']\n",
    "Energy.columns = cols\n",
    "Energy.set_index('Country', inplace=True)\n",
    "ren  = {\"Republic of Korea\": \"South Korea\",\n",
    "\"United States of America\": \"United States\",\n",
    "\"United Kingdom of Great Britain and Northern Ireland\": \"United Kingdom\",\n",
    "\"China, Hong Kong Special Administrative Region\": \"Hong Kong\"}\n",
    "\n"
   ]
  },
  {
   "cell_type": "code",
   "execution_count": 3,
   "metadata": {},
   "outputs": [],
   "source": [
    "def conversion(item):\n",
    "    if item == '...':\n",
    "        return None\n",
    "    else:\n",
    "        new_val =  item*1000000\n",
    "        return new_val"
   ]
  },
  {
   "cell_type": "code",
   "execution_count": 4,
   "metadata": {},
   "outputs": [],
   "source": [
    "Energy['Energy Supply'] = Energy['Energy Supply'].apply(conversion)"
   ]
  },
  {
   "cell_type": "code",
   "execution_count": 5,
   "metadata": {},
   "outputs": [],
   "source": [
    "def cleaning(item):\n",
    "\n",
    "    result = re.sub('\\d', '', item)\n",
    "    result = re.sub(r'\\([^)]*\\)', '', result)\n",
    "    \n",
    "    return result\n",
    "\n",
    "Energy.index = Energy.index.map(cleaning)\n",
    "Energy.rename(index = ren, inplace = True)\n",
    "\n"
   ]
  },
  {
   "cell_type": "code",
   "execution_count": 6,
   "metadata": {},
   "outputs": [
    {
     "output_type": "execute_result",
     "data": {
      "text/plain": [
       "                           Energy Supply Energy Supply per Capita  % Renewable\n",
       "Country                                                                       \n",
       "Afghanistan                 3.210000e+08                       10    78.669280\n",
       "Albania                     1.020000e+08                       35   100.000000\n",
       "Algeria                     1.959000e+09                       51     0.551010\n",
       "American Samoa                       NaN                      ...     0.641026\n",
       "Andorra                     9.000000e+06                      121    88.695650\n",
       "...                                  ...                      ...          ...\n",
       "Viet Nam                    2.554000e+09                       28    45.321520\n",
       "Wallis and Futuna Islands   0.000000e+00                       26     0.000000\n",
       "Yemen                       3.440000e+08                       13     0.000000\n",
       "Zambia                      4.000000e+08                       26    99.714670\n",
       "Zimbabwe                    4.800000e+08                       32    52.536120\n",
       "\n",
       "[227 rows x 3 columns]"
      ],
      "text/html": "<div>\n<style scoped>\n    .dataframe tbody tr th:only-of-type {\n        vertical-align: middle;\n    }\n\n    .dataframe tbody tr th {\n        vertical-align: top;\n    }\n\n    .dataframe thead th {\n        text-align: right;\n    }\n</style>\n<table border=\"1\" class=\"dataframe\">\n  <thead>\n    <tr style=\"text-align: right;\">\n      <th></th>\n      <th>Energy Supply</th>\n      <th>Energy Supply per Capita</th>\n      <th>% Renewable</th>\n    </tr>\n    <tr>\n      <th>Country</th>\n      <th></th>\n      <th></th>\n      <th></th>\n    </tr>\n  </thead>\n  <tbody>\n    <tr>\n      <th>Afghanistan</th>\n      <td>3.210000e+08</td>\n      <td>10</td>\n      <td>78.669280</td>\n    </tr>\n    <tr>\n      <th>Albania</th>\n      <td>1.020000e+08</td>\n      <td>35</td>\n      <td>100.000000</td>\n    </tr>\n    <tr>\n      <th>Algeria</th>\n      <td>1.959000e+09</td>\n      <td>51</td>\n      <td>0.551010</td>\n    </tr>\n    <tr>\n      <th>American Samoa</th>\n      <td>NaN</td>\n      <td>...</td>\n      <td>0.641026</td>\n    </tr>\n    <tr>\n      <th>Andorra</th>\n      <td>9.000000e+06</td>\n      <td>121</td>\n      <td>88.695650</td>\n    </tr>\n    <tr>\n      <th>...</th>\n      <td>...</td>\n      <td>...</td>\n      <td>...</td>\n    </tr>\n    <tr>\n      <th>Viet Nam</th>\n      <td>2.554000e+09</td>\n      <td>28</td>\n      <td>45.321520</td>\n    </tr>\n    <tr>\n      <th>Wallis and Futuna Islands</th>\n      <td>0.000000e+00</td>\n      <td>26</td>\n      <td>0.000000</td>\n    </tr>\n    <tr>\n      <th>Yemen</th>\n      <td>3.440000e+08</td>\n      <td>13</td>\n      <td>0.000000</td>\n    </tr>\n    <tr>\n      <th>Zambia</th>\n      <td>4.000000e+08</td>\n      <td>26</td>\n      <td>99.714670</td>\n    </tr>\n    <tr>\n      <th>Zimbabwe</th>\n      <td>4.800000e+08</td>\n      <td>32</td>\n      <td>52.536120</td>\n    </tr>\n  </tbody>\n</table>\n<p>227 rows × 3 columns</p>\n</div>"
     },
     "metadata": {},
     "execution_count": 6
    }
   ],
   "source": [
    "Energy\n"
   ]
  },
  {
   "cell_type": "code",
   "execution_count": null,
   "metadata": {},
   "outputs": [],
   "source": []
  }
 ]
}