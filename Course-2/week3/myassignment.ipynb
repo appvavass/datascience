{
 "metadata": {
  "language_info": {
   "codemirror_mode": {
    "name": "ipython",
    "version": 3
   },
   "file_extension": ".py",
   "mimetype": "text/x-python",
   "name": "python",
   "nbconvert_exporter": "python",
   "pygments_lexer": "ipython3",
   "version": "3.8.6-candidate"
  },
  "orig_nbformat": 2,
  "kernelspec": {
   "name": "python3",
   "display_name": "Python 3",
   "language": "python"
  }
 },
 "nbformat": 4,
 "nbformat_minor": 2,
 "cells": [
  {
   "cell_type": "code",
   "execution_count": 1052,
   "metadata": {},
   "outputs": [],
   "source": [
    "%matplotlib widget"
   ]
  },
  {
   "cell_type": "code",
   "execution_count": 1053,
   "metadata": {},
   "outputs": [],
   "source": [
    "import pandas as pd\n",
    "import numpy as np\n",
    "import matplotlib.pyplot as plt\n",
    "import scipy.stats as stats\n",
    "import matplotlib.cm as cm\n",
    "import matplotlib.colors as mpcol\n",
    "import matplotlib as mpl\n",
    "from numpy.random import rand\n",
    "\n",
    "\n",
    "np.random.seed(12345)\n",
    "\n",
    "df = pd.DataFrame([np.random.normal(32000,200000,3650), \n",
    "                   np.random.normal(43000,100000,3650), \n",
    "                   np.random.normal(43500,140000,3650), \n",
    "                   np.random.normal(48000,70000,3650)], \n",
    "                  index=[1992,1993,1994,1995])"
   ]
  },
  {
   "cell_type": "code",
   "execution_count": 1054,
   "metadata": {},
   "outputs": [
    {
     "output_type": "execute_result",
     "data": {
      "text/plain": [
       "               0              1              2              3     \\\n",
       "1992   -8941.531897  127788.667612  -71887.743011  -79146.060869   \n",
       "1993  -51896.094813  198350.518755 -123518.252821 -129916.759685   \n",
       "1994  152336.932066  192947.128056  389950.263156  -93006.152024   \n",
       "1995  -69708.439062  -13289.977022  -30178.390991   55052.181256   \n",
       "\n",
       "               4              5              6              7     \\\n",
       "1992  425156.114501  310681.166595   50581.575349   88349.230566   \n",
       "1993  216119.147314   49845.883728  149135.648505   62807.672113   \n",
       "1994  100818.575896    5529.230706  -32989.370488  223942.967178   \n",
       "1995  152883.621657   12930.835194   63700.461932   64148.489835   \n",
       "\n",
       "               8              9     ...           3640           3641  \\\n",
       "1992  185804.513522  281286.947277  ...  171938.760289  150650.759924   \n",
       "1993   23365.577348 -109686.264981  ...  -44566.520071  101032.122475   \n",
       "1994  -66721.580898   47826.269111  ...  165085.806360   74735.174090   \n",
       "1995  -29316.268556   59645.677367  ...  -13901.388118   50173.686673   \n",
       "\n",
       "               3642           3643           3644          3645  \\\n",
       "1992  203663.976475 -377877.158072 -197214.093861  24185.008589   \n",
       "1993  117648.199945  160475.622607  -13759.888342 -37333.493572   \n",
       "1994  107329.726875  199250.734156  -36792.202754 -71861.846997   \n",
       "1995   53965.990717    4128.990173   72202.595138  39937.199964   \n",
       "\n",
       "               3646           3647           3648          3649  \n",
       "1992  -56826.729535  -67319.766489  113377.299342  -4494.878538  \n",
       "1993  103019.841174  179746.127403   13455.493990  34442.898855  \n",
       "1994   26375.113219  -29328.078384   65858.761714 -91542.001049  \n",
       "1995  139472.114293   59386.186379   73362.229590  28705.082908  \n",
       "\n",
       "[4 rows x 3650 columns]"
      ],
      "text/html": "<div>\n<style scoped>\n    .dataframe tbody tr th:only-of-type {\n        vertical-align: middle;\n    }\n\n    .dataframe tbody tr th {\n        vertical-align: top;\n    }\n\n    .dataframe thead th {\n        text-align: right;\n    }\n</style>\n<table border=\"1\" class=\"dataframe\">\n  <thead>\n    <tr style=\"text-align: right;\">\n      <th></th>\n      <th>0</th>\n      <th>1</th>\n      <th>2</th>\n      <th>3</th>\n      <th>4</th>\n      <th>5</th>\n      <th>6</th>\n      <th>7</th>\n      <th>8</th>\n      <th>9</th>\n      <th>...</th>\n      <th>3640</th>\n      <th>3641</th>\n      <th>3642</th>\n      <th>3643</th>\n      <th>3644</th>\n      <th>3645</th>\n      <th>3646</th>\n      <th>3647</th>\n      <th>3648</th>\n      <th>3649</th>\n    </tr>\n  </thead>\n  <tbody>\n    <tr>\n      <th>1992</th>\n      <td>-8941.531897</td>\n      <td>127788.667612</td>\n      <td>-71887.743011</td>\n      <td>-79146.060869</td>\n      <td>425156.114501</td>\n      <td>310681.166595</td>\n      <td>50581.575349</td>\n      <td>88349.230566</td>\n      <td>185804.513522</td>\n      <td>281286.947277</td>\n      <td>...</td>\n      <td>171938.760289</td>\n      <td>150650.759924</td>\n      <td>203663.976475</td>\n      <td>-377877.158072</td>\n      <td>-197214.093861</td>\n      <td>24185.008589</td>\n      <td>-56826.729535</td>\n      <td>-67319.766489</td>\n      <td>113377.299342</td>\n      <td>-4494.878538</td>\n    </tr>\n    <tr>\n      <th>1993</th>\n      <td>-51896.094813</td>\n      <td>198350.518755</td>\n      <td>-123518.252821</td>\n      <td>-129916.759685</td>\n      <td>216119.147314</td>\n      <td>49845.883728</td>\n      <td>149135.648505</td>\n      <td>62807.672113</td>\n      <td>23365.577348</td>\n      <td>-109686.264981</td>\n      <td>...</td>\n      <td>-44566.520071</td>\n      <td>101032.122475</td>\n      <td>117648.199945</td>\n      <td>160475.622607</td>\n      <td>-13759.888342</td>\n      <td>-37333.493572</td>\n      <td>103019.841174</td>\n      <td>179746.127403</td>\n      <td>13455.493990</td>\n      <td>34442.898855</td>\n    </tr>\n    <tr>\n      <th>1994</th>\n      <td>152336.932066</td>\n      <td>192947.128056</td>\n      <td>389950.263156</td>\n      <td>-93006.152024</td>\n      <td>100818.575896</td>\n      <td>5529.230706</td>\n      <td>-32989.370488</td>\n      <td>223942.967178</td>\n      <td>-66721.580898</td>\n      <td>47826.269111</td>\n      <td>...</td>\n      <td>165085.806360</td>\n      <td>74735.174090</td>\n      <td>107329.726875</td>\n      <td>199250.734156</td>\n      <td>-36792.202754</td>\n      <td>-71861.846997</td>\n      <td>26375.113219</td>\n      <td>-29328.078384</td>\n      <td>65858.761714</td>\n      <td>-91542.001049</td>\n    </tr>\n    <tr>\n      <th>1995</th>\n      <td>-69708.439062</td>\n      <td>-13289.977022</td>\n      <td>-30178.390991</td>\n      <td>55052.181256</td>\n      <td>152883.621657</td>\n      <td>12930.835194</td>\n      <td>63700.461932</td>\n      <td>64148.489835</td>\n      <td>-29316.268556</td>\n      <td>59645.677367</td>\n      <td>...</td>\n      <td>-13901.388118</td>\n      <td>50173.686673</td>\n      <td>53965.990717</td>\n      <td>4128.990173</td>\n      <td>72202.595138</td>\n      <td>39937.199964</td>\n      <td>139472.114293</td>\n      <td>59386.186379</td>\n      <td>73362.229590</td>\n      <td>28705.082908</td>\n    </tr>\n  </tbody>\n</table>\n<p>4 rows × 3650 columns</p>\n</div>"
     },
     "metadata": {},
     "execution_count": 1054
    }
   ],
   "source": [
    "df[['mean','std']]   =df.agg([np.mean,np.std], axis= 1)\n",
    "\n",
    "def conf_int95(item):\n",
    "    avg =  item['mean']\n",
    "    std_dev = item['std']\n",
    "    pop = 3650\n",
    "    cl = 1.96 + std_dev/(pop**0.5)\n",
    "\n",
    "    return (cl)\n",
    "\n",
    "df['conf_int'] =  df.apply(conf_int95, axis  =1)\n",
    "df_distr = df[df.columns[:-3]]\n",
    "df_distr"
   ]
  },
  {
   "cell_type": "code",
   "execution_count": 1055,
   "metadata": {},
   "outputs": [
    {
     "output_type": "execute_result",
     "data": {
      "text/plain": [
       "              mean            std     conf_int\n",
       "1992  33312.107476  200630.901553  3322.826311\n",
       "1993  41861.859541   98398.356203  1630.661180\n",
       "1994  39493.304941  140369.925240  2325.379534\n",
       "1995  47743.550969   69781.185469  1156.986400"
      ],
      "text/html": "<div>\n<style scoped>\n    .dataframe tbody tr th:only-of-type {\n        vertical-align: middle;\n    }\n\n    .dataframe tbody tr th {\n        vertical-align: top;\n    }\n\n    .dataframe thead th {\n        text-align: right;\n    }\n</style>\n<table border=\"1\" class=\"dataframe\">\n  <thead>\n    <tr style=\"text-align: right;\">\n      <th></th>\n      <th>mean</th>\n      <th>std</th>\n      <th>conf_int</th>\n    </tr>\n  </thead>\n  <tbody>\n    <tr>\n      <th>1992</th>\n      <td>33312.107476</td>\n      <td>200630.901553</td>\n      <td>3322.826311</td>\n    </tr>\n    <tr>\n      <th>1993</th>\n      <td>41861.859541</td>\n      <td>98398.356203</td>\n      <td>1630.661180</td>\n    </tr>\n    <tr>\n      <th>1994</th>\n      <td>39493.304941</td>\n      <td>140369.925240</td>\n      <td>2325.379534</td>\n    </tr>\n    <tr>\n      <th>1995</th>\n      <td>47743.550969</td>\n      <td>69781.185469</td>\n      <td>1156.986400</td>\n    </tr>\n  </tbody>\n</table>\n</div>"
     },
     "metadata": {},
     "execution_count": 1055
    }
   ],
   "source": [
    "df_descr  =  df[df.columns[-3:]]\n",
    "df_descr"
   ]
  },
  {
   "cell_type": "code",
   "execution_count": 1056,
   "metadata": {},
   "outputs": [
    {
     "output_type": "display_data",
     "data": {
      "text/plain": "Canvas(toolbar=Toolbar(toolitems=[('Home', 'Reset original view', 'home', 'home'), ('Back', 'Back to previous …",
      "application/vnd.jupyter.widget-view+json": {
       "version_major": 2,
       "version_minor": 0,
       "model_id": "86fd88ec0aeb47f38017f0a7b2c938f5"
      }
     },
     "metadata": {}
    }
   ],
   "source": [
    "ax =  plt.subplot()\n",
    "BarChart = ax.bar(df.index,df['mean'],yerr = df['conf_int'], picker = 10,)\n",
    "ax.set_xticks(df.index, minor=False)\n",
    "plt.show()"
   ]
  },
  {
   "cell_type": "code",
   "execution_count": 1057,
   "metadata": {},
   "outputs": [],
   "source": [
    "y_comp = 40000\n",
    "cmap = cm.get_cmap('seismic',3)\n"
   ]
  },
  {
   "cell_type": "code",
   "execution_count": 1058,
   "metadata": {},
   "outputs": [],
   "source": [
    "colorlist = []\n",
    "for i in range(4):\n",
    "    stat, p  =stats.ttest_1samp(df_distr.iloc[i], y_comp,  alternative='less')\n",
    "    color = cmap(p)\n",
    "    colorlist.append(color)\n",
    "z = 0\n",
    "for Bar in BarChart:\n",
    "    Bar.set_color(colorlist[z])\n",
    "    Bar.set_edgecolor(mpcol.to_rgba('black'))\n",
    "    z = z + 1\n"
   ]
  },
  {
   "cell_type": "code",
   "execution_count": 1060,
   "metadata": {},
   "outputs": [
    {
     "output_type": "execute_result",
     "data": {
      "text/plain": [
       "<matplotlib.lines.Line2D at 0x2d7a22c4040>"
      ]
     },
     "metadata": {},
     "execution_count": 1060
    }
   ],
   "source": [
    "ax.set_title('Probability that the average is less than {}'.format(y_comp))\n",
    "ax.axhline(y=40000)"
   ]
  },
  {
   "cell_type": "code",
   "execution_count": 1051,
   "metadata": {},
   "outputs": [],
   "source": [
    "def on_pick(event):\n",
    "    line = event.artist\n",
    "    \n",
    "    print('on pick line:', line)\n",
    "\n",
    "\n",
    "#fig.canvas.mpl_connect('pick_event', on_click)"
   ]
  }
 ]
}