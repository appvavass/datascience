{
 "metadata": {
  "language_info": {
   "codemirror_mode": {
    "name": "ipython",
    "version": 3
   },
   "file_extension": ".py",
   "mimetype": "text/x-python",
   "name": "python",
   "nbconvert_exporter": "python",
   "pygments_lexer": "ipython3",
   "version": "3.8.6-candidate"
  },
  "orig_nbformat": 2,
  "kernelspec": {
   "name": "python3",
   "display_name": "Python 3",
   "language": "python"
  }
 },
 "nbformat": 4,
 "nbformat_minor": 2,
 "cells": [
  {
   "cell_type": "code",
   "execution_count": 72,
   "metadata": {},
   "outputs": [],
   "source": [
    "%matplotlib widget"
   ]
  },
  {
   "cell_type": "code",
   "execution_count": 73,
   "metadata": {},
   "outputs": [],
   "source": [
    "import pandas as pd\n",
    "import numpy as np\n",
    "import matplotlib.pyplot as plt\n",
    "\n",
    "np.random.seed(12345)\n",
    "\n",
    "df = pd.DataFrame([np.random.normal(32000,200000,3650), \n",
    "                   np.random.normal(43000,100000,3650), \n",
    "                   np.random.normal(43500,140000,3650), \n",
    "                   np.random.normal(48000,70000,3650)], \n",
    "                  index=[1992,1993,1994,1995])"
   ]
  },
  {
   "cell_type": "code",
   "execution_count": 74,
   "metadata": {},
   "outputs": [
    {
     "output_type": "execute_result",
     "data": {
      "text/plain": [
       "              mean            std     conf_int\n",
       "1992  33312.107476  200630.901553  3322.826311\n",
       "1993  41861.859541   98398.356203  1630.661180\n",
       "1994  39493.304941  140369.925240  2325.379534\n",
       "1995  47743.550969   69781.185469  1156.986400"
      ],
      "text/html": "<div>\n<style scoped>\n    .dataframe tbody tr th:only-of-type {\n        vertical-align: middle;\n    }\n\n    .dataframe tbody tr th {\n        vertical-align: top;\n    }\n\n    .dataframe thead th {\n        text-align: right;\n    }\n</style>\n<table border=\"1\" class=\"dataframe\">\n  <thead>\n    <tr style=\"text-align: right;\">\n      <th></th>\n      <th>mean</th>\n      <th>std</th>\n      <th>conf_int</th>\n    </tr>\n  </thead>\n  <tbody>\n    <tr>\n      <th>1992</th>\n      <td>33312.107476</td>\n      <td>200630.901553</td>\n      <td>3322.826311</td>\n    </tr>\n    <tr>\n      <th>1993</th>\n      <td>41861.859541</td>\n      <td>98398.356203</td>\n      <td>1630.661180</td>\n    </tr>\n    <tr>\n      <th>1994</th>\n      <td>39493.304941</td>\n      <td>140369.925240</td>\n      <td>2325.379534</td>\n    </tr>\n    <tr>\n      <th>1995</th>\n      <td>47743.550969</td>\n      <td>69781.185469</td>\n      <td>1156.986400</td>\n    </tr>\n  </tbody>\n</table>\n</div>"
     },
     "metadata": {},
     "execution_count": 74
    }
   ],
   "source": [
    "df = df.agg([np.mean,np.std], axis= 1)\n",
    "\n",
    "def conf_int95(item):\n",
    "    avg =  item['mean']\n",
    "    std_dev = item['std']\n",
    "    pop = 3650\n",
    "    cl = 1.96 + std_dev/(pop**0.5)\n",
    "\n",
    "    return (cl)\n",
    "\n",
    "df['conf_int'] =  df.apply(conf_int95, axis  =1)\n",
    "df"
   ]
  },
  {
   "cell_type": "code",
   "execution_count": 79,
   "metadata": {},
   "outputs": [
    {
     "output_type": "display_data",
     "data": {
      "text/plain": "Canvas(toolbar=Toolbar(toolitems=[('Home', 'Reset original view', 'home', 'home'), ('Back', 'Back to previous …",
      "application/vnd.jupyter.widget-view+json": {
       "version_major": 2,
       "version_minor": 0,
       "model_id": "33271f979f224126ac527b010e70bd47"
      }
     },
     "metadata": {}
    }
   ],
   "source": [
    "plt.figure()\n",
    "plt.bar(df.index,df['mean'],yerr = df['conf_int'])\n",
    "x = plt.gca().xaxis\n",
    "x.set_labels = [1992,1993,1994,1995]"
   ]
  },
  {
   "cell_type": "code",
   "execution_count": null,
   "metadata": {},
   "outputs": [],
   "source": []
  }
 ]
}