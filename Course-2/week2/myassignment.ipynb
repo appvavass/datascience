{
 "metadata": {
  "language_info": {
   "codemirror_mode": {
    "name": "ipython",
    "version": 3
   },
   "file_extension": ".py",
   "mimetype": "text/x-python",
   "name": "python",
   "nbconvert_exporter": "python",
   "pygments_lexer": "ipython3",
   "version": "3.8.6-final"
  },
  "orig_nbformat": 2,
  "kernelspec": {
   "name": "python3",
   "display_name": "Python 3",
   "language": "python"
  }
 },
 "nbformat": 4,
 "nbformat_minor": 2,
 "cells": [
  {
   "cell_type": "code",
   "execution_count": 182,
   "metadata": {},
   "outputs": [],
   "source": [
    "%matplotlib widget"
   ]
  },
  {
   "cell_type": "code",
   "execution_count": 183,
   "metadata": {},
   "outputs": [
    {
     "output_type": "execute_result",
     "data": {
      "text/plain": [
       "            ID        Date Element  Data_Value\n",
       "0  USW00004848  2005-01-01    TMIN         0.0\n",
       "1  USC00207320  2005-01-01    TMAX        15.0\n",
       "2  USC00207320  2005-01-01    TMIN        -1.1\n",
       "3  USW00014833  2005-01-01    TMIN        -4.4\n",
       "4  USW00014833  2005-01-01    TMAX         3.3"
      ],
      "text/html": "<div>\n<style scoped>\n    .dataframe tbody tr th:only-of-type {\n        vertical-align: middle;\n    }\n\n    .dataframe tbody tr th {\n        vertical-align: top;\n    }\n\n    .dataframe thead th {\n        text-align: right;\n    }\n</style>\n<table border=\"1\" class=\"dataframe\">\n  <thead>\n    <tr style=\"text-align: right;\">\n      <th></th>\n      <th>ID</th>\n      <th>Date</th>\n      <th>Element</th>\n      <th>Data_Value</th>\n    </tr>\n  </thead>\n  <tbody>\n    <tr>\n      <th>0</th>\n      <td>USW00004848</td>\n      <td>2005-01-01</td>\n      <td>TMIN</td>\n      <td>0.0</td>\n    </tr>\n    <tr>\n      <th>1</th>\n      <td>USC00207320</td>\n      <td>2005-01-01</td>\n      <td>TMAX</td>\n      <td>15.0</td>\n    </tr>\n    <tr>\n      <th>2</th>\n      <td>USC00207320</td>\n      <td>2005-01-01</td>\n      <td>TMIN</td>\n      <td>-1.1</td>\n    </tr>\n    <tr>\n      <th>3</th>\n      <td>USW00014833</td>\n      <td>2005-01-01</td>\n      <td>TMIN</td>\n      <td>-4.4</td>\n    </tr>\n    <tr>\n      <th>4</th>\n      <td>USW00014833</td>\n      <td>2005-01-01</td>\n      <td>TMAX</td>\n      <td>3.3</td>\n    </tr>\n  </tbody>\n</table>\n</div>"
     },
     "metadata": {},
     "execution_count": 183
    }
   ],
   "source": [
    "import matplotlib.pyplot as plt\n",
    "import pandas as pd\n",
    "import numpy as np\n",
    "\n",
    "df =  pd.read_csv('dataset.csv')\n",
    "df.sort_values(by = 'Date', inplace=True)\n",
    "df.reset_index(inplace=True)\n",
    "df.drop(labels = 'index',axis =1, inplace=True)\n",
    "df['Data_Value']= df['Data_Value'].apply(lambda x:  x/10)\n",
    "df.head()"
   ]
  },
  {
   "cell_type": "code",
   "execution_count": 184,
   "metadata": {},
   "outputs": [
    {
     "output_type": "execute_result",
     "data": {
      "text/plain": [
       "(4017, 2)"
      ]
     },
     "metadata": {},
     "execution_count": 184
    }
   ],
   "source": [
    "df_min = df[df['Element'] == 'TMIN']\n",
    "df_min.drop(labels = 'Element', inplace=True, axis= 1)\n",
    "df_min = df_min.groupby('Date').agg(min)\n",
    "df_min.shape"
   ]
  },
  {
   "cell_type": "code",
   "execution_count": 185,
   "metadata": {},
   "outputs": [
    {
     "output_type": "execute_result",
     "data": {
      "text/plain": [
       "(4017, 2)"
      ]
     },
     "metadata": {},
     "execution_count": 185
    }
   ],
   "source": [
    "df_max = df[df['Element'] == 'TMAX']\n",
    "df_max.drop(labels = 'Element', inplace=True, axis=1)\n",
    "df_max = df_max.groupby('Date').agg(max)\n",
    "df_max.shape"
   ]
  },
  {
   "cell_type": "code",
   "execution_count": 186,
   "metadata": {},
   "outputs": [
    {
     "output_type": "execute_result",
     "data": {
      "text/plain": [
       "                   ID_x  Data_Value_x         ID_y  Data_Value_y\n",
       "Date                                                            \n",
       "2005-01-01  USW00094889          15.6  USC00200032          -5.6\n",
       "2005-01-02  USW00094889          13.9  USC00200032          -5.6\n",
       "2005-01-03  USW00094889          13.3  USC00200032           0.0\n",
       "2005-01-04  USW00094889           3.9  USC00200032          -3.9\n",
       "2005-01-05  USW00094889           3.3  USC00200032          -9.4"
      ],
      "text/html": "<div>\n<style scoped>\n    .dataframe tbody tr th:only-of-type {\n        vertical-align: middle;\n    }\n\n    .dataframe tbody tr th {\n        vertical-align: top;\n    }\n\n    .dataframe thead th {\n        text-align: right;\n    }\n</style>\n<table border=\"1\" class=\"dataframe\">\n  <thead>\n    <tr style=\"text-align: right;\">\n      <th></th>\n      <th>ID_x</th>\n      <th>Data_Value_x</th>\n      <th>ID_y</th>\n      <th>Data_Value_y</th>\n    </tr>\n    <tr>\n      <th>Date</th>\n      <th></th>\n      <th></th>\n      <th></th>\n      <th></th>\n    </tr>\n  </thead>\n  <tbody>\n    <tr>\n      <th>2005-01-01</th>\n      <td>USW00094889</td>\n      <td>15.6</td>\n      <td>USC00200032</td>\n      <td>-5.6</td>\n    </tr>\n    <tr>\n      <th>2005-01-02</th>\n      <td>USW00094889</td>\n      <td>13.9</td>\n      <td>USC00200032</td>\n      <td>-5.6</td>\n    </tr>\n    <tr>\n      <th>2005-01-03</th>\n      <td>USW00094889</td>\n      <td>13.3</td>\n      <td>USC00200032</td>\n      <td>0.0</td>\n    </tr>\n    <tr>\n      <th>2005-01-04</th>\n      <td>USW00094889</td>\n      <td>3.9</td>\n      <td>USC00200032</td>\n      <td>-3.9</td>\n    </tr>\n    <tr>\n      <th>2005-01-05</th>\n      <td>USW00094889</td>\n      <td>3.3</td>\n      <td>USC00200032</td>\n      <td>-9.4</td>\n    </tr>\n  </tbody>\n</table>\n</div>"
     },
     "metadata": {},
     "execution_count": 186
    }
   ],
   "source": [
    "df_max = df_max.merge(df_min, how = 'inner', left_index=True, right_index=True)\n",
    "df_max.head()"
   ]
  },
  {
   "cell_type": "code",
   "execution_count": 187,
   "metadata": {},
   "outputs": [],
   "source": [
    "df_max.drop(labels=['ID_x','ID_y'], inplace=True, axis=1)\n",
    "labels = ['T_max','T_min']\n",
    "df_max.columns = labels"
   ]
  },
  {
   "cell_type": "code",
   "execution_count": 188,
   "metadata": {},
   "outputs": [],
   "source": [
    "# make the index as datetime format\n",
    "df_max.index = pd.to_datetime(df_max.index) "
   ]
  },
  {
   "cell_type": "code",
   "execution_count": 189,
   "metadata": {},
   "outputs": [],
   "source": [
    "df_lineplot=df_max.loc[:'2014'] #filters out everything after 2014"
   ]
  },
  {
   "cell_type": "code",
   "execution_count": 190,
   "metadata": {},
   "outputs": [
    {
     "output_type": "display_data",
     "data": {
      "text/plain": "Canvas(toolbar=Toolbar(toolitems=[('Home', 'Reset original view', 'home', 'home'), ('Back', 'Back to previous …",
      "application/vnd.jupyter.widget-view+json": {
       "version_major": 2,
       "version_minor": 0,
       "model_id": "8951cfc6ef8247eea268dab069a6aa48"
      }
     },
     "metadata": {}
    },
    {
     "output_type": "execute_result",
     "data": {
      "text/plain": [
       "[<matplotlib.lines.Line2D at 0x157aa921a90>]"
      ]
     },
     "metadata": {},
     "execution_count": 190
    }
   ],
   "source": [
    "plt.figure()\n",
    "plt.plot(df_max['T_max'],'-',linewidth=.2,alpha=0.7,color='#f24a30')\n",
    "plt.plot(df_max['T_min'],'-', linewidth=.2,alpha=.7, color='#153ceb')"
   ]
  },
  {
   "cell_type": "code",
   "execution_count": 191,
   "metadata": {},
   "outputs": [
    {
     "output_type": "execute_result",
     "data": {
      "text/plain": [
       "<matplotlib.collections.PolyCollection at 0x157a711e880>"
      ]
     },
     "metadata": {},
     "execution_count": 191
    }
   ],
   "source": [
    "plt.gca().fill_between(df_max.index,df_max['T_min'],df_max['T_max'],alpha =.2,color = '#ff4a7a')\n",
    "#specify x-axis (index in this case), and the two curves"
   ]
  },
  {
   "cell_type": "code",
   "execution_count": null,
   "metadata": {},
   "outputs": [],
   "source": []
  },
  {
   "cell_type": "code",
   "execution_count": null,
   "metadata": {},
   "outputs": [],
   "source": []
  }
 ]
}