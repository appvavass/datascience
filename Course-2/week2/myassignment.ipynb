{
 "metadata": {
  "language_info": {
   "codemirror_mode": {
    "name": "ipython",
    "version": 3
   },
   "file_extension": ".py",
   "mimetype": "text/x-python",
   "name": "python",
   "nbconvert_exporter": "python",
   "pygments_lexer": "ipython3",
   "version": "3.8.6-final"
  },
  "orig_nbformat": 2,
  "kernelspec": {
   "name": "python3",
   "display_name": "Python 3",
   "language": "python"
  }
 },
 "nbformat": 4,
 "nbformat_minor": 2,
 "cells": [
  {
   "cell_type": "code",
   "execution_count": 102,
   "metadata": {},
   "outputs": [],
   "source": [
    "%matplotlib widget"
   ]
  },
  {
   "cell_type": "code",
   "execution_count": 103,
   "metadata": {},
   "outputs": [],
   "source": [
    "import matplotlib.pyplot as plt\n",
    "import pandas as pd\n",
    "import numpy as np\n",
    "import matplotlib.dates as mdates\n",
    "\n",
    "df =  pd.read_csv('dataset.csv')\n",
    "df.sort_values(by = 'Date', inplace=True)\n",
    "df.reset_index(inplace=True)\n",
    "df.drop(labels = 'index',axis =1, inplace=True)\n",
    "df['Data_Value']= df['Data_Value'].apply(lambda x:  x/10)"
   ]
  },
  {
   "cell_type": "code",
   "execution_count": 104,
   "metadata": {},
   "outputs": [],
   "source": [
    "df_min = df[df['Element'] == 'TMIN']\n",
    "df_min.drop(labels = 'Element', inplace=True, axis= 1)\n",
    "df_min = df_min.groupby('Date').agg(min)"
   ]
  },
  {
   "cell_type": "code",
   "execution_count": 105,
   "metadata": {},
   "outputs": [],
   "source": [
    "df_max = df[df['Element'] == 'TMAX']\n",
    "df_max.drop(labels = 'Element', inplace=True, axis=1)\n",
    "df_max = df_max.groupby('Date').agg(max)"
   ]
  },
  {
   "cell_type": "code",
   "execution_count": 106,
   "metadata": {},
   "outputs": [],
   "source": [
    "df_max = df_max.merge(df_min, how = 'inner', left_index=True, right_index=True)"
   ]
  },
  {
   "cell_type": "code",
   "execution_count": 107,
   "metadata": {},
   "outputs": [],
   "source": [
    "df_max.drop(labels=['ID_x','ID_y'], inplace=True, axis=1)\n",
    "labels = ['T_max','T_min']\n",
    "df_max.columns = labels"
   ]
  },
  {
   "cell_type": "code",
   "execution_count": 108,
   "metadata": {},
   "outputs": [],
   "source": [
    "# make the index as datetime format\n",
    "df_max.index = pd.to_datetime(df_max.index) "
   ]
  },
  {
   "cell_type": "code",
   "execution_count": 109,
   "metadata": {},
   "outputs": [],
   "source": [
    "df_lineplot=df_max.loc['2005':'2014'].copy(deep =True) #filters out everything after 2014\n",
    "df_lineplot = df_lineplot.loc[~((df_lineplot.index.month == 2) & (df_lineplot.index.day == 29))] ##remove leap"
   ]
  },
  {
   "cell_type": "code",
   "execution_count": 110,
   "metadata": {},
   "outputs": [],
   "source": [
    "df_lineplot.index = df_lineplot.index.map(lambda t: t.replace(year=1999))\n",
    "df = df_lineplot\n",
    "df['date']=pd.to_datetime(df.index)\n",
    "df['year']=df['date'].dt.year\n",
    "df['month']=df['date'].dt.month\n",
    "df['day']=df['date'].dt.day\n",
    "df_grouped=df.pivot_table(index=('month','day'),values=['T_max','T_min'],aggfunc=['max','min'])\n",
    "df_grouped2 = pd.concat([df_grouped['max','T_max'], df_grouped['min','T_min']], axis=1)"
   ]
  },
  {
   "cell_type": "code",
   "execution_count": 111,
   "metadata": {},
   "outputs": [],
   "source": [
    "series1 = df_grouped['max','T_max']\n",
    "series1.reset_index(inplace=True,drop=True)\n",
    "series1.index = pd.date_range(start='1999-01-01',end='1999-12-31',freq='D')\n",
    "series2 = df_grouped['min','T_min']\n",
    "series2.reset_index(inplace=True,drop=True)\n",
    "series2.index = pd.date_range(start='1999-01-01',end='1999-12-31',freq='D')"
   ]
  },
  {
   "cell_type": "code",
   "execution_count": 112,
   "metadata": {},
   "outputs": [
    {
     "output_type": "display_data",
     "data": {
      "text/plain": "Canvas(toolbar=Toolbar(toolitems=[('Home', 'Reset original view', 'home', 'home'), ('Back', 'Back to previous …",
      "application/vnd.jupyter.widget-view+json": {
       "version_major": 2,
       "version_minor": 0,
       "model_id": "c4348f36cd09460d81901595d04153d4"
      }
     },
     "metadata": {}
    },
    {
     "output_type": "execute_result",
     "data": {
      "text/plain": [
       "[<matplotlib.lines.Line2D at 0x1daa5f30880>]"
      ]
     },
     "metadata": {},
     "execution_count": 112
    }
   ],
   "source": [
    "plt.figure(figsize=(10,5))\n",
    "plt.plot(series1,'-',linewidth=.5,color='red')\n",
    "plt.plot(series2,'-', linewidth=.5, color='blue')"
   ]
  },
  {
   "cell_type": "code",
   "execution_count": 113,
   "metadata": {},
   "outputs": [
    {
     "output_type": "execute_result",
     "data": {
      "text/plain": [
       "<matplotlib.collections.PolyCollection at 0x1daa5f599d0>"
      ]
     },
     "metadata": {},
     "execution_count": 113
    }
   ],
   "source": [
    "plt.gca().fill_between(series1.index,series2,series1,alpha =.2,color = '#A7F158')\n",
    "#specify x-axis (index in this case), and the two curves"
   ]
  },
  {
   "cell_type": "code",
   "execution_count": 114,
   "metadata": {},
   "outputs": [
    {
     "output_type": "execute_result",
     "data": {
      "text/plain": [
       "([<matplotlib.axis.XTick at 0x1daa56263d0>,\n",
       "  <matplotlib.axis.XTick at 0x1daa5626040>,\n",
       "  <matplotlib.axis.XTick at 0x1daa606d850>,\n",
       "  <matplotlib.axis.XTick at 0x1daa5f30af0>],\n",
       " [Text(10622.0, 0, '31-jan'),\n",
       "  Text(10711.0, 0, '30-apr'),\n",
       "  Text(10803.0, 0, '31-jul'),\n",
       "  Text(10895.0, 0, '31-oct')])"
      ]
     },
     "metadata": {},
     "execution_count": 114
    }
   ],
   "source": [
    "plt.title('Record High and Low Temperature Observations')\n",
    "plt.xticks(ticks = (pd.date_range(start='1999-01-01',end='1999-12-31',freq='3M')), labels=['31-jan','30-apr','31-jul','31-oct'])"
   ]
  },
  {
   "cell_type": "code",
   "execution_count": 115,
   "metadata": {},
   "outputs": [
    {
     "output_type": "execute_result",
     "data": {
      "text/plain": [
       "Text(0.5, 31.652777777777764, 'Measurement Date')"
      ]
     },
     "metadata": {},
     "execution_count": 115
    }
   ],
   "source": [
    "plt.gca().margins(0.0) #stretch to the ends\n",
    "plt.ylabel('Temperature $[°C]$')\n",
    "plt.xlabel('Measurement Date')"
   ]
  },
  {
   "cell_type": "code",
   "execution_count": 116,
   "metadata": {},
   "outputs": [
    {
     "output_type": "execute_result",
     "data": {
      "text/plain": [
       "            T_max  T_min\n",
       "Date                    \n",
       "2015-01-01    1.1  -13.3\n",
       "2015-01-02    3.9  -12.2\n",
       "2015-01-03    3.9   -6.7\n",
       "2015-01-04    4.4   -8.8\n",
       "2015-01-05    2.8  -15.5"
      ],
      "text/html": "<div>\n<style scoped>\n    .dataframe tbody tr th:only-of-type {\n        vertical-align: middle;\n    }\n\n    .dataframe tbody tr th {\n        vertical-align: top;\n    }\n\n    .dataframe thead th {\n        text-align: right;\n    }\n</style>\n<table border=\"1\" class=\"dataframe\">\n  <thead>\n    <tr style=\"text-align: right;\">\n      <th></th>\n      <th>T_max</th>\n      <th>T_min</th>\n    </tr>\n    <tr>\n      <th>Date</th>\n      <th></th>\n      <th></th>\n    </tr>\n  </thead>\n  <tbody>\n    <tr>\n      <th>2015-01-01</th>\n      <td>1.1</td>\n      <td>-13.3</td>\n    </tr>\n    <tr>\n      <th>2015-01-02</th>\n      <td>3.9</td>\n      <td>-12.2</td>\n    </tr>\n    <tr>\n      <th>2015-01-03</th>\n      <td>3.9</td>\n      <td>-6.7</td>\n    </tr>\n    <tr>\n      <th>2015-01-04</th>\n      <td>4.4</td>\n      <td>-8.8</td>\n    </tr>\n    <tr>\n      <th>2015-01-05</th>\n      <td>2.8</td>\n      <td>-15.5</td>\n    </tr>\n  </tbody>\n</table>\n</div>"
     },
     "metadata": {},
     "execution_count": 116
    }
   ],
   "source": [
    "df_2015 = df_max.loc['2015'].copy(deep = True)\n",
    "df_2015.head()"
   ]
  },
  {
   "cell_type": "code",
   "execution_count": 117,
   "metadata": {},
   "outputs": [],
   "source": [
    "df_2015['date']=pd.to_datetime(df_2015.index)\n",
    "df_2015['year']=df_2015['date'].dt.year\n",
    "df_2015['month']=df_2015['date'].dt.month\n",
    "df_2015['day']=df_2015['date'].dt.day\n",
    "df_2015=df_2015.pivot_table(index=('month','day'),values=['T_max','T_min'],aggfunc=['max','min'])\n",
    "df_2015 = pd.concat([df_2015['max','T_max'], df_2015['min','T_min']], axis=1)"
   ]
  },
  {
   "cell_type": "code",
   "execution_count": 118,
   "metadata": {},
   "outputs": [],
   "source": [
    "df_2015 =df_2015.merge(df_grouped2, right_index=True,left_index=True)\n",
    "df_2015.columns = ['max 15','min 15','max 05-14', 'min 05-14']"
   ]
  },
  {
   "cell_type": "code",
   "execution_count": 119,
   "metadata": {},
   "outputs": [
    {
     "output_type": "execute_result",
     "data": {
      "text/plain": [
       "           max 15  min 15  max 05-14  min 05-14\n",
       "month day                                      \n",
       "1     5       2.8   -15.5       12.8      -15.0\n",
       "      11      0.6   -20.0       15.6      -18.3\n",
       "2     3      -2.1   -23.8        8.9      -23.2\n",
       "      9       8.3   -11.6        7.8      -21.0\n",
       "      14     -2.7   -23.9       10.6      -21.7"
      ],
      "text/html": "<div>\n<style scoped>\n    .dataframe tbody tr th:only-of-type {\n        vertical-align: middle;\n    }\n\n    .dataframe tbody tr th {\n        vertical-align: top;\n    }\n\n    .dataframe thead th {\n        text-align: right;\n    }\n</style>\n<table border=\"1\" class=\"dataframe\">\n  <thead>\n    <tr style=\"text-align: right;\">\n      <th></th>\n      <th></th>\n      <th>max 15</th>\n      <th>min 15</th>\n      <th>max 05-14</th>\n      <th>min 05-14</th>\n    </tr>\n    <tr>\n      <th>month</th>\n      <th>day</th>\n      <th></th>\n      <th></th>\n      <th></th>\n      <th></th>\n    </tr>\n  </thead>\n  <tbody>\n    <tr>\n      <th rowspan=\"2\" valign=\"top\">1</th>\n      <th>5</th>\n      <td>2.8</td>\n      <td>-15.5</td>\n      <td>12.8</td>\n      <td>-15.0</td>\n    </tr>\n    <tr>\n      <th>11</th>\n      <td>0.6</td>\n      <td>-20.0</td>\n      <td>15.6</td>\n      <td>-18.3</td>\n    </tr>\n    <tr>\n      <th rowspan=\"3\" valign=\"top\">2</th>\n      <th>3</th>\n      <td>-2.1</td>\n      <td>-23.8</td>\n      <td>8.9</td>\n      <td>-23.2</td>\n    </tr>\n    <tr>\n      <th>9</th>\n      <td>8.3</td>\n      <td>-11.6</td>\n      <td>7.8</td>\n      <td>-21.0</td>\n    </tr>\n    <tr>\n      <th>14</th>\n      <td>-2.7</td>\n      <td>-23.9</td>\n      <td>10.6</td>\n      <td>-21.7</td>\n    </tr>\n  </tbody>\n</table>\n</div>"
     },
     "metadata": {},
     "execution_count": 119
    }
   ],
   "source": [
    "df_final = df_2015[(df_2015['max 15'] > df_2015['max 05-14']) | (df_2015['min 15'] < df_2015['min 05-14'])]\n",
    "df_final.head()"
   ]
  },
  {
   "cell_type": "code",
   "execution_count": 120,
   "metadata": {},
   "outputs": [],
   "source": [
    "rec_high_15 = df_final[df_final['max 15'] > df_final['max 05-14']]\n",
    "rec_high_15 =  rec_high_15['max 15']\n",
    "rec_high_15 = pd.concat({'1999': rec_high_15}, names=['Year'])\n",
    "rec_high_15 =rec_high_15.to_frame()"
   ]
  },
  {
   "cell_type": "code",
   "execution_count": 121,
   "metadata": {},
   "outputs": [],
   "source": [
    "rec_high_15['date']=(rec_high_15.index)\n",
    "rec_high_15.reset_index(inplace=True)\n",
    "rec_high_15.index = pd.to_datetime(rec_high_15[['Year','month','day']]) "
   ]
  },
  {
   "cell_type": "code",
   "execution_count": 122,
   "metadata": {},
   "outputs": [
    {
     "output_type": "execute_result",
     "data": {
      "text/plain": [
       "[<matplotlib.lines.Line2D at 0x1daa5f41fa0>]"
      ]
     },
     "metadata": {},
     "execution_count": 122
    }
   ],
   "source": [
    "plt.plot(rec_high_15['max 15'],'1',color ='black',markersize =7)"
   ]
  },
  {
   "cell_type": "code",
   "execution_count": 123,
   "metadata": {},
   "outputs": [],
   "source": [
    "rec_low_15 = df_final[df_final['min 15'] < df_final['min 05-14']]\n",
    "rec_low_15 = rec_low_15['min 15']\n",
    "rec_low_15 = pd.concat({'1999': rec_high_15}, names=['year'])\n",
    "rec_low_15.reset_index(inplace=True)"
   ]
  },
  {
   "cell_type": "code",
   "execution_count": 124,
   "metadata": {},
   "outputs": [
    {
     "output_type": "error",
     "ename": "KeyError",
     "evalue": "'min 15'",
     "traceback": [
      "\u001b[1;31m---------------------------------------------------------------------------\u001b[0m",
      "\u001b[1;31mKeyError\u001b[0m                                  Traceback (most recent call last)",
      "\u001b[1;32m~\\AppData\\Local\\Programs\\Python\\Python38\\lib\\site-packages\\pandas\\core\\indexes\\base.py\u001b[0m in \u001b[0;36mget_loc\u001b[1;34m(self, key, method, tolerance)\u001b[0m\n\u001b[0;32m   2894\u001b[0m             \u001b[1;32mtry\u001b[0m\u001b[1;33m:\u001b[0m\u001b[1;33m\u001b[0m\u001b[1;33m\u001b[0m\u001b[0m\n\u001b[1;32m-> 2895\u001b[1;33m                 \u001b[1;32mreturn\u001b[0m \u001b[0mself\u001b[0m\u001b[1;33m.\u001b[0m\u001b[0m_engine\u001b[0m\u001b[1;33m.\u001b[0m\u001b[0mget_loc\u001b[0m\u001b[1;33m(\u001b[0m\u001b[0mcasted_key\u001b[0m\u001b[1;33m)\u001b[0m\u001b[1;33m\u001b[0m\u001b[1;33m\u001b[0m\u001b[0m\n\u001b[0m\u001b[0;32m   2896\u001b[0m             \u001b[1;32mexcept\u001b[0m \u001b[0mKeyError\u001b[0m \u001b[1;32mas\u001b[0m \u001b[0merr\u001b[0m\u001b[1;33m:\u001b[0m\u001b[1;33m\u001b[0m\u001b[1;33m\u001b[0m\u001b[0m\n",
      "\u001b[1;32mpandas\\_libs\\index.pyx\u001b[0m in \u001b[0;36mpandas._libs.index.IndexEngine.get_loc\u001b[1;34m()\u001b[0m\n",
      "\u001b[1;32mpandas\\_libs\\index.pyx\u001b[0m in \u001b[0;36mpandas._libs.index.IndexEngine.get_loc\u001b[1;34m()\u001b[0m\n",
      "\u001b[1;32mpandas\\_libs\\hashtable_class_helper.pxi\u001b[0m in \u001b[0;36mpandas._libs.hashtable.PyObjectHashTable.get_item\u001b[1;34m()\u001b[0m\n",
      "\u001b[1;32mpandas\\_libs\\hashtable_class_helper.pxi\u001b[0m in \u001b[0;36mpandas._libs.hashtable.PyObjectHashTable.get_item\u001b[1;34m()\u001b[0m\n",
      "\u001b[1;31mKeyError\u001b[0m: 'min 15'",
      "\nThe above exception was the direct cause of the following exception:\n",
      "\u001b[1;31mKeyError\u001b[0m                                  Traceback (most recent call last)",
      "\u001b[1;32m<ipython-input-124-23d7eb830a5a>\u001b[0m in \u001b[0;36m<module>\u001b[1;34m\u001b[0m\n\u001b[0;32m      1\u001b[0m \u001b[0mrec_low_15\u001b[0m\u001b[1;33m.\u001b[0m\u001b[0mindex\u001b[0m \u001b[1;33m=\u001b[0m \u001b[0mpd\u001b[0m\u001b[1;33m.\u001b[0m\u001b[0mto_datetime\u001b[0m\u001b[1;33m(\u001b[0m\u001b[0mrec_low_15\u001b[0m\u001b[1;33m[\u001b[0m\u001b[1;33m[\u001b[0m\u001b[1;34m'Year'\u001b[0m\u001b[1;33m,\u001b[0m\u001b[1;34m'month'\u001b[0m\u001b[1;33m,\u001b[0m\u001b[1;34m'day'\u001b[0m\u001b[1;33m]\u001b[0m\u001b[1;33m]\u001b[0m\u001b[1;33m)\u001b[0m\u001b[1;33m\u001b[0m\u001b[1;33m\u001b[0m\u001b[0m\n\u001b[1;32m----> 2\u001b[1;33m \u001b[0mplt\u001b[0m\u001b[1;33m.\u001b[0m\u001b[0mplot\u001b[0m\u001b[1;33m(\u001b[0m\u001b[0mrec_low_15\u001b[0m\u001b[1;33m[\u001b[0m\u001b[1;34m'min 15'\u001b[0m\u001b[1;33m]\u001b[0m\u001b[1;33m,\u001b[0m\u001b[1;34m'1'\u001b[0m\u001b[1;33m,\u001b[0m\u001b[0mcolor\u001b[0m \u001b[1;33m=\u001b[0m\u001b[1;34m'black'\u001b[0m\u001b[1;33m,\u001b[0m\u001b[0mmarkersize\u001b[0m \u001b[1;33m=\u001b[0m\u001b[1;36m7\u001b[0m\u001b[1;33m)\u001b[0m\u001b[1;33m\u001b[0m\u001b[1;33m\u001b[0m\u001b[0m\n\u001b[0m",
      "\u001b[1;32m~\\AppData\\Local\\Programs\\Python\\Python38\\lib\\site-packages\\pandas\\core\\frame.py\u001b[0m in \u001b[0;36m__getitem__\u001b[1;34m(self, key)\u001b[0m\n\u001b[0;32m   2904\u001b[0m             \u001b[1;32mif\u001b[0m \u001b[0mself\u001b[0m\u001b[1;33m.\u001b[0m\u001b[0mcolumns\u001b[0m\u001b[1;33m.\u001b[0m\u001b[0mnlevels\u001b[0m \u001b[1;33m>\u001b[0m \u001b[1;36m1\u001b[0m\u001b[1;33m:\u001b[0m\u001b[1;33m\u001b[0m\u001b[1;33m\u001b[0m\u001b[0m\n\u001b[0;32m   2905\u001b[0m                 \u001b[1;32mreturn\u001b[0m \u001b[0mself\u001b[0m\u001b[1;33m.\u001b[0m\u001b[0m_getitem_multilevel\u001b[0m\u001b[1;33m(\u001b[0m\u001b[0mkey\u001b[0m\u001b[1;33m)\u001b[0m\u001b[1;33m\u001b[0m\u001b[1;33m\u001b[0m\u001b[0m\n\u001b[1;32m-> 2906\u001b[1;33m             \u001b[0mindexer\u001b[0m \u001b[1;33m=\u001b[0m \u001b[0mself\u001b[0m\u001b[1;33m.\u001b[0m\u001b[0mcolumns\u001b[0m\u001b[1;33m.\u001b[0m\u001b[0mget_loc\u001b[0m\u001b[1;33m(\u001b[0m\u001b[0mkey\u001b[0m\u001b[1;33m)\u001b[0m\u001b[1;33m\u001b[0m\u001b[1;33m\u001b[0m\u001b[0m\n\u001b[0m\u001b[0;32m   2907\u001b[0m             \u001b[1;32mif\u001b[0m \u001b[0mis_integer\u001b[0m\u001b[1;33m(\u001b[0m\u001b[0mindexer\u001b[0m\u001b[1;33m)\u001b[0m\u001b[1;33m:\u001b[0m\u001b[1;33m\u001b[0m\u001b[1;33m\u001b[0m\u001b[0m\n\u001b[0;32m   2908\u001b[0m                 \u001b[0mindexer\u001b[0m \u001b[1;33m=\u001b[0m \u001b[1;33m[\u001b[0m\u001b[0mindexer\u001b[0m\u001b[1;33m]\u001b[0m\u001b[1;33m\u001b[0m\u001b[1;33m\u001b[0m\u001b[0m\n",
      "\u001b[1;32m~\\AppData\\Local\\Programs\\Python\\Python38\\lib\\site-packages\\pandas\\core\\indexes\\base.py\u001b[0m in \u001b[0;36mget_loc\u001b[1;34m(self, key, method, tolerance)\u001b[0m\n\u001b[0;32m   2895\u001b[0m                 \u001b[1;32mreturn\u001b[0m \u001b[0mself\u001b[0m\u001b[1;33m.\u001b[0m\u001b[0m_engine\u001b[0m\u001b[1;33m.\u001b[0m\u001b[0mget_loc\u001b[0m\u001b[1;33m(\u001b[0m\u001b[0mcasted_key\u001b[0m\u001b[1;33m)\u001b[0m\u001b[1;33m\u001b[0m\u001b[1;33m\u001b[0m\u001b[0m\n\u001b[0;32m   2896\u001b[0m             \u001b[1;32mexcept\u001b[0m \u001b[0mKeyError\u001b[0m \u001b[1;32mas\u001b[0m \u001b[0merr\u001b[0m\u001b[1;33m:\u001b[0m\u001b[1;33m\u001b[0m\u001b[1;33m\u001b[0m\u001b[0m\n\u001b[1;32m-> 2897\u001b[1;33m                 \u001b[1;32mraise\u001b[0m \u001b[0mKeyError\u001b[0m\u001b[1;33m(\u001b[0m\u001b[0mkey\u001b[0m\u001b[1;33m)\u001b[0m \u001b[1;32mfrom\u001b[0m \u001b[0merr\u001b[0m\u001b[1;33m\u001b[0m\u001b[1;33m\u001b[0m\u001b[0m\n\u001b[0m\u001b[0;32m   2898\u001b[0m \u001b[1;33m\u001b[0m\u001b[0m\n\u001b[0;32m   2899\u001b[0m         \u001b[1;32mif\u001b[0m \u001b[0mtolerance\u001b[0m \u001b[1;32mis\u001b[0m \u001b[1;32mnot\u001b[0m \u001b[1;32mNone\u001b[0m\u001b[1;33m:\u001b[0m\u001b[1;33m\u001b[0m\u001b[1;33m\u001b[0m\u001b[0m\n",
      "\u001b[1;31mKeyError\u001b[0m: 'min 15'"
     ]
    }
   ],
   "source": [
    "rec_low_15.index = pd.to_datetime(rec_low_15[['Year','month','day']]) \n",
    "plt.plot(rec_low_15['min 15'],'1',color ='black',markersize =7)"
   ]
  },
  {
   "cell_type": "code",
   "execution_count": null,
   "metadata": {},
   "outputs": [],
   "source": []
  }
 ]
}