{
 "metadata": {
  "language_info": {
   "codemirror_mode": {
    "name": "ipython",
    "version": 3
   },
   "file_extension": ".py",
   "mimetype": "text/x-python",
   "name": "python",
   "nbconvert_exporter": "python",
   "pygments_lexer": "ipython3",
   "version": "3.8.6-candidate"
  },
  "orig_nbformat": 2,
  "kernelspec": {
   "name": "python3",
   "display_name": "Python 3",
   "language": "python"
  }
 },
 "nbformat": 4,
 "nbformat_minor": 2,
 "cells": [
  {
   "cell_type": "code",
   "execution_count": null,
   "metadata": {},
   "outputs": [],
   "source": [
    "%matplotlib widget"
   ]
  },
  {
   "cell_type": "code",
   "execution_count": null,
   "metadata": {},
   "outputs": [],
   "source": [
    "import matplotlib.pyplot as plt\n",
    "import pandas as pd\n",
    "import numpy as np\n",
    "import matplotlib.dates as mdates\n",
    "\n",
    "df =  pd.read_csv('dataset.csv')\n",
    "df.sort_values(by = 'Date', inplace=True)\n",
    "df.reset_index(inplace=True)\n",
    "df.drop(labels = 'index',axis =1, inplace=True)\n",
    "df['Data_Value']= df['Data_Value'].apply(lambda x:  x/10)"
   ]
  },
  {
   "cell_type": "code",
   "execution_count": null,
   "metadata": {},
   "outputs": [],
   "source": [
    "df_min = df[df['Element'] == 'TMIN']\n",
    "df_min.drop(labels = 'Element', inplace=True, axis= 1)\n",
    "df_min = df_min.groupby('Date').agg(min)"
   ]
  },
  {
   "cell_type": "code",
   "execution_count": null,
   "metadata": {},
   "outputs": [],
   "source": [
    "df_max = df[df['Element'] == 'TMAX']\n",
    "df_max.drop(labels = 'Element', inplace=True, axis=1)\n",
    "df_max = df_max.groupby('Date').agg(max)"
   ]
  },
  {
   "cell_type": "code",
   "execution_count": null,
   "metadata": {},
   "outputs": [],
   "source": [
    "df_max = df_max.merge(df_min, how = 'inner', left_index=True, right_index=True)"
   ]
  },
  {
   "cell_type": "code",
   "execution_count": null,
   "metadata": {},
   "outputs": [],
   "source": [
    "df_max.drop(labels=['ID_x','ID_y'], inplace=True, axis=1)\n",
    "labels = ['T_max','T_min']\n",
    "df_max.columns = labels"
   ]
  },
  {
   "cell_type": "code",
   "execution_count": null,
   "metadata": {},
   "outputs": [],
   "source": [
    "# make the index as datetime format\n",
    "df_max.index = pd.to_datetime(df_max.index) "
   ]
  },
  {
   "cell_type": "code",
   "execution_count": null,
   "metadata": {},
   "outputs": [],
   "source": [
    "df_lineplot=df_max.loc['2005':'2014'].copy(deep =True) #filters out everything after 2014\n",
    "df_lineplot = df_lineplot.loc[~((df_lineplot.index.month == 2) & (df_lineplot.index.day == 29))] ##remove leap"
   ]
  },
  {
   "cell_type": "code",
   "execution_count": null,
   "metadata": {},
   "outputs": [],
   "source": [
    "df_lineplot.index = df_lineplot.index.map(lambda t: t.replace(year=1999))\n",
    "df = df_lineplot\n",
    "df['date']=pd.to_datetime(df.index)\n",
    "df['year']=df['date'].dt.year\n",
    "df['month']=df['date'].dt.month\n",
    "df['day']=df['date'].dt.day\n",
    "df_grouped=df.pivot_table(index=('month','day'),values=['T_max','T_min'],aggfunc=['max','min'])\n",
    "df_grouped2 = pd.concat([df_grouped['max','T_max'], df_grouped['min','T_min']], axis=1)"
   ]
  },
  {
   "cell_type": "code",
   "execution_count": null,
   "metadata": {},
   "outputs": [],
   "source": [
    "series1 = df_grouped['max','T_max']\n",
    "series1.reset_index(inplace=True,drop=True)\n",
    "series1.index = pd.date_range(start='1999-01-01',end='1999-12-31',freq='D')\n",
    "series2 = df_grouped['min','T_min']\n",
    "series2.reset_index(inplace=True,drop=True)\n",
    "series2.index = pd.date_range(start='1999-01-01',end='1999-12-31',freq='D')"
   ]
  },
  {
   "cell_type": "code",
   "execution_count": null,
   "metadata": {},
   "outputs": [],
   "source": [
    "plt.figure()\n",
    "plt.plot(series1,'-',linewidth=.5,color='black')\n",
    "plt.plot(series2,'-', linewidth=.5, color='black')\n",
    "plt.box(on=None)"
   ]
  },
  {
   "cell_type": "code",
   "execution_count": null,
   "metadata": {},
   "outputs": [],
   "source": [
    "plt.gca().fill_between(series1.index,series2,series1,alpha =.2,color = '#A7F158')\n",
    "#specify x-axis (index in this case), and the two curves\n"
   ]
  },
  {
   "cell_type": "code",
   "execution_count": null,
   "metadata": {},
   "outputs": [],
   "source": [
    "plt.title('Record High and Low Temperature Observations')\n",
    "plt.xticks(ticks = (pd.date_range(start='1999-01-01',end='1999-12-31',freq='3M')), labels=['31-jan','30-apr','31-jul','31-oct'])"
   ]
  },
  {
   "cell_type": "code",
   "execution_count": null,
   "metadata": {},
   "outputs": [],
   "source": [
    "plt.gca().margins(0.0) #stretch to the ends\n",
    "plt.ylabel('Temperature $[°C]$')\n",
    "plt.xlabel('Date')"
   ]
  },
  {
   "cell_type": "code",
   "execution_count": null,
   "metadata": {},
   "outputs": [],
   "source": [
    "df_2015 = df_max.loc['2015'].copy(deep = True)\n",
    "df_2015.head()"
   ]
  },
  {
   "cell_type": "code",
   "execution_count": null,
   "metadata": {},
   "outputs": [],
   "source": [
    "df_2015['date']=pd.to_datetime(df_2015.index)\n",
    "df_2015['year']=df_2015['date'].dt.year\n",
    "df_2015['month']=df_2015['date'].dt.month\n",
    "df_2015['day']=df_2015['date'].dt.day\n",
    "df_2015=df_2015.pivot_table(index=('month','day'),values=['T_max','T_min'],aggfunc=['max','min'])\n",
    "df_2015 = pd.concat([df_2015['max','T_max'], df_2015['min','T_min']], axis=1)"
   ]
  },
  {
   "cell_type": "code",
   "execution_count": null,
   "metadata": {},
   "outputs": [],
   "source": [
    "df_2015 =df_2015.merge(df_grouped2, right_index=True,left_index=True)\n",
    "df_2015.columns = ['max 15','min 15','max 05-14', 'min 05-14']"
   ]
  },
  {
   "cell_type": "code",
   "execution_count": null,
   "metadata": {},
   "outputs": [],
   "source": [
    "df_final = df_2015[(df_2015['max 15'] > df_2015['max 05-14']) | (df_2015['min 15'] < df_2015['min 05-14'])]\n",
    "df_final.head()"
   ]
  },
  {
   "cell_type": "code",
   "execution_count": null,
   "metadata": {},
   "outputs": [],
   "source": [
    "rec_high_15 = df_final[df_final['max 15'] > df_final['max 05-14']]\n",
    "rec_high_15 =  rec_high_15['max 15']\n",
    "rec_high_15 = pd.concat({'1999': rec_high_15}, names=['Year'])\n",
    "rec_high_15 =rec_high_15.to_frame()"
   ]
  },
  {
   "cell_type": "code",
   "execution_count": null,
   "metadata": {},
   "outputs": [],
   "source": [
    "rec_high_15['date']=(rec_high_15.index)\n",
    "rec_high_15.reset_index(inplace=True)\n",
    "rec_high_15.index = pd.to_datetime(rec_high_15[['Year','month','day']]) "
   ]
  },
  {
   "cell_type": "code",
   "execution_count": null,
   "metadata": {},
   "outputs": [],
   "source": [
    "plt.plot(rec_high_15['max 15'],'+',color ='red',markersize =10)\n",
    "plt.legend(('Record maximum for 2015',))"
   ]
  },
  {
   "cell_type": "code",
   "execution_count": null,
   "metadata": {},
   "outputs": [],
   "source": [
    "rec_low_15 = df_final[df_final['min 15'] < df_final['min 05-14']]\n",
    "rec_low_15 = rec_low_15['min 15']\n",
    "rec_low_15 = pd.concat({'1999': rec_low_15}, names=['Year'])\n",
    "rec_low_15 =rec_low_15.to_frame()\n",
    "rec_low_15['date']=(rec_low_15.index)\n",
    "rec_low_15.reset_index(inplace=True)"
   ]
  },
  {
   "cell_type": "code",
   "execution_count": null,
   "metadata": {},
   "outputs": [],
   "source": [
    "rec_low_15.index = pd.to_datetime(rec_low_15[['Year','month','day']]) \n",
    "plt.plot(rec_low_15['min 15'],'+',color ='blue',markersize =10)"
   ]
  },
  {
   "cell_type": "code",
   "execution_count": null,
   "metadata": {},
   "outputs": [],
   "source": [
    "from matplotlib.font_manager import FontProperties\n",
    "\n",
    "fontP = FontProperties()\n",
    "fontP.set_size('x-small')\n",
    "plt.legend(('Record high and low for 2005-2014','_nolegend_','Record max in 2015','Record min in 2015'),bbox_to_anchor=(0.9,0), loc='lower right',prop=fontP)\n"
   ]
  }
 ]
}