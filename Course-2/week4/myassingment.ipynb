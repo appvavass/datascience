{
 "metadata": {
  "language_info": {
   "codemirror_mode": {
    "name": "ipython",
    "version": 3
   },
   "file_extension": ".py",
   "mimetype": "text/x-python",
   "name": "python",
   "nbconvert_exporter": "python",
   "pygments_lexer": "ipython3",
   "version": "3.8.6-candidate"
  },
  "orig_nbformat": 2,
  "kernelspec": {
   "name": "python3",
   "display_name": "Python 3",
   "language": "python"
  }
 },
 "nbformat": 4,
 "nbformat_minor": 2,
 "cells": [
  {
   "cell_type": "code",
   "execution_count": 47,
   "metadata": {},
   "outputs": [],
   "source": [
    "%matplotlib widget"
   ]
  },
  {
   "cell_type": "code",
   "execution_count": 48,
   "metadata": {},
   "outputs": [],
   "source": [
    "import pandas as pd\n",
    "import numpy as np\n",
    "import seaborn as sns\n",
    "import matplotlib.pyplot as plt\n",
    "\n",
    "df_pop = pd.read_csv('population.csv', sep = '\\t', encoding='ISO-8859-1')\n",
    "df_pop.set_index('region',inplace=True)\n",
    "df_pop.drop(labels = ['civilstånd','ålder','kön'], axis =1, inplace=True)\n",
    "df_pop = df_pop.groupby('region').apply(np.sum, axis = 0)\n",
    "df_pop.loc['Total population'] = df_pop.apply(np.sum, axis = 0)"
   ]
  },
  {
   "cell_type": "code",
   "execution_count": 49,
   "metadata": {},
   "outputs": [],
   "source": [
    "df_tax = pd.read_csv('taxation.csv', header = 1,sep = ',', encoding='ISO-8859-1',usecols=list(range(30)))\n",
    "df_tax.set_index('region',inplace=True)\n",
    "years = list(range(1992,2021))\n",
    "df_tax.columns = years\n",
    "df_tax.loc['Total taxation'] = df_tax.apply(np.sum, axis = 0)\n",
    "df_tax = df_tax[df_tax.columns[2:-1]]"
   ]
  },
  {
   "cell_type": "code",
   "execution_count": 50,
   "metadata": {},
   "outputs": [],
   "source": [
    "df_study = pd.read_csv('studies.csv', sep = '\\t', encoding='ISO-8859-1')\n",
    "df_study.set_index('region', inplace=True)\n",
    "df_study.drop(labels=['ålder', 'kön'], axis =1 , inplace=True)\n",
    "df_study.rename(mapper={'utbildningsnivå':'education level'},axis= 1, inplace=True)\n",
    "replacement = {'eftergymnasial utbildning, 3 år eller mer':'College degree, more than 3 years','eftergymnasial utbildning, mindre än 3 år':'College degree, less than 3 years','forskarutbildning':'Researcher','förgymnasial utbildning kortare än 9 år':'Pre-high school education, less than 9 years','förgymnasial utbildning, 9 (10) år':'Pre-high school education, 9 years','gymnasial utbildning, 3 år':'3 years high school','gymnasial utbildning, högst 2 år':'Up to 2 years high school','uppgift om utbildningsnivå saknas':'No info'}\n",
    "df_study = df_study.groupby('education level').apply(np.sum, axis = 0)\n",
    "df_study.rename(mapper=replacement,axis= 0, inplace=True)\n",
    "df_study.drop(labels='education level',inplace=True, axis =1)\n",
    "df_study = df_study[df_study.columns[4:]]"
   ]
  },
  {
   "cell_type": "code",
   "execution_count": 51,
   "metadata": {},
   "outputs": [],
   "source": [
    "df_conc = df_pop.loc['Total population']\n",
    "df_conc = df_conc.to_frame()\n",
    "df = pd.concat([df_study, df_conc.T], axis = 0)\n",
    "years = list(range(1994,2020))\n",
    "df.columns=years"
   ]
  },
  {
   "cell_type": "code",
   "execution_count": 52,
   "metadata": {},
   "outputs": [
    {
     "output_type": "execute_result",
     "data": {
      "text/plain": [
       "      College degree, more than 3 years  College degree, less than 3 years  \\\n",
       "1994                             558884                             738639   \n",
       "1995                             573676                             763950   \n",
       "1996                             589743                             786492   \n",
       "1997                             611036                             808380   \n",
       "1998                             631803                             826139   \n",
       "1999                             660142                             846876   \n",
       "2000                             807121                             791186   \n",
       "2001                             847781                             802160   \n",
       "2002                             891655                             819107   \n",
       "2003                             930142                             837377   \n",
       "2004                             976186                             846487   \n",
       "2005                            1029113                             845694   \n",
       "2006                            1070748                             853076   \n",
       "2007                            1117931                             864668   \n",
       "2008                            1161086                             879311   \n",
       "2009                            1203807                             899403   \n",
       "2010                            1245613                             928808   \n",
       "2011                            1289847                             953272   \n",
       "2012                            1332826                             970516   \n",
       "2013                            1377169                             987409   \n",
       "2014                            1422263                            1006176   \n",
       "2015                            1465083                            1024522   \n",
       "2016                            1511634                            1044558   \n",
       "2017                            1550924                            1058792   \n",
       "2018                            1597921                            1072195   \n",
       "2019                            1639128                            1082077   \n",
       "\n",
       "      Researcher  Pre-high school education, less than 9 years  \\\n",
       "1994       33965                                       1151246   \n",
       "1995       34995                                       1088759   \n",
       "1996       36083                                       1027655   \n",
       "1997       37377                                        965522   \n",
       "1998       38741                                        912349   \n",
       "1999       41619                                        863332   \n",
       "2000       44868                                        801088   \n",
       "2001       47650                                        754533   \n",
       "2002       49658                                        713858   \n",
       "2003       51550                                        675213   \n",
       "2004       53910                                        638250   \n",
       "2005       56148                                        602642   \n",
       "2006       57705                                        569521   \n",
       "2007       59804                                        541702   \n",
       "2008       61983                                        515236   \n",
       "2009       64482                                        489180   \n",
       "2010       66493                                        465979   \n",
       "2011       68740                                        442709   \n",
       "2012       70710                                        418813   \n",
       "2013       72562                                        396175   \n",
       "2014       74663                                        376823   \n",
       "2015       76685                                        357889   \n",
       "2016       78467                                        340891   \n",
       "2017       80517                                        321412   \n",
       "2018       82436                                        300927   \n",
       "2019       84215                                        280369   \n",
       "\n",
       "      Pre-high school education, 9 years  3 years high school  \\\n",
       "1994                              931912               847166   \n",
       "1995                              962841               889211   \n",
       "1996                              969492               931466   \n",
       "1997                              996521               962020   \n",
       "1998                             1011262               994116   \n",
       "1999                             1025322              1024001   \n",
       "2000                              940118              1107494   \n",
       "2001                              938641              1142297   \n",
       "2002                              949488              1173464   \n",
       "2003                              953411              1205500   \n",
       "2004                              966091              1240559   \n",
       "2005                              977921              1281905   \n",
       "2006                              996223              1316564   \n",
       "2007                             1008970              1360455   \n",
       "2008                             1019230              1404852   \n",
       "2009                             1020259              1452780   \n",
       "2010                             1014610              1490154   \n",
       "2011                              999055              1530412   \n",
       "2012                              980951              1568766   \n",
       "2013                              959061              1605392   \n",
       "2014                              953642              1632222   \n",
       "2015                              946574              1657405   \n",
       "2016                              951557              1678446   \n",
       "2017                              955680              1708998   \n",
       "2018                              963198              1724958   \n",
       "2019                              969922              1741169   \n",
       "\n",
       "      Up to 2 years high school  No info  Total population  Total taxation  \n",
       "1994                    1942388   125713           8548733      1025881878  \n",
       "1995                    1899835   111524           8571485      1094690428  \n",
       "1996                    1864989   116429           8580179      1136634171  \n",
       "1997                    1835186   106549           8585308      1170078511  \n",
       "1998                    1798957   113692           8593849      1241425072  \n",
       "1999                    1768378   105466           8603332      1292617035  \n",
       "2000                    1763748    99960           8626554      1383679413  \n",
       "2001                    1746902   106051           8654395      1519683554  \n",
       "2002                    1728115    98651           8687156      1512096653  \n",
       "2003                    1700932   107994           8722796      1533441225  \n",
       "2004                    1677505   109131           8758807      1602298332  \n",
       "2005                    1655490   108857           8796012      1730759701  \n",
       "2006                    1642373   127920           8861371      1855617438  \n",
       "2007                    1633713   126358           8932325      1948038818  \n",
       "2008                    1617994   133726           9006670      2051448306  \n",
       "2009                    1601383   143274           9091663      2054265395  \n",
       "2010                    1582112   146824           9166961      2124289837  \n",
       "2011                    1567308   139456           9234310      2245963678  \n",
       "2012                    1551333   141375           9307256      2303606893  \n",
       "2013                    1535188   146600           9395428      2331883151  \n",
       "2014                    1519033   146785           9497368      2449655379  \n",
       "2015                    1502229   153292           9601284      2557348734  \n",
       "2016                    1487098   172936           9744583      2758692568  \n",
       "2017                    1461580   187818           9868947      2829531050  \n",
       "2018                    1435431   196261           9979688      2999366915  \n",
       "2019                    1408324   205716          10077496      3144298310  "
      ],
      "text/html": "<div>\n<style scoped>\n    .dataframe tbody tr th:only-of-type {\n        vertical-align: middle;\n    }\n\n    .dataframe tbody tr th {\n        vertical-align: top;\n    }\n\n    .dataframe thead th {\n        text-align: right;\n    }\n</style>\n<table border=\"1\" class=\"dataframe\">\n  <thead>\n    <tr style=\"text-align: right;\">\n      <th></th>\n      <th>College degree, more than 3 years</th>\n      <th>College degree, less than 3 years</th>\n      <th>Researcher</th>\n      <th>Pre-high school education, less than 9 years</th>\n      <th>Pre-high school education, 9 years</th>\n      <th>3 years high school</th>\n      <th>Up to 2 years high school</th>\n      <th>No info</th>\n      <th>Total population</th>\n      <th>Total taxation</th>\n    </tr>\n  </thead>\n  <tbody>\n    <tr>\n      <th>1994</th>\n      <td>558884</td>\n      <td>738639</td>\n      <td>33965</td>\n      <td>1151246</td>\n      <td>931912</td>\n      <td>847166</td>\n      <td>1942388</td>\n      <td>125713</td>\n      <td>8548733</td>\n      <td>1025881878</td>\n    </tr>\n    <tr>\n      <th>1995</th>\n      <td>573676</td>\n      <td>763950</td>\n      <td>34995</td>\n      <td>1088759</td>\n      <td>962841</td>\n      <td>889211</td>\n      <td>1899835</td>\n      <td>111524</td>\n      <td>8571485</td>\n      <td>1094690428</td>\n    </tr>\n    <tr>\n      <th>1996</th>\n      <td>589743</td>\n      <td>786492</td>\n      <td>36083</td>\n      <td>1027655</td>\n      <td>969492</td>\n      <td>931466</td>\n      <td>1864989</td>\n      <td>116429</td>\n      <td>8580179</td>\n      <td>1136634171</td>\n    </tr>\n    <tr>\n      <th>1997</th>\n      <td>611036</td>\n      <td>808380</td>\n      <td>37377</td>\n      <td>965522</td>\n      <td>996521</td>\n      <td>962020</td>\n      <td>1835186</td>\n      <td>106549</td>\n      <td>8585308</td>\n      <td>1170078511</td>\n    </tr>\n    <tr>\n      <th>1998</th>\n      <td>631803</td>\n      <td>826139</td>\n      <td>38741</td>\n      <td>912349</td>\n      <td>1011262</td>\n      <td>994116</td>\n      <td>1798957</td>\n      <td>113692</td>\n      <td>8593849</td>\n      <td>1241425072</td>\n    </tr>\n    <tr>\n      <th>1999</th>\n      <td>660142</td>\n      <td>846876</td>\n      <td>41619</td>\n      <td>863332</td>\n      <td>1025322</td>\n      <td>1024001</td>\n      <td>1768378</td>\n      <td>105466</td>\n      <td>8603332</td>\n      <td>1292617035</td>\n    </tr>\n    <tr>\n      <th>2000</th>\n      <td>807121</td>\n      <td>791186</td>\n      <td>44868</td>\n      <td>801088</td>\n      <td>940118</td>\n      <td>1107494</td>\n      <td>1763748</td>\n      <td>99960</td>\n      <td>8626554</td>\n      <td>1383679413</td>\n    </tr>\n    <tr>\n      <th>2001</th>\n      <td>847781</td>\n      <td>802160</td>\n      <td>47650</td>\n      <td>754533</td>\n      <td>938641</td>\n      <td>1142297</td>\n      <td>1746902</td>\n      <td>106051</td>\n      <td>8654395</td>\n      <td>1519683554</td>\n    </tr>\n    <tr>\n      <th>2002</th>\n      <td>891655</td>\n      <td>819107</td>\n      <td>49658</td>\n      <td>713858</td>\n      <td>949488</td>\n      <td>1173464</td>\n      <td>1728115</td>\n      <td>98651</td>\n      <td>8687156</td>\n      <td>1512096653</td>\n    </tr>\n    <tr>\n      <th>2003</th>\n      <td>930142</td>\n      <td>837377</td>\n      <td>51550</td>\n      <td>675213</td>\n      <td>953411</td>\n      <td>1205500</td>\n      <td>1700932</td>\n      <td>107994</td>\n      <td>8722796</td>\n      <td>1533441225</td>\n    </tr>\n    <tr>\n      <th>2004</th>\n      <td>976186</td>\n      <td>846487</td>\n      <td>53910</td>\n      <td>638250</td>\n      <td>966091</td>\n      <td>1240559</td>\n      <td>1677505</td>\n      <td>109131</td>\n      <td>8758807</td>\n      <td>1602298332</td>\n    </tr>\n    <tr>\n      <th>2005</th>\n      <td>1029113</td>\n      <td>845694</td>\n      <td>56148</td>\n      <td>602642</td>\n      <td>977921</td>\n      <td>1281905</td>\n      <td>1655490</td>\n      <td>108857</td>\n      <td>8796012</td>\n      <td>1730759701</td>\n    </tr>\n    <tr>\n      <th>2006</th>\n      <td>1070748</td>\n      <td>853076</td>\n      <td>57705</td>\n      <td>569521</td>\n      <td>996223</td>\n      <td>1316564</td>\n      <td>1642373</td>\n      <td>127920</td>\n      <td>8861371</td>\n      <td>1855617438</td>\n    </tr>\n    <tr>\n      <th>2007</th>\n      <td>1117931</td>\n      <td>864668</td>\n      <td>59804</td>\n      <td>541702</td>\n      <td>1008970</td>\n      <td>1360455</td>\n      <td>1633713</td>\n      <td>126358</td>\n      <td>8932325</td>\n      <td>1948038818</td>\n    </tr>\n    <tr>\n      <th>2008</th>\n      <td>1161086</td>\n      <td>879311</td>\n      <td>61983</td>\n      <td>515236</td>\n      <td>1019230</td>\n      <td>1404852</td>\n      <td>1617994</td>\n      <td>133726</td>\n      <td>9006670</td>\n      <td>2051448306</td>\n    </tr>\n    <tr>\n      <th>2009</th>\n      <td>1203807</td>\n      <td>899403</td>\n      <td>64482</td>\n      <td>489180</td>\n      <td>1020259</td>\n      <td>1452780</td>\n      <td>1601383</td>\n      <td>143274</td>\n      <td>9091663</td>\n      <td>2054265395</td>\n    </tr>\n    <tr>\n      <th>2010</th>\n      <td>1245613</td>\n      <td>928808</td>\n      <td>66493</td>\n      <td>465979</td>\n      <td>1014610</td>\n      <td>1490154</td>\n      <td>1582112</td>\n      <td>146824</td>\n      <td>9166961</td>\n      <td>2124289837</td>\n    </tr>\n    <tr>\n      <th>2011</th>\n      <td>1289847</td>\n      <td>953272</td>\n      <td>68740</td>\n      <td>442709</td>\n      <td>999055</td>\n      <td>1530412</td>\n      <td>1567308</td>\n      <td>139456</td>\n      <td>9234310</td>\n      <td>2245963678</td>\n    </tr>\n    <tr>\n      <th>2012</th>\n      <td>1332826</td>\n      <td>970516</td>\n      <td>70710</td>\n      <td>418813</td>\n      <td>980951</td>\n      <td>1568766</td>\n      <td>1551333</td>\n      <td>141375</td>\n      <td>9307256</td>\n      <td>2303606893</td>\n    </tr>\n    <tr>\n      <th>2013</th>\n      <td>1377169</td>\n      <td>987409</td>\n      <td>72562</td>\n      <td>396175</td>\n      <td>959061</td>\n      <td>1605392</td>\n      <td>1535188</td>\n      <td>146600</td>\n      <td>9395428</td>\n      <td>2331883151</td>\n    </tr>\n    <tr>\n      <th>2014</th>\n      <td>1422263</td>\n      <td>1006176</td>\n      <td>74663</td>\n      <td>376823</td>\n      <td>953642</td>\n      <td>1632222</td>\n      <td>1519033</td>\n      <td>146785</td>\n      <td>9497368</td>\n      <td>2449655379</td>\n    </tr>\n    <tr>\n      <th>2015</th>\n      <td>1465083</td>\n      <td>1024522</td>\n      <td>76685</td>\n      <td>357889</td>\n      <td>946574</td>\n      <td>1657405</td>\n      <td>1502229</td>\n      <td>153292</td>\n      <td>9601284</td>\n      <td>2557348734</td>\n    </tr>\n    <tr>\n      <th>2016</th>\n      <td>1511634</td>\n      <td>1044558</td>\n      <td>78467</td>\n      <td>340891</td>\n      <td>951557</td>\n      <td>1678446</td>\n      <td>1487098</td>\n      <td>172936</td>\n      <td>9744583</td>\n      <td>2758692568</td>\n    </tr>\n    <tr>\n      <th>2017</th>\n      <td>1550924</td>\n      <td>1058792</td>\n      <td>80517</td>\n      <td>321412</td>\n      <td>955680</td>\n      <td>1708998</td>\n      <td>1461580</td>\n      <td>187818</td>\n      <td>9868947</td>\n      <td>2829531050</td>\n    </tr>\n    <tr>\n      <th>2018</th>\n      <td>1597921</td>\n      <td>1072195</td>\n      <td>82436</td>\n      <td>300927</td>\n      <td>963198</td>\n      <td>1724958</td>\n      <td>1435431</td>\n      <td>196261</td>\n      <td>9979688</td>\n      <td>2999366915</td>\n    </tr>\n    <tr>\n      <th>2019</th>\n      <td>1639128</td>\n      <td>1082077</td>\n      <td>84215</td>\n      <td>280369</td>\n      <td>969922</td>\n      <td>1741169</td>\n      <td>1408324</td>\n      <td>205716</td>\n      <td>10077496</td>\n      <td>3144298310</td>\n    </tr>\n  </tbody>\n</table>\n</div>"
     },
     "metadata": {},
     "execution_count": 52
    }
   ],
   "source": [
    "df_conc =  df_tax.iloc[-1]\n",
    "df_conc  = df_conc.to_frame()\n",
    "df = pd.concat([df, df_conc.T], axis = 0)\n",
    "df = df.T\n",
    "df"
   ]
  },
  {
   "cell_type": "code",
   "execution_count": 53,
   "metadata": {},
   "outputs": [],
   "source": [
    "df['High education'] = df[['College degree, more than 3 years',\t'College degree, less than 3 years', 'Researcher']].apply(np.sum, axis = 1)"
   ]
  },
  {
   "cell_type": "code",
   "execution_count": 54,
   "metadata": {},
   "outputs": [],
   "source": [
    "df['Low education']  = df.iloc[:,3:7].apply(np.sum, axis = 1)"
   ]
  },
  {
   "cell_type": "code",
   "execution_count": 55,
   "metadata": {},
   "outputs": [],
   "source": [
    "df = df.iloc[:,-4:]"
   ]
  },
  {
   "cell_type": "code",
   "execution_count": 56,
   "metadata": {},
   "outputs": [
    {
     "output_type": "execute_result",
     "data": {
      "text/plain": [
       "      Total population  Total taxation  High education  Low education\n",
       "1994           8548733      1025881878         1331488        4872712\n",
       "1995           8571485      1094690428         1372621        4840646\n",
       "1996           8580179      1136634171         1412318        4793602\n",
       "1997           8585308      1170078511         1456793        4759249\n",
       "1998           8593849      1241425072         1496683        4716684"
      ],
      "text/html": "<div>\n<style scoped>\n    .dataframe tbody tr th:only-of-type {\n        vertical-align: middle;\n    }\n\n    .dataframe tbody tr th {\n        vertical-align: top;\n    }\n\n    .dataframe thead th {\n        text-align: right;\n    }\n</style>\n<table border=\"1\" class=\"dataframe\">\n  <thead>\n    <tr style=\"text-align: right;\">\n      <th></th>\n      <th>Total population</th>\n      <th>Total taxation</th>\n      <th>High education</th>\n      <th>Low education</th>\n    </tr>\n  </thead>\n  <tbody>\n    <tr>\n      <th>1994</th>\n      <td>8548733</td>\n      <td>1025881878</td>\n      <td>1331488</td>\n      <td>4872712</td>\n    </tr>\n    <tr>\n      <th>1995</th>\n      <td>8571485</td>\n      <td>1094690428</td>\n      <td>1372621</td>\n      <td>4840646</td>\n    </tr>\n    <tr>\n      <th>1996</th>\n      <td>8580179</td>\n      <td>1136634171</td>\n      <td>1412318</td>\n      <td>4793602</td>\n    </tr>\n    <tr>\n      <th>1997</th>\n      <td>8585308</td>\n      <td>1170078511</td>\n      <td>1456793</td>\n      <td>4759249</td>\n    </tr>\n    <tr>\n      <th>1998</th>\n      <td>8593849</td>\n      <td>1241425072</td>\n      <td>1496683</td>\n      <td>4716684</td>\n    </tr>\n  </tbody>\n</table>\n</div>"
     },
     "metadata": {},
     "execution_count": 56
    }
   ],
   "source": [
    "df.head()"
   ]
  },
  {
   "cell_type": "code",
   "execution_count": 57,
   "metadata": {},
   "outputs": [],
   "source": [
    "base_year = 1994\n",
    "base_pop = df.at[base_year,'Total population']\n",
    "base_tax = df.at[base_year,'Total taxation']/base_pop\n",
    "base_lower = df.at[base_year,'Low education']/base_pop\n",
    "base_higher = df.at[base_year,'High education']/base_pop"
   ]
  },
  {
   "cell_type": "code",
   "execution_count": 58,
   "metadata": {},
   "outputs": [],
   "source": [
    "series1 = df['Total taxation']/df['Total population']/base_tax\n",
    "series2 = df['High education']/df['Total population']/base_higher\n",
    "series3 = df['Low education']/df['Total population']/base_lower"
   ]
  },
  {
   "cell_type": "code",
   "execution_count": 59,
   "metadata": {},
   "outputs": [
    {
     "output_type": "display_data",
     "data": {
      "text/plain": "Canvas(toolbar=Toolbar(toolitems=[('Home', 'Reset original view', 'home', 'home'), ('Back', 'Back to previous …",
      "application/vnd.jupyter.widget-view+json": {
       "version_major": 2,
       "version_minor": 0,
       "model_id": "48896963acfd4e22a33304f43f55f73a"
      }
     },
     "metadata": {}
    },
    {
     "output_type": "execute_result",
     "data": {
      "text/plain": [
       "Text(0.5, 1.0, 'Increased taxation effects on education in Sweden')"
      ]
     },
     "metadata": {},
     "execution_count": 59
    }
   ],
   "source": [
    "plt.figure(figsize=(10,10))\n",
    "plt.plot(series1, ':', linewidth =2, color = 'black')\n",
    "plt.plot(series2)\n",
    "plt.plot(series3,'-', color = 'red')\n",
    "sns.despine()\n",
    "plt.gca().margins(0.0) #stretch to the ends\n",
    "plt.xlabel('Year')\n",
    "plt.xticks(ticks = list(range(1994,2020,2)),rotation=45)\n",
    "plt.ylabel('% variation from 1994 per capita')\n",
    "plt.gca().fill_between(series3.index,np.ones(len(series3))*0.75,series3,alpha =.2,color = 'pink')\n",
    "plt.gca().fill_between(series3.index, series2,series3, alpha=.2, color =  'green')\n",
    "plt.title('Increased taxation effects on education in Sweden', fontweight =500,fontsize = 'xx-large')\n"
   ]
  },
  {
   "cell_type": "code",
   "execution_count": 60,
   "metadata": {},
   "outputs": [
    {
     "output_type": "execute_result",
     "data": {
      "text/plain": [
       "<matplotlib.legend.Legend at 0x25e818470a0>"
      ]
     },
     "metadata": {},
     "execution_count": 60
    }
   ],
   "source": [
    "from matplotlib.font_manager import FontProperties\n",
    "\n",
    "fontP = FontProperties()\n",
    "fontP.set_size('medium')\n",
    "plt.legend(labels = ['Taxation per capita','% Graduated people', '% Undergraduated people'],prop=fontP,bbox_to_anchor=(0.05,0.95), loc='upper left')\n"
   ]
  },
  {
   "cell_type": "code",
   "execution_count": null,
   "metadata": {},
   "outputs": [],
   "source": []
  }
 ]
}